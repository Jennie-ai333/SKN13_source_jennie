{
 "cells": [
  {
   "cell_type": "code",
   "execution_count": 19,
   "id": "96a6ca95-7cd0-466e-a3c2-2a1638283581",
   "metadata": {},
   "outputs": [
    {
     "name": "stdin",
     "output_type": "stream",
     "text": [
      "> 1번째 숫자:  100\n"
     ]
    }
   ],
   "source": [
    "a = input(\"> 1번째 숫자: \")"
   ]
  },
  {
   "cell_type": "code",
   "execution_count": 18,
   "id": "fe825e81-2f12-4f99-a46f-39aec8b87570",
   "metadata": {},
   "outputs": [
    {
     "name": "stdin",
     "output_type": "stream",
     "text": [
      "> 2번째 숫자:  200\n"
     ]
    }
   ],
   "source": [
    "b = input(\"> 2번째 숫자: \")"
   ]
  },
  {
   "cell_type": "code",
   "execution_count": 24,
   "id": "f1c471b2-15d1-4881-9d1e-1ad6ce2b13fa",
   "metadata": {},
   "outputs": [],
   "source": [
    "a_int= int(a)\n",
    "b_int= int(b)"
   ]
  },
  {
   "cell_type": "code",
   "execution_count": 25,
   "id": "55d7be28-2e3b-4b67-9965-fe6c1b3e676c",
   "metadata": {},
   "outputs": [
    {
     "name": "stdout",
     "output_type": "stream",
     "text": [
      "100 + 200 = 300\n"
     ]
    }
   ],
   "source": [
    "\n",
    "print(f\"{a_int} + {b_int} = {a_int + b_int}\")"
   ]
  },
  {
   "cell_type": "code",
   "execution_count": 2,
   "id": "41708eee-d864-4103-a0a8-e15a0d909f21",
   "metadata": {},
   "outputs": [
    {
     "name": "stdin",
     "output_type": "stream",
     "text": [
      "구의 반지름을 입력해주세요:  5\n"
     ]
    }
   ],
   "source": [
    "pi= 3.141592\n",
    "r= float(input(\"구의 반지름을 입력해주세요: \"))"
   ]
  },
  {
   "cell_type": "code",
   "execution_count": 4,
   "id": "94d232fe-285e-4c85-a1e1-5b0fea26d508",
   "metadata": {},
   "outputs": [],
   "source": [
    "부피 = (4/3) * pi * (r**3)"
   ]
  },
  {
   "cell_type": "code",
   "execution_count": 5,
   "id": "b48c5a88-46e0-41ca-a511-ccce3a043ee2",
   "metadata": {},
   "outputs": [],
   "source": [
    "겉넓이 = 4 * pi * (r**2)"
   ]
  },
  {
   "cell_type": "code",
   "execution_count": 8,
   "id": "40dda26a-8427-4f65-ade9-1a847e31bdb4",
   "metadata": {},
   "outputs": [
    {
     "name": "stdout",
     "output_type": "stream",
     "text": [
      "= 구의 부피는 523.5986666666666입니다.\n"
     ]
    }
   ],
   "source": [
    "print(f\"= 구의 부피는 {부피}입니다.\")"
   ]
  },
  {
   "cell_type": "code",
   "execution_count": 10,
   "id": "a15ee24e-f8e6-4871-b6d8-e83711d66ab5",
   "metadata": {},
   "outputs": [
    {
     "name": "stdout",
     "output_type": "stream",
     "text": [
      "= 구의 겉넓이는 314.1592입니다.\n"
     ]
    }
   ],
   "source": [
    "print(f\"= 구의 겉넓이는 {겉넓이}입니다.\")"
   ]
  },
  {
   "cell_type": "code",
   "execution_count": 14,
   "id": "eefd8d4d-7070-4cdb-a72a-9cb5cb1bb462",
   "metadata": {},
   "outputs": [
    {
     "name": "stdin",
     "output_type": "stream",
     "text": [
      "밑변의 길이를 입력해주세요:  3\n"
     ]
    }
   ],
   "source": [
    "밑변 = float(input(\"밑변의 길이를 입력해주세요: \"))"
   ]
  },
  {
   "cell_type": "code",
   "execution_count": 15,
   "id": "4c81ca1d-c936-4a96-bdc0-78195ce668f5",
   "metadata": {},
   "outputs": [
    {
     "name": "stdin",
     "output_type": "stream",
     "text": [
      "높이의 길이를 입력해주세요:  4\n"
     ]
    }
   ],
   "source": [
    "높이 = float(input(\"높이의 길이를 입력해주세요: \"))"
   ]
  },
  {
   "cell_type": "code",
   "execution_count": 16,
   "id": "62ade9f4-9a2d-4b32-8fb8-25aee8a52110",
   "metadata": {},
   "outputs": [],
   "source": [
    "빗변 = (밑변**2 + 높이**2) **(1/2)"
   ]
  },
  {
   "cell_type": "code",
   "execution_count": 17,
   "id": "abd50560-ee3c-4996-b1ad-4ba4589db2fb",
   "metadata": {},
   "outputs": [
    {
     "name": "stdout",
     "output_type": "stream",
     "text": [
      " = 빗변의 길이는 5.0입니다.\n"
     ]
    }
   ],
   "source": [
    "print(f\" = 빗변의 길이는 {빗변}입니다.\")"
   ]
  },
  {
   "cell_type": "code",
   "execution_count": null,
   "id": "5885dd94-e24c-4554-a697-d52b50ea38f4",
   "metadata": {},
   "outputs": [],
   "source": []
  },
  {
   "cell_type": "code",
   "execution_count": 20,
   "id": "9088cd62-d69c-40ea-a21b-69d046f4b8ca",
   "metadata": {},
   "outputs": [
    {
     "name": "stdin",
     "output_type": "stream",
     "text": [
      "밑변의 길이를 입력해주세요:  3\n"
     ]
    }
   ],
   "source": [
    "밑변 = float(input(\"밑변의 길이를 입력해주세요: \"))"
   ]
  },
  {
   "cell_type": "code",
   "execution_count": 21,
   "id": "d576c14b-3745-445b-a39b-af324ef866aa",
   "metadata": {},
   "outputs": [
    {
     "name": "stdin",
     "output_type": "stream",
     "text": [
      "높이의 길이를 입력해주세요:  4\n"
     ]
    }
   ],
   "source": [
    "높이 = float(input(\"높이의 길이를 입력해주세요: \"))"
   ]
  },
  {
   "cell_type": "code",
   "execution_count": 22,
   "id": "a0c3add5-bfb3-48b7-87a0-28cbad59620d",
   "metadata": {},
   "outputs": [],
   "source": [
    "빗변 = (밑변**2 + 높이**2) **(1/2)"
   ]
  },
  {
   "cell_type": "code",
   "execution_count": 24,
   "id": "753fc714-eadb-4b65-9d79-b05e1fddff36",
   "metadata": {},
   "outputs": [
    {
     "name": "stdout",
     "output_type": "stream",
     "text": [
      "= 빗변의 길이는 5.0입니다.\n"
     ]
    }
   ],
   "source": [
    "print(f\"= 빗변의 길이는 {빗변}입니다.\")"
   ]
  },
  {
   "cell_type": "code",
   "execution_count": null,
   "id": "a1d3ebc1-4ca1-4fbf-bdce-722e55e14856",
   "metadata": {},
   "outputs": [],
   "source": []
  },
  {
   "cell_type": "code",
   "execution_count": null,
   "id": "97c1f214-2cb0-4916-8148-eb0af61d64f4",
   "metadata": {},
   "outputs": [],
   "source": []
  },
  {
   "cell_type": "code",
   "execution_count": 25,
   "id": "88ab791b-f4be-4e73-aafc-e8f6a6c4e1d0",
   "metadata": {},
   "outputs": [],
   "source": [
    "import datetime"
   ]
  },
  {
   "cell_type": "code",
   "execution_count": 26,
   "id": "b4fe9b95-755e-420e-8faa-497e61dedd57",
   "metadata": {},
   "outputs": [],
   "source": [
    "now = datetime.datetime.now()"
   ]
  },
  {
   "cell_type": "code",
   "execution_count": 28,
   "id": "b230923b-1c62-4fea-814e-d9754744b40c",
   "metadata": {},
   "outputs": [
    {
     "name": "stdout",
     "output_type": "stream",
     "text": [
      "이번달은 5월로 봅입니다.\n"
     ]
    }
   ],
   "source": [
    "# 봄 구분\n",
    "if 3<= now.month <=5:\n",
    "    print(f\"이번달은 {now.month}월로 봅입니다.\")"
   ]
  },
  {
   "cell_type": "code",
   "execution_count": null,
   "id": "01c31f23-71c0-45dc-9e9f-c7445ec42615",
   "metadata": {},
   "outputs": [],
   "source": []
  },
  {
   "cell_type": "code",
   "execution_count": null,
   "id": "0d08883e-e539-41b7-b417-a2701421175c",
   "metadata": {},
   "outputs": [],
   "source": [
    "# 끝자리로 짝수와 홀수 구분 "
   ]
  },
  {
   "cell_type": "code",
   "execution_count": null,
   "id": "f9197e70-ca12-4ad7-8dca-1380a3a185d0",
   "metadata": {},
   "outputs": [],
   "source": []
  },
  {
   "cell_type": "code",
   "execution_count": 40,
   "id": "849a4d7e-e1f7-481b-826d-8459cdd9e3e5",
   "metadata": {},
   "outputs": [
    {
     "name": "stdin",
     "output_type": "stream",
     "text": [
      "정수입력> 54672349\n"
     ]
    }
   ],
   "source": [
    "number = input(\"정수입력>\")"
   ]
  },
  {
   "cell_type": "code",
   "execution_count": 41,
   "id": "b6ef282a-a40c-4116-b486-62c29730f437",
   "metadata": {},
   "outputs": [],
   "source": [
    "# 마지막 자리 숫자 추출\n",
    "\n",
    "last_character = number[-1]"
   ]
  },
  {
   "cell_type": "code",
   "execution_count": 42,
   "id": "edc69482-7965-4430-8fd4-29cb5065336b",
   "metadata": {},
   "outputs": [
    {
     "data": {
      "text/plain": [
       "str"
      ]
     },
     "execution_count": 42,
     "metadata": {},
     "output_type": "execute_result"
    }
   ],
   "source": [
    "type(last_character)"
   ]
  },
  {
   "cell_type": "code",
   "execution_count": 43,
   "id": "60cb8de1-a31b-4641-b405-a276963acf73",
   "metadata": {},
   "outputs": [],
   "source": [
    "# 숫자로 변환하기 \n",
    "\n",
    "last_number = int(last_character)"
   ]
  },
  {
   "cell_type": "code",
   "execution_count": 44,
   "id": "109942a1-2d18-4b1d-875b-8ec5472e8a2f",
   "metadata": {},
   "outputs": [
    {
     "name": "stdout",
     "output_type": "stream",
     "text": [
      "홀수입니다.\n"
     ]
    }
   ],
   "source": [
    "# 짝수 확인\n",
    "if last_number % 2 == 0 :\n",
    "    print(\"짝수입니다.\")\n",
    "else :\n",
    "    print(\"홀수입니다.\")"
   ]
  },
  {
   "cell_type": "code",
   "execution_count": null,
   "id": "7877ce1d-944a-46d8-82b2-b1e2ea8a9c0f",
   "metadata": {},
   "outputs": [],
   "source": []
  },
  {
   "cell_type": "code",
   "execution_count": 45,
   "id": "0a84f64e-ca16-4e2b-a29b-87e9b083dc67",
   "metadata": {},
   "outputs": [
    {
     "name": "stdin",
     "output_type": "stream",
     "text": [
      "정수입력> 747820\n"
     ]
    }
   ],
   "source": [
    "number = input(\"정수입력>\")"
   ]
  },
  {
   "cell_type": "code",
   "execution_count": 46,
   "id": "893ae830-f0b9-4bb3-b158-1bd77f07487e",
   "metadata": {},
   "outputs": [],
   "source": [
    "number = int(number)"
   ]
  },
  {
   "cell_type": "code",
   "execution_count": 48,
   "id": "e1e58c54-48a0-416d-bbb4-29d0a3f613a8",
   "metadata": {},
   "outputs": [
    {
     "name": "stdout",
     "output_type": "stream",
     "text": [
      "짝수입니다.\n"
     ]
    }
   ],
   "source": [
    "if number % 2 == 0 :\n",
    "    print(\"짝수입니다.\")"
   ]
  },
  {
   "cell_type": "code",
   "execution_count": 49,
   "id": "336e9038-d7c8-4094-9309-b0779e8b487a",
   "metadata": {},
   "outputs": [
    {
     "name": "stdout",
     "output_type": "stream",
     "text": [
      "홀수입니다.\n"
     ]
    }
   ],
   "source": [
    "if number % 1 == 0 :\n",
    "    print(\"홀수입니다.\")"
   ]
  },
  {
   "cell_type": "code",
   "execution_count": null,
   "id": "dd5c3ae0-8b11-4eec-8c28-217f9022134a",
   "metadata": {},
   "outputs": [],
   "source": []
  },
  {
   "cell_type": "code",
   "execution_count": 57,
   "id": "1b1fd81d-11c2-4542-aafd-8ae21bcc310b",
   "metadata": {},
   "outputs": [
    {
     "name": "stdin",
     "output_type": "stream",
     "text": [
      "정수입력> 458023\n"
     ]
    }
   ],
   "source": [
    "number = input(\"정수입력>\")"
   ]
  },
  {
   "cell_type": "code",
   "execution_count": 58,
   "id": "05857979-eb81-411b-a56a-a8606e12352d",
   "metadata": {},
   "outputs": [],
   "source": [
    "number = int(number)"
   ]
  },
  {
   "cell_type": "code",
   "execution_count": 59,
   "id": "220ed3e7-1055-4c56-b0b8-55ab31e7822e",
   "metadata": {},
   "outputs": [
    {
     "name": "stdout",
     "output_type": "stream",
     "text": [
      "홀수입니다.\n"
     ]
    }
   ],
   "source": [
    "if number % 2 == 0 :\n",
    "    print(\"짝수입니다.\")\n",
    "else:\n",
    "    print(\"홀수입니다.\")"
   ]
  },
  {
   "cell_type": "code",
   "execution_count": null,
   "id": "33643d17-2e72-42ac-8ac5-5ccd04b9474d",
   "metadata": {},
   "outputs": [],
   "source": []
  },
  {
   "cell_type": "code",
   "execution_count": null,
   "id": "4be69c0f-48d6-447c-9c46-7692db136e49",
   "metadata": {},
   "outputs": [],
   "source": [
    "import datetime"
   ]
  },
  {
   "cell_type": "code",
   "execution_count": null,
   "id": "13ef1f2a-cb43-4163-8804-5c2c17c4fa5f",
   "metadata": {},
   "outputs": [],
   "source": []
  },
  {
   "cell_type": "code",
   "execution_count": null,
   "id": "cc3b9402-7d84-4e54-a51b-26b2a9067f8a",
   "metadata": {},
   "outputs": [],
   "source": []
  },
  {
   "cell_type": "code",
   "execution_count": null,
   "id": "654e8736-172d-4b5c-888d-d8d419770594",
   "metadata": {},
   "outputs": [],
   "source": []
  }
 ],
 "metadata": {
  "kernelspec": {
   "display_name": "Python (ml)",
   "language": "python",
   "name": "ml"
  },
  "language_info": {
   "codemirror_mode": {
    "name": "ipython",
    "version": 3
   },
   "file_extension": ".py",
   "mimetype": "text/x-python",
   "name": "python",
   "nbconvert_exporter": "python",
   "pygments_lexer": "ipython3",
   "version": "3.12.9"
  }
 },
 "nbformat": 4,
 "nbformat_minor": 5
}

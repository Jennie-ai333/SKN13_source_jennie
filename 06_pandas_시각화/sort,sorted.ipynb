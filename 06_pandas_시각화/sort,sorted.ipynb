{
 "cells": [
  {
   "cell_type": "code",
   "execution_count": 2,
   "id": "9a26eb69",
   "metadata": {},
   "outputs": [],
   "source": [
    "fruit = {'apple':5, 'grape':10, 'banana':7, 'peach':3, 'melon':2}"
   ]
  },
  {
   "cell_type": "code",
   "execution_count": 5,
   "id": "d88c1cbe",
   "metadata": {},
   "outputs": [
    {
     "name": "stdout",
     "output_type": "stream",
     "text": [
      "['apple', 'banana', 'grape', 'melon', 'peach']\n"
     ]
    }
   ],
   "source": [
    "sorted1 = sorted(fruit)\n",
    "print (sorted1)"
   ]
  },
  {
   "cell_type": "code",
   "execution_count": null,
   "id": "09264fea",
   "metadata": {},
   "outputs": [],
   "source": []
  }
 ],
 "metadata": {
  "kernelspec": {
   "display_name": "ml",
   "language": "python",
   "name": "python3"
  },
  "language_info": {
   "codemirror_mode": {
    "name": "ipython",
    "version": 3
   },
   "file_extension": ".py",
   "mimetype": "text/x-python",
   "name": "python",
   "nbconvert_exporter": "python",
   "pygments_lexer": "ipython3",
   "version": "3.12.9"
  }
 },
 "nbformat": 4,
 "nbformat_minor": 5
}

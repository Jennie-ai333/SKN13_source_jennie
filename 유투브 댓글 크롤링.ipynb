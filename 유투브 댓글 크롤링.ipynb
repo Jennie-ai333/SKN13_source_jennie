{
 "cells": [
  {
   "cell_type": "code",
   "execution_count": 1,
   "id": "3a1e5f80-8b24-43e7-9890-0af5c8fc69ff",
   "metadata": {},
   "outputs": [
    {
     "name": "stdout",
     "output_type": "stream",
     "text": [
      "1. 가격 꼼수없이 ㅋㅋ 모든법인차에는 연두색 장착시키라\n",
      "2. 잘 됐네요. 다음은 음주운전 이력있는 차량들 빨간색 번호판 부착하게 해야 합니다.\n",
      "3. 8천은 도대체 무슨 기준이야?  그냥 법인차는 무조건 연두색으로 해라\n",
      "4. 다운계약서는 국가를 상대로 사기치는것입니다 탈세범과같은 것입니다 엄정 처벌해야함\n",
      "5. 다운계약서를 작성했다 = 탈세\n",
      "국세청 신나겠네요\n",
      "6. 진짜 머리 잘썼다 이건 칭찬한다\n",
      "법인차는 금액에 괸계없이 초록색으로 해라 \n",
      "그러면 수입 법인차는 싹 사라질듯\n",
      "7. 그냥 모든 법인카를 다 녹색으로 물들여 버려야지\n",
      "8. 다운계약서는 탈세혐의를 덧붙여서\n",
      "강력처벌 해야됨\n",
      "이중과세 대상임\n",
      "9. 다운계약서 쓴 곳은 바로 세무조사 해버려야~\n",
      "10. 가격을 왜 정하나? 모닝 법인차는 연두색 적어주면 견실한 기업이미지에 도움되고 좋은데~ 싼차도 법인차면 무조건 연두색해줘~~~!!!!\n",
      "11. 기존 법인차도 연두색으로 바꿔야죠 그리고 금액에 상관없이 전 법인차량 번호를 연두색으로 바꿨야됩니다.\n",
      "12. 법인차는 가격에 상관 없이 연두색으로 해라\n",
      "13. 상호도 넣어 타는데 왜 8천으로 정하는지. 그냥 법인차는 다 적용해라. 그래야 꼼수 없어지지.\n",
      "14. 그냥 모든 법인차는 택시처럼 모자하나씌워주자...그럼 해결될것을 뭔  8천 어쩌구저쩌구야 저것도 부자들 눈치보면서 만든법이냐??\n",
      "15. 법인차 - 연두색\n",
      "일반차 - 흰색\n",
      "음주운전 전력 차량 - 주황색\n",
      "추천...\n",
      "16. 법인의 유무판별위한 색배정인데 거기에 금액한도가 왜 끼어드는가?\n",
      "17. 모든 법인차는\n",
      "가격과 무관하게\n",
      "연두색으로 법을 개정하라\n",
      "18. 취득 금액에 상관없이 법인명의차는 모두 연두색으로 하고, 기존에 등록된 차량도 모두 소급 적용해서 번호판 바꾸도록 하면 더이상 꼼수도 없고 모두 정직해 질 듯 하네요...!!!\n",
      "19. 저걸 8,000만원 이상이라고 금액을 정해놓은게… 제 정신이냐?ㅋ 8천 이상 수입차든 500만원 짜리 모닝 중고차든 법인차면 가격에 상관없이 무조건 연두색 번호판으로 해야 사적 사용도 근절되고, 법인 명의로 고가 차 사서 굴리는거 뿌리 뽑히지… C, E클래스나 3, 5시리즈는 좀 낮은 트림이면 8천 이하로 가능하다. 저 차량들이 실질적으로 가장 대중적으로 많이 타는 가격대의 수입차이기도 하고. 5년 10년 지나서 화폐 가치 떨어지면, 그때 그때 마다 또 옥신각신 하면서 금액 조정하고 법 바꿀래? 여야를 떠나서 정치질만 하는 국개들아, 제발 생각이란걸 하고 법을 쳐 만들어라 쫌ㅉㅉ\n",
      "20. 이참에   기관장차량  등  모든  공공기관    차량도  사직으로  사용 못 하게    기관 명을   차량에    표시 하도록하면  좋을거 같습니다\n"
     ]
    }
   ],
   "source": [
    "import time\n",
    "import chromedriver_autoinstaller\n",
    "from selenium import webdriver\n",
    "from bs4 import BeautifulSoup\n",
    "\n",
    "# 크롬 드라이버 자동 설치\n",
    "chromedriver_autoinstaller.install()\n",
    "\n",
    "def crawl_youtube_comments(url, max_scroll=10):\n",
    "    options = webdriver.ChromeOptions()\n",
    "    options.add_argument(\"--start-maximized\")\n",
    "    options.add_argument(\"--disable-blink-features=AutomationControlled\")\n",
    "    # 필요시 아래 옵션 추가\n",
    "    # options.add_argument('--headless')  # 브라우저 안 띄우고 실행\n",
    "    # options.add_argument('--disable-gpu')\n",
    "    \n",
    "    # 크롬 브라우저 실행\n",
    "    driver = webdriver.Chrome(options=options)\n",
    "    driver.get(url)\n",
    "\n",
    "    time.sleep(5)  # 초기 로딩 대기\n",
    "\n",
    "    # 댓글 영역으로 스크롤 이동\n",
    "    driver.execute_script(\"window.scrollTo(0, 600);\")\n",
    "    time.sleep(2)\n",
    "\n",
    "    last_height = driver.execute_script(\"return document.documentElement.scrollHeight\")\n",
    "    scroll_count = 0\n",
    "\n",
    "    # 페이지 아래로 스크롤을 반복해서 댓글 불러오기\n",
    "    while scroll_count < max_scroll:\n",
    "        driver.execute_script(\"window.scrollTo(0, document.documentElement.scrollHeight);\")\n",
    "        time.sleep(3)\n",
    "\n",
    "        new_height = driver.execute_script(\"return document.documentElement.scrollHeight\")\n",
    "        if new_height == last_height:\n",
    "            break\n",
    "        last_height = new_height\n",
    "        scroll_count += 1\n",
    "\n",
    "    # 페이지 소스에서 댓글 파싱\n",
    "    soup = BeautifulSoup(driver.page_source, 'html.parser')\n",
    "    comment_divs = soup.select(\"#content-text\")\n",
    "\n",
    "    comments = [comment.get_text(strip=True) for comment in comment_divs]\n",
    "\n",
    "    driver.quit()\n",
    "    return comments\n",
    "\n",
    "# 사용 예시\n",
    "youtube_url = 'https://www.youtube.com/watch?v=9Z-hks4V_zQ'  # 원하는 영상 URL\n",
    "comments = crawl_youtube_comments(youtube_url, max_scroll=15)\n",
    "\n",
    "# 결과 확인\n",
    "for idx, comment in enumerate(comments, start=1):\n",
    "    print(f\"{idx}. {comment}\")\n"
   ]
  },
  {
   "cell_type": "code",
   "execution_count": 2,
   "id": "8d1aba46-45e8-46cf-9c15-8a797e3eddca",
   "metadata": {},
   "outputs": [],
   "source": [
    "import pandas as pd\n",
    "pd.DataFrame(comments, columns=[\"Comment\"]).to_csv(\"youtube_comments.csv\", index=False)\n"
   ]
  },
  {
   "cell_type": "code",
   "execution_count": null,
   "id": "cf17ef31-c010-408b-873a-38ea1a096c4e",
   "metadata": {},
   "outputs": [],
   "source": []
  }
 ],
 "metadata": {
  "kernelspec": {
   "display_name": "Python 3 (ipykernel)",
   "language": "python",
   "name": "python3"
  },
  "language_info": {
   "codemirror_mode": {
    "name": "ipython",
    "version": 3
   },
   "file_extension": ".py",
   "mimetype": "text/x-python",
   "name": "python",
   "nbconvert_exporter": "python",
   "pygments_lexer": "ipython3",
   "version": "3.12.9"
  }
 },
 "nbformat": 4,
 "nbformat_minor": 5
}

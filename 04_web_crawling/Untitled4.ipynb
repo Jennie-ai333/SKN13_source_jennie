{
 "cells": [
  {
   "cell_type": "code",
   "execution_count": 9,
   "id": "d9092971-e4e1-4b01-ba4b-de3747f8e756",
   "metadata": {},
   "outputs": [
    {
     "name": "stdout",
     "output_type": "stream",
     "text": [
      "\n",
      "========================================\n",
      "📌 1번 기사 크롤링 결과:\n",
      "========================================\n",
      "본문을 찾을 수 없습니다.\n"
     ]
    }
   ],
   "source": [
    "import requests\n",
    "from bs4 import BeautifulSoup\n",
    "\n",
    "# 크롤링할 기사 정보 (URL과 해당 기사의 CSS selector를 미리 지정)\n",
    "articles = [\n",
    "    # {\n",
    "    #     #'url': 'https://x.com/DrOMD/status/1884391832110666207',\n",
    "    #     #'#sections'\n",
    "    # },\n",
    "    {\n",
    "        'url': 'https://www.youtube.com/watch?v=9Z-hks4V_zQ',\n",
    "        'selector': '#id__68sery8fggk > span'\n",
    "    },\n",
    "    # 이곳에 다른 기사도 추가 가능\n",
    "]\n",
    "\n",
    "def crawl_article(url, selector):\n",
    "    response = requests.get(url)\n",
    "    response.raise_for_status()\n",
    "    soup = BeautifulSoup(response.text, 'lxml')\n",
    "    content_area = soup.select_one(selector)\n",
    "\n",
    "    if content_area:\n",
    "        paragraphs = content_area.select('p')\n",
    "        if paragraphs:\n",
    "            return '\\n'.join(p.get_text(strip=True) for p in paragraphs)\n",
    "        else:\n",
    "            return content_area.get_text(separator='\\n', strip=True)\n",
    "    else:\n",
    "        return '본문을 찾을 수 없습니다.'\n",
    "\n",
    "# 지정된 모든 기사 크롤링 실행\n",
    "for idx, article in enumerate(articles, start=1):\n",
    "    print(f'\\n{\"=\"*40}\\n📌 {idx}유투브 댓글:\\n{\"=\"*40}')\n",
    "    content = crawl_article(article['url'], article['selector'])\n",
    "    print(content)"
   ]
  },
  {
   "cell_type": "code",
   "execution_count": null,
   "id": "7471a708-4723-40c6-ab7f-db18a54d9f5d",
   "metadata": {},
   "outputs": [],
   "source": []
  }
 ],
 "metadata": {
  "kernelspec": {
   "display_name": "Python 3 (ipykernel)",
   "language": "python",
   "name": "python3"
  },
  "language_info": {
   "codemirror_mode": {
    "name": "ipython",
    "version": 3
   },
   "file_extension": ".py",
   "mimetype": "text/x-python",
   "name": "python",
   "nbconvert_exporter": "python",
   "pygments_lexer": "ipython3",
   "version": "3.12.9"
  }
 },
 "nbformat": 4,
 "nbformat_minor": 5
}

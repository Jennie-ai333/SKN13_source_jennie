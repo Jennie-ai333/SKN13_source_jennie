{
 "cells": [
  {
   "cell_type": "code",
   "execution_count": 4,
   "id": "08b15948-3852-488b-9cbe-65c74215a9ee",
   "metadata": {},
   "outputs": [
    {
     "ename": "ImportError",
     "evalue": "cannot import name 'Driver' from 'selenium' (/Users/jangjinseul/miniconda3/lib/python3.12/site-packages/selenium/__init__.py)",
     "output_type": "error",
     "traceback": [
      "\u001b[31m---------------------------------------------------------------------------\u001b[39m",
      "\u001b[31mImportError\u001b[39m                               Traceback (most recent call last)",
      "\u001b[36mCell\u001b[39m\u001b[36m \u001b[39m\u001b[32mIn[4]\u001b[39m\u001b[32m, line 1\u001b[39m\n\u001b[32m----> \u001b[39m\u001b[32m1\u001b[39m \u001b[38;5;28;01mfrom\u001b[39;00m \u001b[34;01mselenium\u001b[39;00m \u001b[38;5;28;01mimport\u001b[39;00m Driver\n\u001b[32m      2\u001b[39m \u001b[38;5;28;01mfrom\u001b[39;00m \u001b[34;01mselenium\u001b[39;00m\u001b[34;01m.\u001b[39;00m\u001b[34;01mwebdriver\u001b[39;00m\u001b[34;01m.\u001b[39;00m\u001b[34;01mcommon\u001b[39;00m\u001b[34;01m.\u001b[39;00m\u001b[34;01mkeys\u001b[39;00m \u001b[38;5;28;01mimport\u001b[39;00m keys\n\u001b[32m      3\u001b[39m \u001b[38;5;28;01mfrom\u001b[39;00m \u001b[34;01mselenium\u001b[39;00m\u001b[34;01m.\u001b[39;00m\u001b[34;01mwebdriver\u001b[39;00m\u001b[34;01m.\u001b[39;00m\u001b[34;01mcommon\u001b[39;00m\u001b[34;01m.\u001b[39;00m\u001b[34;01mby\u001b[39;00m \u001b[38;5;28;01mimport\u001b[39;00m by\n",
      "\u001b[31mImportError\u001b[39m: cannot import name 'Driver' from 'selenium' (/Users/jangjinseul/miniconda3/lib/python3.12/site-packages/selenium/__init__.py)"
     ]
    }
   ],
   "source": [
    "from selenium import Driver\n",
    "from selenium.webdriver.common.keys import keys\n",
    "from selenium.webdriver.common.by import by\n",
    "import pandas as pd\n",
    "import time"
   ]
  },
  {
   "cell_type": "code",
   "execution_count": null,
   "id": "7afbe37c-56a5-4f07-b90f-70b4089fc83d",
   "metadata": {},
   "outputs": [],
   "source": []
  }
 ],
 "metadata": {
  "kernelspec": {
   "display_name": "Python 3 (ipykernel)",
   "language": "python",
   "name": "python3"
  },
  "language_info": {
   "codemirror_mode": {
    "name": "ipython",
    "version": 3
   },
   "file_extension": ".py",
   "mimetype": "text/x-python",
   "name": "python",
   "nbconvert_exporter": "python",
   "pygments_lexer": "ipython3",
   "version": "3.12.9"
  }
 },
 "nbformat": 4,
 "nbformat_minor": 5
}

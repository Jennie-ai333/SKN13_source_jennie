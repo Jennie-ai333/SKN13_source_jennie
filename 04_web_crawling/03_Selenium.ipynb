{
 "cells": [
  {
   "cell_type": "code",
   "execution_count": 2,
   "metadata": {
    "collapsed": true,
    "jupyter": {
     "outputs_hidden": true
    },
    "scrolled": true
   },
   "outputs": [
    {
     "name": "stdout",
     "output_type": "stream",
     "text": [
      "Requirement already satisfied: selenium in /Users/jangjinseul/miniconda3/lib/python3.12/site-packages (4.31.0)\n",
      "Requirement already satisfied: urllib3<3,>=1.26 in /Users/jangjinseul/miniconda3/lib/python3.12/site-packages (from urllib3[socks]<3,>=1.26->selenium) (2.3.0)\n",
      "Requirement already satisfied: trio~=0.17 in /Users/jangjinseul/miniconda3/lib/python3.12/site-packages (from selenium) (0.29.0)\n",
      "Requirement already satisfied: trio-websocket~=0.9 in /Users/jangjinseul/miniconda3/lib/python3.12/site-packages (from selenium) (0.12.2)\n",
      "Requirement already satisfied: certifi>=2021.10.8 in /Users/jangjinseul/miniconda3/lib/python3.12/site-packages (from selenium) (2025.1.31)\n",
      "Requirement already satisfied: typing_extensions~=4.9 in /Users/jangjinseul/miniconda3/lib/python3.12/site-packages (from selenium) (4.12.2)\n",
      "Requirement already satisfied: websocket-client~=1.8 in /Users/jangjinseul/miniconda3/lib/python3.12/site-packages (from selenium) (1.8.0)\n",
      "Requirement already satisfied: attrs>=23.2.0 in /Users/jangjinseul/miniconda3/lib/python3.12/site-packages (from trio~=0.17->selenium) (25.3.0)\n",
      "Requirement already satisfied: sortedcontainers in /Users/jangjinseul/miniconda3/lib/python3.12/site-packages (from trio~=0.17->selenium) (2.4.0)\n",
      "Requirement already satisfied: idna in /Users/jangjinseul/miniconda3/lib/python3.12/site-packages (from trio~=0.17->selenium) (3.7)\n",
      "Requirement already satisfied: outcome in /Users/jangjinseul/miniconda3/lib/python3.12/site-packages (from trio~=0.17->selenium) (1.3.0.post0)\n",
      "Requirement already satisfied: sniffio>=1.3.0 in /Users/jangjinseul/miniconda3/lib/python3.12/site-packages (from trio~=0.17->selenium) (1.3.1)\n",
      "Requirement already satisfied: wsproto>=0.14 in /Users/jangjinseul/miniconda3/lib/python3.12/site-packages (from trio-websocket~=0.9->selenium) (1.2.0)\n",
      "Requirement already satisfied: pysocks!=1.5.7,<2.0,>=1.5.6 in /Users/jangjinseul/miniconda3/lib/python3.12/site-packages (from urllib3[socks]<3,>=1.26->selenium) (1.7.1)\n",
      "Requirement already satisfied: h11<1,>=0.9.0 in /Users/jangjinseul/miniconda3/lib/python3.12/site-packages (from wsproto>=0.14->trio-websocket~=0.9->selenium) (0.14.0)\n",
      "Note: you may need to restart the kernel to use updated packages.\n"
     ]
    }
   ],
   "source": [
    "%pip install selenium"
   ]
  },
  {
   "cell_type": "markdown",
   "metadata": {},
   "source": [
    "# [Selenium](https://www.selenium.dev/)\n",
    "\n",
    "-   **웹 브라우저 제어 도구**\n",
    "    -   원래는 웹 어플리케이션 자동 테스트를 위한 목적으로 만들어진 프레임워크.\n",
    "    -   웹브라우저를 프로그램을 이용해 제어할 수 있다.\n",
    "-   **requests 모듈의 한계**\n",
    "    -   Javascript(동적)를 이용한 AJAX 기법의 비동기적 요청 처리 페이지 크롤링이 힘들다.\n",
    "    -   로그인 후 요청이 가능한 페이지들에 대한 크롤링이 번거롭다.\n",
    "    -   Selenium을 활용하면 이 두가지 모두 쉽게 처리할 수 있다.\n",
    "-   **Selenium 단점**\n",
    "    -   속도가 느림\n",
    "-   **설치**\n",
    "    -   `pip install selenium`\n",
    "-   [튜토리얼](https://selenium-python.readthedocs.io/)\n",
    "    > -   주의: selenium은 3에서 4버전으로 업그레이드 되면서 드라이버 설정과 element 조회 메서드등이 많이 바뀜.\n"
   ]
  },
  {
   "cell_type": "code",
   "execution_count": 1,
   "metadata": {
    "collapsed": true,
    "jupyter": {
     "outputs_hidden": true
    },
    "scrolled": true
   },
   "outputs": [
    {
     "name": "stdout",
     "output_type": "stream",
     "text": [
      "Requirement already satisfied: webdriver-manager in /Users/jangjinseul/miniconda3/lib/python3.12/site-packages (4.0.2)\n",
      "Requirement already satisfied: requests in /Users/jangjinseul/miniconda3/lib/python3.12/site-packages (from webdriver-manager) (2.32.3)\n",
      "Requirement already satisfied: python-dotenv in /Users/jangjinseul/miniconda3/lib/python3.12/site-packages (from webdriver-manager) (1.1.0)\n",
      "Requirement already satisfied: packaging in /Users/jangjinseul/miniconda3/lib/python3.12/site-packages (from webdriver-manager) (24.2)\n",
      "Requirement already satisfied: charset-normalizer<4,>=2 in /Users/jangjinseul/miniconda3/lib/python3.12/site-packages (from requests->webdriver-manager) (3.3.2)\n",
      "Requirement already satisfied: idna<4,>=2.5 in /Users/jangjinseul/miniconda3/lib/python3.12/site-packages (from requests->webdriver-manager) (3.7)\n",
      "Requirement already satisfied: urllib3<3,>=1.21.1 in /Users/jangjinseul/miniconda3/lib/python3.12/site-packages (from requests->webdriver-manager) (2.3.0)\n",
      "Requirement already satisfied: certifi>=2017.4.17 in /Users/jangjinseul/miniconda3/lib/python3.12/site-packages (from requests->webdriver-manager) (2025.1.31)\n",
      "Note: you may need to restart the kernel to use updated packages.\n"
     ]
    }
   ],
   "source": [
    "%pip install webdriver-manager"
   ]
  },
  {
   "cell_type": "markdown",
   "metadata": {},
   "source": [
    "# Driver\n",
    "\n",
    "-   Driver\n",
    "    -   웹브라우저를 제어하는 프로그램으로 웹 브라우저별로 제공된다.\n",
    "    -   Selenium 패키지의 Driver객체를 이용해 제어하게 된다.\n",
    "\n",
    "## 설치\n",
    "\n",
    "1. **DriverManager 이용**\n",
    "    - `pip install webdriver-manager`\n"
   ]
  },
  {
   "cell_type": "markdown",
   "metadata": {},
   "source": [
    "2. **Hard coding**\n",
    "    1. 브라우져별로 드라이버를 다운로드 받는다.\n",
    "        - https://www.selenium.dev/documentation/webdriver/getting_started/install_drivers/#quick-reference\n",
    "    2. Local 컴퓨터에 설치된 크롬브라우져 버전에 맞는 드라이버 선택\n"
   ]
  },
  {
   "cell_type": "markdown",
   "metadata": {},
   "source": [
    "### DriverManager를 이용해 WebDriver 생성\n"
   ]
  },
  {
   "cell_type": "code",
   "execution_count": 3,
   "metadata": {},
   "outputs": [],
   "source": [
    "from webdriver_manager.chrome import ChromeDriverManager\n",
    "\n",
    "driver_path = ChromeDriverManager().install()"
   ]
  },
  {
   "cell_type": "code",
   "execution_count": 4,
   "metadata": {},
   "outputs": [
    {
     "data": {
      "text/plain": [
       "'/Users/jangjinseul/.wdm/drivers/chromedriver/mac64/135.0.7049.84/chromedriver-mac-arm64/chromedriver'"
      ]
     },
     "execution_count": 4,
     "metadata": {},
     "output_type": "execute_result"
    }
   ],
   "source": [
    "driver_path"
   ]
  },
  {
   "cell_type": "markdown",
   "metadata": {},
   "source": [
    "### 다운 받은 Driver이용해 WebDriver생성\n",
    "- WebDriver를 생성하면 웹브라우저가 실행 되며 생성된 웹브라우저를 WebDriver를 사용해서 컨트롤한다.\n",
    "- 페이지 이동\n",
    "    - `WebDriver.get(\"이동할 URL 주소\")`\n",
    "- Web browser 끄기\n",
    "    - `WebDriver.close()`"
   ]
  },
  {
   "cell_type": "code",
   "execution_count": 5,
   "metadata": {},
   "outputs": [],
   "source": [
    "from selenium.webdriver.chrome.service import Service\n",
    "from selenium import webdriver\n",
    "\n",
    "service = Service(executable_path=driver_path)\n",
    "browser = webdriver.Chrome(service=service) # 웹브라우저 제어 할 수 있는 객체 반환."
   ]
  },
  {
   "cell_type": "code",
   "execution_count": 6,
   "metadata": {},
   "outputs": [],
   "source": [
    "browser.get(\"https://www.naver.com\")"
   ]
  },
  {
   "cell_type": "code",
   "execution_count": 7,
   "metadata": {},
   "outputs": [],
   "source": [
    "browser.get(\"https://www.daum.net\")"
   ]
  },
  {
   "cell_type": "code",
   "execution_count": 8,
   "metadata": {},
   "outputs": [],
   "source": [
    "browser.close()"
   ]
  },
  {
   "cell_type": "markdown",
   "metadata": {
    "heading_collapsed": true
   },
   "source": [
    "## WebDriver 주요 속성/메소드\n",
    "\n",
    "-   **page_source** : 현재 페이지의 html 소스를 반환\n",
    "    -   page_source로 html을 받아서 BeautifulSoup으로 크롤링할 원소를 찾을 수 있다.\n",
    "-   **get_screenshot_as_file(파일경로)**\n",
    "    -   현재 웹브라우저 화면을 지정한 캡처해서 지정한 파일 경로에 저장한다.\n",
    "-   **set_window_size(width, height)**\n",
    "    -   웹브라우저 윈도우 크기 조정\n",
    "-   **maximize_window()**\n",
    "    -   웹브라우저 화면 최대 크기로 만들기.\n",
    "-   **get_window_size()**\n",
    "    -   웹브라우저 윈도우 크기 조회. (width, height)\n",
    "-   **execute_script(\"자바스크립트코드\")**\n",
    "    -   문자열로 전달한 **javascript 코드**를 실행시킨다.\n",
    "-   **quit()**, **close()**\n",
    "    -   웹브라우저를 종료한다.\n"
   ]
  },
  {
   "cell_type": "markdown",
   "metadata": {
    "heading_collapsed": true
   },
   "source": [
    "## Page의 Element 조회 메소드\n",
    "\n",
    "-   BeautifulSoup을 이용하지 않고 셀레늄 자체 parser를 이용할 수 있다.\n",
    "-   **find_element()**: 조건을 만족하는 첫번째 요소를 반환한다.\n",
    "    -   매개변수\n",
    "        -   **by**: 검색방식\n",
    "            -   **By.ID**\n",
    "            -   **By.CLASS_NAME**\n",
    "            -   **By.TAG_NAME**\n",
    "            -   **By.CSS_SELECTOR**\n",
    "            -   **By.XPATH**\n",
    "            -   **By.LINK_TEXT**\n",
    "            -   **By.PARTIAL_LINK_TEXT**\n",
    "        -   **value**: str - 검색조건\n",
    "    -   반환타입: **WebElement**\n",
    "-   **find_elements()**: 조건을 만족하는 모든 요소를 찾는다.\n",
    "    -   매개변수: find_element()와 동일\n",
    "    -   반환타입\n",
    "        -   **list of WebElement**\n"
   ]
  },
  {
   "cell_type": "markdown",
   "metadata": {
    "heading_collapsed": true
   },
   "source": [
    "### WebElement (조회결과) 메소드 / 속성\n",
    "\n",
    "-   메소드\n",
    "    -   **get_attribute('속성명')**: 태그의 속성값 조회\n",
    "    -   **send_keys(\"문자열\")**: 입력폼에 문자열 값을 입력.\n",
    "    -   **click()**: element를 클릭\n",
    "    -   **submit()**: element가 Form인 경우 폼 전송\n",
    "    -   **clear()**: element가 입력폼인 경우 텍스트를 지운다.\n",
    "    -   위 조회 메소드들 : 하위의 elements들 조회\n",
    "-   속성\n",
    "    -   **text**: 태그내의 텍스트\n",
    "    -   **tag_name**: 태그이름\n"
   ]
  },
  {
   "cell_type": "code",
   "execution_count": 12,
   "metadata": {},
   "outputs": [],
   "source": [
    "from webdriver_manager.chrome import ChromeDriverManager\n",
    "from selenium.webdriver.chrome.service import Service\n",
    "from selenium import webdriver\n",
    "from selenium.webdriver.common.by import By #종류 \n",
    "from selenium.webdriver.common.keys import Keys #키보드 키- 엔터 탭"
   ]
  },
  {
   "cell_type": "code",
   "execution_count": 13,
   "metadata": {},
   "outputs": [],
   "source": [
    "service = Service(executable_path=ChromeDriverManager().install())\n",
    "browser = webdriver.Chrome(service=service) #WB 실행\n",
    "\n",
    "browser.get(\"https://www.naver.com\")"
   ]
  },
  {
   "cell_type": "code",
   "execution_count": 16,
   "metadata": {},
   "outputs": [
    {
     "name": "stdout",
     "output_type": "stream",
     "text": [
      "<html lang=\"ko\" class=\"fzoom\" data-dark=\"false\"><head><script async=\"\" src=\"https://ntm.pstatic.net/\n"
     ]
    }
   ],
   "source": [
    "html = browser.page_source #html 문서를 str로 반환\n",
    "# 만약 뷰슾 사용할 경우 page_source의 내용을 넣어서 생성 \n",
    "print(html[:100]) #str 반환"
   ]
  },
  {
   "cell_type": "code",
   "execution_count": 17,
   "metadata": {},
   "outputs": [
    {
     "data": {
      "text/plain": [
       "True"
      ]
     },
     "execution_count": 17,
     "metadata": {},
     "output_type": "execute_result"
    }
   ],
   "source": [
    "browser.get_screenshot_as_file(\"naver_main.png\") "
   ]
  },
  {
   "cell_type": "code",
   "execution_count": 18,
   "metadata": {},
   "outputs": [],
   "source": [
    "browser.maximize_window()"
   ]
  },
  {
   "cell_type": "code",
   "execution_count": 19,
   "metadata": {},
   "outputs": [
    {
     "name": "stdout",
     "output_type": "stream",
     "text": [
      "{'width': 1470, 'height': 860}\n"
     ]
    }
   ],
   "source": [
    "size = browser.get_window_size() \n",
    "print(size)"
   ]
  },
  {
   "cell_type": "code",
   "execution_count": null,
   "metadata": {},
   "outputs": [],
   "source": [
    "browser.execute_script(\"alert('안녕하세요');\") #자바스크립트 코드 실행. #메세지 창 띄우기"
   ]
  },
  {
   "cell_type": "code",
   "execution_count": 27,
   "metadata": {},
   "outputs": [
    {
     "name": "stdout",
     "output_type": "stream",
     "text": [
      "<class 'selenium.webdriver.remote.webelement.WebElement'>\n",
      "input\n",
      "query\n"
     ]
    }
   ],
   "source": [
    "# 페이지 안에서 특정 element를 조회 (BS-selecr(), find())\n",
    "query_textfield = browser.find_element(By.ID, \"query\") \n",
    "print(type(query_textfield))\n",
    "\n",
    "print(query_textfield.tag_name)\n",
    "print(query_textfield.get_attribute(\"id\"))"
   ]
  },
  {
   "cell_type": "code",
   "execution_count": 28,
   "metadata": {},
   "outputs": [],
   "source": [
    "query_textfield.send_keys(\"날씨 예보\")\n",
    "query_textfield.send_keys(Keys.ENTER) #날씨에보 뒤에 엔터를 쓰고 싶은데 못쓰니까 , keys에 엔터를 넣음. 기능키. "
   ]
  },
  {
   "cell_type": "code",
   "execution_count": 30,
   "metadata": {},
   "outputs": [],
   "source": [
    "#검색 결과를 알려주는 \n",
    "\n",
    "query_textfield2 = browser.find_element(By.ID, \"nx_query\")\n",
    "# 특정 요소를 찾음. 그 안에 있는 속성 태그에 있는 내용 가져올 수 있음. 그게 크롤링 하는 것이다... 그게 뭔데 ... .. \n",
    "query_textfield2.clear() # 입력된 '날씨 예보'를 지우고 텍스트 필드 비우고 미세먼지를 씀.\n",
    "query_textfield2.send_keys(\"미세먼지\")\n",
    "query_textfield2.send_keys(Keys.ENTER)"
   ]
  },
  {
   "cell_type": "code",
   "execution_count": 33,
   "metadata": {},
   "outputs": [],
   "source": [
    "search_btn = browser.find_element(By.CLASS_NAME, \"bt_search\") # 찾는 아이콘 - 보면 bt_search라는 클래스\n",
    "search_btn.click() # 버튼 클릭이라는 함수."
   ]
  },
  {
   "cell_type": "code",
   "execution_count": 34,
   "metadata": {},
   "outputs": [],
   "source": [
    "browser.close()"
   ]
  },
  {
   "cell_type": "markdown",
   "metadata": {},
   "source": [
    "## 브라우저의 headless 모드를 이용.\n",
    "\n",
    "-   Headless 브라우저\n",
    "    -   브라우저의 창을 띄우지 않고 실제 브라우저와 동일하게 동작하도록 하는 방식\n",
    "    -   CLI(command line interface) 기반의 OS (리눅스 서버)를 지원하기 위한 브라우저\n",
    "    -   크롬은 버전 60부터 headless 모드 지원\n",
    "-   selenium에서 headless 모드\n",
    "    -   webdriver options에 headless 설정\n",
    "\n",
    "> -   **Brower Option**: https://www.selenium.dev/documentation/webdriver/drivers/options/\n"
   ]
  },
  {
   "cell_type": "code",
   "execution_count": 35,
   "metadata": {},
   "outputs": [
    {
     "name": "stdout",
     "output_type": "stream",
     "text": [
      "완료\n"
     ]
    }
   ],
   "source": [
    "from selenium import webdriver\n",
    "import time \n",
    "\n",
    "option = webdriver.ChromeOptions()\n",
    "option.add_argument(\"--headless\")\n",
    "service = Service(executable_path=ChromeDriverManager().install())\n",
    "\n",
    "browser = webdriver.Chrome(service=service,options=option) # 어떤식으로 띄워라 옵션을 추가해줄수잇음. \n",
    "browser.maximize_window()\n",
    "browser.get(\"https://www.daum.net\")\n",
    "\n",
    "time.sleep(1) # 지정한 초(1초) 동안 실행을 멈춘다. 응답이 올 때까지 약간의 대기시간ㅇ르 준다.\n",
    "browser.get_screenshot_as_file(\"daum_main2.png\")\n",
    "browser.close()\n",
    "print(\"완료\")"
   ]
  },
  {
   "cell_type": "code",
   "execution_count": null,
   "metadata": {},
   "outputs": [],
   "source": [
    "b.get(url) \n",
    "click - 화면을 불러왔는데 버튼이 안생기면 클릭을 못함. 그래서 화면이 다 나올 때까지 기다려줘야함. 그래서 생긴게 대기하기₩\n",
    "click"
   ]
  },
  {
   "cell_type": "markdown",
   "metadata": {
    "hidden": true
   },
   "source": [
    "# 대기 하기 - 셀레니움에서 지원\n",
    "\n",
    "## Explicit Wait\n",
    "\n",
    "-   특정 조건/상황을 만족할 때 까지 대기\n",
    "-   `WebDriverWait(browser, 초).until(expected_contition)` 구문 사용\n",
    "-    초 - 기다리는 max시간, 길게게주면 좋다\n",
    "-   expected_condition 함수\n",
    "    -   selenium.webdriver.support.expected_conditions 모듈에 정의된 함수 사용.\n",
    "        -   https://selenium-python.readthedocs.io/api.html#module-selenium.webdriver.support.expected_conditions\n",
    "\n",
    "## Implicit Wait\n",
    "\n",
    "-   현재 페이지에 없는 element나 elememt들이 loading 되기를 설정한 시간만큼 기다린다.\n",
    "-   설정한 시간 이내에 elements가 loading되면 대기가 종료된다.\n",
    "-   `implicit_wait(초)` 구문 사용 - 특별한 경우는 이걸 적용한다.\n",
    "-   한번 설정하면 설정된 WebDriver가 close될때 까지 그 설정이 유지된다.\n",
    "-   https://selenium-python.readthedocs.io/waits.html\n",
    "\n",
    "### 예) 페이지 전체 로딩 기다려주는 의미 - 버튼이 나올때까지\n",
    "\n",
    "```python\n",
    "browser.implicit_wait(5)\n",
    "# 페이지 로딩(dom tree완성)될 때까지 최대 5초간 기다린다. (로딩이 되면 5초가 되지 않아도 대기를 끝낸다.)\n",
    "# 페이지 시작할때 ... \n",
    "```\n",
    "\n",
    "<hr>\n",
    "\n",
    "```python\n",
    "from selenium.webdriver.support import expected_conditions as EC\n",
    "\n",
    "...\n",
    "\n",
    "try:\n",
    "    # element가 반환될 때 까지 최대 10초 기다린다.\n",
    "    element = WebDriverWait(driver, 10).until(\n",
    "        EC.presence_of_element_located((By.ID, \"myDynamicElement\"))\n",
    "    ) # 아이디가 저거 뜰때까지 10초동안 기다린다\n",
    "finally:\n",
    "    driver.quit()\n",
    "```\n"
   ]
  },
  {
   "cell_type": "markdown",
   "metadata": {},
   "source": [
    "# 무한 스크롤\n",
    "\n",
    "-   javascript 에서 현재 페이지의 높이(scroll pane(scroll bar가 움직이는 공간)의 길이)\n",
    "    -   `document.documentElement.scrollHeight`\n",
    "-   scroll bar를 이동\n",
    "    -   `window.scrollTo(가로 스크롤바를 이동시킬 위치:정수,\n",
    "        세로 스코롤바를 이동시킬 위치:정수)\n"
   ]
  },
  {
   "cell_type": "code",
   "execution_count": 43,
   "metadata": {},
   "outputs": [
    {
     "ename": "NoSuchWindowException",
     "evalue": "Message: no such window: target window already closed\nfrom unknown error: web view not found\n  (Session info: chrome=135.0.7049.85)\nStacktrace:\n0   chromedriver                        0x0000000104fc2dec cxxbridge1$str$ptr + 2817040\n1   chromedriver                        0x0000000104fbb088 cxxbridge1$str$ptr + 2784940\n2   chromedriver                        0x0000000104b028d8 cxxbridge1$string$len + 93028\n3   chromedriver                        0x0000000104adc758 chromedriver + 132952\n4   chromedriver                        0x0000000104b71734 cxxbridge1$string$len + 547264\n5   chromedriver                        0x0000000104b8a2c4 cxxbridge1$string$len + 648528\n6   chromedriver                        0x0000000104b3da80 cxxbridge1$string$len + 335116\n7   chromedriver                        0x0000000104f87c74 cxxbridge1$str$ptr + 2575000\n8   chromedriver                        0x0000000104f8af40 cxxbridge1$str$ptr + 2588004\n9   chromedriver                        0x0000000104f679fc cxxbridge1$str$ptr + 2443296\n10  chromedriver                        0x0000000104f8b7bc cxxbridge1$str$ptr + 2590176\n11  chromedriver                        0x0000000104f58af0 cxxbridge1$str$ptr + 2382100\n12  chromedriver                        0x0000000104fab9a0 cxxbridge1$str$ptr + 2721732\n13  chromedriver                        0x0000000104fabb2c cxxbridge1$str$ptr + 2722128\n14  chromedriver                        0x0000000104fbacd4 cxxbridge1$str$ptr + 2783992\n15  libsystem_pthread.dylib             0x000000018aaec2e4 _pthread_start + 136\n16  libsystem_pthread.dylib             0x000000018aae70fc thread_start + 8\n",
     "output_type": "error",
     "traceback": [
      "\u001b[0;31m---------------------------------------------------------------------------\u001b[0m",
      "\u001b[0;31mNoSuchWindowException\u001b[0m                     Traceback (most recent call last)",
      "Cell \u001b[0;32mIn[43], line 23\u001b[0m\n\u001b[1;32m     18\u001b[0m scroll_pane_height \u001b[38;5;241m=\u001b[39m browser\u001b[38;5;241m.\u001b[39mexecute_script(\n\u001b[1;32m     19\u001b[0m     \u001b[38;5;124m\"\u001b[39m\u001b[38;5;124mreturn document.documentElement.scrollHeight\u001b[39m\u001b[38;5;124m\"\u001b[39m \u001b[38;5;66;03m# 페이지의 스크롤을 기반으로 height를 반환함. \u001b[39;00m\n\u001b[1;32m     20\u001b[0m )\n\u001b[1;32m     22\u001b[0m \u001b[38;5;28;01mwhile\u001b[39;00m \u001b[38;5;28;01mTrue\u001b[39;00m:\n\u001b[0;32m---> 23\u001b[0m     browser\u001b[38;5;241m.\u001b[39mexecute_script(\u001b[38;5;124m\"\u001b[39m\u001b[38;5;124mwindow.scrollTo(0, document.documentElement.scrollHeight)\u001b[39m\u001b[38;5;124m\"\u001b[39m)\n\u001b[1;32m     25\u001b[0m     time\u001b[38;5;241m.\u001b[39msleep(random\u001b[38;5;241m.\u001b[39muniform(\u001b[38;5;241m0.5\u001b[39m, \u001b[38;5;241m1.5\u001b[39m)) \u001b[38;5;66;03m# 0.5 ~ 1.5의 random한 값 생성\u001b[39;00m\n\u001b[1;32m     26\u001b[0m     new_scroll_pane_height \u001b[38;5;241m=\u001b[39m browser\u001b[38;5;241m.\u001b[39mexecute_script(\n\u001b[1;32m     27\u001b[0m         \u001b[38;5;124m\"\u001b[39m\u001b[38;5;124mreturn document.documentElement.scrollHeight\u001b[39m\u001b[38;5;124m\"\u001b[39m\n\u001b[1;32m     28\u001b[0m     )\n",
      "File \u001b[0;32m~/miniconda3/lib/python3.12/site-packages/selenium/webdriver/remote/webdriver.py:528\u001b[0m, in \u001b[0;36mWebDriver.execute_script\u001b[0;34m(self, script, *args)\u001b[0m\n\u001b[1;32m    525\u001b[0m converted_args \u001b[38;5;241m=\u001b[39m \u001b[38;5;28mlist\u001b[39m(args)\n\u001b[1;32m    526\u001b[0m command \u001b[38;5;241m=\u001b[39m Command\u001b[38;5;241m.\u001b[39mW3C_EXECUTE_SCRIPT\n\u001b[0;32m--> 528\u001b[0m \u001b[38;5;28;01mreturn\u001b[39;00m \u001b[38;5;28mself\u001b[39m\u001b[38;5;241m.\u001b[39mexecute(command, {\u001b[38;5;124m\"\u001b[39m\u001b[38;5;124mscript\u001b[39m\u001b[38;5;124m\"\u001b[39m: script, \u001b[38;5;124m\"\u001b[39m\u001b[38;5;124margs\u001b[39m\u001b[38;5;124m\"\u001b[39m: converted_args})[\u001b[38;5;124m\"\u001b[39m\u001b[38;5;124mvalue\u001b[39m\u001b[38;5;124m\"\u001b[39m]\n",
      "File \u001b[0;32m~/miniconda3/lib/python3.12/site-packages/selenium/webdriver/remote/webdriver.py:429\u001b[0m, in \u001b[0;36mWebDriver.execute\u001b[0;34m(self, driver_command, params)\u001b[0m\n\u001b[1;32m    427\u001b[0m response \u001b[38;5;241m=\u001b[39m \u001b[38;5;28mself\u001b[39m\u001b[38;5;241m.\u001b[39mcommand_executor\u001b[38;5;241m.\u001b[39mexecute(driver_command, params)\n\u001b[1;32m    428\u001b[0m \u001b[38;5;28;01mif\u001b[39;00m response:\n\u001b[0;32m--> 429\u001b[0m     \u001b[38;5;28mself\u001b[39m\u001b[38;5;241m.\u001b[39merror_handler\u001b[38;5;241m.\u001b[39mcheck_response(response)\n\u001b[1;32m    430\u001b[0m     response[\u001b[38;5;124m\"\u001b[39m\u001b[38;5;124mvalue\u001b[39m\u001b[38;5;124m\"\u001b[39m] \u001b[38;5;241m=\u001b[39m \u001b[38;5;28mself\u001b[39m\u001b[38;5;241m.\u001b[39m_unwrap_value(response\u001b[38;5;241m.\u001b[39mget(\u001b[38;5;124m\"\u001b[39m\u001b[38;5;124mvalue\u001b[39m\u001b[38;5;124m\"\u001b[39m, \u001b[38;5;28;01mNone\u001b[39;00m))\n\u001b[1;32m    431\u001b[0m     \u001b[38;5;28;01mreturn\u001b[39;00m response\n",
      "File \u001b[0;32m~/miniconda3/lib/python3.12/site-packages/selenium/webdriver/remote/errorhandler.py:232\u001b[0m, in \u001b[0;36mErrorHandler.check_response\u001b[0;34m(self, response)\u001b[0m\n\u001b[1;32m    230\u001b[0m         alert_text \u001b[38;5;241m=\u001b[39m value[\u001b[38;5;124m\"\u001b[39m\u001b[38;5;124malert\u001b[39m\u001b[38;5;124m\"\u001b[39m]\u001b[38;5;241m.\u001b[39mget(\u001b[38;5;124m\"\u001b[39m\u001b[38;5;124mtext\u001b[39m\u001b[38;5;124m\"\u001b[39m)\n\u001b[1;32m    231\u001b[0m     \u001b[38;5;28;01mraise\u001b[39;00m exception_class(message, screen, stacktrace, alert_text)  \u001b[38;5;66;03m# type: ignore[call-arg]  # mypy is not smart enough here\u001b[39;00m\n\u001b[0;32m--> 232\u001b[0m \u001b[38;5;28;01mraise\u001b[39;00m exception_class(message, screen, stacktrace)\n",
      "\u001b[0;31mNoSuchWindowException\u001b[0m: Message: no such window: target window already closed\nfrom unknown error: web view not found\n  (Session info: chrome=135.0.7049.85)\nStacktrace:\n0   chromedriver                        0x0000000104fc2dec cxxbridge1$str$ptr + 2817040\n1   chromedriver                        0x0000000104fbb088 cxxbridge1$str$ptr + 2784940\n2   chromedriver                        0x0000000104b028d8 cxxbridge1$string$len + 93028\n3   chromedriver                        0x0000000104adc758 chromedriver + 132952\n4   chromedriver                        0x0000000104b71734 cxxbridge1$string$len + 547264\n5   chromedriver                        0x0000000104b8a2c4 cxxbridge1$string$len + 648528\n6   chromedriver                        0x0000000104b3da80 cxxbridge1$string$len + 335116\n7   chromedriver                        0x0000000104f87c74 cxxbridge1$str$ptr + 2575000\n8   chromedriver                        0x0000000104f8af40 cxxbridge1$str$ptr + 2588004\n9   chromedriver                        0x0000000104f679fc cxxbridge1$str$ptr + 2443296\n10  chromedriver                        0x0000000104f8b7bc cxxbridge1$str$ptr + 2590176\n11  chromedriver                        0x0000000104f58af0 cxxbridge1$str$ptr + 2382100\n12  chromedriver                        0x0000000104fab9a0 cxxbridge1$str$ptr + 2721732\n13  chromedriver                        0x0000000104fabb2c cxxbridge1$str$ptr + 2722128\n14  chromedriver                        0x0000000104fbacd4 cxxbridge1$str$ptr + 2783992\n15  libsystem_pthread.dylib             0x000000018aaec2e4 _pthread_start + 136\n16  libsystem_pthread.dylib             0x000000018aae70fc thread_start + 8\n"
     ]
    }
   ],
   "source": [
    "from selenium import webdriver\n",
    "from selenium.webdriver.chrome.service import Service\n",
    "from selenium.webdriver.common.by import By\n",
    "from selenium.webdriver.common.keys import Keys\n",
    "from webdriver_manager.chrome import ChromeDriverManager\n",
    "import time\n",
    "import random\n",
    "\n",
    "service = Service(executable_path=ChromeDriverManager().install())\n",
    "browser = webdriver.Chrome(service=service)\n",
    "\n",
    "browser.implicitly_wait(5) # 페이지 옮길때마다 페이지 뜰 때까지 기다려라. \n",
    "browser.maximize_window() # 최대화면으로 \n",
    "\n",
    "browser.get('https://pokemonkorea.co.kr/pokedex')\n",
    "time.sleep(2)\n",
    "\n",
    "#이동하기 전 길이 , 높이        \n",
    "scroll_pane_height = browser.execute_script(\n",
    "    \"return document.documentElement.scrollHeight\" # 페이지의 스크롤을 기반으로 문서의 height를 반환함. \n",
    ")\n",
    "\n",
    "while True: # while 로 무한루프 돌 것 \n",
    "    browser.execute_script(\"window.scrollTo(0, document.documentElement.scrollHeight)\") # 0은 가로 스크롤바를 이동시키기 위한 정수. 상하로 움직이기 위해 뒤에 scrollHeight를 씀.  \n",
    "\n",
    "    time.sleep(random.uniform(0.5, 1.5)) # 0.5 ~ 1.5의 random한 값 생성 # 서버에게 최대한 사람처럼 보이기 위해 시간을 랜덤 범위를 정해서 넣는다. # 느려지더라도 막히는 것보단 나음. \n",
    "#이동하고 후 길이 , 높이 \n",
    "    new_scroll_pane_height = browser.execute_script(\n",
    "        \"return document.documentElement.scrollHeight\" # 이동하고 길이를 다시 잼. \n",
    "    )\n",
    "#이동하기 전후 길이가 같다면,\n",
    "    if scroll_pane_height == new_scroll_pane_height: # 1500 = 2000? 2000 == 2500? 2500 == 2500? \n",
    "        break\n",
    "    scroll_pane_height = new_scroll_pane_height # 스크롤 길이가 옮겨지면서 height를 파악, 점점 길어지는데, 나중에 마지막에 더 길어질 수 없는 길이가 되면 break를 걸어서 창을 닫는다. \n",
    "\n",
    "browser.close()"
   ]
  },
  {
   "cell_type": "code",
   "execution_count": null,
   "metadata": {},
   "outputs": [],
   "source": [
    "스크롤 바를 내리는 기능은 없어서 자바스크립트를 이용해줘야한다."
   ]
  },
  {
   "cell_type": "code",
   "execution_count": null,
   "metadata": {},
   "outputs": [],
   "source": []
  }
 ],
 "metadata": {
  "kernelspec": {
   "display_name": "Python 3 (ipykernel)",
   "language": "python",
   "name": "python3"
  },
  "language_info": {
   "codemirror_mode": {
    "name": "ipython",
    "version": 3
   },
   "file_extension": ".py",
   "mimetype": "text/x-python",
   "name": "python",
   "nbconvert_exporter": "python",
   "pygments_lexer": "ipython3",
   "version": "3.12.9"
  },
  "toc": {
   "base_numbering": 1,
   "nav_menu": {},
   "number_sections": false,
   "sideBar": false,
   "skip_h1_title": false,
   "title_cell": "Table of Contents",
   "title_sidebar": "Contents",
   "toc_cell": false,
   "toc_position": {},
   "toc_section_display": true,
   "toc_window_display": false
  },
  "varInspector": {
   "cols": {
    "lenName": 16,
    "lenType": 16,
    "lenVar": 40
   },
   "kernels_config": {
    "python": {
     "delete_cmd_postfix": "",
     "delete_cmd_prefix": "del ",
     "library": "var_list.py",
     "varRefreshCmd": "print(var_dic_list())"
    },
    "r": {
     "delete_cmd_postfix": ") ",
     "delete_cmd_prefix": "rm(",
     "library": "var_list.r",
     "varRefreshCmd": "cat(var_dic_list()) "
    }
   },
   "types_to_exclude": [
    "module",
    "function",
    "builtin_function_or_method",
    "instance",
    "_Feature"
   ],
   "window_display": false
  }
 },
 "nbformat": 4,
 "nbformat_minor": 4
}

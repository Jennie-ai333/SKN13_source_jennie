{
 "cells": [
  {
   "cell_type": "code",
   "execution_count": 1,
   "id": "2d11ef94-7f49-4895-b26f-899855d07c91",
   "metadata": {},
   "outputs": [],
   "source": [
    "import requests\n",
    "from bs4 import BeautifulSoup"
   ]
  },
  {
   "cell_type": "code",
   "execution_count": 6,
   "id": "cf20d740-5e51-486d-b669-f982f892425c",
   "metadata": {},
   "outputs": [],
   "source": [
    "keyword = '연두색번호판'\n",
    "url = f'https://search.naver.com/search.naver?where=news&query={'연두색번호판'}'"
   ]
  },
  {
   "cell_type": "code",
   "execution_count": 7,
   "id": "1a69d46f-3c16-4811-a73b-50c36f38b4db",
   "metadata": {},
   "outputs": [],
   "source": [
    "response = requests.get(url)"
   ]
  },
  {
   "cell_type": "code",
   "execution_count": 8,
   "id": "a92f95da-b2d3-490c-bd2e-a87d5cc40ac2",
   "metadata": {},
   "outputs": [],
   "source": [
    "soup = BeautifulSoup(response.text, 'html.parser')"
   ]
  },
  {
   "cell_type": "code",
   "execution_count": 16,
   "id": "c37fe8ee-d4c8-4862-a12a-40e544a18570",
   "metadata": {
    "scrolled": true
   },
   "outputs": [
    {
     "data": {
      "text/plain": [
       "[<a class=\"news_tit\" href=\"https://www.mk.co.kr/article/11276278\" onclick=\"return goOtherCR(this, 'a=nws*e.tit&amp;r=1&amp;i=880000BE_000000000000000000096131&amp;g=024.0000096131&amp;u='+urlencode(this.href));\" target=\"_blank\" title=\"연두색 번호판의 기습…S클래스 독주 끝? [데이터로 보는 세상]\"><mark>연두색 번호판</mark>의 기습…S클래스 독주 끝? [데이터로 보는 세상]</a>,\n",
       " <a class=\"news_tit\" href=\"https://www.newsis.com/view/NISX20250324_0003110599\" onclick=\"return goOtherCR(this, 'a=nws*j.tit&amp;r=2&amp;i=88000127_000000000000000013138328&amp;g=003.0013138328&amp;u='+urlencode(this.href));\" target=\"_blank\" title=\"'연두색 번호판' 기피 현상 감소…고급 수입차 판매 '꿈틀'\">'<mark>연두색 번호판</mark>' 기피 현상 감소…고급 수입차 판매 '꿈틀'</a>,\n",
       " <a class=\"news_tit\" href=\"https://www.dailian.co.kr/news/view/1477573/?sc=Naver\" onclick=\"return goOtherCR(this, 'a=nws*j.tit&amp;r=3&amp;i=8812A0A8_000000000000000002937867&amp;g=119.0002937867&amp;u='+urlencode(this.href));\" target=\"_blank\" title=\"번호판도 싫고, 살 차도 없고… 고가 수입차 '내리막'\"><mark>번호판</mark>도 싫고, 살 차도 없고… 고가 수입차 '내리막'</a>,\n",
       " <a class=\"news_tit\" href=\"https://www.sisajournal-e.com/news/articleView.html?idxno=410659\" onclick=\"return goOtherCR(this, 'a=nws*f.tit&amp;r=4&amp;i=88172bf2_000000000000000000073126&amp;g=5471.0000073126&amp;u='+urlencode(this.href));\" target=\"_blank\" title='\"정체된 S클래스\"···벤츠, 더 위 노린다'>\"정체된 S클래스\"···벤츠, 더 위 노린다</a>,\n",
       " <a class=\"news_tit\" href=\"http://www.wolyo.co.kr/news/articleView.html?idxno=257386\" onclick=\"return goOtherCR(this, 'a=nws*f.tit&amp;r=5&amp;i=8817ca79_000000000000000000091770&amp;g=5520.0000091770&amp;u='+urlencode(this.href));\" target=\"_blank\" title=\"연두색 번호판 기피 현상 감소? 올해 들어 고급 수입차 판매 늘어\"><mark>연두색 번호판</mark> 기피 현상 감소? 올해 들어 고급 수입차 판매 늘어</a>,\n",
       " <a class=\"news_tit\" href=\"https://www.gpkorea.com/news/articleView.html?idxno=126703\" onclick=\"return goOtherCR(this, 'a=nws*f.tit&amp;r=6&amp;i=88155e82_000000000000000000077795&amp;g=5331.0000077795&amp;u='+urlencode(this.href));\" target=\"_blank\" title=\"'맞수' 벤츠 S클래스·BMW 7시리즈…'영원한 왕좌'는 없다?\">'맞수' 벤츠 S클래스·BMW 7시리즈…'영원한 왕좌'는 없다?</a>,\n",
       " <a class=\"news_tit\" href=\"https://www.chosun.com/economy/auto/2025/03/07/MPF2ABV3MRHA5FPAADA7BX4PMA/?utm_source=naver&amp;utm_medium=referral&amp;utm_campaign=naver-news\" onclick=\"return goOtherCR(this, 'a=nws*e.tit&amp;r=7&amp;i=880000ED_000000000000000003891949&amp;g=023.0003891949&amp;u='+urlencode(this.href));\" target=\"_blank\" title=\"연두색 번호판 탓?… 고가 수입차, 영리치 대신 50대가 사\"><mark>연두색 번호판</mark> 탓?… 고가 수입차, 영리치 대신 50대가 사</a>,\n",
       " <a class=\"news_tit\" href=\"http://www.hansbiz.co.kr/news/articleView.html?idxno=737430\" onclick=\"return goOtherCR(this, 'a=nws*f.tit&amp;r=8&amp;i=88166591_000000000000000000363215&amp;g=5438.0000363215&amp;u='+urlencode(this.href));\" target=\"_blank\" title=\"'연두색 번호판'에도 본국보다 판매 많아…4억 '테메라리오' 상륙\">'<mark>연두색 번호판</mark>'에도 본국보다 판매 많아…4억 '테메라리오' 상륙</a>,\n",
       " <a class=\"news_tit\" href=\"http://www.segye.com/newsView/20250213508084?OutUrl=naver\" onclick=\"return goOtherCR(this, 'a=nws*j.tit&amp;r=9&amp;i=880000D2_000000000000000004010570&amp;g=022.0004010570&amp;u='+urlencode(this.href));\" target=\"_blank\" title=\"‘연두색 아니네’…공수처장 관용차 번호판 바꿀 수 있던 이유는\">‘<mark>연두색</mark> 아니네’…공수처장 관용차 <mark>번호판</mark> 바꿀 수 있던 이유는</a>,\n",
       " <a class=\"news_tit\" href=\"http://www.segye.com/newsView/20250206503805?OutUrl=naver\" onclick=\"return goOtherCR(this, 'a=nws*h.tit&amp;r=10&amp;i=880000D2_000000000000000004008764&amp;g=022.0004008764&amp;u='+urlencode(this.href));\" target=\"_blank\" title=\"“연두색 번호판 창피해서?”···수입차 시세 8년만에 ‘뚝뚝’\">“<mark>연두색 번호판</mark> 창피해서?”···수입차 시세 8년만에 ‘뚝뚝’</a>]"
      ]
     },
     "execution_count": 16,
     "metadata": {},
     "output_type": "execute_result"
    }
   ],
   "source": [
    "articles = soup.select('.news_tit')\n",
    "articles"
   ]
  },
  {
   "cell_type": "code",
   "execution_count": 19,
   "id": "6dc44161-d5a1-4cb7-ad88-3e2674ae24ef",
   "metadata": {},
   "outputs": [
    {
     "name": "stdout",
     "output_type": "stream",
     "text": [
      "연두색 번호판의 기습…S클래스 독주 끝? [데이터로 보는 세상]\n",
      "'연두색 번호판' 기피 현상 감소…고급 수입차 판매 '꿈틀'\n",
      "번호판도 싫고, 살 차도 없고… 고가 수입차 '내리막'\n",
      "\"정체된 S클래스\"···벤츠, 더 위 노린다\n",
      "연두색 번호판 기피 현상 감소? 올해 들어 고급 수입차 판매 늘어\n",
      "'맞수' 벤츠 S클래스·BMW 7시리즈…'영원한 왕좌'는 없다?\n",
      "연두색 번호판 탓?… 고가 수입차, 영리치 대신 50대가 사\n",
      "'연두색 번호판'에도 본국보다 판매 많아…4억 '테메라리오' 상륙\n",
      "‘연두색 아니네’…공수처장 관용차 번호판 바꿀 수 있던 이유는\n",
      "“연두색 번호판 창피해서?”···수입차 시세 8년만에 ‘뚝뚝’\n"
     ]
    }
   ],
   "source": [
    "for i in range(10):\n",
    "    article = articles[i]\n",
    "    title = article.text\n",
    "    print(title)"
   ]
  },
  {
   "cell_type": "code",
   "execution_count": 21,
   "id": "e1123359-490b-40ee-8681-7c356717c8c1",
   "metadata": {},
   "outputs": [
    {
     "name": "stdout",
     "output_type": "stream",
     "text": [
      "연두색 번호판의 기습…S클래스 독주 끝? [데이터로 보는 세상]\n",
      "'연두색 번호판' 기피 현상 감소…고급 수입차 판매 '꿈틀'\n",
      "번호판도 싫고, 살 차도 없고… 고가 수입차 '내리막'\n",
      "\"정체된 S클래스\"···벤츠, 더 위 노린다\n",
      "연두색 번호판 기피 현상 감소? 올해 들어 고급 수입차 판매 늘어\n",
      "'맞수' 벤츠 S클래스·BMW 7시리즈…'영원한 왕좌'는 없다?\n",
      "연두색 번호판 탓?… 고가 수입차, 영리치 대신 50대가 사\n",
      "'연두색 번호판'에도 본국보다 판매 많아…4억 '테메라리오' 상륙\n",
      "‘연두색 아니네’…공수처장 관용차 번호판 바꿀 수 있던 이유는\n",
      "“연두색 번호판 창피해서?”···수입차 시세 8년만에 ‘뚝뚝’\n"
     ]
    },
    {
     "data": {
      "text/html": [
       "<div>\n",
       "<style scoped>\n",
       "    .dataframe tbody tr th:only-of-type {\n",
       "        vertical-align: middle;\n",
       "    }\n",
       "\n",
       "    .dataframe tbody tr th {\n",
       "        vertical-align: top;\n",
       "    }\n",
       "\n",
       "    .dataframe thead th {\n",
       "        text-align: right;\n",
       "    }\n",
       "</style>\n",
       "<table border=\"1\" class=\"dataframe\">\n",
       "  <thead>\n",
       "    <tr style=\"text-align: right;\">\n",
       "      <th></th>\n",
       "      <th>title</th>\n",
       "    </tr>\n",
       "  </thead>\n",
       "  <tbody>\n",
       "    <tr>\n",
       "      <th>0</th>\n",
       "      <td>연두색 번호판의 기습…S클래스 독주 끝? [데이터로 보는 세상]</td>\n",
       "    </tr>\n",
       "    <tr>\n",
       "      <th>1</th>\n",
       "      <td>'연두색 번호판' 기피 현상 감소…고급 수입차 판매 '꿈틀'</td>\n",
       "    </tr>\n",
       "    <tr>\n",
       "      <th>2</th>\n",
       "      <td>번호판도 싫고, 살 차도 없고… 고가 수입차 '내리막'</td>\n",
       "    </tr>\n",
       "    <tr>\n",
       "      <th>3</th>\n",
       "      <td>\"정체된 S클래스\"···벤츠, 더 위 노린다</td>\n",
       "    </tr>\n",
       "    <tr>\n",
       "      <th>4</th>\n",
       "      <td>연두색 번호판 기피 현상 감소? 올해 들어 고급 수입차 판매 늘어</td>\n",
       "    </tr>\n",
       "  </tbody>\n",
       "</table>\n",
       "</div>"
      ],
      "text/plain": [
       "                                  title\n",
       "0   연두색 번호판의 기습…S클래스 독주 끝? [데이터로 보는 세상]\n",
       "1     '연두색 번호판' 기피 현상 감소…고급 수입차 판매 '꿈틀'\n",
       "2        번호판도 싫고, 살 차도 없고… 고가 수입차 '내리막'\n",
       "3              \"정체된 S클래스\"···벤츠, 더 위 노린다\n",
       "4  연두색 번호판 기피 현상 감소? 올해 들어 고급 수입차 판매 늘어"
      ]
     },
     "execution_count": 21,
     "metadata": {},
     "output_type": "execute_result"
    }
   ],
   "source": [
    "import requests\n",
    "from bs4 import BeautifulSoup\n",
    "import pandas as pd\n",
    "\n",
    "# 키워드, URL\n",
    "keyword = '연두색번호판'\n",
    "url = f'https://search.naver.com/search.naver?where=news&query={'연두색번호판'}'\n",
    "\n",
    "# 웹 페이지 요청\n",
    "response = requests.get(url)\n",
    "soup = BeautifulSoup(response.text, 'html.parser')\n",
    "\n",
    "# news_tit 부분 필터링\n",
    "articles = soup.select('.news_tit')\n",
    "articles\n",
    "\n",
    "# 뉴스 제목 확인\n",
    "for i in range(10):\n",
    "    article = articles[i]\n",
    "    title = article.text\n",
    "    print(title)\n",
    "    \n",
    "# 뉴스 제목 데이터프레임 생성\n",
    "title_tot = pd.DataFrame([article.text for article in articles], columns=['title'])\n",
    "title_tot.head()"
   ]
  },
  {
   "cell_type": "code",
   "execution_count": 23,
   "id": "ced3f25f-518d-4f82-b0b7-503aa173b43f",
   "metadata": {},
   "outputs": [],
   "source": [
    "from bs4 import BeautifulSoup\n",
    "import requests\n",
    "import re\n",
    "import datetime\n",
    "from tqdm import tqdm\n",
    "import sys"
   ]
  },
  {
   "cell_type": "code",
   "execution_count": 24,
   "id": "65c2b7c0-3ea8-4d55-a681-7bc600a1f7a5",
   "metadata": {},
   "outputs": [],
   "source": [
    "def makePgNum(num):\n",
    "    if num == 1:\n",
    "        return num\n",
    "    elif num == 0:\n",
    "        return num+1\n",
    "    else:\n",
    "        return num+9*(num-1)\n",
    "\n",
    "# 크롤링할 url 생성하는 함수 만들기(검색어, 크롤링 시작 페이지, 크롤링 종료 페이지)\n",
    "\n",
    "def makeUrl(search, start_pg, end_pg):\n",
    "    if start_pg == end_pg:\n",
    "        start_page = makePgNum(start_pg)\n",
    "        url = \"https://search.naver.com/search.naver?where=news&sm=tab_pge&query=\" + search + \"&start=\" + str(start_page)\n",
    "        print(\"생성url: \", url)\n",
    "        return url\n",
    "    else:\n",
    "        urls = []\n",
    "        for i in range(start_pg, end_pg + 1):\n",
    "            page = makePgNum(i)\n",
    "            url = \"https://search.naver.com/search.naver?where=news&sm=tab_pge&query=\" + search + \"&start=\" + str(page)\n",
    "            urls.append(url)\n",
    "        print(\"생성url: \", urls)\n",
    "        return urls    \n",
    "\n",
    "# html에서 원하는 속성 추출하는 함수 만들기 (기사, 추출하려는 속성값)\n",
    "def news_attrs_crawler(articles,attrs):\n",
    "    attrs_content=[]\n",
    "    for i in articles:\n",
    "        attrs_content.append(i.attrs[attrs])\n",
    "    return attrs_content\n",
    "\n",
    "# ConnectionError방지\n",
    "headers = {\"User-Agent\": \"Mozilla/5.0 (Windows NT 10.0; Win64; x64) Chrome/98.0.4758.102\"}\n",
    "\n",
    "#html생성해서 기사크롤링하는 함수 만들기(url): 링크를 반환\n",
    "def articles_crawler(url):\n",
    "    #html 불러오기\n",
    "    original_html = requests.get(i,headers=headers)\n",
    "    html = BeautifulSoup(original_html.text, \"html.parser\")\n",
    "\n",
    "    url_naver = html.select(\"div.group_news > ul.list_news > li div.news_area > div.news_info > div.info_group > a.info\")\n",
    "    url = news_attrs_crawler(url_naver,'href')\n",
    "    return url"
   ]
  },
  {
   "cell_type": "code",
   "execution_count": 26,
   "id": "16cc0e3d-e151-47a7-8edf-305b5230cd33",
   "metadata": {},
   "outputs": [
    {
     "name": "stdin",
     "output_type": "stream",
     "text": [
      "검색할 키워드를 입력해주세요: 연두색번호판\n",
      "\n",
      "크롤링할 시작 페이지를 입력해주세요. ex)1(숫자만입력): 1\n"
     ]
    },
    {
     "name": "stdout",
     "output_type": "stream",
     "text": [
      "\n",
      "크롤링할 시작 페이지:  1 페이지\n"
     ]
    },
    {
     "name": "stdin",
     "output_type": "stream",
     "text": [
      "\n",
      "크롤링할 종료 페이지를 입력해주세요. ex)1(숫자만입력): 10\n"
     ]
    },
    {
     "name": "stdout",
     "output_type": "stream",
     "text": [
      "\n",
      "크롤링할 종료 페이지:  10 페이지\n",
      "생성url:  ['https://search.naver.com/search.naver?where=news&sm=tab_pge&query=연두색번호판&start=1', 'https://search.naver.com/search.naver?where=news&sm=tab_pge&query=연두색번호판&start=11', 'https://search.naver.com/search.naver?where=news&sm=tab_pge&query=연두색번호판&start=21', 'https://search.naver.com/search.naver?where=news&sm=tab_pge&query=연두색번호판&start=31', 'https://search.naver.com/search.naver?where=news&sm=tab_pge&query=연두색번호판&start=41', 'https://search.naver.com/search.naver?where=news&sm=tab_pge&query=연두색번호판&start=51', 'https://search.naver.com/search.naver?where=news&sm=tab_pge&query=연두색번호판&start=61', 'https://search.naver.com/search.naver?where=news&sm=tab_pge&query=연두색번호판&start=71', 'https://search.naver.com/search.naver?where=news&sm=tab_pge&query=연두색번호판&start=81', 'https://search.naver.com/search.naver?where=news&sm=tab_pge&query=연두색번호판&start=91']\n"
     ]
    },
    {
     "name": "stderr",
     "output_type": "stream",
     "text": [
      "100%|████████████████████████████████████| 160/160 [00:00<00:00, 1632819.08it/s]\n"
     ]
    }
   ],
   "source": [
    "search = input(\"검색할 키워드를 입력해주세요:\")\n",
    "#검색 시작할 페이지 입력\n",
    "page = int(input(\"\\n크롤링할 시작 페이지를 입력해주세요. ex)1(숫자만입력):\")) # ex)1 =1페이지,2=2페이지...\n",
    "print(\"\\n크롤링할 시작 페이지: \",page,\"페이지\")   \n",
    "#검색 종료할 페이지 입력\n",
    "page2 = int(input(\"\\n크롤링할 종료 페이지를 입력해주세요. ex)1(숫자만입력):\")) # ex)1 =1페이지,2=2페이지...\n",
    "print(\"\\n크롤링할 종료 페이지: \",page2,\"페이지\")   \n",
    "\n",
    "\n",
    "# naver url 생성\n",
    "url = makeUrl(search,page,page2)\n",
    "\n",
    "#뉴스 크롤러 실행\n",
    "news_titles = []\n",
    "news_url =[]\n",
    "news_contents =[]\n",
    "news_dates = []\n",
    "for i in url:\n",
    "    url = articles_crawler(url)\n",
    "    news_url.append(url)\n",
    "\n",
    "\n",
    "#제목, 링크, 내용 1차원 리스트로 꺼내는 함수 생성\n",
    "def makeList(newlist, content):\n",
    "    for i in content:\n",
    "        for j in i:\n",
    "            newlist.append(j)\n",
    "    return newlist\n",
    "\n",
    "    \n",
    "#제목, 링크, 내용 담을 리스트 생성\n",
    "news_url_1 = []\n",
    "\n",
    "#1차원 리스트로 만들기(내용 제외)\n",
    "makeList(news_url_1,news_url)\n",
    "\n",
    "#NAVER 뉴스만 남기기\n",
    "final_urls = []\n",
    "for i in tqdm(range(len(news_url_1))):\n",
    "    if \"news.naver.com\" in news_url_1[i]:\n",
    "        final_urls.append(news_url_1[i])\n",
    "    else:\n",
    "        pass"
   ]
  },
  {
   "cell_type": "code",
   "execution_count": 28,
   "id": "1259af1b-5e93-4192-bc8b-d5ce9955b150",
   "metadata": {},
   "outputs": [
    {
     "ename": "TabError",
     "evalue": "inconsistent use of tabs and spaces in indentation (<string>, line 36)",
     "output_type": "error",
     "traceback": [
      "  \u001b[36mFile \u001b[39m\u001b[32m<string>:36\u001b[39m\n\u001b[31m    \u001b[39m\u001b[31mnews_date = re.sub(pattern=pattern1,repl='',string=str(news_date))\u001b[39m\n                                                                      ^\n\u001b[31mTabError\u001b[39m\u001b[31m:\u001b[39m inconsistent use of tabs and spaces in indentation\n"
     ]
    }
   ],
   "source": [
    "# 뉴스 내용 크롤링\n",
    "\n",
    "for i in tqdm(final_urls):\n",
    "    #각 기사 html get하기\n",
    "    news = requests.get(i,headers=headers)\n",
    "    news_html = BeautifulSoup(news.text,\"html.parser\")\n",
    "    # 뉴스 제목 가져오기\n",
    "    title = news_html.select_one(\"#ct > div.media_end_head.go_trans > div.media_end_head_title > h2\")\n",
    "    if title == None:\n",
    "        title = news_html.select_one(\"#content > div.end_ct > div > h2\")\n",
    "    \n",
    "    # 뉴스 본문 가져오기\n",
    "    content = news_html.select(\"article#dic_area\")\n",
    "    if content == []:\n",
    "        content = news_html.select(\"#articeBody\")\n",
    "        \n",
    "    # 기사 텍스트만 가져오기\n",
    "    # list합치기\n",
    "    content = ''.join(str(content))\n",
    "\n",
    "    # html태그제거 및 텍스트 다듬기\n",
    "    pattern1 = '<[^>]*>'\n",
    "    title = re.sub(pattern=pattern1, repl='', string=str(title))\n",
    "    content = re.sub(pattern=pattern1, repl='', string=content)\n",
    "    pattern2 = \"\"\"[\\n\\n\\n\\n\\n// flash 오류를 우회하기 위한 함수 추가\\nfunction _flash_removeCallback() {}\"\"\"\n",
    "    content = content.replace(pattern2, '')\n",
    "\n",
    "    news_titles.append(title)\n",
    "    news_contents.append(content)\n",
    "\n",
    "    try:\n",
    "        html_date = news_html.select_one(\"div#ct> div.media_end_head.go_trans > div.media_end_head_info.nv_notrans > div.media_end_head_info_datestamp > div > span\")\n",
    "        news_date = html_date.attrs['data-date-time']\n",
    "    except AttributeError:\n",
    "        news_date = news_html.select_one(\"#content > div.end_ct > div > div.article_info > span > em\")\n",
    "\t\tnews_date = re.sub(pattern=pattern1,repl='',string=str(news_date))\n",
    "    # 날짜 가져오기\n",
    "    news_dates.append(news_date)\n",
    "\n",
    "print(\"검색된 기사 갯수: 총 \",(page2+1-page)*10,'개')\n",
    "print(\"\\n[뉴스 제목]\")\n",
    "print(news_titles)\n",
    "print(\"\\n[뉴스 링크]\")\n",
    "print(final_urls)\n",
    "print(\"\\n[뉴스 내용]\")\n",
    "print(news_contents)\n",
    "\n",
    "print('news_title: ',len(news_titles))\n",
    "print('news_url: ',len(final_urls))\n",
    "print('news_contents: ',len(news_contents))\n",
    "print('news_dates: ',len(news_dates))"
   ]
  },
  {
   "cell_type": "code",
   "execution_count": null,
   "id": "d90f1a6d-8ec4-4f25-9a99-6a7d781f88dd",
   "metadata": {},
   "outputs": [],
   "source": []
  }
 ],
 "metadata": {
  "kernelspec": {
   "display_name": "Python 3 (ipykernel)",
   "language": "python",
   "name": "python3"
  },
  "language_info": {
   "codemirror_mode": {
    "name": "ipython",
    "version": 3
   },
   "file_extension": ".py",
   "mimetype": "text/x-python",
   "name": "python",
   "nbconvert_exporter": "python",
   "pygments_lexer": "ipython3",
   "version": "3.12.9"
  }
 },
 "nbformat": 4,
 "nbformat_minor": 5
}

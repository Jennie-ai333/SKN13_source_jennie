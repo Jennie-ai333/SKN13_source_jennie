{
 "cells": [
  {
   "cell_type": "code",
   "execution_count": 1,
   "id": "a678c2a7-b906-4752-a902-d69760eb10fb",
   "metadata": {},
   "outputs": [],
   "source": [
    "import datetime"
   ]
  },
  {
   "cell_type": "code",
   "execution_count": 6,
   "id": "0814ce18-2810-4807-9073-fdacf1444830",
   "metadata": {},
   "outputs": [
    {
     "name": "stdin",
     "output_type": "stream",
     "text": [
      "입력:  안녕\n"
     ]
    }
   ],
   "source": [
    "입력 = input(\"입력: \")"
   ]
  },
  {
   "cell_type": "code",
   "execution_count": 7,
   "id": "3880454e-8eee-4081-a201-c54dcb7dd8e8",
   "metadata": {},
   "outputs": [
    {
     "name": "stdout",
     "output_type": "stream",
     "text": [
      "안녕하세요.\n"
     ]
    }
   ],
   "source": [
    "if \"안녕\" in 입력:\n",
    "    print(\"안녕하세요.\")\n",
    "elif \"몇 시\" in 입력:\n",
    "    now = datetime.datetime.now()\n",
    "    print(f\"지금은 {now.hour}입니다.\")\n",
    "else:\n",
    "    print(입력)"
   ]
  },
  {
   "cell_type": "code",
   "execution_count": 14,
   "id": "04892f24-4a77-49e1-89da-6c46c229b6ad",
   "metadata": {},
   "outputs": [
    {
     "name": "stdin",
     "output_type": "stream",
     "text": [
      "정수를 입력해주세요 273\n"
     ]
    },
    {
     "name": "stdout",
     "output_type": "stream",
     "text": [
      "273는 2로 나누어 떨어지는 숫자가 아닙니다\n",
      "273는 3로 나누어 떨어지는 숫자입니다\n",
      "273는 4로 나누어 떨어지는 숫자가 아닙니다\n"
     ]
    }
   ],
   "source": [
    "정수 = int(input(\"정수를 입력해주세요\"))\n",
    "if 정수 % 2 == 0:\n",
    "    print(f\"{정수}는 2로 나누어 떨어지는 숫자입니다\")\n",
    "else:\n",
    "    print(f\"{정수}는 2로 나누어 떨어지는 숫자가 아닙니다\")\n",
    "if 정수 % 3 == 0:\n",
    "    print(f\"{정수}는 3로 나누어 떨어지는 숫자입니다\")\n",
    "else:\n",
    "    print(f\"{정수}는 3로 나누어 떨어지는 숫자가 아닙니다\")    \n",
    "if 정수 % 4 == 0:\n",
    "    print(f\"{정수}는 4로 나누어 떨어지는 숫자입니다\")\n",
    "else:\n",
    "    print(f\"{정수}는 4로 나누어 떨어지는 숫자가 아닙니다\")  "
   ]
  },
  {
   "cell_type": "code",
   "execution_count": null,
   "id": "2915272a-bb1e-439b-bc95-752c0848a1dc",
   "metadata": {},
   "outputs": [],
   "source": []
  }
 ],
 "metadata": {
  "kernelspec": {
   "display_name": "Python 3 (ipykernel)",
   "language": "python",
   "name": "python3"
  },
  "language_info": {
   "codemirror_mode": {
    "name": "ipython",
    "version": 3
   },
   "file_extension": ".py",
   "mimetype": "text/x-python",
   "name": "python",
   "nbconvert_exporter": "python",
   "pygments_lexer": "ipython3",
   "version": "3.12.9"
  }
 },
 "nbformat": 4,
 "nbformat_minor": 5
}

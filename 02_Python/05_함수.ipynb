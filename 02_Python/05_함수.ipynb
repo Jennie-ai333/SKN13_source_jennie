{
 "cells": [
  {
   "cell_type": "markdown",
   "metadata": {
    "slideshow": {
     "slide_type": "slide"
    }
   },
   "source": [
    "# 함수란\n",
    "\n",
    "-   함수란 **입력변수와 출력변수간의 대응 관계**를 정의한 것을 말한다.\n",
    "-   프로그램에서 함수란 하나의 작업, 기능, 동작을 처리하기 위한 사용자 정의 연산자라고 할 수 있다.\n",
    "    -   함수는 값을 **입력(Input)을** 받아서 **처리 후** 처리결과를 **출력(Output)하는** 일련의 과정을 정의한 것을 말한다.\n",
    "    -   만들어진 함수는 동일한 작업이 필요할 때 마다 재사용될 수 있다.\n",
    "    -   함수를 구현해 파이썬 실행환경에 등록하는 것을 **함수를 정의(define)한다** 라고 한다.\n",
    "    -   정의된 함수를 사용하는 것을 **함수를 호출(call)한다** 라고 한다.\n",
    "    -   파이썬에서 함수는 일급 시민 객체(First Class Citizen/First Class Object)이다.\n",
    "\n",
    "> -   **일급 시민 객체 란**  \n",
    ">      – **변수에 할당할 수 있고, 함수의 입력값으로 전달할 수 있고, 함수의 반환 값으로 반환할 수 있는 객체를 말한다.**\n",
    ">\n",
    "> -   일급시민객체는 일급시민 이란 말에서 유래된 용어이다.\n",
    ">          - 일급 시민이란 자유롭게 거주하며 일을 할 수 있고, 출입국의 자유를 가지며 투표의 자유를 가지는 시민을 의미한다.\n",
    ">          - 일급 시민 객체란 적용 가능한 연산을 모두 지원하는 객체를 뜻한다."
   ]
  },
  {
   "cell_type": "markdown",
   "metadata": {
    "slideshow": {
     "slide_type": "slide"
    }
   },
   "source": [
    "## 함수 정의\n",
    "\n",
    "-   새로운 함수를 만드는 것을 함수의 정의라고 한다.\n",
    "-   함수를 구현하고 그것을 **파이썬 실행환경에** 새로운 기능으로 **등록하는** 과정을 말한다.\n",
    "\n",
    "### 함수 구현\n",
    "\n",
    "-   함수의 선언부와 구현부로 나누어진다\n",
    "    -   함수의 선언부(Header) : 함수의 이름과 입력값을 받을 변수(Parameter, 매개변수)를 지정한다.\n",
    "    -   함수의 구현부(Body) : 함수가 호출 되었을 때 실행할 실행문들을 순서대로 작성한다.\n"
   ]
  },
  {
   "cell_type": "markdown",
   "metadata": {
    "slideshow": {
     "slide_type": "fragment"
    }
   },
   "source": [
    "```python\n",
    "def 함수이름( [변수, 변수, ..]):  # 선언 부(Header) # () 필수사항 []선택사항\n",
    "    # 구현 부(body)\n",
    "    실행구문1\n",
    "    실행구문2\n",
    "    실행구문3\n",
    "    …\n",
    "    [return [결과값]]\n",
    "```\n",
    "\n",
    "-   함수 선언 마지막에는 `:` 을 넣어 구현부와 구분한다.\n",
    "-   Parameter(매개변수)는 argument(호출하는 곳에서 전달하는 함수의 입력값)를 받기 위한 변수로 0개 이상 선언할 수 있다. #argument 전달인자\n",
    "-   함수의 실행구문은 코드블록으로 들여쓰기로 블록을 묶어준다.\n",
    "    -   들여쓰기는 보통 공백 4칸을 사용한다.\n",
    "-   함수의 처리 결과값이 있을 경우 **return 구문**을 넣고 없을 경우 return은 생략할 수 있다.\n",
    "-   **함수이름 관례**\n",
    "    -   함수이름은 보통 동사형으로 만든다.\n",
    "    -   Snake 표기법사용: 모두 소문자로 하고 여러단어로 구성할 경우 각 단어들을 `_`로 연결한다. (변수와 동일)\n"
   ]
  },
  {
   "cell_type": "code",
   "execution_count": 6,
   "metadata": {
    "slideshow": {
     "slide_type": "fragment"
    }
   },
   "outputs": [],
   "source": [
    "# 함수 정의\n",
    "## 파라미터(입력), 리턴값(출력) 모두 없는 함수. \n",
    "def greet(): # 선언부(Header)\n",
    "    print(\"안녕하세요.\")\n",
    "    print(\"반갑습니다.\") "
   ]
  },
  {
   "cell_type": "code",
   "execution_count": 7,
   "metadata": {},
   "outputs": [
    {
     "name": "stdout",
     "output_type": "stream",
     "text": [
      "안녕하세요.\n",
      "반갑습니다.\n"
     ]
    }
   ],
   "source": [
    "greet() #호출: 함수이름([입력값 들])"
   ]
  },
  {
   "cell_type": "code",
   "execution_count": 4,
   "metadata": {
    "slideshow": {
     "slide_type": "fragment"
    }
   },
   "outputs": [
    {
     "name": "stdout",
     "output_type": "stream",
     "text": [
      "안녕\n"
     ]
    }
   ],
   "source": [
    "print(\"안녕\") # 내장함수"
   ]
  },
  {
   "cell_type": "code",
   "execution_count": 10,
   "metadata": {},
   "outputs": [],
   "source": [
    "# 파라미터가 있는 함수\n",
    "def greet(name):\n",
    "    print(f\"{name}님 안녕하세요.\")"
   ]
  },
  {
   "cell_type": "code",
   "execution_count": 13,
   "metadata": {},
   "outputs": [
    {
     "name": "stdout",
     "output_type": "stream",
     "text": [
      "뫄뫄님 안녕하세요.\n"
     ]
    }
   ],
   "source": [
    "greet(\"뫄뫄\") # 함수 parameter에 전달하는 값 argument 는 () 안에 넣어 전달."
   ]
  },
  {
   "cell_type": "code",
   "execution_count": 14,
   "metadata": {
    "collapsed": true,
    "jupyter": {
     "outputs_hidden": true
    },
    "scrolled": true
   },
   "outputs": [
    {
     "ename": "TypeError",
     "evalue": "greet() missing 1 required positional argument: 'name'",
     "output_type": "error",
     "traceback": [
      "\u001b[31m---------------------------------------------------------------\u001b[39m",
      "\u001b[31mTypeError\u001b[39m                     Traceback (most recent call last)",
      "\u001b[36mCell\u001b[39m\u001b[36m \u001b[39m\u001b[32mIn[14]\u001b[39m\u001b[32m, line 1\u001b[39m\n\u001b[32m----> \u001b[39m\u001b[32m1\u001b[39m \u001b[43mgreet\u001b[49m\u001b[43m(\u001b[49m\u001b[43m)\u001b[49m\n",
      "\u001b[31mTypeError\u001b[39m: greet() missing 1 required positional argument: 'name'"
     ]
    }
   ],
   "source": [
    "greet()"
   ]
  },
  {
   "cell_type": "code",
   "execution_count": 15,
   "metadata": {},
   "outputs": [],
   "source": [
    "def greet2(name, age, address):\n",
    "    print(f\"{address}에 사는 {age}세의 {name}님 환영합니다.\")"
   ]
  },
  {
   "cell_type": "code",
   "execution_count": 16,
   "metadata": {},
   "outputs": [
    {
     "name": "stdout",
     "output_type": "stream",
     "text": [
      "대구에 사는 33세의 구자욱님 환영합니다.\n"
     ]
    }
   ],
   "source": [
    "greet2('구자욱','33', '대구')"
   ]
  },
  {
   "cell_type": "code",
   "execution_count": null,
   "metadata": {},
   "outputs": [],
   "source": []
  },
  {
   "cell_type": "code",
   "execution_count": null,
   "metadata": {},
   "outputs": [],
   "source": []
  },
  {
   "cell_type": "markdown",
   "metadata": {
    "slideshow": {
     "slide_type": "subslide"
    }
   },
   "source": [
    "## 함수 parameter와 return value\n",
    "\n",
    "-   **parameter:** 함수가 호출하는 곳으로 부터 입력받는 값을 저장하는 변수. # name, age, address\n",
    "    -   **arugument:**  호출할 때 파라미터에 전달 하는 값.\n",
    "-   **return value:** 함수의 처리결과로 호출하는 곳에 전달(반환)하는 값.\n",
    "\n",
    "### return value(반환값)\n",
    "\n",
    "-   함수가 호출받아 처리한 결과값으로 호출한 곳으로 반환하는 값이다.\n",
    "-   함수 구현부에 return \\[값\\] 구문을 사용해 반환한다.\n",
    "    -   **return**\n",
    "        -   함수가 정상적으로 끝났고 호출한곳으로 돌아간다.\n",
    "        -   보통은 함수 구현의 마지막에 넣지만 경우에 따라 중간에 올 수 있다.\n",
    "    -   return 반환값\n",
    "        -   호출한 곳으로 값을 가지고 돌아간다. (반환한다)\n",
    "        -   반환값이 없을 경우 None을 반환한다.\n",
    "        -   함수에 return 구문이 없을 경우 마지막에 return None이 실행된다.\n",
    "-   여러개의 값을 return 하는 경우 자료구조로 묶어서 전달해야한다. # 이때 많이 쓰는 게 tuple임 \n",
    "    -   함수는 한개의 값만 반환할 수 있다.\n"
   ]
  },
  {
   "cell_type": "code",
   "execution_count": 17,
   "metadata": {
    "slideshow": {
     "slide_type": "fragment"
    }
   },
   "outputs": [],
   "source": [
    "def greet3(name):\n",
    "    return f\"{name}님 환영합니다.\""
   ]
  },
  {
   "cell_type": "code",
   "execution_count": 19,
   "metadata": {
    "slideshow": {
     "slide_type": "fragment"
    }
   },
   "outputs": [],
   "source": [
    "s = greet3(\"홍길동\")"
   ]
  },
  {
   "cell_type": "code",
   "execution_count": 20,
   "metadata": {},
   "outputs": [
    {
     "data": {
      "text/plain": [
       "'홍길동님 환영합니다.'"
      ]
     },
     "execution_count": 20,
     "metadata": {},
     "output_type": "execute_result"
    }
   ],
   "source": [
    "s"
   ]
  },
  {
   "cell_type": "code",
   "execution_count": 21,
   "metadata": {},
   "outputs": [
    {
     "data": {
      "text/plain": [
       "'이순신님 환영합니다.'"
      ]
     },
     "execution_count": 21,
     "metadata": {},
     "output_type": "execute_result"
    }
   ],
   "source": [
    "greet3(\"이순신\")"
   ]
  },
  {
   "cell_type": "code",
   "execution_count": 31,
   "metadata": {},
   "outputs": [],
   "source": [
    "def calculate(num1, num2):\n",
    "    r1 = num1 + num2\n",
    "    r2 = num1 - num2\n",
    "    r3 = num1 * num2\n",
    "    r4 = num1 / num2\n",
    "    #모든 계산 결과를 반환.\n",
    "    # return [r1, r2, r3, r4] # 리스트로 묶어서 결과값 도출\n",
    "    return r1, r2, r3, r4 # tuple 로 도출"
   ]
  },
  {
   "cell_type": "code",
   "execution_count": 32,
   "metadata": {},
   "outputs": [
    {
     "data": {
      "text/plain": [
       "(15, 5, 50, 2.0)"
      ]
     },
     "execution_count": 32,
     "metadata": {},
     "output_type": "execute_result"
    }
   ],
   "source": [
    "result = calculate(10, 5)\n",
    "result"
   ]
  },
  {
   "cell_type": "code",
   "execution_count": 38,
   "metadata": {},
   "outputs": [],
   "source": [
    "def calculate(num1, num2):\n",
    "    r1 = num1 + num2\n",
    "    r2 = num1 - num2\n",
    "    r3 = num1 * num2\n",
    "    r4 = num1 / num2\n",
    "    # 모든 계산 결과를 반환.\n",
    "    # return [r1, r2, r3, r4] # 리스트로 묶어서 결과값 도출\n",
    "    # return r1, r2, r3, r4 # tuple 로 도출\n",
    "    return dict(plus=r1, minus=r2, multiply=r3, divide=r4)"
   ]
  },
  {
   "cell_type": "code",
   "execution_count": 34,
   "metadata": {},
   "outputs": [
    {
     "data": {
      "text/plain": [
       "{'plus': 15, 'minus': 5, 'multiply': 50, 'divide': 2.0}"
      ]
     },
     "execution_count": 34,
     "metadata": {},
     "output_type": "execute_result"
    }
   ],
   "source": [
    "result = calculate(10, 5)\n",
    "result"
   ]
  },
  {
   "cell_type": "code",
   "execution_count": 105,
   "metadata": {},
   "outputs": [],
   "source": [
    "def divide(num1, num2):\n",
    "    if num2 == 0:\n",
    "        return # 함수 실행을 종료하고 호출한 곳으로 돌아가라.\n",
    "    return num1 / num2"
   ]
  },
  {
   "cell_type": "code",
   "execution_count": 103,
   "metadata": {},
   "outputs": [],
   "source": [
    "# def divide(num1, num2):\n",
    "#     return num1 / num2"
   ]
  },
  {
   "cell_type": "code",
   "execution_count": 112,
   "metadata": {},
   "outputs": [
    {
     "name": "stdout",
     "output_type": "stream",
     "text": [
      "None\n",
      "계산실패\n"
     ]
    }
   ],
   "source": [
    "result = divide(10, 0)\n",
    "print(result)\n",
    "if result is None:\n",
    "    print(\"계산실패\")\n",
    "else:\n",
    "    print(result)"
   ]
  },
  {
   "cell_type": "code",
   "execution_count": 110,
   "metadata": {},
   "outputs": [
    {
     "data": {
      "text/plain": [
       "5.0"
      ]
     },
     "execution_count": 110,
     "metadata": {},
     "output_type": "execute_result"
    }
   ],
   "source": [
    "divide(10, 2)"
   ]
  },
  {
   "cell_type": "code",
   "execution_count": null,
   "metadata": {},
   "outputs": [],
   "source": []
  },
  {
   "cell_type": "code",
   "execution_count": null,
   "metadata": {},
   "outputs": [],
   "source": [
    "result = divide(10, 2) # none 반환\n",
    "# print(result)"
   ]
  },
  {
   "cell_type": "code",
   "execution_count": null,
   "metadata": {},
   "outputs": [],
   "source": []
  },
  {
   "cell_type": "markdown",
   "metadata": {
    "slideshow": {
     "slide_type": "slide"
    }
   },
   "source": [
    "## Parameter (매개변수)\n",
    "\n",
    "### 기본값이 있는 Parameter\n",
    "\n",
    "-   매개변수에 값을 대입하는 구문을 작성하면 호출할 때 argument 가 넘어오지 않으면 대입해놓은 기본값을 사용한다.\n",
    "-   함수 정의시 기본값 없는 매개변수, 있는 매개변수를 같이 선언할 수 있다.\n",
    "    -   **이때 기본값 없는 매개변수들을 선언하고 그 다음에 기본값 있는 매개변수들을 선언한다.**\n"
   ]
  },
  {
   "cell_type": "code",
   "execution_count": 68,
   "metadata": {},
   "outputs": [
    {
     "name": "stdout",
     "output_type": "stream",
     "text": [
      "이름: 홍길동\n"
     ]
    }
   ],
   "source": [
    "def print_info(name):\n",
    "    print(f\"이름: {name}\")\n",
    "\n",
    "print_info(\"홍길동\")"
   ]
  },
  {
   "cell_type": "code",
   "execution_count": 73,
   "metadata": {},
   "outputs": [],
   "source": [
    "def print_info2(name=None): #parameter 에 값 대입 . 기본 값이 있는 parameter \n",
    "    print(f\"이름: {name}\")"
   ]
  },
  {
   "cell_type": "code",
   "execution_count": 74,
   "metadata": {},
   "outputs": [
    {
     "name": "stdout",
     "output_type": "stream",
     "text": [
      "이름: 이순신\n"
     ]
    }
   ],
   "source": [
    "print_info2(\"이순신\")"
   ]
  },
  {
   "cell_type": "code",
   "execution_count": 75,
   "metadata": {},
   "outputs": [
    {
     "name": "stdout",
     "output_type": "stream",
     "text": [
      "이름: None\n"
     ]
    }
   ],
   "source": [
    "print_info2()"
   ]
  },
  {
   "cell_type": "code",
   "execution_count": 76,
   "metadata": {},
   "outputs": [],
   "source": [
    "def print_info2(name=None):\n",
    "    if name is None:\n",
    "        print(\"입력된 값이 없다.\")\n",
    "    print(f\"이름: {name}\")"
   ]
  },
  {
   "cell_type": "code",
   "execution_count": 77,
   "metadata": {},
   "outputs": [
    {
     "name": "stdout",
     "output_type": "stream",
     "text": [
      "입력된 값이 없다.\n",
      "이름: None\n"
     ]
    }
   ],
   "source": [
    "print_info2()"
   ]
  },
  {
   "cell_type": "code",
   "execution_count": 78,
   "metadata": {},
   "outputs": [],
   "source": [
    "# 이때 기본값 없는 매개변수들을 선언하고 그 다음에 기본값 있는 매개변수들을 선언한다."
   ]
  },
  {
   "cell_type": "code",
   "execution_count": 81,
   "metadata": {},
   "outputs": [],
   "source": [
    "def print_info(name, age, address, tall=0, weight=0):\n",
    "    print(name, age, address, tall, weight)"
   ]
  },
  {
   "cell_type": "code",
   "execution_count": 82,
   "metadata": {},
   "outputs": [
    {
     "name": "stdout",
     "output_type": "stream",
     "text": [
      "이순신 20 서울 0 0\n"
     ]
    }
   ],
   "source": [
    "print_info(\"이순신\", 20, \"서울\")"
   ]
  },
  {
   "cell_type": "code",
   "execution_count": 83,
   "metadata": {},
   "outputs": [
    {
     "name": "stdout",
     "output_type": "stream",
     "text": [
      "이순신 20 서울 182.6 0\n"
     ]
    }
   ],
   "source": [
    "print_info(\"이순신\", 20, \"서울\", 182.6)"
   ]
  },
  {
   "cell_type": "code",
   "execution_count": 84,
   "metadata": {},
   "outputs": [
    {
     "ename": "SyntaxError",
     "evalue": "parameter without a default follows parameter with a default (861858640.py, line 1)",
     "output_type": "error",
     "traceback": [
      "  \u001b[36mCell\u001b[39m\u001b[36m \u001b[39m\u001b[32mIn[84]\u001b[39m\u001b[32m, line 1\u001b[39m\n\u001b[31m    \u001b[39m\u001b[31mdef print_info2(name, age=-1, address, tall=0, weight=0):\u001b[39m\n                                  ^\n\u001b[31mSyntaxError\u001b[39m\u001b[31m:\u001b[39m parameter without a default follows parameter with a default\n"
     ]
    }
   ],
   "source": [
    "def print_info2(name, age=-1, address, tall=0, weight=0):\n",
    "    print(name, age, address, tall, weight)"
   ]
  },
  {
   "cell_type": "code",
   "execution_count": 89,
   "metadata": {},
   "outputs": [],
   "source": [
    "def print_info2(name, address, age=-1, tall=0, weight=0): #default 값 있는 애들 뒤로 선언해야함  # parameter without a default follows parameter with a default\n",
    "    print(name, age, address, tall, weight)"
   ]
  },
  {
   "cell_type": "code",
   "execution_count": 90,
   "metadata": {},
   "outputs": [
    {
     "name": "stdout",
     "output_type": "stream",
     "text": [
      "이순신 -1 서울 0 0\n"
     ]
    }
   ],
   "source": [
    "print_info2(\"이순신\", \"서울\")"
   ]
  },
  {
   "cell_type": "code",
   "execution_count": null,
   "metadata": {},
   "outputs": [],
   "source": []
  },
  {
   "cell_type": "markdown",
   "metadata": {
    "slideshow": {
     "slide_type": "subslide"
    }
   },
   "source": [
    "### Positional argument와 Keyword argument\n",
    "\n",
    "-   Argument는 함수/메소드를 호출할 때 전달하는 입력값을 말한다.\n",
    "    -   Argument는 전달하는 값이고 Parameter는 그 값을 저장하는 변수\n",
    "-   Positional argument\n",
    "    -   함수 호출 할때 argument(전달인자)를 Parameter `순서에 맞춰` 값을 넣어서 호출.\n",
    "-   keyword argument\n",
    "    -   함수 호출할 때 argument를 `Parameter변수명 = 전달할값` 형식으로 선언해서 어떤 parameter에 어떤 값을 전달할 것인지 지정해서 호출.\n",
    "    -   순서와 상관없이 호출하는 것이 가능.\n",
    "    -   parameter가 많고 대부분 기본값이 있는 함수 호출 할 때 뒤 쪽에 선언된 parameter에만 값을 전달하고 싶을 경우 유용하다.\n"
   ]
  },
  {
   "cell_type": "code",
   "execution_count": 91,
   "metadata": {
    "slideshow": {
     "slide_type": "fragment"
    }
   },
   "outputs": [],
   "source": [
    "def print_info(name, age, address, tall=0, weight=0):\n",
    "    print(name, age, address, tall, weight)"
   ]
  },
  {
   "cell_type": "code",
   "execution_count": 93,
   "metadata": {},
   "outputs": [
    {
     "name": "stdout",
     "output_type": "stream",
     "text": [
      "홍길동 20 서울 0 0\n"
     ]
    }
   ],
   "source": [
    "print_info(\"홍길동\", 20, \"서울\") # positional argument (순서에 맞춰서 값을 전달)"
   ]
  },
  {
   "cell_type": "code",
   "execution_count": 94,
   "metadata": {},
   "outputs": [
    {
     "ename": "TypeError",
     "evalue": "print_info() missing 1 required positional argument: 'address'",
     "output_type": "error",
     "traceback": [
      "\u001b[31m---------------------------------------------------------------\u001b[39m",
      "\u001b[31mTypeError\u001b[39m                     Traceback (most recent call last)",
      "\u001b[36mCell\u001b[39m\u001b[36m \u001b[39m\u001b[32mIn[94]\u001b[39m\u001b[32m, line 1\u001b[39m\n\u001b[32m----> \u001b[39m\u001b[32m1\u001b[39m \u001b[43mprint_info\u001b[49m\u001b[43m(\u001b[49m\u001b[33;43m\"\u001b[39;49m\u001b[33;43m홍길동\u001b[39;49m\u001b[33;43m\"\u001b[39;49m\u001b[43m,\u001b[49m\u001b[43m \u001b[49m\u001b[32;43m20\u001b[39;49m\u001b[43m)\u001b[49m\n",
      "\u001b[31mTypeError\u001b[39m: print_info() missing 1 required positional argument: 'address'"
     ]
    }
   ],
   "source": [
    "print_info(\"홍길동\", 20) #missing 1 required positional argument"
   ]
  },
  {
   "cell_type": "code",
   "execution_count": 97,
   "metadata": {},
   "outputs": [
    {
     "name": "stdout",
     "output_type": "stream",
     "text": [
      "이순신 40 인천 190.2 0\n"
     ]
    }
   ],
   "source": [
    "print_info(name=\"이순신\", age=40, address=\"인천\", tall=190.2) # keyword argument: 파라미터 이름 = 전달할 값"
   ]
  },
  {
   "cell_type": "code",
   "execution_count": 98,
   "metadata": {},
   "outputs": [],
   "source": [
    "#기본값이 있는 parameter 때문에 keyword argument 가 나왔다 \n",
    "def print_info(name=None, age=None, address=None, tall=0, weight=0):\n",
    "    print(name, age, address, tall, weight)"
   ]
  },
  {
   "cell_type": "code",
   "execution_count": 99,
   "metadata": {},
   "outputs": [
    {
     "name": "stdout",
     "output_type": "stream",
     "text": [
      "None None None 0 0\n"
     ]
    }
   ],
   "source": [
    "print_info()"
   ]
  },
  {
   "cell_type": "code",
   "execution_count": 113,
   "metadata": {},
   "outputs": [
    {
     "name": "stdout",
     "output_type": "stream",
     "text": [
      "None None None 0 70\n"
     ]
    }
   ],
   "source": [
    "print_info(weight=70)"
   ]
  },
  {
   "cell_type": "markdown",
   "metadata": {
    "slideshow": {
     "slide_type": "subslide"
    }
   },
   "source": [
    "### 가변인자 (Var args, Variable length argument) 파라미터 # length - 개수\n",
    "\n",
    "-   호출하는 쪽에서 argument로 0 ~ n개의 값을 나열해서 여러개의 값들을 전달하면 **tuple이나 dictionary로 묶어서** 받을 수있도록 선언하는 parameter\n",
    "    -   positial argument로 전달하는 것과 keyword argument로 전달되는 값을 받는 두가지 방식이 있다.\n",
    "-   **\\*변수명**: **positional argument**를 개수와 상관없이 하나의 변수로 받을 수 있도록 선언하는 가변인자.\n",
    "    -   전달된 값들은 tuple로 받아서 처리한다.\n",
    "    -   관례적으로 변수명은 \\*args 를 사용한다.\n",
    "-   **\\*\\*변수명**: **keyword argument**를 개수와 상관없이 하나의 변수로 받을 수 있도록 선언하는 가변인자.\n",
    "    -   전달된 값들은 dictionary로 받아서 처리한다.\n",
    "    -   관례적으로 변수명은 \\*\\*kwargs 를 사용한다.\n",
    "-   하나의 함수에 가변인자는 \\* 하나, \\*\\* 두개짜리 각각 한개씩만 선언할 수 있다.\n",
    "-   하나의 함수에 위치 가변 인자와 키워드 가변 인자를 하나씩만 선언 할 수있다.\n",
    "-   하나의 함수에 같이 선언할 경우 위치 가변인자, 키워드 가변인자 순서로 하나씩만 작성할 수 있다.\n",
    "-   일반 파라미터는 위치 가변인자 앞이나 뒤에 작성할 수있다.\n",
    "-   만약 뒤에 작성한 경우 함수 호출시 일반파라미터는 keyword argument 방식으로 호출해야 한다.\n",
    "-   키워드 가변인자 뒤에는 일반 파라미터를 작성할 수 없다.\n",
    "\n"
   ]
  },
  {
   "cell_type": "code",
   "execution_count": 1,
   "metadata": {
    "slideshow": {
     "slide_type": "fragment"
    }
   },
   "outputs": [],
   "source": [
    "def test(a=[1, 2, 3, 4]):\n",
    "    pass\n",
    "\n",
    "test([1, 2, 3, 4])"
   ]
  },
  {
   "cell_type": "code",
   "execution_count": 8,
   "metadata": {},
   "outputs": [],
   "source": [
    "def test(*a): # *a : 가변인자\n",
    "    pass\n",
    "\n",
    "test(1, 2, 3, 4) #튜플로 # parameter 가 네개인것처럼 \n",
    "# 개수는 호출하는 쪽에서 결정\n",
    "# a는 튜플타입\n",
    "# print(type(a))"
   ]
  },
  {
   "cell_type": "code",
   "execution_count": 26,
   "metadata": {},
   "outputs": [
    {
     "name": "stdout",
     "output_type": "stream",
     "text": [
      "<class 'tuple'> (1, 2, 3, 4)\n",
      "<class 'dict'> {'name': '이순신', 'age': 30}\n"
     ]
    }
   ],
   "source": [
    "def test(*a, **b):\n",
    "    print(type(a),a)\n",
    "    print(type(b),b)\n",
    "\n",
    "test(1, 2, 3, 4, name=\"이순신\", age=30) # 키워드 인자 받을 수 있는 것은 **b \n",
    "# **kwarg 는 dictionary로 받아서 처리한다\n",
    "# **b 뒤에는 다른거 못들어옴, 마지막으로 작성해야한다.\n",
    "# *a 앞 뒤에 다 쓸 수 있음"
   ]
  },
  {
   "cell_type": "code",
   "execution_count": 12,
   "metadata": {},
   "outputs": [
    {
     "name": "stdout",
     "output_type": "stream",
     "text": [
      "<class 'tuple'> (1, 2)\n",
      "<class 'dict'> {'name': '이순신', 'age': 30, 'addr': '서울'}\n"
     ]
    }
   ],
   "source": [
    "test(1, 2, name=\"이순신\", age=30, addr=\"서울\")"
   ]
  },
  {
   "cell_type": "code",
   "execution_count": 16,
   "metadata": {},
   "outputs": [
    {
     "data": {
      "text/plain": [
       "21"
      ]
     },
     "execution_count": 16,
     "metadata": {},
     "output_type": "execute_result"
    }
   ],
   "source": [
    "# 숫자들의 합계를 계산하는 함수\n",
    "def my_sum(*nums):\n",
    "    result = 0\n",
    "    for v in nums:\n",
    "        result += v\n",
    "    return result\n",
    "\n",
    "\n",
    "a = my_sum(1, 2, 3, 4, 5, 6)\n",
    "a"
   ]
  },
  {
   "cell_type": "code",
   "execution_count": 22,
   "metadata": {},
   "outputs": [
    {
     "name": "stdout",
     "output_type": "stream",
     "text": [
      "Help on built-in function print in module builtins:\n",
      "\n",
      "print(*args, sep=' ', end='\\n', file=None, flush=False)\n",
      "    Prints the values to a stream, or to sys.stdout by default.\n",
      "\n",
      "    sep\n",
      "      string inserted between values, default a space.\n",
      "    end\n",
      "      string appended after the last value, default a newline.\n",
      "    file\n",
      "      a file-like object (stream); defaults to the current sys.stdout.\n",
      "    flush\n",
      "      whether to forcibly flush the stream.\n",
      "\n"
     ]
    }
   ],
   "source": [
    "help(print)\n",
    "# parameter 설명\n",
    "# *arg 가변인자 아무거나 다 줘"
   ]
  },
  {
   "cell_type": "code",
   "execution_count": 31,
   "metadata": {},
   "outputs": [
    {
     "name": "stdout",
     "output_type": "stream",
     "text": [
      "안녕 홍길동 , \n"
     ]
    }
   ],
   "source": [
    "print(\"안녕\", \"홍길동\", \", \")  # 다 가변인자 *arg"
   ]
  },
  {
   "cell_type": "code",
   "execution_count": 33,
   "metadata": {},
   "outputs": [
    {
     "name": "stdout",
     "output_type": "stream",
     "text": [
      "안녕, 홍길동\n"
     ]
    }
   ],
   "source": [
    "print(\"안녕\", \"홍길동\", sep=\", \") # parameter에 sep 을 넣어줌"
   ]
  },
  {
   "cell_type": "code",
   "execution_count": 34,
   "metadata": {},
   "outputs": [],
   "source": [
    "def func(*arg, **kwarg):\n",
    "    pass\n",
    "\n",
    "def func(a, b, c, d, *arg, **kwarg):\n",
    "    pass"
   ]
  },
  {
   "cell_type": "code",
   "execution_count": null,
   "metadata": {},
   "outputs": [],
   "source": []
  },
  {
   "cell_type": "code",
   "execution_count": 32,
   "metadata": {},
   "outputs": [
    {
     "data": {
      "text/plain": [
       "\u001b[31mSignature:\u001b[39m print(*args, sep=\u001b[33m' '\u001b[39m, end=\u001b[33m'\\n'\u001b[39m, file=\u001b[38;5;28;01mNone\u001b[39;00m, flush=\u001b[38;5;28;01mFalse\u001b[39;00m)\n",
       "\u001b[31mDocstring:\u001b[39m\n",
       "Prints the values to a stream, or to sys.stdout by default.\n",
       "\n",
       "sep\n",
       "  string inserted between values, default a space.\n",
       "end\n",
       "  string appended after the last value, default a newline.\n",
       "file\n",
       "  a file-like object (stream); defaults to the current sys.stdout.\n",
       "flush\n",
       "  whether to forcibly flush the stream.\n",
       "\u001b[31mType:\u001b[39m      builtin_function_or_method"
      ]
     },
     "metadata": {},
     "output_type": "display_data"
    }
   ],
   "source": [
    "print?"
   ]
  },
  {
   "cell_type": "markdown",
   "metadata": {
    "slideshow": {
     "slide_type": "slide"
    }
   },
   "source": [
    "# 변수의 유효범위 (scope)\n",
    "\n",
    "-   **지역변수 (local variable)**\n",
    "    -   함수안에 선언된 변수\n",
    "    -   선언된 그 함수 안에서만 사용할 수 있다.\n",
    "-   **전역변수 (global variable)**\n",
    "    -   함수 밖에 선언 된 변수\n",
    "    -   모든 함수들이 공통적으로 사용할 수 있다.\n",
    "    -   하나의 함수에서 값을 변경하면 그 변한 값이 모든 함수에 영향을 주기 때문에 **함부로 변경하지 않는다.**\n",
    "    -   함수내에서 전역변수에 값을 대입하기 위해서는 global 키워드를 이용해 사용할 것을 미리 선언해야 한다.\n",
    "        -   global로 선언하지 않고 함수안에서 전역변수와 이름이 같은 변수에 값을 대입하면 그 변수와 동일한 지역변수을 생성한다.\n",
    "        -   조회할 경우에는 상관없다.\n",
    "            -   함수에서 변수를 조회할 경우 **먼저 지역변수를 찾고 없으면 전역변수를 찾는다.**\n"
   ]
  },
  {
   "cell_type": "code",
   "execution_count": 35,
   "metadata": {
    "slideshow": {
     "slide_type": "fragment"
    }
   },
   "outputs": [],
   "source": [
    "def test():\n",
    "    my_var = 10"
   ]
  },
  {
   "cell_type": "code",
   "execution_count": 37,
   "metadata": {},
   "outputs": [
    {
     "ename": "NameError",
     "evalue": "name 'my_var' is not defined",
     "output_type": "error",
     "traceback": [
      "\u001b[31m---------------------------------------------------------------------------\u001b[39m",
      "\u001b[31mNameError\u001b[39m                                 Traceback (most recent call last)",
      "\u001b[36mCell\u001b[39m\u001b[36m \u001b[39m\u001b[32mIn[37]\u001b[39m\u001b[32m, line 1\u001b[39m\n\u001b[32m----> \u001b[39m\u001b[32m1\u001b[39m \u001b[38;5;28mprint\u001b[39m(\u001b[43mmy_var\u001b[49m) \u001b[38;5;66;03m# 위의 def에 있는 지역변수\u001b[39;00m\n",
      "\u001b[31mNameError\u001b[39m: name 'my_var' is not defined"
     ]
    }
   ],
   "source": [
    "print(my_var) # 위의 def에 있는 지역변수"
   ]
  },
  {
   "cell_type": "code",
   "execution_count": 40,
   "metadata": {},
   "outputs": [],
   "source": [
    "def test():\n",
    "    my_var = 10 # 지역변수, 임시변수, 함수가 일하는 동안만 작동하는 변수 \n",
    "    print(my_var)\n",
    "    a = my_var + 20\n",
    "    print(a)"
   ]
  },
  {
   "cell_type": "code",
   "execution_count": 39,
   "metadata": {},
   "outputs": [
    {
     "name": "stdout",
     "output_type": "stream",
     "text": [
      "10\n",
      "30\n"
     ]
    }
   ],
   "source": [
    "test()"
   ]
  },
  {
   "cell_type": "code",
   "execution_count": 42,
   "metadata": {},
   "outputs": [
    {
     "name": "stdout",
     "output_type": "stream",
     "text": [
      "홍길동 30\n"
     ]
    }
   ],
   "source": [
    "name = \"홍길동\"\n",
    "age = 30\n",
    "print(name, age) # 전체, 끝까지 사용할 수 있는 변수 : 전역변수,  글로벌변수 "
   ]
  },
  {
   "cell_type": "code",
   "execution_count": 43,
   "metadata": {},
   "outputs": [],
   "source": [
    "def test2():\n",
    "    print(age, name)"
   ]
  },
  {
   "cell_type": "code",
   "execution_count": 44,
   "metadata": {},
   "outputs": [
    {
     "data": {
      "text/plain": [
       "<function __main__.test2()>"
      ]
     },
     "execution_count": 44,
     "metadata": {},
     "output_type": "execute_result"
    }
   ],
   "source": [
    "test2"
   ]
  },
  {
   "cell_type": "code",
   "execution_count": 45,
   "metadata": {},
   "outputs": [],
   "source": [
    "name = 20\n",
    "\n",
    "def test():\n",
    "    a = 30 \n",
    "    print(a, name) # name 은 글로벌변수 , a 는 로컬변수"
   ]
  },
  {
   "cell_type": "code",
   "execution_count": 46,
   "metadata": {},
   "outputs": [],
   "source": [
    "def test2(par): # parameter 도 로컬변수 \n",
    "    print(name)"
   ]
  },
  {
   "cell_type": "code",
   "execution_count": null,
   "metadata": {},
   "outputs": [],
   "source": []
  },
  {
   "cell_type": "code",
   "execution_count": 59,
   "metadata": {},
   "outputs": [],
   "source": [
    "g_var = 10\n",
    "def func():\n",
    "    local_var = 100 # local 변수\n",
    "    g_var =\"안녕하세요.\" # local 변수를 선언\n",
    "\n",
    "    print(local_var) # local 변수 사용\n",
    "    print(g_var)\n",
    "\n",
    "#함수 끝나면 지역변수 다 사라짐"
   ]
  },
  {
   "cell_type": "code",
   "execution_count": 56,
   "metadata": {},
   "outputs": [
    {
     "name": "stdout",
     "output_type": "stream",
     "text": [
      "100\n",
      "안녕하세요.\n"
     ]
    }
   ],
   "source": [
    "func() # 글로벌변수를 함수 안에 넣어서 로컬변수로 사용했는데"
   ]
  },
  {
   "cell_type": "code",
   "execution_count": 57,
   "metadata": {},
   "outputs": [
    {
     "data": {
      "text/plain": [
       "10"
      ]
     },
     "execution_count": 57,
     "metadata": {},
     "output_type": "execute_result"
    }
   ],
   "source": [
    "g_var #함수 바깥으로 나오면 다시 글로벌변수가 됨 "
   ]
  },
  {
   "cell_type": "code",
   "execution_count": 68,
   "metadata": {},
   "outputs": [],
   "source": [
    "g_var = 10\n",
    "def func():\n",
    "    local_var = 100 # local 변수\n",
    "    global g_var\n",
    "    g_var = \"안녕하세요.\" # global 글로벌 변수 g_var를 10에서 안녕하세요로 바꾸려고 하는 것을 선언 (값을 변경할 때만 선언한다.)\n",
    "    # 근데 함수에서 전역변수는 안바꾸는게 좋음 \n",
    "\n",
    "    print(local_var) # local 변수 사용\n",
    "    print(g_var)\n",
    "\n",
    "def func2():\n",
    "    global g_var\n",
    "    g_var = 2020202\n",
    "\n",
    "def func3():\n",
    "    global g_var\n",
    "    g_var = True"
   ]
  },
  {
   "cell_type": "code",
   "execution_count": 70,
   "metadata": {},
   "outputs": [
    {
     "name": "stdout",
     "output_type": "stream",
     "text": [
      "100\n",
      "안녕하세요.\n"
     ]
    },
    {
     "data": {
      "text/plain": [
       "'안녕하세요.'"
      ]
     },
     "execution_count": 70,
     "metadata": {},
     "output_type": "execute_result"
    }
   ],
   "source": [
    "func()\n",
    "g_var"
   ]
  },
  {
   "cell_type": "code",
   "execution_count": 71,
   "metadata": {},
   "outputs": [
    {
     "data": {
      "text/plain": [
       "'안녕하세요.'"
      ]
     },
     "execution_count": 71,
     "metadata": {},
     "output_type": "execute_result"
    }
   ],
   "source": [
    "g_var"
   ]
  },
  {
   "cell_type": "markdown",
   "metadata": {
    "slideshow": {
     "slide_type": "slide"
    }
   },
   "source": [
    "# 함수는 일급시민(First class citizen) 이다.\n",
    "\n",
    "-   일급 시민\n",
    "    1. 변수에 대입 할 수 있다.\n",
    "    1. **Argument로 사용**할 수 있다.\n",
    "    1. 함수나 메소드의 반환값으로 사용 할 수 있다.\n",
    "-   즉 파이썬에서 함수는 일반 값(객체)으로 취급된다.\n"
   ]
  },
  {
   "cell_type": "code",
   "execution_count": 74,
   "metadata": {},
   "outputs": [],
   "source": [
    "def hello():\n",
    "    print(\"Hello World!\")\n"
   ]
  },
  {
   "cell_type": "code",
   "execution_count": 75,
   "metadata": {
    "slideshow": {
     "slide_type": "fragment"
    }
   },
   "outputs": [
    {
     "name": "stdout",
     "output_type": "stream",
     "text": [
      "Hello World!\n"
     ]
    }
   ],
   "source": [
    "hello() # call 호출\n"
   ]
  },
  {
   "cell_type": "code",
   "execution_count": 78,
   "metadata": {},
   "outputs": [
    {
     "data": {
      "text/plain": [
       "<function __main__.hello()>"
      ]
     },
     "execution_count": 78,
     "metadata": {},
     "output_type": "execute_result"
    }
   ],
   "source": [
    "hello # 함수 객체 자체를 호출"
   ]
  },
  {
   "cell_type": "code",
   "execution_count": 80,
   "metadata": {},
   "outputs": [],
   "source": [
    "my_hello = hello"
   ]
  },
  {
   "cell_type": "code",
   "execution_count": 82,
   "metadata": {},
   "outputs": [
    {
     "name": "stdout",
     "output_type": "stream",
     "text": [
      "Hello World!\n"
     ]
    }
   ],
   "source": [
    "hello()"
   ]
  },
  {
   "cell_type": "code",
   "execution_count": 83,
   "metadata": {},
   "outputs": [
    {
     "name": "stdout",
     "output_type": "stream",
     "text": [
      "Hello World!\n"
     ]
    }
   ],
   "source": [
    "my_hello() # 똑같은 이름으로 참조할 수 있게 해준다"
   ]
  },
  {
   "cell_type": "code",
   "execution_count": 90,
   "metadata": {},
   "outputs": [],
   "source": [
    "def plus(n1, n2):\n",
    "    print(n1+n2)"
   ]
  },
  {
   "cell_type": "code",
   "execution_count": 91,
   "metadata": {},
   "outputs": [
    {
     "name": "stdout",
     "output_type": "stream",
     "text": [
      "50\n"
     ]
    }
   ],
   "source": [
    "plus(10, 40)"
   ]
  },
  {
   "cell_type": "code",
   "execution_count": 92,
   "metadata": {},
   "outputs": [],
   "source": [
    "def search(주제, 검색한다):\n",
    "    검색결과 = 검색한다(주제)\n",
    "    요약결과 = 요약한다(검색결과)\n",
    "    return 요약결과\n",
    "    "
   ]
  },
  {
   "cell_type": "markdown",
   "metadata": {},
   "source": [
    "search(\"파이썬\", 네이버검색함수) #함수를 바로 넣어버림 \n",
    "search(\"파이썬\", 구글검색함수)"
   ]
  },
  {
   "cell_type": "code",
   "execution_count": 97,
   "metadata": {},
   "outputs": [],
   "source": [
    "def calc(func):\n",
    "    num1, num2 = 10, 20\n",
    "    # 두 숫자를 계산한다. \n",
    "    result = func(num1, num2)\n",
    "    # 계산 결과를 출력\n",
    "    print(result)"
   ]
  },
  {
   "cell_type": "code",
   "execution_count": 98,
   "metadata": {},
   "outputs": [
    {
     "name": "stdout",
     "output_type": "stream",
     "text": [
      "30\n"
     ]
    }
   ],
   "source": [
    "def plus(n1, n2):\n",
    "    return n1 + n2\n",
    "calc(plus)"
   ]
  },
  {
   "cell_type": "code",
   "execution_count": 99,
   "metadata": {},
   "outputs": [
    {
     "name": "stdout",
     "output_type": "stream",
     "text": [
      "-10\n"
     ]
    }
   ],
   "source": [
    "def minus(n1, n2):\n",
    "    return n1 - n2\n",
    "calc(minus)"
   ]
  },
  {
   "cell_type": "code",
   "execution_count": null,
   "metadata": {},
   "outputs": [],
   "source": []
  },
  {
   "cell_type": "code",
   "execution_count": null,
   "metadata": {},
   "outputs": [],
   "source": []
  },
  {
   "cell_type": "markdown",
   "metadata": {
    "slideshow": {
     "slide_type": "slide"
    }
   },
   "source": [
    "## 람다식/람다표현식 (Lambda Expression)\n",
    "\n",
    "-   함수를 표현식(expression)으로 정의한다.\n",
    "-   함수를 하나의 식을 이용해서 정의할때 사용하는 표현식(구문).\n",
    "-   값을 입력받아서 **간단한 처리한 결과**를 반환하는 간단한 함수를 표현식으로 정의할 수 있다.\n",
    "    -   처리결과를 return 하는 구문을 하나의 명령문으로 처리할 수 있을때 람다식을 사용할 수 있다.\n",
    "-   구문\n",
    "\n",
    "```python\n",
    "lambda 매개변수[, 매개변수, ...] : 명령문(구문)\n",
    "```\n",
    "\n",
    "-   명령문(구문)은 하나의 실행문만 가능하다.\n",
    "-   명령문(구문)이 처리한 결과를 리턴해준다.\n",
    "-   **람다식은 함수의 매개변수로 함수를 전달하는 `일회성 함수`를 만들때 주로 사용한다.**\n"
   ]
  },
  {
   "cell_type": "code",
   "execution_count": null,
   "metadata": {},
   "outputs": [],
   "source": [
    "# return 값이 있어야하고, return 뒤에 식으로 표현할 수 있어야만 람다식이 됨 "
   ]
  },
  {
   "cell_type": "code",
   "execution_count": null,
   "metadata": {},
   "outputs": [],
   "source": [
    "def plus(n1, n2):\n",
    "    return n1 + n2"
   ]
  },
  {
   "cell_type": "code",
   "execution_count": null,
   "metadata": {},
   "outputs": [],
   "source": []
  },
  {
   "cell_type": "code",
   "execution_count": 100,
   "metadata": {},
   "outputs": [
    {
     "data": {
      "text/plain": [
       "<function __main__.<lambda>(n1, n2)>"
      ]
     },
     "execution_count": 100,
     "metadata": {},
     "output_type": "execute_result"
    }
   ],
   "source": [
    "lambda n1, n2: n1 + n2 # return 을 쓰지 않음. #두 개의 값(n1, n2)을 받아서 더한 결과를 리턴하는 람다식."
   ]
  },
  {
   "cell_type": "code",
   "execution_count": null,
   "metadata": {},
   "outputs": [],
   "source": [
    "calc(lambda n1, n2: n1 + n2)\n",
    "calc(lambda n1, n2: n1 * n2)"
   ]
  },
  {
   "cell_type": "code",
   "execution_count": null,
   "metadata": {},
   "outputs": [],
   "source": [
    "- 람다는 anonymous function 이라는 명칭을 갖고 있다. 선언 없이 또는 이름 없이 사용할 수 있는 함수다.\n",
    "- 람다의 특징은 일회성이다.  함수의 선언부가 없으므로, 한번 사용하면 그걸로 끝이다. "
   ]
  },
  {
   "cell_type": "code",
   "execution_count": null,
   "metadata": {},
   "outputs": [],
   "source": [
    "lambda x,y,z : x + y - z"
   ]
  },
  {
   "cell_type": "markdown",
   "metadata": {},
   "source": [
    "# docstring\n",
    "\n",
    "-   함수에 대한 설명\n",
    "-   함수의 구현부의 첫번째에 여러줄 문자열(\"\"\" ~ \"\"\")로 작성한다."
   ]
  },
  {
   "cell_type": "code",
   "execution_count": 101,
   "metadata": {
    "slideshow": {
     "slide_type": "fragment"
    }
   },
   "outputs": [
    {
     "data": {
      "text/plain": [
       "\u001b[31mSignature:\u001b[39m input(prompt=\u001b[33m''\u001b[39m)\n",
       "\u001b[31mDocstring:\u001b[39m\n",
       "Forward raw_input to frontends\n",
       "\n",
       "Raises\n",
       "------\n",
       "StdinNotImplementedError if active frontend doesn't support stdin.\n",
       "\u001b[31mFile:\u001b[39m      c:\\users\\playdata\\appdata\\local\\programs\\python\\python313\\lib\\site-packages\\ipykernel\\kernelbase.py\n",
       "\u001b[31mType:\u001b[39m      method"
      ]
     },
     "metadata": {},
     "output_type": "display_data"
    }
   ],
   "source": [
    "?input"
   ]
  },
  {
   "cell_type": "code",
   "execution_count": null,
   "metadata": {},
   "outputs": [],
   "source": []
  },
  {
   "cell_type": "code",
   "execution_count": 110,
   "metadata": {},
   "outputs": [],
   "source": [
    "def greet(name:str, age:int) -> str: \n",
    "    # :str; :int 넣어주면서 힌트를 넣어줘도 됨 (default 값이 있다면 = 0 을 씀)\n",
    "    # -> str 이것도 힌트, return에 넣어주는 값에 대한 힌트이다. \n",
    "    \"\"\"\n",
    "    #여기에 함수에 대한 설명을 답니다.\n",
    "    인삿말을 문자열로 만들어 주는 함수. \n",
    "\n",
    "    Args:   # 파라미터에 대한 설명\n",
    "        name(str) : 인삿말에 들어갈 사람의 이름. \n",
    "        age(int) : name의 사람의 나이. \n",
    "\n",
    "    Returns: # 리턴값에 대한 설명 \n",
    "        str: 이름과 나이가 들어간 인삿말   (타입: 설명)\n",
    "\n",
    "    Raises:  # 이 함수에서 발생 가능성있는 Error(Exception)의 종류와 설명. \n",
    "    \n",
    "    \"\"\"\n",
    "    return f\"안녕하세요. {age}세의 {name}님\"\n",
    "\n",
    "    #함수를 사용하는 사람들이 잘 사용할 수 있도록 해주는 거 "
   ]
  },
  {
   "cell_type": "code",
   "execution_count": 105,
   "metadata": {},
   "outputs": [
    {
     "data": {
      "text/plain": [
       "\u001b[31mSignature:\u001b[39m greet(name, age)\n",
       "\u001b[31mDocstring:\u001b[39m\n",
       "#여기에 함수에 대한 설명을 답니다.\n",
       "인삿말을 문자열로 만들어 주는 함수. \n",
       "\n",
       "Args: # 파라미터에 대한 설명\n",
       "    name(str) : 인삿말에 들어갈 사람의 이름. \n",
       "    age(int) : name의 사람의 나이. \n",
       "\n",
       "Returns: # 리턴값에 대한 설명 \n",
       "    str: 이름과 나이가 들어간 인삿말   (타입: 설명)\n",
       "\n",
       "Raises:  # 이 함수에서 발생 가능성있는 Error(Exception)의 종류와 설명. \n",
       "\u001b[31mFile:\u001b[39m      c:\\users\\playdata\\appdata\\local\\temp\\ipykernel_6868\\3314155170.py\n",
       "\u001b[31mType:\u001b[39m      function"
      ]
     },
     "metadata": {},
     "output_type": "display_data"
    }
   ],
   "source": [
    "?greet"
   ]
  },
  {
   "cell_type": "markdown",
   "metadata": {
    "slideshow": {
     "slide_type": "skip"
    }
   },
   "source": [
    "# TODO\n"
   ]
  },
  {
   "cell_type": "code",
   "execution_count": null,
   "metadata": {
    "slideshow": {
     "slide_type": "skip"
    }
   },
   "outputs": [],
   "source": [
    "# 1. 시작 정수, 끝 정수를 받아 그 사이의 모든 정수의 합을 구해서 반환하는 함수를 구현(ex: 1, 20 => 1에서 20 사이의 모든 정수의 합계)"
   ]
  },
  {
   "cell_type": "code",
   "execution_count": 1,
   "metadata": {},
   "outputs": [
    {
     "data": {
      "text/plain": [
       "190"
      ]
     },
     "execution_count": 1,
     "metadata": {},
     "output_type": "execute_result"
    }
   ],
   "source": [
    "sum(range(1,20))"
   ]
  },
  {
   "cell_type": "code",
   "execution_count": 8,
   "metadata": {},
   "outputs": [],
   "source": [
    "def accumulate(start:int, end:int)->int: # :int 로 힌트를 알려주기 # -> 는 int 값을 낼 것이라는 return 값의 힌트\n",
    "    \"\"\"\n",
    "    파라미터로 받은 정수 범위의 합계를 계산해서 반환.\n",
    "\n",
    "    Args:\n",
    "        start(int) - 범위의 시작 정수\n",
    "        end(int) - 범위의 끝 정수. 합계를 구할 때 포함한다\n",
    "    Returns:\n",
    "        int - start ~ end 사이의 정수의 합계.\n",
    "    \n",
    "    \"\"\"\n",
    "    result = 0 # 누적합계를 저장할 변수\n",
    "    for v in range(start, end+1): \n",
    "        result += v # range 값이 마지막을 포함하지 않기 때문에 \n",
    "\n",
    "    return result # 누적합계값"
   ]
  },
  {
   "cell_type": "code",
   "execution_count": 6,
   "metadata": {},
   "outputs": [],
   "source": [
    "# 첫번째 오류 : 함수를 구현하라고 했는데, 다짜고짜 예시 숫자의 합을 구함... # 두번째 오류 for in 문에서 : 을 안씀 ... "
   ]
  },
  {
   "cell_type": "code",
   "execution_count": 4,
   "metadata": {},
   "outputs": [
    {
     "data": {
      "text/plain": [
       "5050"
      ]
     },
     "execution_count": 4,
     "metadata": {},
     "output_type": "execute_result"
    }
   ],
   "source": [
    "accumulate(1, 100)"
   ]
  },
  {
   "cell_type": "code",
   "execution_count": 9,
   "metadata": {},
   "outputs": [
    {
     "data": {
      "text/plain": [
       "\u001b[31mSignature:\u001b[39m accumulate(start: int, end: int) -> int\n",
       "\u001b[31mDocstring:\u001b[39m\n",
       "파라미터로 받은 정수 범위의 합계를 계산해서 반환.\n",
       "\n",
       "Args:\n",
       "    start(int) - 범위의 시작 정수\n",
       "    end(int) - 범위의 끝 정수. 합계를 구할 때 포함한다\n",
       "Returns:\n",
       "    int - start ~ end 사이의 정수의 합계.\n",
       "\u001b[31mFile:\u001b[39m      c:\\users\\playdata\\appdata\\local\\temp\\ipykernel_10324\\633555531.py\n",
       "\u001b[31mType:\u001b[39m      function"
      ]
     },
     "metadata": {},
     "output_type": "display_data"
    }
   ],
   "source": [
    "accumulate?"
   ]
  },
  {
   "cell_type": "code",
   "execution_count": 16,
   "metadata": {
    "slideshow": {
     "slide_type": "skip"
    }
   },
   "outputs": [],
   "source": [
    "# 2. 2번 문제에서 시작을 받지 않은 경우 0을, 끝 정수를 받지 않으면 10이 들어가도록 구현을 변경\n",
    "def accumulate2(start:int=0, end:int=10)->int:\n",
    "    return sum(range(start, end+1))\n"
   ]
  },
  {
   "cell_type": "code",
   "execution_count": 17,
   "metadata": {},
   "outputs": [
    {
     "data": {
      "text/plain": [
       "5050"
      ]
     },
     "execution_count": 17,
     "metadata": {},
     "output_type": "execute_result"
    }
   ],
   "source": [
    "accumulate2(1, 100)"
   ]
  },
  {
   "cell_type": "code",
   "execution_count": 18,
   "metadata": {},
   "outputs": [
    {
     "data": {
      "text/plain": [
       "0"
      ]
     },
     "execution_count": 18,
     "metadata": {},
     "output_type": "execute_result"
    }
   ],
   "source": [
    "accumulate2(30) # start 값을 30으로 정하는 것임"
   ]
  },
  {
   "cell_type": "code",
   "execution_count": 19,
   "metadata": {},
   "outputs": [
    {
     "data": {
      "text/plain": [
       "465"
      ]
     },
     "execution_count": 19,
     "metadata": {},
     "output_type": "execute_result"
    }
   ],
   "source": [
    "accumulate2(end=30) # end 값을 30으로 정함 "
   ]
  },
  {
   "cell_type": "code",
   "execution_count": null,
   "metadata": {},
   "outputs": [],
   "source": [
    "# iterable type; sum range 사용할 수 있다. \n",
    "# 내가 한 방법은 맞았지만, 문제를 다시 잘 읽었어야했다. 함수를 구해라 / 값을 구해라.. "
   ]
  },
  {
   "cell_type": "code",
   "execution_count": 23,
   "metadata": {
    "slideshow": {
     "slide_type": "skip"
    }
   },
   "outputs": [
    {
     "name": "stdout",
     "output_type": "stream",
     "text": [
      "7 X 1 = 7\n",
      "7 X 2 = 7\n",
      "7 X 3 = 7\n",
      "7 X 4 = 7\n",
      "7 X 5 = 7\n",
      "7 X 6 = 7\n",
      "7 X 7 = 7\n",
      "7 X 8 = 7\n",
      "7 X 9 = 7\n",
      "3 X 1 = 3\n",
      "3 X 2 = 3\n",
      "3 X 3 = 3\n",
      "3 X 4 = 3\n",
      "3 X 5 = 3\n",
      "3 X 6 = 3\n",
      "3 X 7 = 3\n",
      "3 X 8 = 3\n",
      "3 X 9 = 3\n"
     ]
    }
   ],
   "source": [
    "# 3. 구구단을 출력하는 함수를 구현한다. 입력으로 출력하고 싶은 단을 parameter로 입력받아서 `N * 1` ~ `N * 9` 를 출력한다. (N: 입력받은 단)\n",
    "\n",
    "def gugudan(dan:int): # 전체 일에 구구단을 써야한다면, 도구를 만들어서 계속해서 쓰는 것. 앞과 다른 점은 앞에는 함수를 계속 써서 숫자를 입력해야함. \n",
    "\n",
    "    for i in range(1, 10): # 1 ~ 9\n",
    "        print(f\"{dan} X {i} = {dan * 1}\")\n",
    "\n",
    "gugudan(7)\n",
    "gugudan(3)"
   ]
  },
  {
   "cell_type": "code",
   "execution_count": null,
   "metadata": {
    "slideshow": {
     "slide_type": "skip"
    }
   },
   "outputs": [],
   "source": [
    "# 4. 체질량 지수는 비만도를 나타내는 지수로 키가 a미터 이고 몸무게가 b kg일때 b/(a**2) 로 구한다.\n",
    "# 체질량 지수가\n",
    "# - 18.5 미만이면 저체중\n",
    "# - 18.5이상 25미만이면 정상\n",
    "# - 25이상이면 과체중\n",
    "# - 30이상이면 비만으로 하는데\n",
    "# 몸무게와 키를 매개변수로 받아 비만인지 과체중인지 반환하는 함수를 구현하시오."
   ]
  },
  {
   "cell_type": "code",
   "execution_count": 26,
   "metadata": {},
   "outputs": [],
   "source": [
    "def check_bmi(tall:float, weight:float)->str:\n",
    "    \"\"\"\n",
    "    BMI 지수를 계산해서 비만도를 알려주는 함수.\n",
    "    Args:\n",
    "        tall(float) - 키. 단위는 미터\n",
    "        weight(flaot) - 몸무게. 단위는 kg\n",
    "    Returns:\n",
    "        str - 비만도(저체중, 정상, 과체중, 비만) 계산 결과.         \n",
    "    \"\"\"\n",
    "    bmi = weight/tall**2\n",
    "    if bmi < 18.5:\n",
    "        return \"저체중\" # 바로 return 으로 출력\n",
    "    elif bmi < 25:\n",
    "        return \"정상\"\n",
    "    elif bmi < 30:\n",
    "        return \"과체중\"\n",
    "    else:\n",
    "        return \"비만\""
   ]
  },
  {
   "cell_type": "code",
   "execution_count": 27,
   "metadata": {},
   "outputs": [
    {
     "data": {
      "text/plain": [
       "'정상'"
      ]
     },
     "execution_count": 27,
     "metadata": {},
     "output_type": "execute_result"
    }
   ],
   "source": [
    "check_bmi(1.7, 60)"
   ]
  },
  {
   "cell_type": "code",
   "execution_count": 28,
   "metadata": {},
   "outputs": [
    {
     "data": {
      "text/plain": [
       "'비만'"
      ]
     },
     "execution_count": 28,
     "metadata": {},
     "output_type": "execute_result"
    }
   ],
   "source": [
    "check_bmi(1.8, 100)"
   ]
  },
  {
   "cell_type": "code",
   "execution_count": 34,
   "metadata": {},
   "outputs": [],
   "source": [
    "def check_bmi(tall:float, weight:float)->str:\n",
    "    \"\"\"\n",
    "    BMI 지수를 계산해서 비만도를 알려주는 함수.\n",
    "    Args:\n",
    "        tall(float) - 키. 단위는 미터\n",
    "        weight(flaot) - 몸무게. 단위는 kg\n",
    "    Returns:\n",
    "        str - 비만도(저체중, 정상, 과체중, 비만) 계산 결과.         \n",
    "    \"\"\"\n",
    "    bmi = weight/tall**2\n",
    "    if bmi < 18.5:\n",
    "        return \"저체중\", round(bmi, 2) # 바로 return 으로 출력\n",
    "    elif bmi < 25:\n",
    "        return \"정상\", round(bmi, 2)\n",
    "    elif bmi < 30:\n",
    "        return \"과체중\", round(bmi, 2)\n",
    "    else:\n",
    "        return \"비만\", round(bmi, 2) # contrl 로 멀티커서, bmi 값을 함께 표시 (Tuple인데 괄호 생략)\n",
    "        # 빈올림 : round (, 숫자) 소수점자리까지 반올림. "
   ]
  },
  {
   "cell_type": "code",
   "execution_count": 35,
   "metadata": {},
   "outputs": [
    {
     "data": {
      "text/plain": [
       "('과체중', 27.68)"
      ]
     },
     "execution_count": 35,
     "metadata": {},
     "output_type": "execute_result"
    }
   ],
   "source": [
    "check_bmi(1.7, 80)"
   ]
  },
  {
   "cell_type": "code",
   "execution_count": 41,
   "metadata": {},
   "outputs": [
    {
     "data": {
      "text/plain": [
       "['aaaa', 'bbb', 'ddjfljalf', 'ghjkdsfhjldsjkf', 'qreuip', 'yportiql', '안녕']"
      ]
     },
     "execution_count": 41,
     "metadata": {},
     "output_type": "execute_result"
    }
   ],
   "source": [
    "lst = [\"aaaa\", \"bbb\", \"ddjfljalf\", \"안녕\", \"ghjkdsfhjldsjkf\", \"qreuip\", \"yportiql\"]\n",
    "# 정렬\n",
    "sorted(lst) # 정확하게는 유니코드로 나옴 \n",
    "# a에 대한 2진수값, b에 대한 2진수 값으로 나옴 \n",
    "# 코드 순서대로 나옴. \n",
    "# 뒤에 나오는 글자일수록 뒤에 나온다. \n"
   ]
  },
  {
   "cell_type": "code",
   "execution_count": 42,
   "metadata": {},
   "outputs": [],
   "source": [
    "# AA , AB 를 비교한다면? \n",
    "# AA - AB 순서로 나옴. \n",
    "# 사전식 개념"
   ]
  },
  {
   "cell_type": "code",
   "execution_count": 43,
   "metadata": {},
   "outputs": [],
   "source": [
    "# a 와 A 의 순서는?\n",
    "# a 와 3 의 순서는?\n",
    "# a 와 가 의 순서는?\n"
   ]
  },
  {
   "cell_type": "code",
   "execution_count": 46,
   "metadata": {},
   "outputs": [],
   "source": [
    "# 유니코드 기준 문자열 정렬 순서\n",
    "# 특수문자가 먼저 나옴 (오름차순 기준으로)\n",
    "# 특수문자 < 숫자 < 알파벳대문자 < 소문자 < 한글"
   ]
  },
  {
   "cell_type": "code",
   "execution_count": 75,
   "metadata": {},
   "outputs": [
    {
     "data": {
      "text/plain": [
       "['안녕', 'yportiql', 'qrip', 'ddalf', 'bbb', 'aaaa', 'Asdal', '@#%fsjf', '4920']"
      ]
     },
     "execution_count": 75,
     "metadata": {},
     "output_type": "execute_result"
    }
   ],
   "source": [
    "lst = [\"aaaa\", \"bbb\", \"ddalf\", \"안녕\", \"@#%fsjf\", \"qrip\", \"yportiql\", \"Asdal\", \"4920\"]\n",
    "sorted(lst)\n",
    "sorted(lst, reverse=True)"
   ]
  },
  {
   "cell_type": "code",
   "execution_count": 76,
   "metadata": {},
   "outputs": [],
   "source": [
    "# 다른 정렬 기준? "
   ]
  },
  {
   "cell_type": "code",
   "execution_count": 77,
   "metadata": {},
   "outputs": [],
   "source": [
    "def check(word):\n",
    "    return len(word)"
   ]
  },
  {
   "cell_type": "code",
   "execution_count": 78,
   "metadata": {},
   "outputs": [
    {
     "data": {
      "text/plain": [
       "9"
      ]
     },
     "execution_count": 78,
     "metadata": {},
     "output_type": "execute_result"
    }
   ],
   "source": [
    "check(lst)"
   ]
  },
  {
   "cell_type": "code",
   "execution_count": 79,
   "metadata": {},
   "outputs": [
    {
     "data": {
      "text/plain": [
       "[4, 3, 5, 2, 7, 4, 8, 5, 4]"
      ]
     },
     "execution_count": 79,
     "metadata": {},
     "output_type": "execute_result"
    }
   ],
   "source": [
    "lst = [\"aaaa\", \"bbb\", \"ddalf\", \"안녕\", \"@#%fsjf\", \"qrip\", \"yportiql\", \"Asdal\", \"4920\"]\n",
    "[check(v) for v in lst]"
   ]
  },
  {
   "cell_type": "code",
   "execution_count": 80,
   "metadata": {},
   "outputs": [
    {
     "data": {
      "text/plain": [
       "[2, 3, 4, 4, 4, 5, 5, 7, 8]"
      ]
     },
     "execution_count": 80,
     "metadata": {},
     "output_type": "execute_result"
    }
   ],
   "source": [
    "lst = [\"aaaa\", \"bbb\", \"ddalf\", \"안녕\", \"@#%fsjf\", \"qrip\", \"yportiql\", \"Asdal\", \"4920\"]\n",
    "sorted([check(v) for v in lst])"
   ]
  },
  {
   "cell_type": "code",
   "execution_count": 81,
   "metadata": {},
   "outputs": [
    {
     "data": {
      "text/plain": [
       "['안녕', 'bbb', 'aaaa', 'qrip', '4920', 'ddalf', 'Asdal', '@#%fsjf', 'yportiql']"
      ]
     },
     "execution_count": 81,
     "metadata": {},
     "output_type": "execute_result"
    }
   ],
   "source": [
    "sorted(lst, key=check) "
   ]
  },
  {
   "cell_type": "code",
   "execution_count": 84,
   "metadata": {},
   "outputs": [
    {
     "data": {
      "text/plain": [
       "['안녕', 'bbb', 'aaaa', 'qrip', '4920', 'ddalf', 'Asdal', '@#%fsjf', 'yportiql']"
      ]
     },
     "execution_count": 84,
     "metadata": {},
     "output_type": "execute_result"
    }
   ],
   "source": [
    "# 최종 새로운 정렬 \n",
    "def check(word):\n",
    "    return len(word)\n",
    "sorted(lst, key=check) #정렬 방식을 바꾼 것 # 글자수 가지고 새로운 정렬을 만든 것"
   ]
  },
  {
   "cell_type": "code",
   "execution_count": 86,
   "metadata": {},
   "outputs": [
    {
     "data": {
      "text/plain": [
       "['yportiql', '@#%fsjf', 'ddalf', 'Asdal', 'aaaa', 'qrip', '4920', 'bbb', '안녕']"
      ]
     },
     "execution_count": 86,
     "metadata": {},
     "output_type": "execute_result"
    }
   ],
   "source": [
    "def check(word):\n",
    "    return len(word)\n",
    "sorted(lst, key=check, reverse=True)"
   ]
  },
  {
   "cell_type": "code",
   "execution_count": 90,
   "metadata": {},
   "outputs": [
    {
     "data": {
      "text/plain": [
       "['안녕', 'bbb', 'aaaa', 'qrip', '4920', 'ddalf', 'Asdal', '@#%fsjf', 'yportiql']"
      ]
     },
     "execution_count": 90,
     "metadata": {},
     "output_type": "execute_result"
    }
   ],
   "source": [
    "lst.sort(key=check)\n",
    "lst # 메소드냐 함수의 차이"
   ]
  },
  {
   "cell_type": "code",
   "execution_count": 92,
   "metadata": {},
   "outputs": [
    {
     "data": {
      "text/plain": [
       "['안녕', 'bbb', 'aaaa', 'qrip', '4920', 'ddalf', 'Asdal', '@#%fsjf', 'yportiql']"
      ]
     },
     "execution_count": 92,
     "metadata": {},
     "output_type": "execute_result"
    }
   ],
   "source": [
    "# lst.sort(key=check)\n",
    "lst.sort(key=lambda word:len(word)) # 값을 리턴해줌\n",
    "lst"
   ]
  },
  {
   "cell_type": "code",
   "execution_count": 93,
   "metadata": {},
   "outputs": [
    {
     "data": {
      "text/plain": [
       "['안녕', 'bbb', 'aaaa', 'qrip', '4920', 'ddalf', 'Asdal', '@#%fsjf', 'yportiql']"
      ]
     },
     "execution_count": 93,
     "metadata": {},
     "output_type": "execute_result"
    }
   ],
   "source": [
    "# 위와 같은데 람다 없이\n",
    "lst.sort(key=len)\n",
    "lst"
   ]
  },
  {
   "cell_type": "code",
   "execution_count": null,
   "metadata": {},
   "outputs": [],
   "source": []
  }
 ],
 "metadata": {
  "kernelspec": {
   "display_name": "Python 3 (ipykernel)",
   "language": "python",
   "name": "python3"
  },
  "language_info": {
   "codemirror_mode": {
    "name": "ipython",
    "version": 3
   },
   "file_extension": ".py",
   "mimetype": "text/x-python",
   "name": "python",
   "nbconvert_exporter": "python",
   "pygments_lexer": "ipython3",
   "version": "3.13.2"
  },
  "toc": {
   "base_numbering": 1,
   "nav_menu": {},
   "number_sections": true,
   "sideBar": true,
   "skip_h1_title": false,
   "title_cell": "Table of Contents",
   "title_sidebar": "Contents",
   "toc_cell": false,
   "toc_position": {},
   "toc_section_display": true,
   "toc_window_display": false
  },
  "varInspector": {
   "cols": {
    "lenName": 16,
    "lenType": 16,
    "lenVar": 40
   },
   "kernels_config": {
    "python": {
     "delete_cmd_postfix": "",
     "delete_cmd_prefix": "del ",
     "library": "var_list.py",
     "varRefreshCmd": "print(var_dic_list())"
    },
    "r": {
     "delete_cmd_postfix": ") ",
     "delete_cmd_prefix": "rm(",
     "library": "var_list.r",
     "varRefreshCmd": "cat(var_dic_list()) "
    }
   },
   "types_to_exclude": [
    "module",
    "function",
    "builtin_function_or_method",
    "instance",
    "_Feature"
   ],
   "window_display": false
  }
 },
 "nbformat": 4,
 "nbformat_minor": 4
}

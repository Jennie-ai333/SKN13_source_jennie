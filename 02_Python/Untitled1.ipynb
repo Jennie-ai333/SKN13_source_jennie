{
 "cells": [
  {
   "cell_type": "code",
   "execution_count": 3,
   "id": "d5452ea6-022a-466c-9fb1-6a81abbab57a",
   "metadata": {},
   "outputs": [],
   "source": [
    "def __init__(self, name, age):\n",
    "    pass"
   ]
  },
  {
   "cell_type": "code",
   "execution_count": 10,
   "id": "9ea04951-3313-42c7-a919-5221b6bf1c57",
   "metadata": {},
   "outputs": [],
   "source": [
    "class Person1:\n",
    "    def __init__(self, name, age, address):\n",
    "        self.name = name\n",
    "        self.age = age\n",
    "        self.address = address"
   ]
  },
  {
   "cell_type": "code",
   "execution_count": 14,
   "id": "23c9352b-8ce6-466f-9d8d-114987fe1ed0",
   "metadata": {},
   "outputs": [
    {
     "name": "stdout",
     "output_type": "stream",
     "text": [
      "홍길동 20 서울시\n"
     ]
    }
   ],
   "source": [
    "p = Person1(\"홍길동\", 20, \"서울시\")\n",
    "\n",
    "print(p.name, p.age, p.address) # p를 정의해줘야함. "
   ]
  },
  {
   "cell_type": "code",
   "execution_count": 17,
   "id": "17fc575e-fdcb-4432-b184-88f44ffda3a1",
   "metadata": {},
   "outputs": [
    {
     "name": "stdout",
     "output_type": "stream",
     "text": [
      "이순신 30 서울시 금천구\n"
     ]
    }
   ],
   "source": [
    "p2 = Person1(\"이순신\", 30, \"서울시 금천구\")\n",
    "print(p2.name, p2.age, p2.address)"
   ]
  },
  {
   "cell_type": "code",
   "execution_count": 18,
   "id": "99e9ed13-ea94-4c4a-977a-b49aaa80c60b",
   "metadata": {},
   "outputs": [
    {
     "data": {
      "text/plain": [
       "{'name': '이순신', 'age': 30, 'address': '서울시 금천구'}"
      ]
     },
     "execution_count": 18,
     "metadata": {},
     "output_type": "execute_result"
    }
   ],
   "source": [
    "p2.__dict__"
   ]
  },
  {
   "cell_type": "code",
   "execution_count": 19,
   "id": "eaa5aa1a-e3f7-4450-9a71-b10e38780fd1",
   "metadata": {},
   "outputs": [],
   "source": [
    "# instance method\n",
    "\n",
    "def set_info(self, name, age, address):\n",
    "    self.attribute"
   ]
  },
  {
   "cell_type": "code",
   "execution_count": 23,
   "id": "21a09c26-f300-4362-95a3-c623fc8d4407",
   "metadata": {},
   "outputs": [],
   "source": [
    "class Person2:\n",
    "    def __init__(self, name, age, address):\n",
    "        self.name = name\n",
    "        self.age = age\n",
    "        self.address = address\n",
    "    def get_info(self):\n",
    "        return f\"이름: {self.name}, 나이: {self.age}, 주소:{self.address}\"\n",
    "    "
   ]
  },
  {
   "cell_type": "code",
   "execution_count": 26,
   "id": "f5ea3acd-d710-4453-bba3-7cd75193a76c",
   "metadata": {},
   "outputs": [],
   "source": [
    "p1 = Person2(\"홍길동\", 20, \"서울\")\n",
    "p2 = Person2(\"이순신\", 30, \"인천\")"
   ]
  },
  {
   "cell_type": "code",
   "execution_count": 27,
   "id": "b0228078-6bca-4d11-86e4-baeeabf67742",
   "metadata": {},
   "outputs": [],
   "source": [
    "info1 = p1.get_info()\n",
    "info2 = p2.get_info()"
   ]
  },
  {
   "cell_type": "code",
   "execution_count": 28,
   "id": "7b714939-932c-42bf-b293-902c1f71ffd3",
   "metadata": {},
   "outputs": [
    {
     "name": "stdout",
     "output_type": "stream",
     "text": [
      "이름: 홍길동, 나이: 20, 주소:서울\n"
     ]
    }
   ],
   "source": [
    "print(info1)"
   ]
  },
  {
   "cell_type": "code",
   "execution_count": 29,
   "id": "1196b183-b6eb-4a10-9ec1-548ed8347e0c",
   "metadata": {},
   "outputs": [
    {
     "name": "stdout",
     "output_type": "stream",
     "text": [
      "이름: 이순신, 나이: 30, 주소:인천\n"
     ]
    }
   ],
   "source": [
    "print(info2)"
   ]
  },
  {
   "cell_type": "code",
   "execution_count": 31,
   "id": "d3d996d7-8606-4aff-b30b-d432b1a1a769",
   "metadata": {},
   "outputs": [],
   "source": [
    "class Person2:\n",
    "    def __init__(self, name, age, address):\n",
    "        self.name = name\n",
    "        self.age = age\n",
    "        self.address = address\n",
    "    def get_info(self):\n",
    "        return f\"이름: {self.name}, 나이: {self.age}, 주소: {self.address}\""
   ]
  },
  {
   "cell_type": "code",
   "execution_count": 32,
   "id": "f990fb13-8d29-49a2-903f-56dd92d23d4e",
   "metadata": {},
   "outputs": [],
   "source": [
    "p1 = Person2(\"홍길동\", 20, \"서울\")\n",
    "p2 = Person2(\"이순신\", 30, \"인천\")"
   ]
  },
  {
   "cell_type": "code",
   "execution_count": 35,
   "id": "f0fc5429-c3c6-4ee4-b45a-82bf5bdcbb4f",
   "metadata": {},
   "outputs": [],
   "source": [
    "info1 = p1.get_info()\n",
    "info2 = p2.get_info()"
   ]
  },
  {
   "cell_type": "code",
   "execution_count": 36,
   "id": "03a0eae7-b52e-4e9a-9da6-756537e521a8",
   "metadata": {},
   "outputs": [
    {
     "name": "stdout",
     "output_type": "stream",
     "text": [
      "이름: 홍길동, 나이: 20, 주소: 서울\n"
     ]
    }
   ],
   "source": [
    "print(info1)"
   ]
  },
  {
   "cell_type": "code",
   "execution_count": 37,
   "id": "a47bacea-67b6-45a2-8771-c9dc4209ea43",
   "metadata": {},
   "outputs": [
    {
     "name": "stdout",
     "output_type": "stream",
     "text": [
      "이름: 이순신, 나이: 30, 주소: 인천\n"
     ]
    }
   ],
   "source": [
    "print(info2)"
   ]
  },
  {
   "cell_type": "code",
   "execution_count": 39,
   "id": "62a8b16a-cf4e-4b66-9eb5-e813624ece3f",
   "metadata": {},
   "outputs": [],
   "source": [
    "class Person:\n",
    "    job_list = [\"학생\", \"직장인\", \"자영업\"]\n",
    "\n",
    "    def add_job(job):\n",
    "        if job not in job_list:\n",
    "            job_list.append(job)\n",
    "        else:\n",
    "            print(f\"{job}은 이미 list에 있습니다.\")\n",
    "\n",
    "    def __init__(self, name, age, job):\n",
    "        self.name = name\n",
    "        self.age = age\n",
    "        self.job = job\n",
    "\n",
    "    def __str___(self):\n",
    "        return f\"이름: {self.name}, 나이: {self.age}, 직업: {self.job}\"\n",
    "    "
   ]
  },
  {
   "cell_type": "code",
   "execution_count": 40,
   "id": "c5e50eb0-9c07-48e7-aad0-227bd1f9b5fa",
   "metadata": {},
   "outputs": [
    {
     "data": {
      "text/plain": [
       "['학생', '직장인', '자영업']"
      ]
     },
     "execution_count": 40,
     "metadata": {},
     "output_type": "execute_result"
    }
   ],
   "source": [
    "Person.job_list"
   ]
  },
  {
   "cell_type": "code",
   "execution_count": 41,
   "id": "d30fdd03-36c0-4c98-9e4d-62c283373f3d",
   "metadata": {},
   "outputs": [],
   "source": [
    "class Person:\n",
    "    job_list = [\"학생\", \"직장인\", \"자영업\"]\n",
    "\n",
    "    @classmethod\n",
    "    def add_job(clazz, job):\n",
    "        if job not in clazz.job_list:\n",
    "            clazz.job_list.append(job)\n",
    "        else:\n",
    "            print(f\"{job}은 이미 list에 있습니다.\")\n",
    "\n",
    "    def __init__(self, name, age, job):\n",
    "        self.name = name\n",
    "        self.age = age\n",
    "        self.job = job\n",
    "\n",
    "    def __str___(self):\n",
    "        return f\"이름: {self.name}, 나이: {self.age}, 직업: {self.job}\"\n",
    "    "
   ]
  },
  {
   "cell_type": "code",
   "execution_count": 42,
   "id": "2dfd6356-fc8c-4c9e-9f59-69e29d7a930d",
   "metadata": {},
   "outputs": [],
   "source": [
    "Person.add_job(\"사업\")"
   ]
  },
  {
   "cell_type": "code",
   "execution_count": null,
   "id": "3567b141-b641-4a42-a9bb-1e206d3af1ff",
   "metadata": {},
   "outputs": [],
   "source": [
    "Person.job"
   ]
  }
 ],
 "metadata": {
  "kernelspec": {
   "display_name": "Python 3 (ipykernel)",
   "language": "python",
   "name": "python3"
  },
  "language_info": {
   "codemirror_mode": {
    "name": "ipython",
    "version": 3
   },
   "file_extension": ".py",
   "mimetype": "text/x-python",
   "name": "python",
   "nbconvert_exporter": "python",
   "pygments_lexer": "ipython3",
   "version": "3.13.2"
  }
 },
 "nbformat": 4,
 "nbformat_minor": 5
}

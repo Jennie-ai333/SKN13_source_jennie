{
 "cells": [
  {
   "cell_type": "markdown",
   "id": "da193321",
   "metadata": {
    "slideshow": {
     "slide_type": "slide"
    }
   },
   "source": [
    "# 자료구조란\n",
    "\n",
    "-   **여러 개의 값들을 모아서 관리**하는 데이터 타입.\n",
    "    -   한 개의 변수는 한 개의 값 밖에는 가지지 못한다. 그러나 하나의 변수로 여러 개의 값 관리해야 할 경우가 있다.\n",
    "    -   하나의 값이 여러개의 값들로 구성된 경우\n",
    "        -   한명의 고객 정보의 경우 이름, 나이, 주소, 전화번호 등 여러개의 값이 모여서 하나의 값이 된다.\n",
    "        -   한 반의 학생들의 이름들은 여러개의 이름들로 구성된다.\n",
    "-   파이썬은 데이터를 모으는 방식에 따라 다음과 같이 4개의 타입을 제공한다.\n",
    "    -   **List:** 순서가 있으며 중복된 값들을 모으는 것을 허용하고 구성하는 값들(원소)을 변경할 수 있다.\n",
    "    -   **Tuple:** 순서가 있으며 중복된 값들을 모으는 것을 허용하는데 구성하는 값들을 변경할 수 없다.\n",
    "    -   **Dictionary:** key-value 형태로 값들을 저장해 관리한다.\n",
    "    -   **Set:** 중복을 허용하지 않고 값들의 순서가 없다.\n",
    "-   **원소, 성분, 요소, element**\n",
    "    -   자료구조의 값들을 구성하는 개별 값들을 말한다.\n",
    "    -   len(자료구조) 함수\n",
    "        -   자료구조 내의 원소의 개수를 반환한다.\n"
   ]
  },
  {
   "cell_type": "code",
   "execution_count": 8,
   "id": "37fa4920-f897-44e3-ae88-e48392383636",
   "metadata": {},
   "outputs": [],
   "source": [
    "# 왜 모을까? 하나의 값이 여러가지 속성이 많은 경우가 있다. ex) 한 학생의 이름, 몇학년 몇반, 키 등등 \n",
    "# 값을 모아야 제대로 값을 표현할 수 있다\n",
    "# 다 모은 값에서 필요한 속성을 뽑아서 써야한다. 모여져 있는 값 중에 개별적으로 컨트롤 가능해야함 -- 식별값\n",
    "# key - value 쌍으로 저장. 값에다 이름을 붙인다는 의미 (key는 중복될 수 없고, value는 중복가능)\n",
    "# Dictionary 딕셔너리 (값의 의미가 중요하다) , 순서를 기억할 수 없음. 1번 이름 2번 학년 -- 이렇게 할 수 X\n",
    "\n",
    "\n",
    "# ex) 3학년 1반의 10명의 영어 점수\n",
    "# 값 자체가 다른게 아니고 영어 점수에 100 95 65 34 54 ... \n",
    "# 누구의 점수인지 알기 - 0, 1, 2, 3, .... \n",
    "# 학생들의 번호가 있음 --> `순번`으로 값을 나타냄. index 를 가지고 각각의 원소를 control 하는건 List 와 Tuple임 \n",
    "# 순번은 중간이 비어있으면 안됨. 순서가 중요함 \n",
    "# List 추가, 변경, 삭제 가능  # Tuple은 변경 불가능\n",
    "\n",
    "# 로또 점수를 예측하고 싶다면, \n",
    "# 랜덤 숫자 생성 : 1 - 45 중 6개 뽑아줘\n",
    "# 1이 나오면 다음에 1이 또 나올 수 없음. 중복이 될 수 없다\n",
    "# Set 똑같은 값이 있을 수 없음. 중복이 안되게 하는 게 중요하다 --> 개별데이터 조회할 수 없음. 전체적으로 다 가지고 와야함.\n",
    "\n"
   ]
  },
  {
   "cell_type": "markdown",
   "id": "84431cfd",
   "metadata": {
    "slideshow": {
     "slide_type": "slide"
    }
   },
   "source": [
    "# List (리스트)\n",
    "\n",
    "-   값들을 순서대로 모아서 관리하는 자료구조. 원소(element)들을 순번을 이용해 식별한다.\n",
    "    -   각각의 원소가 어떤 값인지를 index(순번)을 가지고 식별하기 때문에 **순서가 있고 그 순서가 매우 중요하다.** 즉 같은 값에 대해 순서가 바뀌면 안된다.\n",
    "-   각각의 원소들은 index를 이용해 식별한다.\n",
    "    -   index는 문자열과 마찮가지로 양수 index와 음수 index 두개가 각 값에 생긴다.\n",
    "    -   양수 index는 앞에서부터 음수 index는 뒤에서 부터 값을 식별할 때 사용하는 것이 편리하다. #문자열과 같음 A 0 / -3, B 1 / -2, C 2 / -1\n",
    "    -   **index를 가지고 각 원소값의 의미를 식별할 수 있으면 List나 Tuple을 사용한다.**\n",
    "-   중복된 값들을 저장할 수 있다.\n",
    "-   각 원소들의 데이터 타입은 달라도 상관없다.\n",
    "    -   보통은 같은 타입의 데이터를 모은다.\n",
    "-   리스트를 구성하는 **원소들을 변경할 수 있다.** (추가, 삭제, 변경이 가능)\n",
    "    -   원소 변경 여부가 List와 Tuple의 차이이다.\n",
    "\n",
    "## List 생성 구문\n",
    "\n",
    "```python\n",
    "[값, 값, 값, ..]\n",
    "```\n"
   ]
  },
  {
   "cell_type": "code",
   "execution_count": 9,
   "id": "6eef6bd9",
   "metadata": {},
   "outputs": [],
   "source": [
    "# l1 = [10, 20, 30, 40, 50]"
   ]
  },
  {
   "cell_type": "code",
   "execution_count": 16,
   "id": "efc59691",
   "metadata": {
    "ExecuteTime": {
     "end_time": "2022-12-18T00:22:24.071490Z",
     "start_time": "2022-12-18T00:22:23.651455Z"
    },
    "slideshow": {
     "slide_type": "fragment"
    }
   },
   "outputs": [
    {
     "name": "stdout",
     "output_type": "stream",
     "text": [
      "[10, 20, 30, 40, 50]\n"
     ]
    }
   ],
   "source": [
    "# l1 변수를 입력하면 주소로 관리하고 값을 파악, 사용한다. --> 참조한다.\n",
    "l1 = [10, 20, 30, 40, 50]\n",
    "print(l1)"
   ]
  },
  {
   "cell_type": "code",
   "execution_count": 19,
   "id": "0d1b8f75-29ca-4e18-bd49-8dbc37d03b0f",
   "metadata": {},
   "outputs": [
    {
     "name": "stdout",
     "output_type": "stream",
     "text": [
      "<class 'list'>\n"
     ]
    },
    {
     "data": {
      "text/plain": [
       "True"
      ]
     },
     "execution_count": 19,
     "metadata": {},
     "output_type": "execute_result"
    }
   ],
   "source": [
    "print(type(l1))\n",
    "type(l1) == list"
   ]
  },
  {
   "cell_type": "code",
   "execution_count": 1,
   "id": "1877b117-45ab-42ec-8681-996a00b489cf",
   "metadata": {},
   "outputs": [
    {
     "data": {
      "text/plain": [
       "['이순신', 30, '서울', 180.56, 79.21, 'O형', '010-1111-1234', True]"
      ]
     },
     "execution_count": 1,
     "metadata": {},
     "output_type": "execute_result"
    }
   ],
   "source": [
    "person1 = [\"이순신\", 30, \"서울\", 180.56, 79.21, \"O형\", \"010-1111-1234\", True] \n",
    "# 이런거 저장할 땐 원래 딕셔너리가 좋음 # 다른타입들을 저장할 수 있다 \n",
    "person1"
   ]
  },
  {
   "cell_type": "code",
   "execution_count": null,
   "id": "0c046455-04b5-4811-8894-ad2c84158d61",
   "metadata": {},
   "outputs": [],
   "source": [
    "l2 = [100, 200, [300, 400], [500, [600, 700]]] \n",
    "#list (자료구조) 안에 원소로 list (자료구조)\n",
    "#중첩 리스트"
   ]
  },
  {
   "cell_type": "markdown",
   "id": "08d634bf",
   "metadata": {
    "slideshow": {
     "slide_type": "subslide"
    }
   },
   "source": [
    "## Indexing과 Slicing을 이용한 원소(element) 조회 및 변경\n",
    "\n",
    "### Indexing\n",
    "\n",
    "-   하나의 원소를 조회하거나 변경할 때 사용\n",
    "-   리스트\\[index\\]\n",
    "    -   index의 원소를 조회\n",
    "-   리스트\\[index\\] = 값\n",
    "    -   index의 원소를 변경\n"
   ]
  },
  {
   "cell_type": "code",
   "execution_count": 21,
   "id": "9804405a-09c5-413b-a43e-f22abd164fb7",
   "metadata": {},
   "outputs": [
    {
     "data": {
      "text/plain": [
       "20"
      ]
     },
     "execution_count": 21,
     "metadata": {},
     "output_type": "execute_result"
    }
   ],
   "source": [
    "l1[1]"
   ]
  },
  {
   "cell_type": "code",
   "execution_count": 22,
   "id": "de758d1a-49ec-4d47-b18b-b91451701f9f",
   "metadata": {},
   "outputs": [],
   "source": [
    "l1[3] = 80"
   ]
  },
  {
   "cell_type": "code",
   "execution_count": null,
   "id": "75c90680-82c8-4de9-a1f1-056a29e40eca",
   "metadata": {},
   "outputs": [],
   "source": []
  },
  {
   "cell_type": "markdown",
   "id": "ab5a40cb",
   "metadata": {
    "slideshow": {
     "slide_type": "fragment"
    }
   },
   "source": [
    "### Slicing\n",
    "\n",
    "-   범위로 조회하거나 그 범위의 값들을 변경한다.\n",
    "-   기본구문: **리스트\\[ 시작 index : 종료 index : 간격\\]**\n",
    "    -   시작 index ~ (종료 index – 1)\n",
    "    -   간격을 지정하면 간격만큼 index를 증/감한다. (생략 시 1이 기본 간격)\n",
    "-   **0번 index 부터 조회 할 경우 시작 index는 생략가능**\n",
    "    -   리스트 \\[ : 5\\] => 0 ~ 4 까지 조회\n",
    "-   **마지막 index까지 (끝까지) 조회 할 경우 종료 index는 생략 가능**\n",
    "    -   리스트\\[2 : \\] => 2번 index 에서 끝까지\n",
    "-   **명시적으로 간격을 줄 경우**\n",
    "    -   리스트\\[ : : 3 \\] => 0, 3, 6, 9.. index의 값 조회\n",
    "    -   리스트\\[1 : 9 : 2\\] => 1, 3, 5, 7 index의 값 조회\n",
    "-   **시작 index > 종료 index, 간격을 음수로 하면 역으로 반환한다.(Reverse)**\n",
    "    -   리스트\\[5: 1: -1\\] => 5, 4, 3, 2 index의 값 조회\n",
    "    -   리스트\\[: : -1\\] => 마지막 index ~ 0번 index 까지 의미. Reverse 한다.\n",
    "\n",
    "#### slicing을 이용한 값 변경\n",
    "\n",
    "-   slicing 을 이용할 경우 slicing된 원소 개수와 동일한 개수의 값들을 대입한다.\n",
    "    -   `리스트[1:5] = 10,20,30,40` : index 1, 2, 3, 4의 값을 각각 10, 20, 30, 40 으로 변경\n"
   ]
  },
  {
   "cell_type": "code",
   "execution_count": 26,
   "id": "7ac611b1-4fd6-4c71-b259-1829f7b8686d",
   "metadata": {},
   "outputs": [
    {
     "data": {
      "text/plain": [
       "9"
      ]
     },
     "execution_count": 26,
     "metadata": {},
     "output_type": "execute_result"
    }
   ],
   "source": [
    "l = [0, 1, 2, 3, 4, 5, 6, 7, 8, 9,]\n",
    "#indexing\n",
    "l[0]\n",
    "l[5]\n",
    "l[-1]\n",
    "l[9]"
   ]
  },
  {
   "cell_type": "code",
   "execution_count": 30,
   "id": "a758ab6d",
   "metadata": {},
   "outputs": [
    {
     "name": "stdout",
     "output_type": "stream",
     "text": [
      "[10000, 1, 2, 3, 4, 5, 6, 7, 8, 9]\n",
      "[10000, 1, 2, 3, 4, 5, 6, 7, 8, 9]\n"
     ]
    }
   ],
   "source": [
    "# 변경\n",
    "print(l)\n",
    "l[0] = 10_000\n",
    "print(l)"
   ]
  },
  {
   "cell_type": "code",
   "execution_count": 31,
   "id": "5d462776",
   "metadata": {
    "slideshow": {
     "slide_type": "fragment"
    }
   },
   "outputs": [
    {
     "name": "stdout",
     "output_type": "stream",
     "text": [
      "[10000, 1, 2, 3, 4, 5, 6, 7, 8, 90000]\n"
     ]
    }
   ],
   "source": [
    "l[-1] = 90_000\n",
    "print(l)"
   ]
  },
  {
   "cell_type": "code",
   "execution_count": 35,
   "id": "a7b01253-88b1-48cc-a244-50c53dfc8e1f",
   "metadata": {},
   "outputs": [
    {
     "name": "stdout",
     "output_type": "stream",
     "text": [
      "[10000, 1, 2, 3, 4, 5, 6, 7, 8, 90000]\n"
     ]
    },
    {
     "data": {
      "text/plain": [
       "[1, 2, 3, 4, 5, 6, 7]"
      ]
     },
     "execution_count": 35,
     "metadata": {},
     "output_type": "execute_result"
    }
   ],
   "source": [
    "# slicing\n",
    "print(l)\n",
    "l[1:8] # 간격 1"
   ]
  },
  {
   "cell_type": "code",
   "execution_count": 36,
   "id": "8c9e3756-92f1-4ad7-b8de-97b01e493b62",
   "metadata": {},
   "outputs": [
    {
     "data": {
      "text/plain": [
       "[1, 3, 5, 7]"
      ]
     },
     "execution_count": 36,
     "metadata": {},
     "output_type": "execute_result"
    }
   ],
   "source": [
    "l[1:8:2]"
   ]
  },
  {
   "cell_type": "code",
   "execution_count": 38,
   "id": "44285e1e-9544-4cb1-8b8e-29e47008db97",
   "metadata": {},
   "outputs": [
    {
     "data": {
      "text/plain": [
       "[10000, 500, 600, 700, 4, 5, 6, 7, 8, 90000]"
      ]
     },
     "execution_count": 38,
     "metadata": {},
     "output_type": "execute_result"
    }
   ],
   "source": [
    "# slicing 변경\n",
    "l[1:4] = 500, 600, 700 # index 개수와 값의 개수가 같아야한다. \n",
    "l"
   ]
  },
  {
   "cell_type": "markdown",
   "id": "a4f9fe12",
   "metadata": {
    "slideshow": {
     "slide_type": "slide"
    }
   },
   "source": [
    "## List 연산자\n",
    "\n",
    "-   **리스트 + 리스트**\n",
    "    -   두 리스트의 원소들을 합친 리스트를 반환한다.\n",
    "-   **리스트 \\* 정수**\n",
    "    -   같은 리스트의 원소들을 정수번 합친 리스트를 반환한다.\n",
    "-   **in, not in 연산자**\n",
    "    -   값 in 리스트\n",
    "        -   리스트의 원소로 값이 **있으면** True, 없으면 False 반환\n",
    "    -   값 not in 리스트\n",
    "        -   리스트의 원소로 값이 **없으면** True, 있으면 False 반환\n",
    "-   **len(리스트)**\n",
    "    -   리스트 내의 원소수를 반환.\n"
   ]
  },
  {
   "cell_type": "code",
   "execution_count": 42,
   "id": "db069ee7",
   "metadata": {},
   "outputs": [
    {
     "name": "stdout",
     "output_type": "stream",
     "text": [
      "[1, 2, 3, 100, 200, 300, 400]\n"
     ]
    },
    {
     "data": {
      "text/plain": [
       "[100, 200, 300, 400]"
      ]
     },
     "execution_count": 42,
     "metadata": {},
     "output_type": "execute_result"
    }
   ],
   "source": [
    "a = [1, 2, 3]\n",
    "b = [100, 200, 300, 400]\n",
    "c = a + b #a 리스트와 b 리스트를 합침. 새로운 합친 내용이 만들어짐\n",
    "print(c)\n",
    "b"
   ]
  },
  {
   "cell_type": "code",
   "execution_count": 44,
   "id": "f085e817",
   "metadata": {
    "ExecuteTime": {
     "end_time": "2022-12-17T14:17:03.293505Z",
     "start_time": "2022-12-17T14:17:03.285501Z"
    },
    "slideshow": {
     "slide_type": "fragment"
    }
   },
   "outputs": [
    {
     "data": {
      "text/plain": [
       "[1, 2, 3, 1, 2, 3, 1, 2, 3, 1, 2, 3]"
      ]
     },
     "execution_count": 44,
     "metadata": {},
     "output_type": "execute_result"
    }
   ],
   "source": [
    "d = a * 4\n",
    "d"
   ]
  },
  {
   "cell_type": "code",
   "execution_count": 49,
   "id": "43927bd3-ca6a-46d9-a288-290a84c6abd1",
   "metadata": {},
   "outputs": [
    {
     "data": {
      "text/plain": [
       "True"
      ]
     },
     "execution_count": 49,
     "metadata": {},
     "output_type": "execute_result"
    }
   ],
   "source": [
    "# 원소 in list \n",
    "2 not in c\n",
    "404 not in c"
   ]
  },
  {
   "cell_type": "markdown",
   "id": "f90af754",
   "metadata": {
    "slideshow": {
     "slide_type": "slide"
    }
   },
   "source": [
    "## 중첩 리스트 (Nested List)\n",
    "\n",
    "-   List가 원소로 List를 가지는 것을 말한다.\n",
    "    -   List를 포함한 모든 자료구조 타입들도 다 값이므로 다른 자료구조의 원소로 들어갈 수 있다.\n",
    "    -   List(자료구조)도 값이다. 그래서 다른 자료구조의 원소로 들어갈 수 있다."
   ]
  },
  {
   "cell_type": "code",
   "execution_count": null,
   "id": "4f52b717",
   "metadata": {},
   "outputs": [],
   "source": []
  },
  {
   "cell_type": "code",
   "execution_count": null,
   "id": "01bede57",
   "metadata": {
    "slideshow": {
     "slide_type": "fragment"
    }
   },
   "outputs": [],
   "source": []
  },
  {
   "cell_type": "code",
   "execution_count": null,
   "id": "2dfd6c46",
   "metadata": {
    "slideshow": {
     "slide_type": "fragment"
    }
   },
   "outputs": [],
   "source": []
  },
  {
   "cell_type": "markdown",
   "id": "826b8780",
   "metadata": {
    "slideshow": {
     "slide_type": "slide"
    }
   },
   "source": [
    "## List 주요 메소드\n",
    "\n",
    "| 메소드                       | 설명                                                                                 |\n",
    "| :--------------------------- | ------------------------------------------------------------------------------------ |\n",
    "| append(value)                | value를 추가한다.                                                                    |\n",
    "| extend(List)                 | List의 원소들을 추가한다.                                                            |\n",
    "| sort(\\[reverse=False\\])      | 원소들을 오름차순 정렬한다. reverse=True로 하면 내림차순정렬 한다.                   |\n",
    "| insert(index, 삽입할값)      | 지정한 index에 '삽입할값'을 삽입한다.                                                |\n",
    "| remove(삭제할값)             | '삭제할값' 값과 같은 원소를 삭제한다.                                                |\n",
    "| index(찾을값\\[, 시작index\\]) | '찾을값'의 index를 반환한다.                                                         |\n",
    "| pop(\\[index\\])               | index의 값을 반환하면서 삭제한다. index 생략하면 가장 마지막 값을 반환하며 삭제한다. |\n",
    "| count(값)                    | '값'이 리스트의 원소로 몇개 있는지 반환한다.                                         |\n",
    "| clear()                      | 리스트 안의 모든 원소들을 삭제한다.                                                  |\n"
   ]
  },
  {
   "cell_type": "code",
   "execution_count": 96,
   "id": "041be1da",
   "metadata": {},
   "outputs": [
    {
     "data": {
      "text/plain": [
       "[10, 20, 30, 100]"
      ]
     },
     "execution_count": 96,
     "metadata": {},
     "output_type": "execute_result"
    }
   ],
   "source": [
    "l = [10, 20, 30]\n",
    "l.append(100) # 한개씩 추가\n",
    "l "
   ]
  },
  {
   "cell_type": "code",
   "execution_count": 97,
   "id": "4b14d8e8",
   "metadata": {
    "slideshow": {
     "slide_type": "fragment"
    }
   },
   "outputs": [
    {
     "data": {
      "text/plain": [
       "[10, 20, 30, 100, 1, 2, 3, 4]"
      ]
     },
     "execution_count": 97,
     "metadata": {},
     "output_type": "execute_result"
    }
   ],
   "source": [
    "l.extend([1, 2, 3, 4]) #여러개 값 추가\n",
    "l"
   ]
  },
  {
   "cell_type": "code",
   "execution_count": 98,
   "id": "d15d3350-c8d4-45d3-9350-d3057683d961",
   "metadata": {},
   "outputs": [],
   "source": [
    "l.insert(2, 5000) #삽입"
   ]
  },
  {
   "cell_type": "code",
   "execution_count": 99,
   "id": "8eb1a503-222a-4ee1-b42e-7f29e12c6d10",
   "metadata": {},
   "outputs": [
    {
     "data": {
      "text/plain": [
       "[10, 20, 5000, 30, 100, 1, 2, 3, 4]"
      ]
     },
     "execution_count": 99,
     "metadata": {},
     "output_type": "execute_result"
    }
   ],
   "source": [
    "l"
   ]
  },
  {
   "cell_type": "code",
   "execution_count": 66,
   "id": "2b2124a8-dcb6-42f4-b091-c250ff78df01",
   "metadata": {},
   "outputs": [],
   "source": [
    "# 정렬 - sorted() 함수, sort() list 메소드\n",
    "# sorted() 함수 - 모든 자료구조를 받아서 정렬한 결과를 list로 반환. (원본을 정렬하지 않는다)정렬한 결과를 새로 만들어서 준다.\n",
    "# sort() 메소드 - list용. list자체를 정렬.\n"
   ]
  },
  {
   "cell_type": "code",
   "execution_count": 100,
   "id": "10fd04d4-0140-472c-b4ea-a001a9e5b846",
   "metadata": {},
   "outputs": [
    {
     "data": {
      "text/plain": [
       "[1, 2, 3, 4, 10, 20, 30, 100, 5000]"
      ]
     },
     "execution_count": 100,
     "metadata": {},
     "output_type": "execute_result"
    }
   ],
   "source": [
    "sorted(l) # 오름차순으로 정리 # l을 정리하는게 아니고, 정리한 값을 보여줌"
   ]
  },
  {
   "cell_type": "code",
   "execution_count": 101,
   "id": "a1a6f6bc-9333-4833-a62b-9040a34fff71",
   "metadata": {},
   "outputs": [
    {
     "data": {
      "text/plain": [
       "[10, 20, 5000, 30, 100, 1, 2, 3, 4]"
      ]
     },
     "execution_count": 101,
     "metadata": {},
     "output_type": "execute_result"
    }
   ],
   "source": [
    "l"
   ]
  },
  {
   "cell_type": "code",
   "execution_count": 102,
   "id": "35ce0afd-5fce-45e2-a770-79dc68db2d82",
   "metadata": {},
   "outputs": [
    {
     "data": {
      "text/plain": [
       "[1, 2, 3, 4, 10, 20, 30, 100, 5000]"
      ]
     },
     "execution_count": 102,
     "metadata": {},
     "output_type": "execute_result"
    }
   ],
   "source": [
    "result = sorted(l) \n",
    "result"
   ]
  },
  {
   "cell_type": "code",
   "execution_count": 103,
   "id": "15842f98-bce5-4d20-8f9e-11e7c9ef3865",
   "metadata": {},
   "outputs": [
    {
     "data": {
      "text/plain": [
       "[10, 20, 5000, 30, 100, 1, 2, 3, 4]"
      ]
     },
     "execution_count": 103,
     "metadata": {},
     "output_type": "execute_result"
    }
   ],
   "source": [
    "l"
   ]
  },
  {
   "cell_type": "code",
   "execution_count": 104,
   "id": "ece48cb6-d16d-404d-ae59-aabb63caa9e8",
   "metadata": {},
   "outputs": [
    {
     "data": {
      "text/plain": [
       "[5000, 100, 30, 20, 10, 4, 3, 2, 1]"
      ]
     },
     "execution_count": 104,
     "metadata": {},
     "output_type": "execute_result"
    }
   ],
   "source": [
    "sorted(l, reverse=True) #내림차순"
   ]
  },
  {
   "cell_type": "code",
   "execution_count": 105,
   "id": "6b8ddb69-d850-4900-b3a3-471f57388630",
   "metadata": {},
   "outputs": [],
   "source": [
    "l.sort() # 오름차순"
   ]
  },
  {
   "cell_type": "code",
   "execution_count": 106,
   "id": "f29887ea-5295-421c-907a-bfd69d262f26",
   "metadata": {},
   "outputs": [
    {
     "data": {
      "text/plain": [
       "[1, 2, 3, 4, 10, 20, 30, 100, 5000]"
      ]
     },
     "execution_count": 106,
     "metadata": {},
     "output_type": "execute_result"
    }
   ],
   "source": [
    "l"
   ]
  },
  {
   "cell_type": "code",
   "execution_count": 107,
   "id": "0660541a-720a-4551-8730-f22d593ba954",
   "metadata": {},
   "outputs": [],
   "source": [
    "l.sort(reverse=True)"
   ]
  },
  {
   "cell_type": "code",
   "execution_count": 108,
   "id": "3b6c05e3-9b7d-4da0-be53-061639b4235f",
   "metadata": {},
   "outputs": [
    {
     "data": {
      "text/plain": [
       "[5000, 100, 30, 20, 10, 4, 3, 2, 1]"
      ]
     },
     "execution_count": 108,
     "metadata": {},
     "output_type": "execute_result"
    }
   ],
   "source": [
    "l"
   ]
  },
  {
   "cell_type": "code",
   "execution_count": 109,
   "id": "bb670e7e-7789-43ca-97a9-fcd2983907f8",
   "metadata": {},
   "outputs": [],
   "source": [
    "# 삭제 \n",
    "## 값으로 삭제\n",
    "l.remove(100)"
   ]
  },
  {
   "cell_type": "code",
   "execution_count": 110,
   "id": "e9399d4a-736b-4163-aaeb-951209a122a1",
   "metadata": {},
   "outputs": [
    {
     "data": {
      "text/plain": [
       "[5000, 30, 20, 10, 4, 3, 2, 1]"
      ]
     },
     "execution_count": 110,
     "metadata": {},
     "output_type": "execute_result"
    }
   ],
   "source": [
    "l"
   ]
  },
  {
   "cell_type": "code",
   "execution_count": 111,
   "id": "e7113b7b-6484-4c7d-88da-d35e79d6be4d",
   "metadata": {},
   "outputs": [
    {
     "data": {
      "text/plain": [
       "5000"
      ]
     },
     "execution_count": 111,
     "metadata": {},
     "output_type": "execute_result"
    }
   ],
   "source": [
    "# index로 삭제\n",
    "l.pop(0)"
   ]
  },
  {
   "cell_type": "code",
   "execution_count": 112,
   "id": "ff126111-8994-4411-949f-685c1ea8179e",
   "metadata": {},
   "outputs": [
    {
     "data": {
      "text/plain": [
       "[30, 20, 10, 4, 3, 2, 1]"
      ]
     },
     "execution_count": 112,
     "metadata": {},
     "output_type": "execute_result"
    }
   ],
   "source": [
    "l"
   ]
  },
  {
   "cell_type": "code",
   "execution_count": 113,
   "id": "abf594e8-91df-44c0-946a-dfe859e70b58",
   "metadata": {},
   "outputs": [
    {
     "data": {
      "text/plain": [
       "1"
      ]
     },
     "execution_count": 113,
     "metadata": {},
     "output_type": "execute_result"
    }
   ],
   "source": [
    "l.pop() # 마지막 index값을 삭제"
   ]
  },
  {
   "cell_type": "code",
   "execution_count": 114,
   "id": "53a50674-9fc8-4b02-839f-048f4a64b1ac",
   "metadata": {},
   "outputs": [
    {
     "data": {
      "text/plain": [
       "[30, 20, 10, 4, 3, 2]"
      ]
     },
     "execution_count": 114,
     "metadata": {},
     "output_type": "execute_result"
    }
   ],
   "source": [
    "l"
   ]
  },
  {
   "cell_type": "markdown",
   "id": "5b28f033",
   "metadata": {
    "slideshow": {
     "slide_type": "slide"
    }
   },
   "source": [
    "# Tuple (튜플)\n",
    "\n",
    "-   List와 같이 순서대로 원소들을 관리한다. 단 저장된 원소를 변경할 수 없다.\n",
    "-   Tuple 은 각 위치(Index) 마다 정해진 의미가 있고 그 값이 한번 설정되면 바뀌지 않는 경우에 사용한다.\n",
    "    -   Tuple은 값의 변경되지 않으므로 안전하다. #좌표값 (위도, 경도)\n",
    "\n",
    "## Tuple 생성\n",
    "\n",
    "-   `(value, value, value, ...)`\n",
    "-   소괄호를 생략할 수 있다.\n",
    "-   원소가 하나인 Tuple 표현식\n",
    "    -   `(value,)` 또는 `value,`\n",
    "        -   값 뒤에 `,` 를 붙여준다. `,`를 붙이지 않으면 ( )가 연산자 우선순위 괄호가 된다.\n"
   ]
  },
  {
   "cell_type": "code",
   "execution_count": 119,
   "id": "aae99df1-0ed2-4a4a-a19b-f2d066ae8e0e",
   "metadata": {},
   "outputs": [
    {
     "data": {
      "text/plain": [
       "(1, 2, 3, 4, 5)"
      ]
     },
     "execution_count": 119,
     "metadata": {},
     "output_type": "execute_result"
    }
   ],
   "source": [
    "t1 = (1, 2, 3, 4, 5)\n",
    "t1"
   ]
  },
  {
   "cell_type": "code",
   "execution_count": 121,
   "id": "f7f96391",
   "metadata": {},
   "outputs": [
    {
     "data": {
      "text/plain": [
       "(10, 20, 30, 40, 50)"
      ]
     },
     "execution_count": 121,
     "metadata": {},
     "output_type": "execute_result"
    }
   ],
   "source": [
    "t2 = 10, 20, 30, 40, 50 # 괄호 생략\n",
    "t2"
   ]
  },
  {
   "cell_type": "code",
   "execution_count": 123,
   "id": "17099a9e",
   "metadata": {
    "slideshow": {
     "slide_type": "fragment"
    }
   },
   "outputs": [
    {
     "data": {
      "text/plain": [
       "int"
      ]
     },
     "execution_count": 123,
     "metadata": {},
     "output_type": "execute_result"
    }
   ],
   "source": [
    "t3 = (100) # 괄호 tuple 아니고 연산자 우선순위 정해진것\n",
    "type(t3)"
   ]
  },
  {
   "cell_type": "code",
   "execution_count": 125,
   "id": "a8ec2f6d-917a-47b0-bd3c-4e854418804b",
   "metadata": {},
   "outputs": [
    {
     "data": {
      "text/plain": [
       "tuple"
      ]
     },
     "execution_count": 125,
     "metadata": {},
     "output_type": "execute_result"
    }
   ],
   "source": [
    "t3 = (100,) # 쉼표 붙여주면 tuple이 됨\n",
    "type(t3)"
   ]
  },
  {
   "cell_type": "code",
   "execution_count": 128,
   "id": "fcf65284-5341-4ef2-97d7-d0acb359568a",
   "metadata": {},
   "outputs": [
    {
     "data": {
      "text/plain": [
       "tuple"
      ]
     },
     "execution_count": 128,
     "metadata": {},
     "output_type": "execute_result"
    }
   ],
   "source": [
    "t4 = 200, #정수 쓸 때 뒤에 쉼표 조심!\n",
    "type(t4)"
   ]
  },
  {
   "cell_type": "code",
   "execution_count": 129,
   "id": "2b0c597a-4688-4597-83f1-358b21f5e6b2",
   "metadata": {},
   "outputs": [
    {
     "data": {
      "text/plain": [
       "('A', 100, 30.2, True)"
      ]
     },
     "execution_count": 129,
     "metadata": {},
     "output_type": "execute_result"
    }
   ],
   "source": [
    "t5 = (\"A\", 100, 30.2, True) # 다른 타입 대입 가능\n",
    "t5"
   ]
  },
  {
   "cell_type": "markdown",
   "id": "16954356",
   "metadata": {
    "slideshow": {
     "slide_type": "slide"
    }
   },
   "source": [
    "## Indexing과 Slicing을 이용한 원소(element) 조회\n",
    "\n",
    "-   리스트와 동일하다.\n",
    "-   단 튜플은 조회만 가능하고 원소를 변경할 수 없다.\n"
   ]
  },
  {
   "cell_type": "code",
   "execution_count": null,
   "id": "fa92bc45",
   "metadata": {},
   "outputs": [],
   "source": []
  },
  {
   "cell_type": "code",
   "execution_count": null,
   "id": "6c5b9b2c",
   "metadata": {
    "slideshow": {
     "slide_type": "fragment"
    }
   },
   "outputs": [],
   "source": []
  },
  {
   "cell_type": "markdown",
   "id": "135101f3",
   "metadata": {
    "slideshow": {
     "slide_type": "slide"
    }
   },
   "source": [
    "## Tuple 연산자\n",
    "\n",
    "-   **tuple + tuple**\n",
    "    -   두 tuple의 원소들을 합친 tuple을 반환한다.\n",
    "-   **tuple \\* 정수**\n",
    "    -   같은 tuple의 원소들을 정수번 합친 tuple를 반환한다.\n",
    "-   **in, not in 연산자**\n",
    "    -   값 in tuple\n",
    "        -   tuple의 원소로 값이 **있으면** True, 없으면 False 반환\n",
    "    -   값 not in tuple\n",
    "        -   tuple의 원소로 값이 **없으면** True, 있으면 False 반환\n",
    "-   **len(tuple)**\n",
    "    -   tuple의 원소 개수 반환\n"
   ]
  },
  {
   "cell_type": "code",
   "execution_count": 130,
   "id": "c39c878c",
   "metadata": {},
   "outputs": [
    {
     "data": {
      "text/plain": [
       "5"
      ]
     },
     "execution_count": 130,
     "metadata": {},
     "output_type": "execute_result"
    }
   ],
   "source": [
    "len(t1)"
   ]
  },
  {
   "cell_type": "code",
   "execution_count": 133,
   "id": "5903e00f",
   "metadata": {
    "slideshow": {
     "slide_type": "fragment"
    }
   },
   "outputs": [
    {
     "data": {
      "text/plain": [
       "(1, 2, 3, 4, 5, 10, 20, 30, 40, 50)"
      ]
     },
     "execution_count": 133,
     "metadata": {},
     "output_type": "execute_result"
    }
   ],
   "source": [
    "t1 + t2 # list와 같음. 새로운 tuple 만드는 것"
   ]
  },
  {
   "cell_type": "code",
   "execution_count": 134,
   "id": "50cb8098-8807-439e-aed3-c7cdf99863ae",
   "metadata": {},
   "outputs": [
    {
     "data": {
      "text/plain": [
       "(1, 2, 3, 4, 5, 1, 2, 3, 4, 5, 1, 2, 3, 4, 5)"
      ]
     },
     "execution_count": 134,
     "metadata": {},
     "output_type": "execute_result"
    }
   ],
   "source": [
    "t1 * 3"
   ]
  },
  {
   "cell_type": "code",
   "execution_count": 135,
   "id": "6945e032-43f1-432f-b3f3-b9b8ec86fcfc",
   "metadata": {},
   "outputs": [
    {
     "data": {
      "text/plain": [
       "(1, 2, 3, 4, 5, 10, 20, 30, 40, 50)"
      ]
     },
     "execution_count": 135,
     "metadata": {},
     "output_type": "execute_result"
    }
   ],
   "source": [
    "t6 = t1 + t2\n",
    "t6"
   ]
  },
  {
   "cell_type": "code",
   "execution_count": 136,
   "id": "77ad2952-1ff2-4f4c-aca0-ca2fbd365509",
   "metadata": {
    "jp-MarkdownHeadingCollapsed": true
   },
   "outputs": [
    {
     "data": {
      "text/plain": [
       "True"
      ]
     },
     "execution_count": 136,
     "metadata": {},
     "output_type": "execute_result"
    }
   ],
   "source": [
    "1 in t1"
   ]
  },
  {
   "cell_type": "markdown",
   "id": "89803fdd",
   "metadata": {
    "slideshow": {
     "slide_type": "subslide"
    }
   },
   "source": [
    "## Tuple의 주요 메소드\n",
    "\n",
    "| 메소드                        | 설명                                |\n",
    "| :---------------------------- | ----------------------------------- |\n",
    "| index(찾을값 \\[, 시작index\\]) | '찾을값'이 몇번 index인지 반환한다. |\n",
    "| count(값)                     | 원소로 '값'이 몇개 있는지 반환한다. |\n"
   ]
  },
  {
   "cell_type": "code",
   "execution_count": 138,
   "id": "e8e4d78e",
   "metadata": {},
   "outputs": [
    {
     "data": {
      "text/plain": [
       "0"
      ]
     },
     "execution_count": 138,
     "metadata": {},
     "output_type": "execute_result"
    }
   ],
   "source": [
    "t10 = (100, 2, 500, 100, 20, 4, 2)\n",
    "t10.index(100) #뒤에 있는 건 안찾아줌"
   ]
  },
  {
   "cell_type": "code",
   "execution_count": 140,
   "id": "93a527af",
   "metadata": {
    "slideshow": {
     "slide_type": "fragment"
    }
   },
   "outputs": [
    {
     "data": {
      "text/plain": [
       "3"
      ]
     },
     "execution_count": 140,
     "metadata": {},
     "output_type": "execute_result"
    }
   ],
   "source": [
    "t10.index(100,1) # 시작 index 정해주기 "
   ]
  },
  {
   "cell_type": "code",
   "execution_count": 143,
   "id": "5f4de31e-83b8-4c2e-bf1f-79fb7e4554a5",
   "metadata": {},
   "outputs": [
    {
     "data": {
      "text/plain": [
       "3"
      ]
     },
     "execution_count": 143,
     "metadata": {},
     "output_type": "execute_result"
    }
   ],
   "source": [
    "t10[::-1].index(100) # 뒤에서 부터 찾기"
   ]
  },
  {
   "cell_type": "code",
   "execution_count": 141,
   "id": "e9d03bf3-2069-473d-a9d3-8dc2cc172c53",
   "metadata": {},
   "outputs": [
    {
     "data": {
      "text/plain": [
       "2"
      ]
     },
     "execution_count": 141,
     "metadata": {},
     "output_type": "execute_result"
    }
   ],
   "source": [
    "t10.count(100)"
   ]
  },
  {
   "cell_type": "code",
   "execution_count": 146,
   "id": "cee5c618-79b3-43c4-9b9e-adf14b03bb83",
   "metadata": {},
   "outputs": [
    {
     "data": {
      "text/plain": [
       "[2, 2, 4, 20, 100, 100, 500]"
      ]
     },
     "execution_count": 146,
     "metadata": {},
     "output_type": "execute_result"
    }
   ],
   "source": [
    "# 정렬 -> sorted() 함수\n",
    "sorted(t10) #list 로 반환이 됨 (당연함, tuple은 원본을 못바꿈 )"
   ]
  },
  {
   "cell_type": "markdown",
   "id": "e6c196f5",
   "metadata": {
    "slideshow": {
     "slide_type": "slide"
    }
   },
   "source": [
    "# Dictionary\n",
    "\n",
    "-   값을 키(key)-값(value) 쌍으로 묶어서 저장하는 자료구조이다.\n",
    "    -   리스트나 튜플의 index의 역할을 하는 key를 직접 지정한다.\n",
    "    -   서로 의미가 다른 값들을 하나로 묶을 때 그 값의 의미를 key로 가질 수 있는 dictionary를 사용한다.\n",
    "        -   cf) 값의 의미가 같을 경우 List나 Tuple을 사용한다.\n",
    "    -   key-value 쌍으로 묶은 데이터 한개를 **item 또는 entry**라고 한다.\n",
    "    -   key는 중복을 허용하지 않고 value는 중복을 허용한다.\n",
    "\n",
    "## Dictionary 생성\n",
    "\n",
    "-   구문\n",
    "    1. `{ 키 : 값, 키 : 값, 키 : 값 }`\n",
    "    2. dict(key=value, key=value) 함수 이용\n",
    "    -   키(key)는 불변(Immutable)의 값들만 사용 가능하다. (숫자, 문자열, 튜플) 일반적으로 문자열을 사용한다.\n",
    "    -   dict() 함수를 사용할 경우 key는 변수로 정의한다\n"
   ]
  },
  {
   "cell_type": "markdown",
   "id": "aa09314d-7203-4bb8-a924-7f6d5cdcffdf",
   "metadata": {},
   "source": [
    "value를 넣고 key로 식별"
   ]
  },
  {
   "cell_type": "markdown",
   "id": "2f4e1a1e-1bdb-46d5-b485-1a373b9bab97",
   "metadata": {
    "slideshow": {
     "slide_type": "fragment"
    }
   },
   "source": [
    "key는 하나 (중복불가), value는 여러개 가능 (name)"
   ]
  },
  {
   "cell_type": "code",
   "execution_count": 4,
   "id": "af3de55d-252d-4c78-99bc-25688ae35cc3",
   "metadata": {},
   "outputs": [
    {
     "data": {
      "text/plain": [
       "{'이름': '홍길동', '나이': 20, '결혼여부': False}"
      ]
     },
     "execution_count": 4,
     "metadata": {},
     "output_type": "execute_result"
    }
   ],
   "source": [
    "d1 = {\"이름\": \"홍길동\", \"나이\":20, \"결혼여부\":False}\n",
    "d1"
   ]
  },
  {
   "cell_type": "code",
   "execution_count": 5,
   "id": "9c1ffe8e-081b-4998-9a58-3b30950e49e5",
   "metadata": {},
   "outputs": [
    {
     "data": {
      "text/plain": [
       "{'이름': '홍길동', '나이': 20, '결혼여부': False, '취미': ['영화감상', '독서', '음악감상']}"
      ]
     },
     "execution_count": 5,
     "metadata": {},
     "output_type": "execute_result"
    }
   ],
   "source": [
    "d2 = {\n",
    "    \"이름\": \"홍길동\", \n",
    "    \"나이\":20, \n",
    "    \"결혼여부\":False,\n",
    "    \"취미\": [\"영화감상\", \"독서\", \"음악감상\"]\n",
    "}\n",
    "d2"
   ]
  },
  {
   "cell_type": "code",
   "execution_count": 6,
   "id": "f169d669-f108-4371-bb19-1f95b13c35c0",
   "metadata": {},
   "outputs": [
    {
     "data": {
      "text/plain": [
       "{'이름': '홍길동', '나이': 30, '주소': '서울시 금천구', '취미': ['게임', '야구']}"
      ]
     },
     "execution_count": 6,
     "metadata": {},
     "output_type": "execute_result"
    }
   ],
   "source": [
    "d3 = dict(이름=\"홍길동\", 나이=30, 주소=\"서울시 금천구\", 취미=[\"게임\",\"야구\"])\n",
    "d3"
   ]
  },
  {
   "cell_type": "markdown",
   "id": "f8c87bd3",
   "metadata": {
    "slideshow": {
     "slide_type": "subslide"
    }
   },
   "source": [
    "## Dictionary 원소 조회 및 변경\n",
    "\n",
    "-   조회: index에 key값을 식별자로 지정한다.\n",
    "    -   dictionary\\[ key \\]\n",
    "    -   없는 키로 조회 시 KeyError 발생\n",
    "-   변경\n",
    "    -   dictionary\\[ key \\] = 값\n",
    "    -   있는 key값에 값을 대입하면 변경이고 없는 key 일 경우는 새로운 item을 추가하는 것이다.\n"
   ]
  },
  {
   "cell_type": "code",
   "execution_count": 7,
   "id": "5c8cec2f",
   "metadata": {},
   "outputs": [
    {
     "data": {
      "text/plain": [
       "'홍길동'"
      ]
     },
     "execution_count": 7,
     "metadata": {},
     "output_type": "execute_result"
    }
   ],
   "source": [
    "d2[\"이름\"]"
   ]
  },
  {
   "cell_type": "code",
   "execution_count": 8,
   "id": "459db630",
   "metadata": {
    "slideshow": {
     "slide_type": "fragment"
    }
   },
   "outputs": [
    {
     "data": {
      "text/plain": [
       "{'이름': '홍홍홍', '나이': 20, '결혼여부': False, '취미': ['영화감상', '독서', '음악감상']}"
      ]
     },
     "execution_count": 8,
     "metadata": {},
     "output_type": "execute_result"
    }
   ],
   "source": [
    "d2[\"이름\"] = \"홍홍홍\"\n",
    "d2"
   ]
  },
  {
   "cell_type": "code",
   "execution_count": 9,
   "id": "c2112de9-d215-42ff-8dac-e4d0f94dbe68",
   "metadata": {},
   "outputs": [
    {
     "data": {
      "text/plain": [
       "['영화감상', '독서', '음악감상']"
      ]
     },
     "execution_count": 9,
     "metadata": {},
     "output_type": "execute_result"
    }
   ],
   "source": [
    "d2[\"취미\"]"
   ]
  },
  {
   "cell_type": "code",
   "execution_count": 10,
   "id": "51c9ae4e-7027-4e66-84d9-905046e881a9",
   "metadata": {},
   "outputs": [
    {
     "data": {
      "text/plain": [
       "'독서'"
      ]
     },
     "execution_count": 10,
     "metadata": {},
     "output_type": "execute_result"
    }
   ],
   "source": [
    "d2[\"취미\"][1]"
   ]
  },
  {
   "cell_type": "code",
   "execution_count": 11,
   "id": "cb945656-b47f-4517-9524-87ebd47c6556",
   "metadata": {},
   "outputs": [
    {
     "data": {
      "text/plain": [
       "{'이름': '홍홍홍', '나이': 25, '결혼여부': False, '취미': ['영화감상', '독서', '음악감상']}"
      ]
     },
     "execution_count": 11,
     "metadata": {},
     "output_type": "execute_result"
    }
   ],
   "source": [
    "d2[\"나이\"] = 25\n",
    "d2"
   ]
  },
  {
   "cell_type": "code",
   "execution_count": 12,
   "id": "f9d2347c-2e4d-4077-b6ae-342ef2774287",
   "metadata": {},
   "outputs": [
    {
     "data": {
      "text/plain": [
       "{'이름': '홍홍홍',\n",
       " '나이': 25,\n",
       " '결혼여부': False,\n",
       " '취미': ['영화감상', '독서', '음악감상'],\n",
       " '전화번호': '010-333-3333'}"
      ]
     },
     "execution_count": 12,
     "metadata": {},
     "output_type": "execute_result"
    }
   ],
   "source": [
    "d2[\"전화번호\"] = \"010-333-3333\"\n",
    "d2"
   ]
  },
  {
   "cell_type": "code",
   "execution_count": null,
   "id": "bbce55a0-7e12-41e7-9793-3d8ae89cd95c",
   "metadata": {},
   "outputs": [],
   "source": []
  },
  {
   "cell_type": "markdown",
   "id": "d5aade1e",
   "metadata": {
    "slideshow": {
     "slide_type": "slide"
    }
   },
   "source": [
    "## Dictionary 연산자\n",
    "\n",
    "-   **in, not in 연산자**\n",
    "    -   값 in dictionary\n",
    "        -   dictionary의 **Key**로 값이 **있으면** True, 없으면 False 반환\n",
    "    -   값 not in dictionary\n",
    "        -   dictionary의 **Key**로 값이 **없으면** True, 있으면 False 반환\n",
    "-   **len(dictionary)**\n",
    "    -   dictionary의 **Item의 개수** 반환\n"
   ]
  },
  {
   "cell_type": "code",
   "execution_count": 13,
   "id": "71449891",
   "metadata": {},
   "outputs": [
    {
     "data": {
      "text/plain": [
       "5"
      ]
     },
     "execution_count": 13,
     "metadata": {},
     "output_type": "execute_result"
    }
   ],
   "source": [
    "len(d2) # 이름, 나이, 결혼여부, 취미, 전화번호"
   ]
  },
  {
   "cell_type": "code",
   "execution_count": 14,
   "id": "4a7c9061",
   "metadata": {
    "slideshow": {
     "slide_type": "fragment"
    }
   },
   "outputs": [
    {
     "data": {
      "text/plain": [
       "True"
      ]
     },
     "execution_count": 14,
     "metadata": {},
     "output_type": "execute_result"
    }
   ],
   "source": [
    "\"이름\" in d2 # key값을 물어보기, value가 아님 / key 값이 중요하기 때문에"
   ]
  },
  {
   "cell_type": "code",
   "execution_count": 15,
   "id": "37e3ac03-9497-4150-b615-9a0abdb833fb",
   "metadata": {},
   "outputs": [
    {
     "data": {
      "text/plain": [
       "False"
      ]
     },
     "execution_count": 15,
     "metadata": {},
     "output_type": "execute_result"
    }
   ],
   "source": [
    "\"홍길동\" in d2"
   ]
  },
  {
   "cell_type": "markdown",
   "id": "9f620ec1",
   "metadata": {
    "slideshow": {
     "slide_type": "slide"
    }
   },
   "source": [
    "## Dictionary 주요 메소드\n",
    "\n",
    "| 메소드               | 설명                                                                               |\n",
    "| :------------------- | ---------------------------------------------------------------------------------- |\n",
    "| get(key\\[, 기본값\\]) | key의 item의 값을 반환한다. 단 key가 없을 경우 None또는 기본값을 반환한다.         |\n",
    "| pop(key)             | key의 item의 값을 반환하면서 dictionary에서 삭제한다. 없는 key일 경우 KeyError발생 |\n",
    "| clear()              | dictionary의 모든 item들을 삭제한다.                                               |\n",
    "| del dict\\[key\\]      | key의 item을 제거한다.                                                             |\n",
    "| items()              | item의 key, value를 튜플로 묶어 모아 반환한다.                                     |\n",
    "| keys()               | key값들만 모아 반환한다.                                                           |\n",
    "| values()             | value값들만 모아 반환한다.                                                         |\n"
   ]
  },
  {
   "cell_type": "code",
   "execution_count": 16,
   "id": "55f208b6",
   "metadata": {},
   "outputs": [
    {
     "data": {
      "text/plain": [
       "'홍길동'"
      ]
     },
     "execution_count": 16,
     "metadata": {},
     "output_type": "execute_result"
    }
   ],
   "source": [
    "# d1[\"키\"]\n",
    "d1.get(\"이름\") # key로 value를 조회"
   ]
  },
  {
   "cell_type": "code",
   "execution_count": 17,
   "id": "350e7ad5",
   "metadata": {
    "slideshow": {
     "slide_type": "fragment"
    }
   },
   "outputs": [],
   "source": [
    "r = d1.get(\"키\") # 없는 key로 조회하면 기본값을 반환. (default 기본값 : None)\n",
    "r"
   ]
  },
  {
   "cell_type": "code",
   "execution_count": 18,
   "id": "b745a256-ad40-4744-9e13-17a8670c7538",
   "metadata": {},
   "outputs": [
    {
     "data": {
      "text/plain": [
       "'없는 key'"
      ]
     },
     "execution_count": 18,
     "metadata": {},
     "output_type": "execute_result"
    }
   ],
   "source": [
    "r = d1.get(\"키\")\n",
    "r if r != None else \"없는 key\" # (None이 아니면 )"
   ]
  },
  {
   "cell_type": "code",
   "execution_count": 19,
   "id": "bcbaa2c9-5ac4-465c-b4d0-6d6ebbfc32ba",
   "metadata": {},
   "outputs": [
    {
     "data": {
      "text/plain": [
       "'없는 key'"
      ]
     },
     "execution_count": 19,
     "metadata": {},
     "output_type": "execute_result"
    }
   ],
   "source": [
    "# None -bool -> False\n",
    "r if r else \"없는 key\""
   ]
  },
  {
   "cell_type": "code",
   "execution_count": 20,
   "id": "a60966fa-6280-450d-b8b7-124cfc37a88b",
   "metadata": {},
   "outputs": [
    {
     "data": {
      "text/plain": [
       "'없는 key'"
      ]
     },
     "execution_count": 20,
     "metadata": {},
     "output_type": "execute_result"
    }
   ],
   "source": [
    "r if r is not None else \"없는 key\""
   ]
  },
  {
   "cell_type": "code",
   "execution_count": 21,
   "id": "bb3cba2b-7ae7-40e7-b3ac-726f8b331ee5",
   "metadata": {},
   "outputs": [
    {
     "data": {
      "text/plain": [
       "True"
      ]
     },
     "execution_count": 21,
     "metadata": {},
     "output_type": "execute_result"
    }
   ],
   "source": [
    "r is None"
   ]
  },
  {
   "cell_type": "code",
   "execution_count": 22,
   "id": "ac427526-6d05-4688-97c4-ef4d09613989",
   "metadata": {},
   "outputs": [
    {
     "data": {
      "text/plain": [
       "False"
      ]
     },
     "execution_count": 22,
     "metadata": {},
     "output_type": "execute_result"
    }
   ],
   "source": [
    "r is not None"
   ]
  },
  {
   "cell_type": "code",
   "execution_count": 23,
   "id": "be256a9a-8840-410e-b53c-4c7da075d616",
   "metadata": {},
   "outputs": [],
   "source": [
    "d1.get(\"몸무게\")"
   ]
  },
  {
   "cell_type": "code",
   "execution_count": 24,
   "id": "d7a1ee59-0da4-4402-b504-4ae3c79e256b",
   "metadata": {},
   "outputs": [
    {
     "data": {
      "text/plain": [
       "0"
      ]
     },
     "execution_count": 24,
     "metadata": {},
     "output_type": "execute_result"
    }
   ],
   "source": [
    "d1.get(\"몸무게\", 0) # key가 없으면 지정한 기본값 (0)을 반환. 0 대신 \"0kg\"으로도 됨"
   ]
  },
  {
   "cell_type": "code",
   "execution_count": 25,
   "id": "8aece8e9-dec6-41ac-8c62-bade39c0f54a",
   "metadata": {},
   "outputs": [
    {
     "data": {
      "text/plain": [
       "['영화감상', '독서', '음악감상']"
      ]
     },
     "execution_count": 25,
     "metadata": {},
     "output_type": "execute_result"
    }
   ],
   "source": [
    "d2.get(\"취미\",[])"
   ]
  },
  {
   "cell_type": "code",
   "execution_count": 26,
   "id": "d4306124-90af-4eb3-bb17-3746a5c7f1ba",
   "metadata": {},
   "outputs": [
    {
     "data": {
      "text/plain": [
       "[]"
      ]
     },
     "execution_count": 26,
     "metadata": {},
     "output_type": "execute_result"
    }
   ],
   "source": [
    "d1.get(\"취미\",[]) # 없으면 없는 값을 내놓는 것"
   ]
  },
  {
   "cell_type": "code",
   "execution_count": 27,
   "id": "57124231-1f35-4708-be9d-8c404b42abf9",
   "metadata": {},
   "outputs": [
    {
     "data": {
      "text/plain": [
       "{'이름': '홍길동', '나이': 20, '결혼여부': False, '주소': '서울'}"
      ]
     },
     "execution_count": 27,
     "metadata": {},
     "output_type": "execute_result"
    }
   ],
   "source": [
    "d1[\"주소\"] = \"서울\" #추가\n",
    "d1"
   ]
  },
  {
   "cell_type": "code",
   "execution_count": 28,
   "id": "9f52aa43-9a18-4690-aeaf-4fa09aa1c026",
   "metadata": {},
   "outputs": [
    {
     "data": {
      "text/plain": [
       "{'이름': '홍길동', '나이': 20, '결혼여부': False}"
      ]
     },
     "execution_count": 28,
     "metadata": {},
     "output_type": "execute_result"
    }
   ],
   "source": [
    "# 삭제\n",
    "del d1[\"주소\"]\n",
    "d1"
   ]
  },
  {
   "cell_type": "code",
   "execution_count": 40,
   "id": "6c3484ec-dfad-4ab8-9ad6-72eafbc88763",
   "metadata": {},
   "outputs": [
    {
     "data": {
      "text/plain": [
       "22"
      ]
     },
     "execution_count": 40,
     "metadata": {},
     "output_type": "execute_result"
    }
   ],
   "source": [
    "# d1[\"나이\"] = 22\n",
    "d1.pop(\"나이\") # 삭제하면서 삭제한 값을 알려줌\n"
   ]
  },
  {
   "cell_type": "code",
   "execution_count": 208,
   "id": "0af979a3-c024-4c62-8901-c13e6b0d57df",
   "metadata": {},
   "outputs": [
    {
     "data": {
      "text/plain": [
       "{}"
      ]
     },
     "execution_count": 208,
     "metadata": {},
     "output_type": "execute_result"
    }
   ],
   "source": [
    "d1.clear()\n",
    "d1"
   ]
  },
  {
   "cell_type": "code",
   "execution_count": 209,
   "id": "3d65978b-cb1f-4978-8dbf-a5cf2048a714",
   "metadata": {},
   "outputs": [
    {
     "name": "stdout",
     "output_type": "stream",
     "text": [
      "dict_keys(['이름', '나이', '결혼여부', '취미', '전화번호'])\n"
     ]
    }
   ],
   "source": [
    "# 키값들만 모아서 조회\n",
    "keys = d2.keys()\n",
    "print(keys)"
   ]
  },
  {
   "cell_type": "code",
   "execution_count": 211,
   "id": "48c393bf-df33-488a-93d6-9b0f4639ef2c",
   "metadata": {},
   "outputs": [
    {
     "data": {
      "text/plain": [
       "dict_values(['홍홍홍', 25, False, ['영화감상', '독서', '음악감상'], '010-333-3333'])"
      ]
     },
     "execution_count": 211,
     "metadata": {},
     "output_type": "execute_result"
    }
   ],
   "source": [
    "# 값들만 모아서 조회\n",
    "values = d2.values()\n",
    "values"
   ]
  },
  {
   "cell_type": "code",
   "execution_count": 216,
   "id": "5f46cb5c-7aa0-47e4-8375-8a21cb0e534b",
   "metadata": {},
   "outputs": [
    {
     "data": {
      "text/plain": [
       "dict_items([('이름', '홍홍홍'), ('나이', 25), ('결혼여부', False), ('취미', ['영화감상', '독서', '음악감상']), ('전화번호', '010-333-3333')])"
      ]
     },
     "execution_count": 216,
     "metadata": {},
     "output_type": "execute_result"
    }
   ],
   "source": [
    "# key-value 모아서 반환. item: (key, value)\n",
    "items = d2.items()\n",
    "items #각각의 key-value를 tuple 로 줌"
   ]
  },
  {
   "cell_type": "markdown",
   "id": "d97869af",
   "metadata": {
    "slideshow": {
     "slide_type": "slide"
    }
   },
   "source": [
    "# Set\n",
    "\n",
    "-   Set은 중복되는 값을 허용하지 않고 순서를 신경 쓰지 않는다.\n",
    "    -   원소를 식별할 수 있는 식별자가 없기 때문에 Set은 indexing과 slicing을 지원하지 않는다 # key value 조회 불가\n",
    "\n",
    "## Set 생성\n",
    "\n",
    "-   구문\n",
    "    -   {값, 값, 값 }\n",
    "\n",
    "> -   빈 Dictionary 만들기\n",
    ">     -   info = {}\n",
    ">     -   중괄호만 사용하면 빈 set이 아니라 `빈 dictionary`를 생성하는 것임.\n"
   ]
  },
  {
   "cell_type": "code",
   "execution_count": 218,
   "id": "5c88480a",
   "metadata": {
    "slideshow": {
     "slide_type": "fragment"
    }
   },
   "outputs": [
    {
     "data": {
      "text/plain": [
       "{1, 2, 3, 4, 5, 6}"
      ]
     },
     "execution_count": 218,
     "metadata": {},
     "output_type": "execute_result"
    }
   ],
   "source": [
    "s1 = {1, 2, 3, 4, 5, 6}\n",
    "s1"
   ]
  },
  {
   "cell_type": "code",
   "execution_count": 221,
   "id": "ebaed0f4-8819-4cb9-bd87-c965cdbad260",
   "metadata": {},
   "outputs": [
    {
     "data": {
      "text/plain": [
       "{1, 2, 3, 4, 5}"
      ]
     },
     "execution_count": 221,
     "metadata": {},
     "output_type": "execute_result"
    }
   ],
   "source": [
    "s2 = {1,1,1,1,1,3,2,2,2,2,3,3,4,2,1,5,}\n",
    "s2"
   ]
  },
  {
   "cell_type": "code",
   "execution_count": 224,
   "id": "3d4bf555-0630-4c0d-8d50-ee001e99c72a",
   "metadata": {},
   "outputs": [
    {
     "ename": "TypeError",
     "evalue": "'set' object is not subscriptable",
     "output_type": "error",
     "traceback": [
      "\u001b[31m---------------------------------------------------------------------------\u001b[39m",
      "\u001b[31mTypeError\u001b[39m                                 Traceback (most recent call last)",
      "\u001b[36mCell\u001b[39m\u001b[36m \u001b[39m\u001b[32mIn[224]\u001b[39m\u001b[32m, line 1\u001b[39m\n\u001b[32m----> \u001b[39m\u001b[32m1\u001b[39m \u001b[43ms1\u001b[49m\u001b[43m[\u001b[49m\u001b[32;43m0\u001b[39;49m\u001b[43m]\u001b[49m\n\u001b[32m      2\u001b[39m \u001b[38;5;66;03m# TypeError: 'set' object is not subscriptable\u001b[39;00m\n",
      "\u001b[31mTypeError\u001b[39m: 'set' object is not subscriptable"
     ]
    }
   ],
   "source": [
    "s1[0]\n",
    "# TypeError: 'set' object is not subscriptable"
   ]
  },
  {
   "cell_type": "code",
   "execution_count": 226,
   "id": "e9bdf84b-c7a6-4775-a02d-cc88314ae7b0",
   "metadata": {},
   "outputs": [
    {
     "name": "stdout",
     "output_type": "stream",
     "text": [
      "1\n",
      "2\n",
      "3\n",
      "4\n",
      "5\n",
      "6\n"
     ]
    }
   ],
   "source": [
    "for v in s1:\n",
    "    print(v) # v에 1, 2, 3, 4, 5, 6 을 찍음 # 6번 실행"
   ]
  },
  {
   "cell_type": "markdown",
   "id": "79cf0f20",
   "metadata": {
    "slideshow": {
     "slide_type": "slide"
    }
   },
   "source": [
    "## Set 연산자\n",
    "\n",
    "-   **in, not in 연산자**\n",
    "    -   값 in Set\n",
    "        -   Set의 원소로 값이 **있으면** True, 없으면 False 반환\n",
    "    -   값 not in Set\n",
    "        -   Set의 원소로 값이 **없으면** True, 있으면 False 반환\n",
    "-   **len(Set)**\n",
    "    -   Set의 **원소의 개수** 반환\n",
    "-   **[집합연산자](#Set의-집합연산-연산자-및-메소드)**\n"
   ]
  },
  {
   "cell_type": "code",
   "execution_count": 229,
   "id": "1c530013",
   "metadata": {},
   "outputs": [
    {
     "data": {
      "text/plain": [
       "True"
      ]
     },
     "execution_count": 229,
     "metadata": {},
     "output_type": "execute_result"
    }
   ],
   "source": [
    "5 in s1"
   ]
  },
  {
   "cell_type": "code",
   "execution_count": 230,
   "id": "80be18ad",
   "metadata": {
    "slideshow": {
     "slide_type": "fragment"
    }
   },
   "outputs": [
    {
     "data": {
      "text/plain": [
       "False"
      ]
     },
     "execution_count": 230,
     "metadata": {},
     "output_type": "execute_result"
    }
   ],
   "source": [
    "100 in s1"
   ]
  },
  {
   "cell_type": "code",
   "execution_count": 231,
   "id": "f1092f57-aecd-426c-a922-f5e61f859f13",
   "metadata": {},
   "outputs": [
    {
     "data": {
      "text/plain": [
       "True"
      ]
     },
     "execution_count": 231,
     "metadata": {},
     "output_type": "execute_result"
    }
   ],
   "source": [
    "100 not in s1"
   ]
  },
  {
   "cell_type": "code",
   "execution_count": 232,
   "id": "c6db3314-8506-45fa-a25e-35e1d8272636",
   "metadata": {},
   "outputs": [
    {
     "data": {
      "text/plain": [
       "6"
      ]
     },
     "execution_count": 232,
     "metadata": {},
     "output_type": "execute_result"
    }
   ],
   "source": [
    "len(s1)"
   ]
  },
  {
   "cell_type": "markdown",
   "id": "080c2a17",
   "metadata": {
    "slideshow": {
     "slide_type": "slide"
    }
   },
   "source": [
    "## Set의 주요 메소드\n",
    "\n",
    "| 메소드           | 설명                                   |\n",
    "| ---------------- | -------------------------------------- |\n",
    "| add(값)          | 집합에 값 추가                         |\n",
    "| update(자료구조) | 자료구조내의 원소들을 모두 집합에 추가 |\n",
    "| pop()            | 원소를 반환하고 Set에서 삭제한다.      |\n",
    "| remove(값)       | 값을 찾아서 Set에서 삭제한다.          |\n"
   ]
  },
  {
   "cell_type": "code",
   "execution_count": 43,
   "id": "6ec0eee0",
   "metadata": {},
   "outputs": [],
   "source": [
    "s1 = {1, 2, 3, 4, 5, 6}"
   ]
  },
  {
   "cell_type": "code",
   "execution_count": 44,
   "id": "b12f08b0",
   "metadata": {
    "slideshow": {
     "slide_type": "fragment"
    }
   },
   "outputs": [
    {
     "data": {
      "text/plain": [
       "{1, 2, 3, 4, 5, 6, 100}"
      ]
     },
     "execution_count": 44,
     "metadata": {},
     "output_type": "execute_result"
    }
   ],
   "source": [
    "s1.add(100)\n",
    "s1"
   ]
  },
  {
   "cell_type": "code",
   "execution_count": 45,
   "id": "40a6ccd1-8de0-4b69-baef-3b49e680518f",
   "metadata": {},
   "outputs": [
    {
     "data": {
      "text/plain": [
       "{1, 2, 3, 4, 5, 6, 100}"
      ]
     },
     "execution_count": 45,
     "metadata": {},
     "output_type": "execute_result"
    }
   ],
   "source": [
    "s1.add(3)\n",
    "s1 # 중복된 값은 추가하지 않는다"
   ]
  },
  {
   "cell_type": "code",
   "execution_count": 46,
   "id": "43a535dc-cea9-40fa-9e33-509aa76c8578",
   "metadata": {},
   "outputs": [
    {
     "data": {
      "text/plain": [
       "{1, 2, 3, 4, 5, 6, 100, 200, 300, 400}"
      ]
     },
     "execution_count": 46,
     "metadata": {},
     "output_type": "execute_result"
    }
   ],
   "source": [
    "s1.update([200, 300, 400, 400, 400, 100, 100, 100])\n",
    "s1"
   ]
  },
  {
   "cell_type": "code",
   "execution_count": 47,
   "id": "8e8323bc-5494-488c-baad-35c909d31a1d",
   "metadata": {},
   "outputs": [
    {
     "data": {
      "text/plain": [
       "{1, 2, 3, 4, 5, 6, 200, 300, 400}"
      ]
     },
     "execution_count": 47,
     "metadata": {},
     "output_type": "execute_result"
    }
   ],
   "source": [
    "s1.remove(100) # 100을 찾아서 삭제한다\n",
    "s1"
   ]
  },
  {
   "cell_type": "code",
   "execution_count": 48,
   "id": "be7ea77c-5d1e-4bce-b2d4-5a864ce7c921",
   "metadata": {},
   "outputs": [
    {
     "data": {
      "text/plain": [
       "{1, 2, 3, 4, 5, 6, 300, 400}"
      ]
     },
     "execution_count": 48,
     "metadata": {},
     "output_type": "execute_result"
    }
   ],
   "source": [
    "s1.remove(200)\n",
    "s1"
   ]
  },
  {
   "cell_type": "code",
   "execution_count": 49,
   "id": "8983f88a-f71f-48d9-bcc8-409062bb91bb",
   "metadata": {},
   "outputs": [
    {
     "data": {
      "text/plain": [
       "{1, 2, 3, 4, 5, 6, 300, 400}"
      ]
     },
     "execution_count": 49,
     "metadata": {},
     "output_type": "execute_result"
    }
   ],
   "source": [
    "s1"
   ]
  },
  {
   "cell_type": "code",
   "execution_count": 50,
   "id": "132a3f3b-277e-4795-8a05-af813840b5ba",
   "metadata": {},
   "outputs": [
    {
     "data": {
      "text/plain": [
       "1"
      ]
     },
     "execution_count": 50,
     "metadata": {},
     "output_type": "execute_result"
    }
   ],
   "source": [
    "v = s1.pop()\n",
    "v"
   ]
  },
  {
   "cell_type": "code",
   "execution_count": 51,
   "id": "255a6d75-dc77-4dc9-9400-7f7d9c528f30",
   "metadata": {},
   "outputs": [
    {
     "data": {
      "text/plain": [
       "{2, 3, 4, 5, 6, 300, 400}"
      ]
     },
     "execution_count": 51,
     "metadata": {},
     "output_type": "execute_result"
    }
   ],
   "source": [
    "s1"
   ]
  },
  {
   "cell_type": "code",
   "execution_count": 52,
   "id": "10ac18a1-0a04-4d3c-967b-0750cec048ce",
   "metadata": {},
   "outputs": [
    {
     "data": {
      "text/plain": [
       "set()"
      ]
     },
     "execution_count": 52,
     "metadata": {},
     "output_type": "execute_result"
    }
   ],
   "source": [
    "s1.clear()\n",
    "s1"
   ]
  },
  {
   "cell_type": "code",
   "execution_count": 53,
   "id": "07a66d41-27f7-4a22-b7fc-a74848386a38",
   "metadata": {},
   "outputs": [
    {
     "data": {
      "text/plain": [
       "(dict, set)"
      ]
     },
     "execution_count": 53,
     "metadata": {},
     "output_type": "execute_result"
    }
   ],
   "source": [
    "type({}), type(set()) # 나열 tuple (type({}), type(set()))"
   ]
  },
  {
   "cell_type": "markdown",
   "id": "33d115cd",
   "metadata": {
    "slideshow": {
     "slide_type": "subslide"
    }
   },
   "source": [
    "## Set의 집합연산 연산자 및 메소드\n",
    "\n",
    "-   합집합\n",
    "    -   집합A | 집합B\n",
    "    -   집합A.union(집합B)\n",
    "-   교집합\n",
    "    -   집합A & 집합B\n",
    "    -   집합A.intersection(집합B)\n",
    "-   차집합\n",
    "    -   집합A - 집합B\n",
    "    -   집합A.difference(집합B)\n"
   ]
  },
  {
   "cell_type": "code",
   "execution_count": 254,
   "id": "746dabe6-4597-434d-b257-b55c427afc31",
   "metadata": {},
   "outputs": [],
   "source": [
    "s1 = {1, 2, 3, 4}\n",
    "s2 = {3, 4, 5, 6}"
   ]
  },
  {
   "cell_type": "code",
   "execution_count": 255,
   "id": "e2d43f89",
   "metadata": {},
   "outputs": [
    {
     "data": {
      "text/plain": [
       "{1, 2, 3, 4, 5, 6}"
      ]
     },
     "execution_count": 255,
     "metadata": {},
     "output_type": "execute_result"
    }
   ],
   "source": [
    "s1 | s2"
   ]
  },
  {
   "cell_type": "code",
   "execution_count": 256,
   "id": "2259deb2-924b-487f-a2a0-1147bbef4064",
   "metadata": {},
   "outputs": [
    {
     "data": {
      "text/plain": [
       "{1, 2, 3, 4, 5, 6}"
      ]
     },
     "execution_count": 256,
     "metadata": {},
     "output_type": "execute_result"
    }
   ],
   "source": [
    "s1.union(s2)"
   ]
  },
  {
   "cell_type": "code",
   "execution_count": 257,
   "id": "35b3ebab-1a3a-4cfd-8a62-55736d1b2e72",
   "metadata": {},
   "outputs": [
    {
     "data": {
      "text/plain": [
       "{3, 4}"
      ]
     },
     "execution_count": 257,
     "metadata": {},
     "output_type": "execute_result"
    }
   ],
   "source": [
    "s1 & s2"
   ]
  },
  {
   "cell_type": "code",
   "execution_count": 258,
   "id": "48089463-66a8-4edc-a123-84b29dd4d5e8",
   "metadata": {},
   "outputs": [
    {
     "data": {
      "text/plain": [
       "{3, 4}"
      ]
     },
     "execution_count": 258,
     "metadata": {},
     "output_type": "execute_result"
    }
   ],
   "source": [
    "s1.intersection(s2)"
   ]
  },
  {
   "cell_type": "code",
   "execution_count": 259,
   "id": "f45e6573-51eb-472d-9dbe-00e8210fb670",
   "metadata": {},
   "outputs": [
    {
     "data": {
      "text/plain": [
       "{1, 2}"
      ]
     },
     "execution_count": 259,
     "metadata": {},
     "output_type": "execute_result"
    }
   ],
   "source": [
    "s1 - s2"
   ]
  },
  {
   "cell_type": "code",
   "execution_count": 260,
   "id": "509739ed-df81-43a8-97d6-9642b022b5d1",
   "metadata": {},
   "outputs": [
    {
     "data": {
      "text/plain": [
       "{1, 2}"
      ]
     },
     "execution_count": 260,
     "metadata": {},
     "output_type": "execute_result"
    }
   ],
   "source": [
    "s1.difference(s2)"
   ]
  },
  {
   "cell_type": "markdown",
   "id": "17bf4f71",
   "metadata": {},
   "source": [
    "# 자료구조를 이용한 대입\n",
    "\n",
    "-   리스트, 튜플, 셋의 원소들을 개별 변수에 대입한다. 어느 자료구조에 적용하느냐에 따라 **리스트 대입, 튜플 대입, 셋 대입** 이라고 한다. 이중 리스트대입이나 튜플대입은 많이 사용된다.\n",
    "-   변수의 개수와 리스트 원소의 개수는 동일해야 한다.\n"
   ]
  },
  {
   "cell_type": "code",
   "execution_count": 270,
   "id": "73b925bb",
   "metadata": {},
   "outputs": [],
   "source": [
    "# 딕셔너리 대입은 없음 "
   ]
  },
  {
   "cell_type": "code",
   "execution_count": 262,
   "id": "64bf5839",
   "metadata": {
    "slideshow": {
     "slide_type": "fragment"
    }
   },
   "outputs": [],
   "source": [
    "a, b, c, d = 10, 20, 30, \"가\" # 튜플 대입"
   ]
  },
  {
   "cell_type": "code",
   "execution_count": 263,
   "id": "10719995-961f-427a-854a-c2a24713eb3d",
   "metadata": {},
   "outputs": [
    {
     "name": "stdout",
     "output_type": "stream",
     "text": [
      "10 20 30 가\n"
     ]
    }
   ],
   "source": [
    "print(a, b, c, d)"
   ]
  },
  {
   "cell_type": "code",
   "execution_count": 269,
   "id": "f7cd5ee5-6e56-44ef-9718-316e1cebe692",
   "metadata": {},
   "outputs": [
    {
     "name": "stdout",
     "output_type": "stream",
     "text": [
      "True False True\n"
     ]
    }
   ],
   "source": [
    "x, y, z = [True, False, True]\n",
    "print(x, y, z) # 리스트 이용해서 대입, 리스트 대입"
   ]
  },
  {
   "cell_type": "code",
   "execution_count": 268,
   "id": "c729c86e-122d-4edf-a9cb-fb0f140cfa66",
   "metadata": {},
   "outputs": [
    {
     "name": "stdout",
     "output_type": "stream",
     "text": [
      "200 100 400 300\n"
     ]
    }
   ],
   "source": [
    "l, m, n, o = {100, 200, 300, 400}\n",
    "print(l, m, n, o) # set이용해서 대입, set 대입"
   ]
  },
  {
   "cell_type": "code",
   "execution_count": 272,
   "id": "290b9d72-e98f-4296-bcd5-359bffe2070b",
   "metadata": {},
   "outputs": [
    {
     "data": {
      "text/plain": [
       "(10, 20)"
      ]
     },
     "execution_count": 272,
     "metadata": {},
     "output_type": "execute_result"
    }
   ],
   "source": [
    "l1 = [10, 20, 30]\n",
    "x1, x2, x3 = l1\n",
    "x1, x2"
   ]
  },
  {
   "cell_type": "markdown",
   "id": "a3778f41",
   "metadata": {
    "slideshow": {
     "slide_type": "slide"
    }
   },
   "source": [
    "# 자료구조 변환 함수\n",
    "\n",
    "-   **list(자료구조)**\n",
    "    -   대상 자료구조/Iterable을 List로 변환한다.\n",
    "-   **tuple(자료구조)**\n",
    "    -   대상 자료구조/Iterable을 Tuple로 변환\n",
    "-   **set(자료구조)**\n",
    "    -   대상 자료구조/Iterable을 Set으로 변환\n",
    "    -   다른 자료구조의 원소 중 중복을 빼고 조회할 때 set()를 이용해 Set으로 변환한다.\n",
    "-   Dictionary로 변환하는 함수는 없다.\n",
    "    -   dict(key=value, ..) 는 딕셔너리 생성하는 함수이다.\n",
    "-   변경 대상이 Dictionary 일 경우에는 key값들만 모아서 변환한다.\n",
    "\n",
    "> -   **Iterable**\n",
    ">     -   반복가능한 객체.\n",
    ">     -   여러개의 값을 요청을 받을 때마다 하나씩 제공해주는 타입을 iterable 이라고 함.\n",
    ">         -   Iterable이 제공하는 값을 반복문을 이용해 조회할 경우 **for in문**을 사용한다.\n",
    ">     -   대표적으로 자료구조, 문자열 등이 있다.\n"
   ]
  },
  {
   "cell_type": "code",
   "execution_count": 273,
   "id": "07fd6373",
   "metadata": {
    "slideshow": {
     "slide_type": "fragment"
    }
   },
   "outputs": [
    {
     "name": "stdout",
     "output_type": "stream",
     "text": [
      "<class 'list'>\n"
     ]
    }
   ],
   "source": [
    "l = [1, 2, 3, 4, 5, 6]\n",
    "print(type(l))"
   ]
  },
  {
   "cell_type": "code",
   "execution_count": 274,
   "id": "2dc74a54-4430-4b68-80e6-8ccaddf990c1",
   "metadata": {},
   "outputs": [
    {
     "data": {
      "text/plain": [
       "(1, 2, 3, 4, 5, 6)"
      ]
     },
     "execution_count": 274,
     "metadata": {},
     "output_type": "execute_result"
    }
   ],
   "source": [
    "t = tuple(l)\n",
    "t"
   ]
  },
  {
   "cell_type": "code",
   "execution_count": 275,
   "id": "958df0c4-714a-44f3-a352-55b559608e34",
   "metadata": {},
   "outputs": [
    {
     "data": {
      "text/plain": [
       "[1, 2, 3, 4, 5, 6]"
      ]
     },
     "execution_count": 275,
     "metadata": {},
     "output_type": "execute_result"
    }
   ],
   "source": [
    "l"
   ]
  },
  {
   "cell_type": "code",
   "execution_count": 276,
   "id": "dfd80db1-98cf-41c6-bbf8-638d5def957f",
   "metadata": {},
   "outputs": [
    {
     "data": {
      "text/plain": [
       "{1, 2, 3, 4, 5, 6}"
      ]
     },
     "execution_count": 276,
     "metadata": {},
     "output_type": "execute_result"
    }
   ],
   "source": [
    "s = set(t)\n",
    "s"
   ]
  },
  {
   "cell_type": "code",
   "execution_count": 277,
   "id": "abc82bcf-0e23-4624-aa54-a7434ea0031a",
   "metadata": {},
   "outputs": [
    {
     "data": {
      "text/plain": [
       "[1, 2, 3, 4, 5, 6]"
      ]
     },
     "execution_count": 277,
     "metadata": {},
     "output_type": "execute_result"
    }
   ],
   "source": [
    "l2 = list(s)\n",
    "l2"
   ]
  },
  {
   "cell_type": "code",
   "execution_count": 280,
   "id": "832b5479-a601-4977-93d5-ef7595e117b5",
   "metadata": {},
   "outputs": [
    {
     "data": {
      "text/plain": [
       "{1, 3, 5, 6, 100}"
      ]
     },
     "execution_count": 280,
     "metadata": {},
     "output_type": "execute_result"
    }
   ],
   "source": [
    "l = [1, 1, 3, 5, 3, 5, 6, 100]\n",
    "s = set(l) # set에 넣어서 중복된 값 알아서 걸러지게 \n",
    "s"
   ]
  },
  {
   "cell_type": "code",
   "execution_count": 281,
   "id": "468d7633-247a-4056-807b-e731fb21c828",
   "metadata": {},
   "outputs": [
    {
     "data": {
      "text/plain": [
       "[1, 3, 100, 5, 6]"
      ]
     },
     "execution_count": 281,
     "metadata": {},
     "output_type": "execute_result"
    }
   ],
   "source": [
    "l_unique = list(s)\n",
    "l_unique"
   ]
  },
  {
   "cell_type": "code",
   "execution_count": 286,
   "id": "5950e47f-5f4b-4d05-95cc-43aa452f73f1",
   "metadata": {},
   "outputs": [
    {
     "data": {
      "text/plain": [
       "['이름', '나이', '주소']"
      ]
     },
     "execution_count": 286,
     "metadata": {},
     "output_type": "execute_result"
    }
   ],
   "source": [
    "d = {\"이름\":\"홍길동\", \"나이\":20, \"주소\":\"서울\"} # 딕셔너리 쓰면 key값만 쓴다\n",
    "list(d)"
   ]
  },
  {
   "cell_type": "code",
   "execution_count": 284,
   "id": "4ad6c6b2-0e9c-4a42-966a-8130a3439ce9",
   "metadata": {},
   "outputs": [
    {
     "data": {
      "text/plain": [
       "{'나이', '이름', '주소'}"
      ]
     },
     "execution_count": 284,
     "metadata": {},
     "output_type": "execute_result"
    }
   ],
   "source": [
    "set(d)"
   ]
  },
  {
   "cell_type": "code",
   "execution_count": 285,
   "id": "db7746f3-7bd5-4da1-9e5f-c57af844d9c7",
   "metadata": {},
   "outputs": [
    {
     "data": {
      "text/plain": [
       "('이름', '나이', '주소')"
      ]
     },
     "execution_count": 285,
     "metadata": {},
     "output_type": "execute_result"
    }
   ],
   "source": [
    "tuple(d)"
   ]
  },
  {
   "cell_type": "code",
   "execution_count": 289,
   "id": "e91a9689-e089-4bc2-899d-c552a1e90f27",
   "metadata": {},
   "outputs": [
    {
     "name": "stdout",
     "output_type": "stream",
     "text": [
      "1\n",
      "1\n",
      "3\n",
      "5\n",
      "3\n",
      "5\n",
      "6\n",
      "100\n"
     ]
    }
   ],
   "source": [
    "for v in l: # for 은 반복하라는 뜻  --> iterable type\n",
    "    print(v)"
   ]
  },
  {
   "cell_type": "code",
   "execution_count": 290,
   "id": "48cf749e-f6eb-4868-a2d3-55061ea534a1",
   "metadata": {},
   "outputs": [
    {
     "name": "stdout",
     "output_type": "stream",
     "text": [
      "이름\n",
      "나이\n",
      "주소\n"
     ]
    }
   ],
   "source": [
    "for v in d:\n",
    "    print(v)"
   ]
  },
  {
   "cell_type": "code",
   "execution_count": 291,
   "id": "4b1b536d-79a4-4370-9593-88ad6816c072",
   "metadata": {},
   "outputs": [
    {
     "name": "stdout",
     "output_type": "stream",
     "text": [
      "a\n",
      "b\n",
      "c\n",
      "d\n",
      "e\n",
      "f\n"
     ]
    }
   ],
   "source": [
    "for v in \"abcdef\":\n",
    "    print(v)"
   ]
  },
  {
   "cell_type": "code",
   "execution_count": 292,
   "id": "9a1f8160-aa32-4add-8a2a-18b411e2e3e8",
   "metadata": {},
   "outputs": [
    {
     "data": {
      "text/plain": [
       "['a', 'b', 'c', 'd', 'e', 'f', 'g']"
      ]
     },
     "execution_count": 292,
     "metadata": {},
     "output_type": "execute_result"
    }
   ],
   "source": [
    "list(\"abcdefg\")"
   ]
  },
  {
   "cell_type": "code",
   "execution_count": 293,
   "id": "bf17bf13-9313-45d6-9cab-f6405995388c",
   "metadata": {},
   "outputs": [
    {
     "data": {
      "text/plain": [
       "('가', '나', '다', '라', '마', '바', '사')"
      ]
     },
     "execution_count": 293,
     "metadata": {},
     "output_type": "execute_result"
    }
   ],
   "source": [
    "tuple(\"가나다라마바사\")"
   ]
  },
  {
   "cell_type": "code",
   "execution_count": 295,
   "id": "d196e24f-3c92-412b-96bf-c13434e88e38",
   "metadata": {},
   "outputs": [
    {
     "data": {
      "text/plain": [
       "{'.', '녕', '세', '안', '요', '하'}"
      ]
     },
     "execution_count": 295,
     "metadata": {},
     "output_type": "execute_result"
    }
   ],
   "source": [
    "set(\"안녕안녕안녕하세요.\")"
   ]
  },
  {
   "cell_type": "code",
   "execution_count": 296,
   "id": "cf7a945a-8902-4d6a-88f2-6eb6d6ce7a79",
   "metadata": {},
   "outputs": [
    {
     "data": {
      "text/plain": [
       "['a', 'b', 'c', 'd', 'e', 'f', 'g']"
      ]
     },
     "execution_count": 296,
     "metadata": {},
     "output_type": "execute_result"
    }
   ],
   "source": [
    "s = \"abcdefg\"\n",
    "l = list(s)\n",
    "l"
   ]
  },
  {
   "cell_type": "code",
   "execution_count": 303,
   "id": "ea450110-0bc1-443e-9eee-437bb723b282",
   "metadata": {},
   "outputs": [
    {
     "data": {
      "text/plain": [
       "'abcdefg'"
      ]
     },
     "execution_count": 303,
     "metadata": {},
     "output_type": "execute_result"
    }
   ],
   "source": [
    "# 자료 구조의 문자열들을 한 문자열로 합치기\n",
    "## \"구분자\".join(합칠대상_iterable)\n",
    "\"\".join(l) # 중간에 아무것도 없이 합치기"
   ]
  },
  {
   "cell_type": "code",
   "execution_count": 301,
   "id": "522ed9cb-2703-4779-a472-4486fce637d5",
   "metadata": {},
   "outputs": [
    {
     "data": {
      "text/plain": [
       "'a,b,c,d,e,f,g'"
      ]
     },
     "execution_count": 301,
     "metadata": {},
     "output_type": "execute_result"
    }
   ],
   "source": [
    "\",\".join(l)"
   ]
  },
  {
   "cell_type": "code",
   "execution_count": 302,
   "id": "987e99b5-2b11-4d1e-b0db-34901bfddcd4",
   "metadata": {},
   "outputs": [
    {
     "data": {
      "text/plain": [
       "'a-b-c-d-e-f-g'"
      ]
     },
     "execution_count": 302,
     "metadata": {},
     "output_type": "execute_result"
    }
   ],
   "source": [
    "\"-\".join(l)"
   ]
  },
  {
   "cell_type": "markdown",
   "id": "b4671a5d",
   "metadata": {
    "slideshow": {
     "slide_type": "skip"
    }
   },
   "source": [
    "# TODO\n"
   ]
  },
  {
   "cell_type": "code",
   "execution_count": null,
   "id": "1c655f26-5fa7-4c54-8b23-0ef1dd36bbca",
   "metadata": {
    "slideshow": {
     "slide_type": "skip"
    }
   },
   "outputs": [],
   "source": [
    "# 문제 1 ~ 7\n",
    "jumsu = [100, 90, 100, 80, 70, 100, 80, 90, 95, 85]\n",
    "# 위 리스트는 학생번호 1번 ~ 10번까지 10명의 시험 점수이다."
   ]
  },
  {
   "cell_type": "code",
   "execution_count": 64,
   "id": "919f0ca7-b792-4881-95b3-f632deb2d020",
   "metadata": {
    "slideshow": {
     "slide_type": "skip"
    }
   },
   "outputs": [
    {
     "data": {
      "text/plain": [
       "80"
      ]
     },
     "execution_count": 64,
     "metadata": {},
     "output_type": "execute_result"
    }
   ],
   "source": [
    "# (1)  7번의 점수를 출력하세요\n",
    "jumsu = [100, 90, 100, 80, 70, 100, 80, 90, 95, 85]\n",
    "jumsu[6]"
   ]
  },
  {
   "cell_type": "code",
   "execution_count": 66,
   "id": "f4078f3e-4504-45fb-a1fb-8edf96d308b1",
   "metadata": {
    "slideshow": {
     "slide_type": "skip"
    }
   },
   "outputs": [
    {
     "data": {
      "text/plain": [
       "[100, 90, 100, 80, 70]"
      ]
     },
     "execution_count": 66,
     "metadata": {},
     "output_type": "execute_result"
    }
   ],
   "source": [
    "# (2)  1번부터 5번까지의 점수를 출력하세요.\n",
    "jumsu[:5]"
   ]
  },
  {
   "cell_type": "code",
   "execution_count": 67,
   "id": "0d6f4e70-87c9-41f7-a096-a6cfb817d7c2",
   "metadata": {
    "slideshow": {
     "slide_type": "skip"
    }
   },
   "outputs": [
    {
     "data": {
      "text/plain": [
       "[80, 70, 100, 80]"
      ]
     },
     "execution_count": 67,
     "metadata": {},
     "output_type": "execute_result"
    }
   ],
   "source": [
    "# (3)  4, 5, 6, 7번의 점수를 출력하세요.\n",
    "jumsu = [100, 90, 100, 80, 70, 100, 80, 90, 95, 85]\n",
    "\n",
    "jumsu[3:7]\n",
    " #0번부터니까 7을 포함하지않은 6을 가져오는 것. \n",
    "#print(jumsu[3], jumsu[4], jumsu[5], jumsu[6])"
   ]
  },
  {
   "cell_type": "code",
   "execution_count": 69,
   "id": "19318cc7-1989-4515-a166-a9ea5587d30f",
   "metadata": {
    "slideshow": {
     "slide_type": "skip"
    }
   },
   "outputs": [
    {
     "data": {
      "text/plain": [
       "[90, 80, 100, 90, 85]"
      ]
     },
     "execution_count": 69,
     "metadata": {},
     "output_type": "execute_result"
    }
   ],
   "source": [
    "# (4) 짝수번째 점수를 출력하세요.\n",
    "jumsu[1::2]\n",
    " #실제 index는 홀수번째것을 가져와야함"
   ]
  },
  {
   "cell_type": "code",
   "execution_count": 71,
   "id": "bc562229-40da-42e8-8831-e6a5ed18e6de",
   "metadata": {
    "slideshow": {
     "slide_type": "skip"
    }
   },
   "outputs": [
    {
     "data": {
      "text/plain": [
       "[100, 100, 70, 80, 95]"
      ]
     },
     "execution_count": 71,
     "metadata": {},
     "output_type": "execute_result"
    }
   ],
   "source": [
    "# (5) 홀수번째 점수를 출력하세요.\n",
    "jumsu[::2]\n",
    " #실제 짝수번 index를 가져와야함"
   ]
  },
  {
   "cell_type": "code",
   "execution_count": 72,
   "id": "ea5bbab6-8e64-405e-9d57-ed0602a0dd02",
   "metadata": {
    "slideshow": {
     "slide_type": "skip"
    }
   },
   "outputs": [
    {
     "data": {
      "text/plain": [
       "[100, 90, 100, 80, 70, 100, 80, 90, 20, 85]"
      ]
     },
     "execution_count": 72,
     "metadata": {},
     "output_type": "execute_result"
    }
   ],
   "source": [
    "# (6) 9번의 점수를 20으로 변경하고 전체 출력하세요.\n",
    "jumsu[8] = 20\n",
    "jumsu"
   ]
  },
  {
   "cell_type": "code",
   "execution_count": 74,
   "id": "783e9003-b8f5-4955-81e7-e27414894a46",
   "metadata": {
    "slideshow": {
     "slide_type": "skip"
    }
   },
   "outputs": [
    {
     "data": {
      "text/plain": [
       "[100, 70, 80, 20, 85, 90]"
      ]
     },
     "execution_count": 74,
     "metadata": {},
     "output_type": "execute_result"
    }
   ],
   "source": [
    "# (7) 중복된 점수는 제거하고 하나씩만 나오도록 출력하세요.\n",
    "list(set(jumsu))\n",
    "#앞에 list 바꿔야됨. 개별적으로 사용하기 위해 #set으로 하면 set {} 이게 되니까\n"
   ]
  },
  {
   "cell_type": "code",
   "execution_count": 88,
   "id": "0fca7245-b023-4c3d-bcdd-a896b1699092",
   "metadata": {
    "slideshow": {
     "slide_type": "skip"
    }
   },
   "outputs": [],
   "source": [
    "# 문제 8 ~ 9\n",
    "fruits = [\"복숭아\", \"수박\", \"딸기\"]\n",
    "\n",
    "# (8) fruits 리스트에 마지막 원소로 \"사과\", \"귤\"을 추가하세요.\n"
   ]
  },
  {
   "cell_type": "code",
   "execution_count": 89,
   "id": "532240d1-d8da-437d-b09a-a9fccc11641c",
   "metadata": {},
   "outputs": [
    {
     "data": {
      "text/plain": [
       "['복숭아', '수박', '딸기', '사과', '귤']"
      ]
     },
     "execution_count": 89,
     "metadata": {},
     "output_type": "execute_result"
    }
   ],
   "source": [
    "fruits.extend([\"사과\", \"귤\"])\n",
    "fruits"
   ]
  },
  {
   "cell_type": "code",
   "execution_count": 90,
   "id": "a9166d4b-da53-4c5e-bc48-b1d5ce7a51c5",
   "metadata": {},
   "outputs": [
    {
     "data": {
      "text/plain": [
       "['복숭아', '수박', '딸기', '사과', '귤', '토마토']"
      ]
     },
     "execution_count": 90,
     "metadata": {},
     "output_type": "execute_result"
    }
   ],
   "source": [
    "fruits.append(\"토마토\")\n",
    "fruits"
   ]
  },
  {
   "cell_type": "code",
   "execution_count": 91,
   "id": "207bdb0d-910a-4cd4-ac67-d80839c8d71e",
   "metadata": {
    "slideshow": {
     "slide_type": "skip"
    }
   },
   "outputs": [
    {
     "data": {
      "text/plain": [
       "['수박', '딸기', '사과', '귤', '토마토']"
      ]
     },
     "execution_count": 91,
     "metadata": {},
     "output_type": "execute_result"
    }
   ],
   "source": [
    "# (9) fruits 리스트에서 \"복숭아\"를 제거하세요.\n",
    "\n",
    "fruits.remove(\"복숭아\")\n",
    "fruits"
   ]
  },
  {
   "cell_type": "code",
   "execution_count": 95,
   "id": "4c5ed9d6-4775-4c21-9878-bbf10d581017",
   "metadata": {},
   "outputs": [
    {
     "data": {
      "text/plain": [
       "['딸기', '사과', '토마토']"
      ]
     },
     "execution_count": 95,
     "metadata": {},
     "output_type": "execute_result"
    }
   ],
   "source": [
    "del fruits[-2]\n",
    "fruits"
   ]
  },
  {
   "cell_type": "code",
   "execution_count": 104,
   "id": "80d9a3d8-dd2c-436a-b1aa-4ea7064bd75c",
   "metadata": {},
   "outputs": [
    {
     "name": "stdout",
     "output_type": "stream",
     "text": [
      "{'이름': '뫄뫄', '나이': 30, 'email주소': 'aaaa.@naver.com', '취미': ['수영', '책읽기'], '결혼유무': '미혼'}\n"
     ]
    }
   ],
   "source": [
    "d ={\"이름\": \"뫄뫄\", \"나이\": 30, \"email주소\": \"aaaa.@naver.com\", \"취미\": [\"수영\", \"책읽기\"], \"결혼유무\": \"미혼\"}\n",
    "print(d)"
   ]
  },
  {
   "cell_type": "code",
   "execution_count": 105,
   "id": "3a3b8ae1-1e6c-475f-802c-b87786cc003c",
   "metadata": {},
   "outputs": [
    {
     "name": "stdout",
     "output_type": "stream",
     "text": [
      "{'이름': '뫄뫄', '나이': 30, 'email주소': 'aaaa.@naver.com', '취미': ['수영', '책읽기'], '결혼유무': '미혼'}\n"
     ]
    }
   ],
   "source": [
    "info = d\n",
    "print(info)"
   ]
  },
  {
   "cell_type": "code",
   "execution_count": 106,
   "id": "57e25e50-3763-479c-b25d-cfc0e859c9ca",
   "metadata": {},
   "outputs": [
    {
     "name": "stdout",
     "output_type": "stream",
     "text": [
      "뫄뫄 aaaa.@naver.com\n"
     ]
    }
   ],
   "source": [
    "print(info[\"이름\"], info[\"email주소\"])"
   ]
  },
  {
   "cell_type": "code",
   "execution_count": 107,
   "id": "a836a23d-53ca-4a48-9ae3-4c0df9b26c6c",
   "metadata": {},
   "outputs": [
    {
     "name": "stdout",
     "output_type": "stream",
     "text": [
      "['수영', '책읽기']\n"
     ]
    }
   ],
   "source": [
    "print(info[\"취미\"])"
   ]
  },
  {
   "cell_type": "code",
   "execution_count": 108,
   "id": "79f544b6-b30b-45c9-bf95-20dcb07ccb98",
   "metadata": {},
   "outputs": [
    {
     "name": "stdout",
     "output_type": "stream",
     "text": [
      "수영\n"
     ]
    }
   ],
   "source": [
    "print(info[\"취미\"][0])"
   ]
  },
  {
   "cell_type": "code",
   "execution_count": 109,
   "id": "08c7019c-7ee2-4694-93da-9ec6e3516404",
   "metadata": {},
   "outputs": [],
   "source": [
    "info\n",
    "info[\"몸무게\"] = 40"
   ]
  },
  {
   "cell_type": "code",
   "execution_count": 78,
   "id": "33b97d2b-588f-49c8-b18c-7d513f45280b",
   "metadata": {
    "slideshow": {
     "slide_type": "skip"
    }
   },
   "outputs": [
    {
     "name": "stdout",
     "output_type": "stream",
     "text": [
      "{'이름': '뫄뫄', '나이': 30, 'email주소': 'gpendlr@naver.com', '취미': {'수영', '책읽기'}, '결혼유무': '미혼'}\n"
     ]
    }
   ],
   "source": [
    "# 문제 10 ~ 15\n",
    "# (10)본인의 이름, 나이, email주소, 취미, 결혼유무를 사전(딕셔너리)으로 생성.\n",
    "# 취미는 2개 이상의 값을 넣는다..\n",
    "d = {\"이름\": \"뫄뫄\" ,\"나이\": 30, \"email주소\": \"gpendlr@naver.com\", \"취미\": {\"수영\", \"책읽기\"}, \"결혼유무\" : \"미혼\"}\n",
    "print(d) #취미 바꿔야한다면 list로 써야함[]"
   ]
  },
  {
   "cell_type": "code",
   "execution_count": 79,
   "id": "5db9b5a6-1173-47cd-a414-3a7ad8338aee",
   "metadata": {},
   "outputs": [
    {
     "name": "stdout",
     "output_type": "stream",
     "text": [
      "{'이름': '홍길동', '나이': 30, 'email주소': 'abc.naver.com', '취미': ['독서', '게임'], '결혼유무': '미혼'}\n"
     ]
    }
   ],
   "source": [
    "info = {\n",
    "    \"이름\":\"홍길동\",\n",
    "    \"나이\":30,\n",
    "    \"email주소\":\"abc.naver.com\",\n",
    "    \"취미\":[\"독서\",\"게임\"],\n",
    "    \"결혼유무\":\"미혼\"\n",
    "}\n",
    "print(info)"
   ]
  },
  {
   "cell_type": "code",
   "execution_count": 80,
   "id": "8a649e11-44bb-4542-a1bc-3cde456f2c4f",
   "metadata": {},
   "outputs": [
    {
     "name": "stdout",
     "output_type": "stream",
     "text": [
      "{'이름': '홍길동', '나이': 30, 'email주소': 'abc@naver.com', '취미': ['영화감상', '게임'], '결혼유무': '미혼'}\n"
     ]
    }
   ],
   "source": [
    "info2 = dict(이름=\"홍길동\", 나이=30, email주소=\"abc@naver.com\", 취미=['영화감상','게임'], 결혼유무=\"미혼\")\n",
    "print(info2)"
   ]
  },
  {
   "cell_type": "code",
   "execution_count": 81,
   "id": "21378e23-3350-4acb-9c18-bea3bf050724",
   "metadata": {
    "slideshow": {
     "slide_type": "skip"
    }
   },
   "outputs": [],
   "source": [
    "# (11) 위 딕셔너리에서 이름과 email주소를 조회해서 출력하세요."
   ]
  },
  {
   "cell_type": "code",
   "execution_count": 82,
   "id": "85aa1ba9-1bdf-424e-8ac4-84eeace2a1b4",
   "metadata": {},
   "outputs": [
    {
     "name": "stdout",
     "output_type": "stream",
     "text": [
      "홍길동 abc.naver.com\n"
     ]
    }
   ],
   "source": [
    "print(info['이름'], info['email주소'])"
   ]
  },
  {
   "cell_type": "code",
   "execution_count": 83,
   "id": "aa30865f-4fe3-4935-a141-b0c8f26adbf6",
   "metadata": {},
   "outputs": [
    {
     "name": "stdout",
     "output_type": "stream",
     "text": [
      "홍길동\n"
     ]
    }
   ],
   "source": [
    "print(info2['이름'])"
   ]
  },
  {
   "cell_type": "code",
   "execution_count": 84,
   "id": "78bc0e20-4829-4f86-81d7-110c6b495d4a",
   "metadata": {
    "slideshow": {
     "slide_type": "skip"
    }
   },
   "outputs": [],
   "source": [
    "# (12) 위 딕셔너리에서 취미중 두번째 취미를 조회해서 출력하세요."
   ]
  },
  {
   "cell_type": "code",
   "execution_count": 85,
   "id": "9a5b0c43-7a13-43c7-99f3-41c1cb2df395",
   "metadata": {},
   "outputs": [
    {
     "name": "stdout",
     "output_type": "stream",
     "text": [
      "게임\n"
     ]
    }
   ],
   "source": [
    "print(info['취미'][1])\n"
   ]
  },
  {
   "cell_type": "code",
   "execution_count": 86,
   "id": "50e4a820-2441-41e8-8940-b007c1ba50a0",
   "metadata": {
    "slideshow": {
     "slide_type": "skip"
    }
   },
   "outputs": [],
   "source": [
    "# (13) 위 딕셔너리에 몸무게와 키 항목을 추가하세요."
   ]
  },
  {
   "cell_type": "code",
   "execution_count": 87,
   "id": "c4785bca-2c60-4096-b38f-e2fec6b36e0b",
   "metadata": {},
   "outputs": [
    {
     "data": {
      "text/plain": [
       "{'이름': '홍길동',\n",
       " '나이': 30,\n",
       " 'email주소': 'abc.naver.com',\n",
       " '취미': ['독서', '게임'],\n",
       " '결혼유무': '미혼',\n",
       " '몸무게': 80,\n",
       " '키': 180.56}"
      ]
     },
     "execution_count": 87,
     "metadata": {},
     "output_type": "execute_result"
    }
   ],
   "source": [
    "info\n",
    "info['몸무게'] = 80 #없는 key에 대입 : 추가\n",
    "info['키'] = 180.56\n",
    "info"
   ]
  },
  {
   "cell_type": "code",
   "execution_count": 88,
   "id": "411bd5c3-8abb-4bdb-b849-41763caef089",
   "metadata": {
    "slideshow": {
     "slide_type": "skip"
    }
   },
   "outputs": [],
   "source": [
    "# (14) 위 딕셔너리에서 email 주소를 다른 값으로 변경하세요."
   ]
  },
  {
   "cell_type": "code",
   "execution_count": 89,
   "id": "eba660fb-0fb8-4d5e-b2df-d23266d50649",
   "metadata": {},
   "outputs": [
    {
     "data": {
      "text/plain": [
       "{'이름': '홍길동',\n",
       " '나이': 30,\n",
       " 'email주소': 'gpendlr@naver.com',\n",
       " '취미': ['독서', '게임'],\n",
       " '결혼유무': '미혼',\n",
       " '몸무게': 80,\n",
       " '키': 180.56}"
      ]
     },
     "execution_count": 89,
     "metadata": {},
     "output_type": "execute_result"
    }
   ],
   "source": [
    "info['email주소'] = \"gpendlr@naver.com\"\n",
    "info"
   ]
  },
  {
   "cell_type": "code",
   "execution_count": 90,
   "id": "15f6d1c6-1e03-46e7-b278-111ec598e0ee",
   "metadata": {
    "slideshow": {
     "slide_type": "skip"
    }
   },
   "outputs": [],
   "source": [
    "# (15) 위 딕셔너리에서 나이를 제거하세요."
   ]
  },
  {
   "cell_type": "code",
   "execution_count": 91,
   "id": "334ac429-161b-4799-a09c-d08fb4add6b0",
   "metadata": {},
   "outputs": [
    {
     "name": "stdout",
     "output_type": "stream",
     "text": [
      "{'이름': '홍길동', 'email주소': 'gpendlr@naver.com', '취미': ['독서', '게임'], '결혼유무': '미혼', '몸무게': 80, '키': 180.56}\n"
     ]
    }
   ],
   "source": [
    "age = info.pop('나이')\n",
    "print(info) #del info[나이]"
   ]
  },
  {
   "cell_type": "code",
   "execution_count": 92,
   "id": "71f2f377-2e6e-47d2-9f6d-eed144465b94",
   "metadata": {},
   "outputs": [
    {
     "data": {
      "text/plain": [
       "30"
      ]
     },
     "execution_count": 92,
     "metadata": {},
     "output_type": "execute_result"
    }
   ],
   "source": [
    "age"
   ]
  },
  {
   "cell_type": "code",
   "execution_count": null,
   "id": "8562501f-feea-420c-9056-18ed2e5b500f",
   "metadata": {},
   "outputs": [],
   "source": []
  }
 ],
 "metadata": {
  "kernelspec": {
   "display_name": "Python 3 (ipykernel)",
   "language": "python",
   "name": "python3"
  },
  "language_info": {
   "codemirror_mode": {
    "name": "ipython",
    "version": 3
   },
   "file_extension": ".py",
   "mimetype": "text/x-python",
   "name": "python",
   "nbconvert_exporter": "python",
   "pygments_lexer": "ipython3",
   "version": "3.13.2"
  },
  "toc": {
   "base_numbering": 1,
   "nav_menu": {},
   "number_sections": true,
   "sideBar": true,
   "skip_h1_title": false,
   "title_cell": "Table of Contents",
   "title_sidebar": "Contents",
   "toc_cell": false,
   "toc_position": {
    "height": "calc(100% - 180px)",
    "left": "10px",
    "top": "150px",
    "width": "512px"
   },
   "toc_section_display": true,
   "toc_window_display": true
  },
  "varInspector": {
   "cols": {
    "lenName": 16,
    "lenType": 16,
    "lenVar": 40
   },
   "kernels_config": {
    "python": {
     "delete_cmd_postfix": "",
     "delete_cmd_prefix": "del ",
     "library": "var_list.py",
     "varRefreshCmd": "print(var_dic_list())"
    },
    "r": {
     "delete_cmd_postfix": ") ",
     "delete_cmd_prefix": "rm(",
     "library": "var_list.r",
     "varRefreshCmd": "cat(var_dic_list()) "
    }
   },
   "types_to_exclude": [
    "module",
    "function",
    "builtin_function_or_method",
    "instance",
    "_Feature"
   ],
   "window_display": false
  }
 },
 "nbformat": 4,
 "nbformat_minor": 5
}

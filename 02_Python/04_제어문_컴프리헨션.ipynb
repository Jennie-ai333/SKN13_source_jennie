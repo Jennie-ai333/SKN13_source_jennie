{
 "cells": [
  {
   "cell_type": "markdown",
   "id": "8c49cd8e",
   "metadata": {
    "slideshow": {
     "slide_type": "slide"
    }
   },
   "source": [
    "# 제어문(Control flow statement)\n",
    "\n",
    "기본적으로 프로그램은 순차구조를 가진다. 즉 작성한 순서대로 실행이 된다.  \n",
    "이런 실행흐름을 다른 순서로 제어하기 위한 구문을 만드는 문법이 제어문이다.  \n",
    "제어문은 **조건문** 과 **반복문** 두가지 문법이 있다.\n",
    "\n",
    "-   **조건문**\n",
    "    -   if 문\n",
    "-   **반복문**\n",
    "    -   while 문\n",
    "    -   for in 문\n"
   ]
  },
  {
   "cell_type": "markdown",
   "id": "92c502ce",
   "metadata": {
    "slideshow": {
     "slide_type": "slide"
    }
   },
   "source": [
    "# 조건문/분기문 (conditional statement)\n",
    "\n",
    "-   프로그램이 명령문들을 실행하는 도중 특정 순서에서 **조건에 따라 흐름의 나눠져야 하는 경우 사용한다**\n",
    "-   파이썬은 조건문으로 **if문**이 있다.\n",
    "\n",
    "![조건문](images/ch03_01.png)\n",
    "\n",
    "<center>입력 받은 a 의 값이 0인지 여부에 따라 두가지 흐름으로 분기된다.</center>\n"
   ]
  },
  {
   "cell_type": "code",
   "execution_count": null,
   "id": "366165dc-8914-433e-9d39-a518650e3de2",
   "metadata": {},
   "outputs": [],
   "source": []
  },
  {
   "cell_type": "markdown",
   "id": "2a3c1835",
   "metadata": {
    "slideshow": {
     "slide_type": "subslide"
    }
   },
   "source": [
    "## 구문\n",
    "\n",
    "-   조건이 True일 경우만 특정 구문들을 실행 하는 조건문.\n",
    "\n",
    "```python\n",
    "if 조건:    # 조건은 bool 표현식을 기술한다. 조건선언 다음에 : 으로 선언해서 코드블록을 구분한다.\n",
    "    명령문1  # 조건이 True이면 실행할 구문들을 코드블럭에 기술한다.\n",
    "    명령문2  # 코드 블록은 들여쓰기를 이용해 묶어준다. 보통 공백 4칸으로 들여쓰기를 한다.\n",
    "    ...\n",
    "```\n",
    "\n",
    "> ### 파이썬의 코드블록(code block)\n",
    ">\n",
    "> 코드블록이란 **여러 명령문들을 묶어놓은 것을** 말한다. 코드블록으로 묶이면 실행시 같이 다 실행되고 실행이 안되면 같이 다 실행이 안된다.  \n",
    "> 파이썬에서는 코드블록을 작성할 때 **들여쓰기를 이용해 묶어준다.**  \n",
    "> 같은 칸만큼 들여쓰기를 한 명령문들이 같은 블록으로 묶인다.\n",
    "> 들여쓰기는 관례적으로 **공백 4칸을** 사용한다. # 그렇지 않으면 indentationError가 남\n",
    "\n",
    "> ### pass 키워드(예약어)\n",
    ">\n",
    "> -   빈 구현부를 만들때 사용\n",
    ">     -   제어문, 함수의 body 코드블럭은 비울 수 없다. 반드시 명령문을 한개 이상 작성해야한다.\n",
    ">     -   작성할 내용이 없을 경우 사용하는 키워드로 `pass`를 사용한다.\n"
   ]
  },
  {
   "cell_type": "code",
   "execution_count": 6,
   "id": "9aa311a5",
   "metadata": {
    "slideshow": {
     "slide_type": "fragment"
    }
   },
   "outputs": [
    {
     "name": "stdin",
     "output_type": "stream",
     "text": [
      ">>>정수: 3\n"
     ]
    },
    {
     "name": "stdout",
     "output_type": "stream",
     "text": [
      "종료\n"
     ]
    }
   ],
   "source": [
    "num = int(input(\">>>정수:\")) # 1\n",
    "# num이 0이면 \"영입니다.\"를 출력.\n",
    "if num == 0: #선언부 \n",
    "    #구현부\n",
    "    print(\"0입니다.\")\n",
    "    print(\"Zero.\")\n",
    "    print(\"영\")             #2\n",
    "print('종료')               #3"
   ]
  },
  {
   "cell_type": "code",
   "execution_count": 9,
   "id": "2d595941-6e9c-45df-9059-aadef8a57c95",
   "metadata": {},
   "outputs": [
    {
     "name": "stdout",
     "output_type": "stream",
     "text": [
      "영입니다.\n"
     ]
    }
   ],
   "source": [
    "num = 0\n",
    "if num == 0:print(\"영입니다.\") #구현부 하나일땐 `:`에 붙여서 써도 됨\n",
    "else: print(\"영아님\")"
   ]
  },
  {
   "cell_type": "markdown",
   "id": "09c79c35",
   "metadata": {
    "slideshow": {
     "slide_type": "subslide"
    }
   },
   "source": [
    "-   **조건이 True일 때 False일때 실행 구문이 분기되는 조건문.**\n",
    "\n",
    "```python\n",
    "if 조건:\n",
    "    명령문1_1 # 조건이 True일 경우 실행할 구문들\n",
    "    명령문1_2\n",
    "    ...\n",
    "else:\n",
    "    명령문2_1 # 조건이 False일 경우 실행할 구문들\n",
    "    명령문2_2\n",
    "    ...\n",
    "```\n"
   ]
  },
  {
   "cell_type": "code",
   "execution_count": 5,
   "id": "87b51956",
   "metadata": {
    "slideshow": {
     "slide_type": "fragment"
    }
   },
   "outputs": [
    {
     "name": "stdin",
     "output_type": "stream",
     "text": [
      ">>>정수 2\n"
     ]
    },
    {
     "name": "stdout",
     "output_type": "stream",
     "text": [
      "입력받은 숫자: 2\n"
     ]
    }
   ],
   "source": [
    "num = int(input(\">>>정수\"))\n",
    "if num == 0: #선언부 # if 뒤에 bool type 만 넣을 수 있음\n",
    "    #구현부\n",
    "    print(\"영입니다.\")\n",
    "    print(\"This is zero.\")\n",
    "else:\n",
    "    print(f\"입력받은 숫자: {num}\")"
   ]
  },
  {
   "cell_type": "code",
   "execution_count": 12,
   "id": "e6f406bb-9b3c-4cee-837c-da9e981ff97b",
   "metadata": {},
   "outputs": [
    {
     "name": "stdin",
     "output_type": "stream",
     "text": [
      ">>>정수 0\n"
     ]
    }
   ],
   "source": [
    "num = int(input(\">>>정수\"))\n",
    "if num == 0:\n",
    "    pass\n",
    "else:\n",
    "    pass # pass 는 자리만 채워넣는 것"
   ]
  },
  {
   "cell_type": "markdown",
   "id": "621eae9a",
   "metadata": {
    "slideshow": {
     "slide_type": "subslide"
    }
   },
   "source": [
    "-   **조건이 여러 개인 조건문.**\n",
    "\n",
    "```python\n",
    "if 조건1:\n",
    "    명령문1_1  # 조건1이 True일 경우 실행할 코드블록.\n",
    "    명령문1_2\n",
    "    ...\n",
    "elif 조건2:    # 다음 조건으로 앞의 조건들이 모드 False일 경우 비교한다.\n",
    "    명령문2_1  # 조건2가 True일 경우 실행할 코드블록.\n",
    "    명령문2_2\n",
    "    ...\n",
    "elif 조건3 :\n",
    "    명령문3_1\n",
    "    명령문3_2\n",
    "    ...\n",
    "else:         # 위의 모든 조건이 False일 경우 실행하는 코드블록. 생략 가능하다.\n",
    "    명령문4\n",
    "```\n"
   ]
  },
  {
   "cell_type": "code",
   "execution_count": null,
   "id": "4c6a532d",
   "metadata": {
    "slideshow": {
     "slide_type": "fragment"
    }
   },
   "outputs": [],
   "source": [
    "# elif = else if "
   ]
  },
  {
   "cell_type": "code",
   "execution_count": 13,
   "id": "c1d8487d-56c9-4b81-bf1b-a7e1d732622c",
   "metadata": {},
   "outputs": [
    {
     "name": "stdin",
     "output_type": "stream",
     "text": [
      ">>>정수 0\n"
     ]
    },
    {
     "name": "stdout",
     "output_type": "stream",
     "text": [
      "영입니다.\n"
     ]
    }
   ],
   "source": [
    "num = int(input(\">>>정수\"))\n",
    "if num == 0:\n",
    "    print(\"영입니다.\")\n",
    "elif num > 0:\n",
    "    print(\"양수입니다.\")\n",
    "elif num < 0:\n",
    "    print(\"음수입니다.\")"
   ]
  },
  {
   "cell_type": "code",
   "execution_count": 17,
   "id": "366da30b-c1e1-4336-8d1f-251fcaeab53b",
   "metadata": {},
   "outputs": [
    {
     "name": "stdin",
     "output_type": "stream",
     "text": [
      ">>>정수 -888\n"
     ]
    },
    {
     "name": "stdout",
     "output_type": "stream",
     "text": [
      "음수입니다.\n",
      "종료\n"
     ]
    }
   ],
   "source": [
    "num = int(input(\">>>정수\"))\n",
    "if num == 0:\n",
    "    print(\"영입니다.\")\n",
    "elif num > 0:\n",
    "    print(\"양수입니다.\")\n",
    "else:\n",
    "    print(\"음수입니다.\")\n",
    "print('종료')"
   ]
  },
  {
   "cell_type": "markdown",
   "id": "2149b728",
   "metadata": {
    "slideshow": {
     "slide_type": "slide"
    }
   },
   "source": [
    "# 반복문 (Loop statement)\n",
    "\n",
    "특정 구문들을 반복해서 실행할 때 사용한다. 동일한 코드를 여러번 반복하거나 값이 일정하게 변하는 코드를 반복할 경우 사용한다.  \n",
    "단순 반복을 처리하는 **while문**과 iterable객체가 제공하는 값들을 반복 조회하는 **for in문** 두가지 문법이 있다.\n",
    "\n",
    "![반복문](images/ch03_02.png)\n",
    "\n",
    "<center>count의 값이 limit의 값보다 크거나 같을때 까지 count의 값을 1증가 후 출력하는 구문을 반복한다. </center>\n"
   ]
  },
  {
   "cell_type": "code",
   "execution_count": 12,
   "id": "1aedb414-f678-4fde-9cb3-8a6950fdd0cb",
   "metadata": {},
   "outputs": [],
   "source": [
    "# limit의 값이 -5가 된다면 false로 내려감\n",
    "# limit에 5를 넣었다면 count가 반복해서 +1 , 비교 .. 반복\n",
    "# count = count + 1 이 없다면 무한반복. 조건을 바꿔주는 코드가 들어가야함"
   ]
  },
  {
   "cell_type": "markdown",
   "id": "b4740a36",
   "metadata": {
    "slideshow": {
     "slide_type": "subslide"
    }
   },
   "source": [
    "## while문\n",
    "\n",
    "-   조건이 True인 동안 구문을 반복해서 실행한다.\n",
    "\n",
    "### 구문\n",
    "\n",
    "```python\n",
    "while 조건:       # 조건은 bool 표현식을 기술한다. 조건선언 다음에 : 으로 선언해서 코드블록을 구분한다\n",
    "    반복할 구문1  # 반복할 구문을 코드블록으로 작성한다.\n",
    "    반복할 구문2\n",
    "    ...\n",
    "```\n"
   ]
  },
  {
   "cell_type": "code",
   "execution_count": 3,
   "id": "6b11bde6",
   "metadata": {
    "slideshow": {
     "slide_type": "fragment"
    }
   },
   "outputs": [
    {
     "name": "stdout",
     "output_type": "stream",
     "text": [
      "1.안녕하세요.\n",
      "2.안녕하세요.\n",
      "3.안녕하세요.\n",
      "4.안녕하세요.\n",
      "5.안녕하세요.\n",
      "6.안녕하세요.\n",
      "7.안녕하세요.\n",
      "8.안녕하세요.\n",
      "9.안녕하세요.\n",
      "10.안녕하세요.\n",
      "종료\n"
     ]
    }
   ],
   "source": [
    "count = 0\n",
    "limit = 10\n",
    "while count < limit:\n",
    "    # count = count + 1\n",
    "    count += 1 #조건을 변경할 수 있는 식이 필요함 - 증감식\n",
    "    print(f\"{count}.안녕하세요.\")    # 열번째까지 true 고 그 뒤로는 False라 종료\n",
    "print(\"종료\")"
   ]
  },
  {
   "cell_type": "code",
   "execution_count": null,
   "id": "70259573-6298-408b-b0ed-1b1fe1e9c9d2",
   "metadata": {},
   "outputs": [],
   "source": []
  },
  {
   "cell_type": "markdown",
   "id": "04f12e55",
   "metadata": {
    "slideshow": {
     "slide_type": "subslide"
    }
   },
   "source": [
    "## for in 문\n",
    "\n",
    "-   Iterable 객체를 순환조회하는 구문\n",
    "    -   for in문은 Iterable 타입의 객체가 가지고 있는 값들을 하나씩 처리하는 구문을 작성할 때 사용한다. #일괄처리. 실행은 하나씩 함\n",
    "\n",
    "> -   **Iterable**\n",
    ">     -   반복가능한 객체. 반복문(for in)을 이용해 일련의 값들을 반복적으로 각각 제공하는 객체를 말한다.\n",
    ">     -   대표적으로 List, Tuple, Dictionary, Set, 문자열 등이 있다.\n",
    "\n",
    "### 구문\n",
    "\n",
    "```python\n",
    "for 변수 in Iterable: # for in 선언후 : 으로 선언부와 구현부를 나눈다.\n",
    "    반복구문          # Iterable이 반복시 제공하는 값을 가지는 \"변수\"를 이용해 값들을 처리하는 구문을 코드블록으로 작성한다.\n",
    "    반복구문\n",
    "```\n"
   ]
  },
  {
   "cell_type": "code",
   "execution_count": 19,
   "id": "da0ce0f6",
   "metadata": {
    "slideshow": {
     "slide_type": "fragment"
    }
   },
   "outputs": [],
   "source": [
    "# 반복구문은 들여쓰기. for in 문의 코드"
   ]
  },
  {
   "cell_type": "code",
   "execution_count": 22,
   "id": "31ef9109-6c8e-4b91-9210-46c8f30cade2",
   "metadata": {},
   "outputs": [
    {
     "name": "stdout",
     "output_type": "stream",
     "text": [
      "10\t100\t20\t30\t500\t"
     ]
    }
   ],
   "source": [
    "l = [10, 100, 20, 30, 500]\n",
    "# l의 모든 원소들을 출력 (Iterable(반복대상): l, 일괄처리; 출력\n",
    "for value in l:\n",
    "    print(value, end=\"\\t\")"
   ]
  },
  {
   "cell_type": "code",
   "execution_count": 28,
   "id": "8fe6a590-d0a5-43d1-b5d5-4af702ab6701",
   "metadata": {},
   "outputs": [],
   "source": [
    "# l의 모든 값들을 두배로 늘리기. (iterable: l, 일괄처리: 두배))\n",
    "result = [] # 빈 리스트 만들어두기 \n",
    "for value in l:\n",
    "    # print(value * 2)\n",
    "    result.append(value * 2)"
   ]
  },
  {
   "cell_type": "code",
   "execution_count": 29,
   "id": "d5f81d84-37e8-4bc3-bf0a-0cf877119740",
   "metadata": {},
   "outputs": [
    {
     "name": "stdout",
     "output_type": "stream",
     "text": [
      "[10, 100, 20, 30, 500]\n",
      "[20, 200, 40, 60, 1000]\n"
     ]
    }
   ],
   "source": [
    "print(l)\n",
    "print(result)"
   ]
  },
  {
   "cell_type": "code",
   "execution_count": 34,
   "id": "408fd383-3c15-4245-9c59-07f1aa237fd2",
   "metadata": {},
   "outputs": [
    {
     "name": "stdout",
     "output_type": "stream",
     "text": [
      "10는 3의 배수가 아님.\n",
      "100는 3의 배수가 아님.\n",
      "20는 3의 배수가 아님.\n",
      "30\n",
      "500는 3의 배수가 아님.\n"
     ]
    }
   ],
   "source": [
    "# 3의 배수를 찾기 (Iterable = l, 일괄처리: 3의 배수인지 확인)\n",
    "for value in l:\n",
    "    if value % 3 == 0:\n",
    "        print(value) # 나머지 연산, 나머지가 0이면 3의 배수이니까\n",
    "    else:\n",
    "        print(f\"{value}는 3의 배수가 아님.\")\n"
   ]
  },
  {
   "cell_type": "code",
   "execution_count": 1,
   "id": "dee01167-d426-49bb-a211-e65b7a68dc43",
   "metadata": {},
   "outputs": [
    {
     "name": "stdout",
     "output_type": "stream",
     "text": [
      "10\n",
      "20\n",
      "30\n"
     ]
    }
   ],
   "source": [
    "s = {10, 20, 30} #set 도 iterable type\n",
    "for v in s:\n",
    "    print(v)"
   ]
  },
  {
   "cell_type": "code",
   "execution_count": 38,
   "id": "c72acc71-e079-4597-851d-84a01008d796",
   "metadata": {},
   "outputs": [
    {
     "name": "stdout",
     "output_type": "stream",
     "text": [
      "1\n",
      "2\n",
      "3\n",
      "4\n",
      "5\n"
     ]
    }
   ],
   "source": [
    "t = 1, 2, 3, 4, 5 # tuple 도 iterable type\n",
    "for v in t:\n",
    "    print(v)"
   ]
  },
  {
   "cell_type": "code",
   "execution_count": 42,
   "id": "36684432-a1c0-4e18-8c89-c01b659e7c9a",
   "metadata": {},
   "outputs": [
    {
     "name": "stdout",
     "output_type": "stream",
     "text": [
      "a\n",
      "b\n",
      "c\n"
     ]
    }
   ],
   "source": [
    "# dict\n",
    "d = {\"a\":10, \"b\":20, \"c\":30}\n",
    "for key in d:\n",
    "    print(key)"
   ]
  },
  {
   "cell_type": "code",
   "execution_count": 4,
   "id": "57bc5a3d-8e2d-4558-b9ca-148f2c9ff28b",
   "metadata": {},
   "outputs": [
    {
     "name": "stdout",
     "output_type": "stream",
     "text": [
      "a 10\n",
      "b 20\n",
      "c 30\n"
     ]
    }
   ],
   "source": [
    "# dict\n",
    "d = {\"a\":10, \"b\":20, \"c\":30}\n",
    "for key in d:\n",
    "    print(key, d[key]) # []value 조회\n"
   ]
  },
  {
   "cell_type": "code",
   "execution_count": 45,
   "id": "8dba8ffb-ef77-4414-b1ad-49dc4ba0a325",
   "metadata": {},
   "outputs": [
    {
     "data": {
      "text/plain": [
       "'a'"
      ]
     },
     "execution_count": 45,
     "metadata": {},
     "output_type": "execute_result"
    }
   ],
   "source": [
    "# d[key]\n",
    "v = \"a\"\n",
    "v"
   ]
  },
  {
   "cell_type": "code",
   "execution_count": 46,
   "id": "e642e6dd-ecfb-4fa3-86c0-e7538baa3878",
   "metadata": {},
   "outputs": [
    {
     "data": {
      "text/plain": [
       "dict_values([10, 20, 30])"
      ]
     },
     "execution_count": 46,
     "metadata": {},
     "output_type": "execute_result"
    }
   ],
   "source": [
    "d.values()"
   ]
  },
  {
   "cell_type": "code",
   "execution_count": 47,
   "id": "a1e9c0b9-06fb-468c-9f3a-c50291afcb35",
   "metadata": {},
   "outputs": [
    {
     "data": {
      "text/plain": [
       "dict_keys(['a', 'b', 'c'])"
      ]
     },
     "execution_count": 47,
     "metadata": {},
     "output_type": "execute_result"
    }
   ],
   "source": [
    "d.keys()"
   ]
  },
  {
   "cell_type": "code",
   "execution_count": 48,
   "id": "cac30b61-5b41-4cc5-8fe2-7173494f6615",
   "metadata": {},
   "outputs": [
    {
     "name": "stdout",
     "output_type": "stream",
     "text": [
      "10\n",
      "20\n",
      "30\n"
     ]
    }
   ],
   "source": [
    "for v in d.values():\n",
    "    print(v)"
   ]
  },
  {
   "cell_type": "code",
   "execution_count": 50,
   "id": "61c52ab5-f67a-4975-b258-de8ec8887542",
   "metadata": {},
   "outputs": [
    {
     "data": {
      "text/plain": [
       "dict_items([('a', 10), ('b', 20), ('c', 30)])"
      ]
     },
     "execution_count": 50,
     "metadata": {},
     "output_type": "execute_result"
    }
   ],
   "source": [
    "d.items()\n",
    "# dict_items([('a', 10), ('b', 20), ('c', 30)]) [(key, value)]"
   ]
  },
  {
   "cell_type": "code",
   "execution_count": 53,
   "id": "4fcb64f5-1a19-4176-895a-ae997e257bc4",
   "metadata": {},
   "outputs": [],
   "source": [
    "v = (\"a\", 10) # tuple 대입"
   ]
  },
  {
   "cell_type": "code",
   "execution_count": 52,
   "id": "8f24e3d6-ffdf-496e-a308-b946e4eea0a7",
   "metadata": {},
   "outputs": [
    {
     "name": "stdout",
     "output_type": "stream",
     "text": [
      "a 10\n"
     ]
    }
   ],
   "source": [
    "k, v = (\"a\", 10)\n",
    "print(k, v)"
   ]
  },
  {
   "cell_type": "code",
   "execution_count": 60,
   "id": "1faf8819-427a-4902-9d37-18d3bd90f98f",
   "metadata": {},
   "outputs": [
    {
     "name": "stdout",
     "output_type": "stream",
     "text": [
      "a 10\n",
      "b 20\n",
      "c 30\n"
     ]
    }
   ],
   "source": [
    "for key, value in d.items(): # 원소가 자료구조일 때 원소 개수만큼 변수를 선언할 수 있다. \n",
    "    #튜플이나 리스트로 묶여져 있어야함\n",
    "    print(key, value)"
   ]
  },
  {
   "cell_type": "code",
   "execution_count": 61,
   "id": "d74fff7c-5676-4a88-98e9-70e78e8cc439",
   "metadata": {},
   "outputs": [
    {
     "name": "stdout",
     "output_type": "stream",
     "text": [
      "가, 나, 다, a, b, c, d, e, 1, 2, 3, 4, "
     ]
    }
   ],
   "source": [
    "# 문자열\n",
    "for char in \"가나다abcde1234\":\n",
    "    print(char, end=\", \")"
   ]
  },
  {
   "cell_type": "code",
   "execution_count": 5,
   "id": "04670b60-10e2-4dfd-b55c-316094be3b1d",
   "metadata": {},
   "outputs": [
    {
     "name": "stdout",
     "output_type": "stream",
     "text": [
      "[1, 2]\n",
      "[3, 4]\n",
      "[5, 6]\n"
     ]
    }
   ],
   "source": [
    "l2 = [[1,2], [3,4],[5,6]]\n",
    "for v in l2:\n",
    "    print(v)"
   ]
  },
  {
   "cell_type": "code",
   "execution_count": 7,
   "id": "54b26d50-64b4-479f-88da-57dc15135941",
   "metadata": {},
   "outputs": [
    {
     "name": "stdout",
     "output_type": "stream",
     "text": [
      "1 2\n",
      "3 4\n",
      "5 6\n"
     ]
    }
   ],
   "source": [
    "l2 = [[1,2], [3,4],[5,6]]\n",
    "for v1, v2 in l2:\n",
    "    print(v1, v2)"
   ]
  },
  {
   "cell_type": "markdown",
   "id": "1f30cd6f",
   "metadata": {
    "slideshow": {
     "slide_type": "subslide"
    }
   },
   "source": [
    "## continue와 break를 이용한 반복문 제어\n",
    "\n",
    "-   **continue**\n",
    "    -   실행 블록에서 continue가 실행되면 현재 반복을 중단하고 다음 반복을 진행한다.\n",
    "    -   특정 조건에서 처리를 멈추고 다음 처리를 반복할 때 사용한다.\n",
    "-   **break**\n",
    "    -   반복문 실행을 중단한다.\n",
    "    -   특정 조건에서 반복문을 중간에 중지할때 사용한다.\n",
    "-   continue와 break는 특정 조건에서 실행되야 하는 경우가 대부분이므로 if문 안에 작성한다.\n"
   ]
  },
  {
   "cell_type": "code",
   "execution_count": 9,
   "id": "90c41e9f",
   "metadata": {
    "slideshow": {
     "slide_type": "fragment"
    }
   },
   "outputs": [
    {
     "name": "stdout",
     "output_type": "stream",
     "text": [
      "2\n",
      "4\n",
      "6\n",
      "8\n",
      "10\n"
     ]
    }
   ],
   "source": [
    "l = [1, 2, 3, 4, 5, 6, 7, 8, 9, 10]\n",
    "# 짝수만 출력 \n",
    "for v in l:\n",
    "    #if v % 2 == 0:\n",
    "    if v % 2 != 0: # 2의 배수가 아니라면\n",
    "        continue # 2의 배수가 아니면 계속 실행해라. 그래서 2의 배수가 아닌게 다 나오니 끝남.\n",
    "    print(v)"
   ]
  },
  {
   "cell_type": "code",
   "execution_count": 10,
   "id": "e1ef5c74-5ca5-44e8-942b-75b2bf5026e5",
   "metadata": {},
   "outputs": [
    {
     "name": "stdout",
     "output_type": "stream",
     "text": [
      "1\n",
      "2\n",
      "3\n",
      "4\n",
      "5\n",
      "6\n",
      "종료\n"
     ]
    }
   ],
   "source": [
    "# 만약에 7이면 반복을 종료 \n",
    "for v in l:\n",
    "    if v == 7:\n",
    "        #continue 하면 7만 빼고 출력\n",
    "         break # 7 전에 브레이크 걸어서 출력, 반복문 자체를 끝내버림\n",
    "    print(v)\n",
    "print('종료')"
   ]
  },
  {
   "cell_type": "code",
   "execution_count": 10,
   "id": "0821c710-b4c4-437f-bc86-02b4e6826b6a",
   "metadata": {},
   "outputs": [
    {
     "name": "stdout",
     "output_type": "stream",
     "text": [
      "종료\n"
     ]
    }
   ],
   "source": [
    "import random\n",
    "# -100 ~ 100 범위에 정수 난수를 생성\n",
    "# 생성된 정수 중 양수는 `pos_result` 리스트에 음수는 `neg_result` 리스트에 저장\n",
    "# 0이 생성되면 종료\n",
    "\n",
    "# 자료구조가 아님. for in 문을 못 씀\n",
    "# while문을 써야함 \n",
    "# 계속 반복해서 0이 되면 종료\n",
    "\n",
    "pos_result = []\n",
    "neg_result = []\n",
    "num = random.randint(-100, 100)\n",
    "while num != 0:\n",
    "    if num > 0:\n",
    "        pos_result.append(num)\n",
    "    else:\n",
    "        neg_result.append(num)\n",
    "    num = random.randint(-100, 100) # else 바깥에서 한 번 더 실행\n",
    "print('종료')"
   ]
  },
  {
   "cell_type": "code",
   "execution_count": 16,
   "id": "7ad3db7f-c6d0-4540-96fe-1b404855bbd0",
   "metadata": {},
   "outputs": [
    {
     "name": "stdout",
     "output_type": "stream",
     "text": [
      "종료\n"
     ]
    }
   ],
   "source": [
    "pos_result = []\n",
    "neg_result = []\n",
    "# := (왈러스 연산자 - 대입연산자) - if / while 조건절에서 쓰임. / :=대입해서 바로 num을 사용할 수 있게 함\n",
    "# 값을 변수에 대입하고 반환 1. 값을 변수에 대입, 2. 대입한 값을 다시 반환 \n",
    "# num = random.randint(-100, 100)\n",
    "# while num != 0: \n",
    "# 위 아래 이거 두개 합침 \n",
    "# while (num :=  random.randint(-100, 100)) != 0: () 묶어도 되고 안묶어도 됨\n",
    "while num :=  random.randint(-100, 100) != 0:\n",
    "    if num > 0:\n",
    "        pos_result.append(num)\n",
    "    else:\n",
    "        neg_result.append(num)\n",
    "print('종료')"
   ]
  },
  {
   "cell_type": "code",
   "execution_count": 72,
   "id": "07d1e803-b552-435c-ae17-e089f8f36586",
   "metadata": {},
   "outputs": [],
   "source": [
    "pos_result = []\n",
    "neg_result = []\n",
    "\n",
    "while True:\n",
    "    num = random.randint(-100, 100)\n",
    "    if num > 0:\n",
    "        pos_result.append(num)\n",
    "    elif num < 0:\n",
    "        neg_result.append(num)\n",
    "    else: #==0\n",
    "        break"
   ]
  },
  {
   "cell_type": "code",
   "execution_count": 73,
   "id": "e560d890-482c-48a9-9f0d-765348d836a9",
   "metadata": {},
   "outputs": [
    {
     "name": "stdout",
     "output_type": "stream",
     "text": [
      "[9, 47, 1, 62, 6, 83, 44, 10, 71, 71, 85, 90, 24, 36, 51, 43, 41, 37, 70, 26, 51, 74, 28, 3, 46, 56, 100, 99, 9, 69, 50, 10, 4, 64, 100, 30, 47, 100, 8, 48, 69, 79, 91, 30, 31, 56, 2, 45, 51, 21, 89, 23, 40, 92, 29, 15, 17, 43, 64, 86, 86, 43, 54, 18, 57, 10, 53, 57, 74, 34, 63, 36, 61, 74, 16, 79, 84, 96, 32, 84, 43, 76, 7, 53, 78, 82, 98, 1, 17, 21, 41, 50, 100, 100, 86, 8, 79, 12, 20, 26, 19, 39, 8, 53, 28, 68, 55, 68, 72, 14, 76, 71, 32, 38, 48, 1, 3, 21, 43, 95, 73, 76, 72, 35, 35, 22, 13, 75, 49, 64, 9, 49, 72, 59, 40, 71, 13, 15, 79, 69]\n"
     ]
    }
   ],
   "source": [
    "print(pos_result)"
   ]
  },
  {
   "cell_type": "code",
   "execution_count": 74,
   "id": "edf679ef-b9d8-4f8c-9584-29b6e39f5640",
   "metadata": {},
   "outputs": [
    {
     "name": "stdout",
     "output_type": "stream",
     "text": [
      "[-13, -4, -95, -27, -88, -70, -61, -55, -55, -72, -21, -33, -76, -64, -69, -44, -52, -83, -91, -13, -33, -47, -41, -9, -32, -91, -24, -23, -18, -50, -90, -37, -24, -47, -55, -26, -57, -98, -12, -42, -27, -1, -38, -8, -97, -55, -18, -61, -54, -66, -1, -22, -43, -97, -40, -71, -89, -89, -97, -50, -49, -67, -93, -13, -89, -66, -57, -3, -36, -17, -65, -9, -62, -65, -50, -66, -33, -9, -93, -65, -34, -10, -52, -52, -12, -38, -95, -40, -23, -12, -23, -48, -99, -75, -70, -75, -58, -5, -8, -29, -51, -49, -66, -70, -68, -76, -46, -24, -44, -57, -64, -45, -79, -80, -48, -25, -47, -96, -42, -46, -85, -51, -98, -33, -53, -93, -35, -67, -60, -64, -12, -98, -9, -89, -68, -60, -19, -21, -87, -64, -34, -71, -94, -96, -63]\n"
     ]
    }
   ],
   "source": [
    "print(neg_result)"
   ]
  },
  {
   "cell_type": "code",
   "execution_count": null,
   "id": "946a03e9-74c8-405c-b715-cc3cba6661ab",
   "metadata": {},
   "outputs": [],
   "source": []
  },
  {
   "cell_type": "markdown",
   "id": "dc6099c5",
   "metadata": {
    "slideshow": {
     "slide_type": "slide"
    }
   },
   "source": [
    "## for in 문 연관 내장 함수\n",
    "\n",
    "### range()\n",
    "\n",
    "-   일정한 간격의 연속된 정수를 제공하는 반복가능 객체 생성한다.\n",
    "-   구문\n",
    "    -   `range([시작값], 멈춤값, [증감값])`\n",
    "        -   시작값, 멈춤값, 증감값 모두 정수만 가능하다.\n",
    "        -   시작값 > 멈춤값 이고 증감값이 음수이면 내림차순으로 값을 제공한다.\n",
    "        1. 전달값이 **1개: 멈춤값**.\n",
    "            - 0 ~ (멈춤값-1)까지 1씩 증가하는 정수를 제공\n",
    "        2. 전달값이 **2개: 시작값, 멈춤값**.\n",
    "            - 시작값 ~ (멈춤값-1) 까지 1씩 증가하는 정수 제공\n",
    "        3. 전달값이 **3개: 시작값, 멈춤값, 증감값(간격)**.\n",
    "            - 시작값 ~ (멈춤값-1)까지 증감값만큼 증가하는 정수를 제공.\n"
   ]
  },
  {
   "cell_type": "code",
   "execution_count": 2,
   "id": "b3618cd0-5fe4-40fc-b53e-ff544c0399ad",
   "metadata": {},
   "outputs": [
    {
     "name": "stdout",
     "output_type": "stream",
     "text": [
      "1\n",
      "2\n"
     ]
    }
   ],
   "source": [
    "print(1)  # 1\\n\n",
    "print(2)"
   ]
  },
  {
   "cell_type": "code",
   "execution_count": 23,
   "id": "352d937b",
   "metadata": {
    "slideshow": {
     "slide_type": "fragment"
    }
   },
   "outputs": [],
   "source": [
    "# in 다음에 온다"
   ]
  },
  {
   "cell_type": "code",
   "execution_count": 24,
   "id": "505da30d-d257-43b1-8400-da254e7a92f0",
   "metadata": {},
   "outputs": [
    {
     "data": {
      "text/plain": [
       "range(10, 20)"
      ]
     },
     "execution_count": 24,
     "metadata": {},
     "output_type": "execute_result"
    }
   ],
   "source": [
    "range(10, 20)"
   ]
  },
  {
   "cell_type": "code",
   "execution_count": 4,
   "id": "334dba7e-b758-4167-ae19-53d0c2fe5952",
   "metadata": {},
   "outputs": [
    {
     "name": "stdout",
     "output_type": "stream",
     "text": [
      "10,11,12,13,14,15,16,17,18,19,"
     ]
    }
   ],
   "source": [
    "for v in range(10, 20):\n",
    "    print(v, end=\"\\t\") # 10부터 20앞까지, 간격 1     # 10\\t"
   ]
  },
  {
   "cell_type": "code",
   "execution_count": 8,
   "id": "7dfcb324-4dce-4652-8432-e1ce4daea4d8",
   "metadata": {},
   "outputs": [
    {
     "name": "stdout",
     "output_type": "stream",
     "text": [
      "10,20,30,40,50\n"
     ]
    }
   ],
   "source": [
    "print(10, 20, 30, 40, 50, sep=\",\")"
   ]
  },
  {
   "cell_type": "code",
   "execution_count": 6,
   "id": "82a75395-8a98-4f16-a7cf-734f53d21141",
   "metadata": {},
   "outputs": [
    {
     "name": "stdout",
     "output_type": "stream",
     "text": [
      "Help on built-in function print in module builtins:\n",
      "\n",
      "print(*args, sep=' ', end='\\n', file=None, flush=False)\n",
      "    Prints the values to a stream, or to sys.stdout by default.\n",
      "\n",
      "    sep\n",
      "      string inserted between values, default a space.\n",
      "    end\n",
      "      string appended after the last value, default a newline.\n",
      "    file\n",
      "      a file-like object (stream); defaults to the current sys.stdout.\n",
      "    flush\n",
      "      whether to forcibly flush the stream.\n",
      "\n"
     ]
    }
   ],
   "source": [
    "help(print)"
   ]
  },
  {
   "cell_type": "code",
   "execution_count": 5,
   "id": "9ec5b3e1-3329-4f7a-9f59-a0cf725e7172",
   "metadata": {},
   "outputs": [
    {
     "name": "stdout",
     "output_type": "stream",
     "text": [
      "안녕==========="
     ]
    }
   ],
   "source": [
    "print(\"안녕\", end=\"===========\")"
   ]
  },
  {
   "cell_type": "code",
   "execution_count": 28,
   "id": "8076b900-43af-403e-9145-41a12f3d1ea6",
   "metadata": {},
   "outputs": [
    {
     "name": "stdout",
     "output_type": "stream",
     "text": [
      "10\t13\t16\t19\t22\t25\t28\t"
     ]
    }
   ],
   "source": [
    "for v in range(10, 30, 3): # (시작값, 종료값, 간격)\n",
    "    print(v, end=\"\\t\")"
   ]
  },
  {
   "cell_type": "code",
   "execution_count": 32,
   "id": "7f409a8a-934c-4047-9f7b-fdb78dda6236",
   "metadata": {},
   "outputs": [
    {
     "name": "stdout",
     "output_type": "stream",
     "text": [
      "0\t1\t2\t3\t4\t5\t6\t7\t8\t9\t10\t11\t12\t13\t14\t15\t16\t17\t18\t19\t"
     ]
    }
   ],
   "source": [
    "for v in range(20):\n",
    "    print(v, end=\"\\t\") # 19까지 나오는데 시작이 0부터. 20은 종료값만 넣은 것, 시작은 생략한 것. 간격은 1"
   ]
  },
  {
   "cell_type": "code",
   "execution_count": 34,
   "id": "51cb53c6-0cca-4b76-8a42-30464a6d99bb",
   "metadata": {},
   "outputs": [
    {
     "data": {
      "text/plain": [
       "[1, 2, 3, 4, 5, 6, 7, 8, 9, 10]"
      ]
     },
     "execution_count": 34,
     "metadata": {},
     "output_type": "execute_result"
    }
   ],
   "source": [
    "# range(): iterable type\n",
    "l = list(range(1, 11))\n",
    "l"
   ]
  },
  {
   "cell_type": "code",
   "execution_count": 35,
   "id": "f25172de-0a3f-4564-90e5-5b8067e7475d",
   "metadata": {},
   "outputs": [
    {
     "data": {
      "text/plain": [
       "{-10, -9, -8, -7, -6, -5, -4, -3, -2, -1, 0, 1, 2, 3, 4, 5, 6, 7, 8, 9}"
      ]
     },
     "execution_count": 35,
     "metadata": {},
     "output_type": "execute_result"
    }
   ],
   "source": [
    "l = set(range(-10, 10))\n",
    "l"
   ]
  },
  {
   "cell_type": "code",
   "execution_count": 36,
   "id": "c6a51c9a-83d6-4de9-9625-b034014b1385",
   "metadata": {},
   "outputs": [
    {
     "data": {
      "text/plain": [
       "(5, 6, 7, 8, 9, 10, 11, 12, 13, 14)"
      ]
     },
     "execution_count": 36,
     "metadata": {},
     "output_type": "execute_result"
    }
   ],
   "source": [
    "l = tuple(range(5, 15))\n",
    "l"
   ]
  },
  {
   "cell_type": "code",
   "execution_count": 37,
   "id": "5759581f-fbf2-4ae8-a910-bab5995e41b4",
   "metadata": {},
   "outputs": [
    {
     "data": {
      "text/plain": [
       "[10, 8, 6, 4, 2, 0, -2, -4, -6, -8]"
      ]
     },
     "execution_count": 37,
     "metadata": {},
     "output_type": "execute_result"
    }
   ],
   "source": [
    "# reverse \n",
    "list(range(10, -10, -2))"
   ]
  },
  {
   "cell_type": "code",
   "execution_count": 42,
   "id": "f32fc35c-a995-4551-addc-5bcecd13f3d3",
   "metadata": {
    "collapsed": true,
    "jupyter": {
     "outputs_hidden": true
    }
   },
   "outputs": [
    {
     "name": "stdout",
     "output_type": "stream",
     "text": [
      "hi\n",
      "hi\n",
      "hi\n",
      "hi\n",
      "hi\n",
      "hi\n",
      "hi\n",
      "hi\n",
      "hi\n",
      "hi\n"
     ]
    }
   ],
   "source": [
    "# 안녕을 10번 출력 \n",
    "for _ in range(10): #for 다음에 v 대신, `_` uderscore를 넣음. 왜냐면 나중에 사용하지 않는 v가 무슨값인지 헷갈리니까\n",
    "    print(\"hi\")"
   ]
  },
  {
   "cell_type": "markdown",
   "id": "5de9d74e",
   "metadata": {
    "slideshow": {
     "slide_type": "subslide"
    }
   },
   "source": [
    "## enumerate() - 몇번째 반복인지 알려줌\n",
    "\n",
    "-   구문\n",
    "    -   `enumerate(Iterable,  [, start=정수])`\n",
    "        -   현재 몇번째 값을 제공하는 지(현재 몇번째 반복인지)를 나타내는 **index**와 제공하는 **원소**를 tuple로 묶어서 반환\n",
    "        -   Iterable\n",
    "            -   값을 제공할 Iterable객체\n",
    "        -   start: 정수\n",
    "            -   index 시작 값. 생략하면 0부터 시작한다.\n"
   ]
  },
  {
   "cell_type": "code",
   "execution_count": 47,
   "id": "33dd96c5",
   "metadata": {
    "slideshow": {
     "slide_type": "fragment"
    }
   },
   "outputs": [
    {
     "data": {
      "text/plain": [
       "[10, 11, 12, 13, 14, 15, 16, 17, 18, 19]"
      ]
     },
     "execution_count": 47,
     "metadata": {},
     "output_type": "execute_result"
    }
   ],
   "source": [
    "l = list(range(10, 20))\n",
    "l"
   ]
  },
  {
   "cell_type": "code",
   "execution_count": 48,
   "id": "06dbba25-e8f8-445d-9a9e-e1c21961b256",
   "metadata": {},
   "outputs": [
    {
     "name": "stdout",
     "output_type": "stream",
     "text": [
      "10\n",
      "11\n",
      "12\n",
      "13\n",
      "14\n",
      "15\n",
      "16\n",
      "17\n",
      "18\n",
      "19\n"
     ]
    }
   ],
   "source": [
    "for v in l:\n",
    "    print(v)"
   ]
  },
  {
   "cell_type": "code",
   "execution_count": 11,
   "id": "547634c1-8080-4804-a355-32bb8debda05",
   "metadata": {},
   "outputs": [
    {
     "name": "stdout",
     "output_type": "stream",
     "text": [
      "(0, 1)\n",
      "(1, 2)\n",
      "(2, 3)\n",
      "(3, 4)\n",
      "(4, 5)\n",
      "(5, 6)\n",
      "(6, 7)\n",
      "(7, 8)\n",
      "(8, 9)\n",
      "(9, 10)\n"
     ]
    }
   ],
   "source": [
    "for v in enumerate(l): #0이라는 start값을 가지고 있음\n",
    "    print(v) #튜플 반환 # (index, 값) # list의 index가 아니라, 몇번째 반복인지의 index"
   ]
  },
  {
   "cell_type": "code",
   "execution_count": 12,
   "id": "9fa90cbf-a490-48c1-862d-60a0c8ec166a",
   "metadata": {},
   "outputs": [
    {
     "name": "stdout",
     "output_type": "stream",
     "text": [
      "0 10\n",
      "1 11\n",
      "2 12\n",
      "3 13\n",
      "4 14\n",
      "5 15\n",
      "6 16\n",
      "7 17\n",
      "8 18\n",
      "9 19\n"
     ]
    }
   ],
   "source": [
    "l = list(range(10, 20))\n",
    "for idx, value in enumerate(l): #튜플대입으로 받아옴\n",
    "    print(idx, value)"
   ]
  },
  {
   "cell_type": "code",
   "execution_count": 14,
   "id": "cae153f0-3070-4dca-a308-a377523f97eb",
   "metadata": {},
   "outputs": [
    {
     "name": "stdout",
     "output_type": "stream",
     "text": [
      "0 0\n",
      "1 1\n",
      "2 2\n",
      "3 3\n",
      "4 4\n",
      "5 5\n",
      "6 6\n",
      "7 7\n",
      "8 8\n",
      "9 9\n"
     ]
    }
   ],
   "source": [
    "l = range(10) #리스트 안쓰고, 숫자만써서 범위 정할수도 있다\n",
    "for idx, value in enumerate(l):\n",
    "    print(idx, value)"
   ]
  },
  {
   "cell_type": "code",
   "execution_count": 58,
   "id": "93ffe914-53d7-49c1-a018-ad39a5582a67",
   "metadata": {},
   "outputs": [
    {
     "name": "stdout",
     "output_type": "stream",
     "text": [
      "1000 - 중간결과\n",
      "2000 - 중간결과\n",
      "3000 - 중간결과\n",
      "4000 - 중간결과\n",
      "5000 - 중간결과\n",
      "6000 - 중간결과\n",
      "7000 - 중간결과\n",
      "8000 - 중간결과\n",
      "9000 - 중간결과\n",
      "10000 - 중간결과\n"
     ]
    }
   ],
   "source": [
    "# 10_000번 반복 처리 -> 중간 결과를 1_000에 한번씩 출력\n",
    "for idx, value in enumerate(range(10_000), start=1):\n",
    "    # 작업\n",
    "    # 중간 결과 출력 - \n",
    "    if idx % 1000 == 0:\n",
    "        print(f\"{idx} - 중간결과\")"
   ]
  },
  {
   "cell_type": "code",
   "execution_count": null,
   "id": "3b12d4bf-b306-4122-b231-bbeceaf08409",
   "metadata": {},
   "outputs": [],
   "source": []
  },
  {
   "cell_type": "markdown",
   "id": "f5a5540f",
   "metadata": {
    "slideshow": {
     "slide_type": "subslide"
    }
   },
   "source": [
    "## zip()\n",
    "\n",
    "-   여러 개의 Iterable 객체를 받아 반복시 같은 index의 값끼리 튜플로 묶어 반환한다.\n",
    "-   구문\n",
    "    -   `zip(Iterable1, Iterable2, Iterable3 [, .......])`\n",
    "        -   Iterable 2개이상.전달한다.\n",
    "-   각 Iterable이 제공하는 원소의 개수가가 다를 경우 가장 적은 것의 개수에 맞춰 반복한다.\n"
   ]
  },
  {
   "cell_type": "code",
   "execution_count": 60,
   "id": "1b99057f",
   "metadata": {
    "slideshow": {
     "slide_type": "fragment"
    }
   },
   "outputs": [
    {
     "name": "stdout",
     "output_type": "stream",
     "text": [
      "('이순신', 30, '서울')\n",
      "('유관순', 40, '인천')\n",
      "('강감찬', 50, '부산')\n"
     ]
    }
   ],
   "source": [
    "name_list = ['이순신', '유관순', '강감찬']\n",
    "age_list = [30, 40, 50]\n",
    "address_list = ['서울', '인천', '부산']\n",
    "# 같은 index 가 같은 사람의 데이터\n",
    "# 개별 사람의 데이터를 출력 (이순신, 30, 서울)\n",
    "for v in zip (name_list, age_list, address_list):\n",
    "    print(v)\n"
   ]
  },
  {
   "cell_type": "code",
   "execution_count": 16,
   "id": "71858d1a-8bac-4ed3-ae0d-a49eb8df8ce1",
   "metadata": {},
   "outputs": [
    {
     "name": "stdout",
     "output_type": "stream",
     "text": [
      "('이순신', 30, '서울')\n",
      "('유관순', 40, '인천')\n",
      "('강감찬', 50, '부산')\n"
     ]
    }
   ],
   "source": [
    "name_list = ['이순신', '유관순', '강감찬']\n",
    "age_list = [30, 40, 50, 60, 70] #개수 안맞아도 제일 적은 거에 맞춰서 가져옴\n",
    "address_list = ['서울', '인천', '부산']\n",
    "# 같은 index 가 같은 사람의 데이터\n",
    "# 개별 사람의 데이터를 출력 (이순신, 30, 서울)\n",
    "for v in zip (name_list, age_list, address_list):\n",
    "    print(v)\n"
   ]
  },
  {
   "cell_type": "code",
   "execution_count": 61,
   "id": "615708bb-4cd1-4bac-a2e2-5a7e27ab3d9a",
   "metadata": {},
   "outputs": [
    {
     "name": "stdout",
     "output_type": "stream",
     "text": [
      "이순신 30 서울\n",
      "유관순 40 인천\n",
      "강감찬 50 부산\n"
     ]
    }
   ],
   "source": [
    "for name, age, address in zip (name_list, age_list, address_list):\n",
    "    print(name, age, address)"
   ]
  },
  {
   "cell_type": "markdown",
   "id": "2df89dae",
   "metadata": {
    "slideshow": {
     "slide_type": "subslide"
    }
   },
   "source": [
    "# 컴프리헨션(Comprehension)\n",
    "\n",
    "-   기존 Iterable의 원소들을 이용해서 새로운 자료구조(List, Dictionary, Set)를 생성하는 구문.\n",
    "    -   기존 Iterable의 **원소들을 처리한 결과**나 **특정 조건이 True인 값들을** 새로운 자료구조에 넣을때 사용.\n",
    "    -   결과를 넣을 새로운 자료구조 타입에 따라 다음 세가지가 있다.\n",
    "        -   리스트 컴프리헨션\n",
    "        -   딕셔너리 컴프리헨션\n",
    "        -   셋 컴프리헨션 #컴프리헨션 가지고 리스트를 만들거냐, 딕셔너리를 만들거냐, 셋을 만들거냐.. \n",
    "- **튜플 컴프리헨션**은 tuple() 함수를 이용해서 만든다.\n",
    "-   **딕셔너리 컴프리헨션**과 **셋 컴프리헨션**은 파이썬 3 에 새로 추가되었다.\n",
    "-   컴프리헨션 문법은 iterable 을 타입을 넣는 곳에서는 다 적용할 수있다.\n"
   ]
  },
  {
   "cell_type": "code",
   "execution_count": 75,
   "id": "e04827d9",
   "metadata": {
    "slideshow": {
     "slide_type": "fragment"
    }
   },
   "outputs": [],
   "source": [
    "# 반복문과 제어문의 합"
   ]
  },
  {
   "cell_type": "code",
   "execution_count": 24,
   "id": "4a398bcf-6f25-4bca-b2c9-f251b34851c1",
   "metadata": {},
   "outputs": [
    {
     "data": {
      "text/plain": [
       "[2, 4, 6]"
      ]
     },
     "execution_count": 24,
     "metadata": {},
     "output_type": "execute_result"
    }
   ],
   "source": [
    "# filtering\n",
    "l = [1, 2, 3, 4, 5, 6]\n",
    "result = []\n",
    "for v in l:\n",
    "    if v % 2 == 0: # 2의 배수 조건문\n",
    "        result.append(v)\n",
    "result"
   ]
  },
  {
   "cell_type": "code",
   "execution_count": 25,
   "id": "8f0a3782-98e2-4bc0-8453-d388d65937d8",
   "metadata": {},
   "outputs": [
    {
     "data": {
      "text/plain": [
       "[2, 4, 6]"
      ]
     },
     "execution_count": 25,
     "metadata": {},
     "output_type": "execute_result"
    }
   ],
   "source": [
    "[v for v in l if v % 2 == 0]"
   ]
  },
  {
   "cell_type": "code",
   "execution_count": 26,
   "id": "0402f700-ca7b-451d-b4be-87d879d5b091",
   "metadata": {},
   "outputs": [
    {
     "ename": "SyntaxError",
     "evalue": "invalid syntax (1998439441.py, line 2)",
     "output_type": "error",
     "traceback": [
      "  \u001b[36mCell\u001b[39m\u001b[36m \u001b[39m\u001b[32mIn[26]\u001b[39m\u001b[32m, line 2\u001b[39m\n\u001b[31m    \u001b[39m\u001b[31m[(v, v+10, v*2) for v in l if v % 2 == 0] v 맨 앞 값을 여러가지로 표현 가능\u001b[39m\n                                              ^\n\u001b[31mSyntaxError\u001b[39m\u001b[31m:\u001b[39m invalid syntax\n"
     ]
    }
   ],
   "source": [
    "l = [1, 2, 3, 4, 5, 6]\n",
    "[(v, v+10, v*2) for v in l if v % 2 == 0] v 맨 앞 값을 여러가지로 표현 가능 "
   ]
  },
  {
   "cell_type": "code",
   "execution_count": 106,
   "id": "4c5a8629-1777-47c6-b6f8-72b803f2e034",
   "metadata": {},
   "outputs": [
    {
     "data": {
      "text/plain": [
       "[2, 4, 6]"
      ]
     },
     "execution_count": 106,
     "metadata": {},
     "output_type": "execute_result"
    }
   ],
   "source": [
    "# filtering을 컴프리헨션 문법으로 구현 \n",
    "l = [1, 2, 3, 4, 5, 6]\n",
    "result4 = [ v for v in l if v % 2 == 0] # for 변수 in iterable + if문  # 두번째 v 에서 if문 체크해서 True인 것만 첫번째 v에 넣음\n",
    "result4"
   ]
  },
  {
   "cell_type": "code",
   "execution_count": 107,
   "id": "3de1323a-5282-4792-8c5f-a9d7dcc90e1f",
   "metadata": {},
   "outputs": [
    {
     "data": {
      "text/plain": [
       "[20, 40, 60]"
      ]
     },
     "execution_count": 107,
     "metadata": {},
     "output_type": "execute_result"
    }
   ],
   "source": [
    "result5 = [ v*10 for v in l if v % 2 == 0]\n",
    "result5"
   ]
  },
  {
   "cell_type": "code",
   "execution_count": null,
   "id": "6b457e5b-e863-45bc-8666-270a19ebf0d1",
   "metadata": {},
   "outputs": [],
   "source": []
  },
  {
   "cell_type": "code",
   "execution_count": 86,
   "id": "5e421ce4-d66d-43b0-9de9-d6e26f2b2f5a",
   "metadata": {},
   "outputs": [
    {
     "data": {
      "text/plain": [
       "[2, 4, 6, 8, 10, 12]"
      ]
     },
     "execution_count": 86,
     "metadata": {},
     "output_type": "execute_result"
    }
   ],
   "source": [
    "# mapping\n",
    "l = [1, 2, 3, 4, 5, 6]\n",
    "result2 = []\n",
    "for v in l:\n",
    "    result2.append(v * 2)\n",
    "result2 # 자료구조가 여러개니까 리스트에 넣어줌. "
   ]
  },
  {
   "cell_type": "code",
   "execution_count": null,
   "id": "16fed14c-a72c-4f15-a4b9-019e019efb07",
   "metadata": {},
   "outputs": [],
   "source": [
    "l = [1, 2, 3, 4, 5, 6]"
   ]
  },
  {
   "cell_type": "code",
   "execution_count": 84,
   "id": "1bed7ecf-97a9-4a96-845d-184bc7100abf",
   "metadata": {},
   "outputs": [
    {
     "name": "stdout",
     "output_type": "stream",
     "text": [
      "[1, 2, 3, 4, 5, 6]\n"
     ]
    }
   ],
   "source": [
    "# mapping 을 컴프리헨션 문법으로 구현\n",
    "result3 = [ v for v in l ] # l의 숫자가 두번째 v에 넣고 첫번째 v로 나옴 \n",
    "print(result3)"
   ]
  },
  {
   "cell_type": "code",
   "execution_count": 87,
   "id": "7ecf441d-e0db-43d5-a1c9-c3806cccf369",
   "metadata": {},
   "outputs": [
    {
     "name": "stdout",
     "output_type": "stream",
     "text": [
      "[2, 4, 6, 8, 10, 12]\n"
     ]
    }
   ],
   "source": [
    "# mapping 을 컴프리헨션 문법으로 구현\n",
    "result3 = [ v*2 for v in l ] # l의 숫자가 두번째 v에 넣고 첫번째 v를 계산해서 나옴 \n",
    "print(result3)"
   ]
  },
  {
   "cell_type": "code",
   "execution_count": null,
   "id": "395b0ab0-8067-4da0-94fa-ad34a6a0ed15",
   "metadata": {},
   "outputs": [],
   "source": [
    "# 컴프리헨션 문법 v*2 for v in l\n",
    "# []안에 넣으면 리스트 "
   ]
  },
  {
   "cell_type": "code",
   "execution_count": 88,
   "id": "a389035a-50ff-42de-bc4f-f759b2857e1b",
   "metadata": {},
   "outputs": [
    {
     "data": {
      "text/plain": [
       "{2, 4, 6, 8, 10, 12}"
      ]
     },
     "execution_count": 88,
     "metadata": {},
     "output_type": "execute_result"
    }
   ],
   "source": [
    "{v*2 for v in l} #set 컴프리헨션"
   ]
  },
  {
   "cell_type": "code",
   "execution_count": 95,
   "id": "a7277b9a-5799-417f-8860-b7dbf2de1f82",
   "metadata": {},
   "outputs": [
    {
     "data": {
      "text/plain": [
       "{1: 2, 2: 4, 3: 6, 4: 8, 5: 10, 6: 12}"
      ]
     },
     "execution_count": 95,
     "metadata": {},
     "output_type": "execute_result"
    }
   ],
   "source": [
    "{v:v*2 for v in l} #dictionary 컴프리헨션"
   ]
  },
  {
   "cell_type": "code",
   "execution_count": 92,
   "id": "6e400dcb-aafe-4614-8779-f06435f9101d",
   "metadata": {},
   "outputs": [
    {
     "data": {
      "text/plain": [
       "{'value1': 2,\n",
       " 'value2': 4,\n",
       " 'value3': 6,\n",
       " 'value4': 8,\n",
       " 'value5': 10,\n",
       " 'value6': 12}"
      ]
     },
     "execution_count": 92,
     "metadata": {},
     "output_type": "execute_result"
    }
   ],
   "source": [
    "{f\"value{v}\": v*2 for v in l} #dictionary 컴프리헨션"
   ]
  },
  {
   "cell_type": "code",
   "execution_count": 96,
   "id": "b1efb126-4575-4aed-ba8f-e5d61f30f5e7",
   "metadata": {},
   "outputs": [
    {
     "data": {
      "text/plain": [
       "<generator object <genexpr> at 0x0000021C05535700>"
      ]
     },
     "execution_count": 96,
     "metadata": {},
     "output_type": "execute_result"
    }
   ],
   "source": [
    "(v*2 for v in l) # 튜플 컴프리헨션 은 아니고, generator 생성"
   ]
  },
  {
   "cell_type": "code",
   "execution_count": 98,
   "id": "9b889f1a-4901-4d31-9cfe-4cf60ac9068c",
   "metadata": {},
   "outputs": [
    {
     "data": {
      "text/plain": [
       "(2, 4, 6, 8, 10, 12)"
      ]
     },
     "execution_count": 98,
     "metadata": {},
     "output_type": "execute_result"
    }
   ],
   "source": [
    "tuple(v*2 for v in l) #튜플 컴프리헨션 만드는 법, 앞에 튜플을 붙인다"
   ]
  },
  {
   "cell_type": "code",
   "execution_count": 112,
   "id": "c7232c20-7188-475e-b2a4-bdc8036a6cc1",
   "metadata": {},
   "outputs": [
    {
     "data": {
      "text/plain": [
       "[5, 7, 3]"
      ]
     },
     "execution_count": 112,
     "metadata": {},
     "output_type": "execute_result"
    }
   ],
   "source": [
    "l2 = [\n",
    "    [10, 5, 7],\n",
    "    [3, 50, 4],\n",
    "] #list 안에 list\n",
    "result = [] # l2 원소 중 홀수만 저장. \n",
    "for l in l2:\n",
    "    for v in l : #list 안에 list\n",
    "        if v % 2 != 0:\n",
    "            result.append(v)\n",
    "result"
   ]
  },
  {
   "cell_type": "code",
   "execution_count": 116,
   "id": "3a03c0ad-9221-44b0-b9e7-e118f09568b1",
   "metadata": {},
   "outputs": [
    {
     "data": {
      "text/plain": [
       "[5, 7, 3]"
      ]
     },
     "execution_count": 116,
     "metadata": {},
     "output_type": "execute_result"
    }
   ],
   "source": [
    "l2 = [\n",
    "    [10, 5, 7],\n",
    "    [3, 50, 4],\n",
    "] \n",
    "result2 = [ v for l in l2 for v in l if v % 2 != 0 ] \n",
    "# l in l2 \n",
    "# for v in l \n",
    "# if v % 2 !=0\n",
    "# 맨 앞의 v로 감\n",
    "result2"
   ]
  },
  {
   "cell_type": "code",
   "execution_count": null,
   "id": "8bb81dfa-dfb3-4747-b9c6-14eae307b8ff",
   "metadata": {},
   "outputs": [],
   "source": []
  },
  {
   "cell_type": "code",
   "execution_count": null,
   "id": "dceac294-53b4-4110-a4b2-0a845071e140",
   "metadata": {},
   "outputs": [],
   "source": []
  },
  {
   "cell_type": "markdown",
   "id": "092288d7",
   "metadata": {
    "slideshow": {
     "slide_type": "skip"
    }
   },
   "source": [
    "# TODO\n"
   ]
  },
  {
   "cell_type": "code",
   "execution_count": 28,
   "id": "653d4ac8-e9f0-48e5-9db1-b72e1de7f392",
   "metadata": {
    "slideshow": {
     "slide_type": "skip"
    }
   },
   "outputs": [
    {
     "name": "stdin",
     "output_type": "stream",
     "text": [
      "ID jinseul123\n"
     ]
    },
    {
     "name": "stdout",
     "output_type": "stream",
     "text": [
      "사용할 수 있습니다.\n"
     ]
    }
   ],
   "source": [
    "# (1) 사용자로 부터 ID를 입력 받은 뒤 입력받은 ID가 5글자 이상이면 \"사용할 수 있습니다.\"를 5글자 미만이면 \"사용할 수 없는 ID입니다.\"를 출력하세요.\n",
    "user_ID= input(\"ID\") # input 넣기 **\n",
    "if len(user_ID) >= 5:\n",
    "    print(\"사용할 수 있습니다.\")\n",
    "else:\n",
    "    print(\"사용할 수 없는 ID입니다.\")"
   ]
  },
  {
   "cell_type": "code",
   "execution_count": 30,
   "id": "9019f402-27da-4b77-bebc-9023693fb5bf",
   "metadata": {},
   "outputs": [
    {
     "name": "stdin",
     "output_type": "stream",
     "text": [
      "ID ㅁ\n"
     ]
    },
    {
     "name": "stdout",
     "output_type": "stream",
     "text": [
      "사용할 수 있습니다.\n"
     ]
    }
   ],
   "source": [
    "user_ID= input(\"ID\") # input 넣기 **\n",
    "#if len(user_ID) >= 5:\n",
    "if user_ID: # 입력했으면 # \"\":False, \"a\":True #글씨가 있으면 트루\n",
    "    print(\"사용할 수 있습니다.\")\n",
    "else:\n",
    "    print(\"사용할 수 없는 ID입니다.\")"
   ]
  },
  {
   "cell_type": "code",
   "execution_count": 32,
   "id": "eefb1d68-3b54-485f-9aff-5d5607b3fd6d",
   "metadata": {},
   "outputs": [
    {
     "name": "stdin",
     "output_type": "stream",
     "text": [
      "도시이름: 서울\n"
     ]
    },
    {
     "name": "stdout",
     "output_type": "stream",
     "text": [
      "특별시\n"
     ]
    }
   ],
   "source": [
    "city = input(\"도시이름:\")\n",
    "\n",
    "if city == (\"서울\"):\n",
    "    print(\"특별시\")\n",
    "elif city == \"인천\" or city == \"부산\" or city == \"광주\":\n",
    "    print(\"광역시\")\n",
    "else:\n",
    "    print(\"특별시나 광역시가 아닙니다.\")"
   ]
  },
  {
   "cell_type": "code",
   "execution_count": 39,
   "id": "b103613e-8eb0-428d-9f29-b5c28d6292d3",
   "metadata": {},
   "outputs": [
    {
     "name": "stdin",
     "output_type": "stream",
     "text": [
      "도시이름: 광주\n"
     ]
    },
    {
     "name": "stdout",
     "output_type": "stream",
     "text": [
      "광역시\n"
     ]
    }
   ],
   "source": [
    "city = input(\"도시이름:\")\n",
    "city = city.strip()\n",
    "if city == (\"서울\"):\n",
    "    print(\"특별시\")\n",
    "elif city in [\"인천\", \"부산\", \"광주\", \"대구\", \"대전\", \"울산\"]: # == 대신 in을 써야함\n",
    "    # == 쓰니까 광주 입력하고 특별시나 광역시가 아닙니다가 나옴. \n",
    "    # 리스트나 튜플 둘 다 써도 됨\n",
    "    print(\"광역시\")\n",
    "else:\n",
    "    print(\"특별시나 광역시가 아닙니다.\")"
   ]
  },
  {
   "cell_type": "code",
   "execution_count": 46,
   "id": "90b76613-7d97-4204-9197-5027ac526bcd",
   "metadata": {
    "scrolled": true,
    "slideshow": {
     "slide_type": "skip"
    }
   },
   "outputs": [
    {
     "name": "stdout",
     "output_type": "stream",
     "text": [
      "서울특별시\n"
     ]
    }
   ],
   "source": [
    "# (2) 사용자로부터 우리나라 도시명을 입력 받은 뒤 \n",
    "#입력받은 도시명이 서울이면 \"특별시\"를 인천,부산,광주,대구,대전,울산 이면 \"광역시\"를 나머지는 \"특별시나 광역시가 아닙니다.\"를 출력하세요.\n",
    "city_name = \"서울\"\n",
    "city = (city_name)\n",
    "if city == (\"서울\"):\n",
    "    print(city + \"특별시\")\n",
    "elif city in (\"인천\", \"부산\", \"광주\", \"대구\", \"대전\", \"울산\"): #==대신 in을 써야함\n",
    "    print(city + \"광역시\")\n",
    "else:\n",
    "    print(\"특별시나 광역시가 아닙니다.\")"
   ]
  },
  {
   "cell_type": "code",
   "execution_count": 41,
   "id": "80215a3b-1646-4528-8068-56520610360d",
   "metadata": {
    "slideshow": {
     "slide_type": "skip"
    }
   },
   "outputs": [
    {
     "name": "stdout",
     "output_type": "stream",
     "text": [
      "89.0\n"
     ]
    }
   ],
   "source": [
    "# (3-4)\n",
    "# (3) 아래 리스트의 평균을 구하시오.\n",
    "jumsu = [100, 90, 100, 80, 70, 100, 80, 90, 95, 85]\n",
    "average = sum(jumsu)/len(jumsu)\n",
    "a = average\n",
    "print(a)"
   ]
  },
  {
   "cell_type": "code",
   "execution_count": 42,
   "id": "5d03eb9d-513d-4070-b8d0-2f0f1a96abfe",
   "metadata": {},
   "outputs": [
    {
     "name": "stdout",
     "output_type": "stream",
     "text": [
      "총점: 890\n",
      "평균: 89.0\n"
     ]
    }
   ],
   "source": [
    "jumsu_sum = 0\n",
    "for v in jumsu:\n",
    "    jumsu_sum = jumsu_sum + v # jumsu += v\n",
    "print(\"총점:\", jumsu_sum)\n",
    "jumsu_avg = jumsu_sum / len(jumsu)\n",
    "print(\"평균:\", jumsu_avg)"
   ]
  },
  {
   "cell_type": "code",
   "execution_count": 45,
   "id": "15af6b05-09d7-4346-9ad2-63ef6bbf42c6",
   "metadata": {},
   "outputs": [
    {
     "data": {
      "text/plain": [
       "890"
      ]
     },
     "execution_count": 45,
     "metadata": {},
     "output_type": "execute_result"
    }
   ],
   "source": [
    "# 숫자를 원소로 가지는 iterable 의 합계 구하기\n",
    "sum(jumsu)"
   ]
  },
  {
   "cell_type": "code",
   "execution_count": 145,
   "id": "2444a644-c616-4eea-a782-c2ac9e3f00a9",
   "metadata": {
    "slideshow": {
     "slide_type": "skip"
    }
   },
   "outputs": [
    {
     "ename": "TypeError",
     "evalue": "'>' not supported between instances of 'list' and 'float'",
     "output_type": "error",
     "traceback": [
      "\u001b[31m---------------------------------------------------------------\u001b[39m",
      "\u001b[31mTypeError\u001b[39m                     Traceback (most recent call last)",
      "\u001b[36mCell\u001b[39m\u001b[36m \u001b[39m\u001b[32mIn[145]\u001b[39m\u001b[32m, line 2\u001b[39m\n\u001b[32m      1\u001b[39m \u001b[38;5;66;03m# (4) 위 jumsu리스트에서 평균점수이상은 pass, 미만은 fail을 index번호와 함께 출력하시오. (ex: 0-pass, 1-pass, 2-fail)\u001b[39;00m\n\u001b[32m----> \u001b[39m\u001b[32m2\u001b[39m \u001b[38;5;28;01mif\u001b[39;00m \u001b[43mjumsu\u001b[49m\u001b[43m \u001b[49m\u001b[43m>\u001b[49m\u001b[43m \u001b[49m\u001b[32;43m89.0\u001b[39;49m:\n\u001b[32m      3\u001b[39m     \u001b[38;5;28mprint\u001b[39m(\u001b[33m\"\u001b[39m\u001b[33mpass\u001b[39m\u001b[33m\"\u001b[39m)\n\u001b[32m      4\u001b[39m \u001b[38;5;28;01melse\u001b[39;00m:\n",
      "\u001b[31mTypeError\u001b[39m: '>' not supported between instances of 'list' and 'float'"
     ]
    }
   ],
   "source": [
    "# (4) 위 jumsu리스트에서 평균점수이상은 pass, 미만은 fail을 index번호와 함께 출력하시오. (ex: 0-pass, 1-pass, 2-fail)\n",
    "if jumsu > 89.0:\n",
    "    print(\"pass\")\n",
    "else:\n",
    "    print(\"fail\")"
   ]
  },
  {
   "cell_type": "code",
   "execution_count": 50,
   "id": "169539aa-7843-41f0-be87-4289fa23348a",
   "metadata": {},
   "outputs": [
    {
     "name": "stdout",
     "output_type": "stream",
     "text": [
      "0번 - pass\n",
      "1번 - pass\n",
      "2번 - pass\n",
      "3번 - fail\n",
      "4번 - fail\n",
      "5번 - pass\n",
      "6번 - fail\n",
      "7번 - pass\n",
      "8번 - pass\n",
      "9번 - fail\n"
     ]
    }
   ],
   "source": [
    "jumsu = [100, 90, 100, 80, 70, 100, 80, 90, 95, 85]\n",
    "for idx, v in enumerate(jumsu): #enumerate 가지고 순번을 아는것\n",
    "    if v >= jumsu_avg:\n",
    "        print(f\"{idx}번 - pass\")\n",
    "    else:\n",
    "        print(f\"{idx}번 - fail\")"
   ]
  },
  {
   "cell_type": "code",
   "execution_count": 51,
   "id": "28578cd9-5c53-4d2d-9944-00c61182e987",
   "metadata": {
    "slideshow": {
     "slide_type": "skip"
    }
   },
   "outputs": [
    {
     "name": "stdout",
     "output_type": "stream",
     "text": [
      "최대값: 95\n"
     ]
    }
   ],
   "source": [
    "# (5) 아래 리스트 값들 중 최대값을 조회해 출력하시오.\n",
    "jumsu = [60, 90, 80, 80, 70, 55, 80, 90, 95, 85]\n",
    "\n",
    "max_value = jumsu[0] # 최대값을 저장할 변수\n",
    "for v in jumsu: # 가져온 v랑 [0]랑 비교  # max_value와 list의 원소 하나하나의 크기를 비교 #원소가 크면 max_value를 변경.\n",
    "    if max_value < v:\n",
    "        max_value = v\n",
    "print(\"최대값:\", max_value)"
   ]
  },
  {
   "cell_type": "code",
   "execution_count": 52,
   "id": "0666b77a-f684-45eb-b988-8e8c04b199fc",
   "metadata": {},
   "outputs": [
    {
     "data": {
      "text/plain": [
       "95"
      ]
     },
     "execution_count": 52,
     "metadata": {},
     "output_type": "execute_result"
    }
   ],
   "source": [
    "max(jumsu)"
   ]
  },
  {
   "cell_type": "code",
   "execution_count": 53,
   "id": "992fedae-b3f6-43d0-af65-113fd0381066",
   "metadata": {},
   "outputs": [
    {
     "data": {
      "text/plain": [
       "55"
      ]
     },
     "execution_count": 53,
     "metadata": {},
     "output_type": "execute_result"
    }
   ],
   "source": [
    "min(jumsu)"
   ]
  },
  {
   "cell_type": "code",
   "execution_count": null,
   "id": "5799fe37-04c7-427a-b87d-535146f3a046",
   "metadata": {},
   "outputs": [],
   "source": []
  },
  {
   "cell_type": "code",
   "execution_count": null,
   "id": "8ba6146b-d517-42ca-b46d-79137b48624b",
   "metadata": {},
   "outputs": [],
   "source": []
  },
  {
   "cell_type": "code",
   "execution_count": 54,
   "id": "ca097c34-af82-408b-a5a7-4961eb4bbfe1",
   "metadata": {
    "slideshow": {
     "slide_type": "skip"
    }
   },
   "outputs": [
    {
     "name": "stdin",
     "output_type": "stream",
     "text": [
      "단을 입력하시오:  2\n"
     ]
    },
    {
     "name": "stdout",
     "output_type": "stream",
     "text": [
      "2 X 1 = 2\n",
      "2 X 2 = 4\n",
      "2 X 3 = 6\n",
      "2 X 4 = 8\n",
      "2 X 5 = 10\n",
      "2 X 6 = 12\n",
      "2 X 7 = 14\n",
      "2 X 8 = 16\n",
      "2 X 9 = 18\n"
     ]
    }
   ],
   "source": [
    "# (6) 사용자로부터 정수를 입력받아 그 정수 단의 구구단을 출력하시오.\n",
    "# ex)\n",
    "# 단을 입력하시오 : 2\n",
    "# 2 x 1 = 2\n",
    "# 2 x 2 = 4\n",
    "# ..\n",
    "# 2 x 9 = 18\n",
    "\n",
    "# 컴프리헨션\n",
    "\n",
    "dan = int(input(\"단을 입력하시오: \"))\n",
    "#print(dan)\n",
    "for i in range(1, 10):\n",
    "    print(f\"{dan} X {i} = {dan * i}\")\n"
   ]
  },
  {
   "cell_type": "code",
   "execution_count": 58,
   "id": "91ae9631-e596-4599-9d82-b3767dd229e2",
   "metadata": {},
   "outputs": [
    {
     "name": "stdout",
     "output_type": "stream",
     "text": [
      "2 X 1 = 2\t3 X 1 = 3\t4 X 1 = 4\t5 X 1 = 5\t6 X 1 = 6\t7 X 1 = 7\t8 X 1 = 8\t9 X 1 = 9\t\n",
      "2 X 2 = 4\t3 X 2 = 6\t4 X 2 = 8\t5 X 2 = 10\t6 X 2 = 12\t7 X 2 = 14\t8 X 2 = 16\t9 X 2 = 18\t\n",
      "2 X 3 = 6\t3 X 3 = 9\t4 X 3 = 12\t5 X 3 = 15\t6 X 3 = 18\t7 X 3 = 21\t8 X 3 = 24\t9 X 3 = 27\t\n",
      "2 X 4 = 8\t3 X 4 = 12\t4 X 4 = 16\t5 X 4 = 20\t6 X 4 = 24\t7 X 4 = 28\t8 X 4 = 32\t9 X 4 = 36\t\n",
      "2 X 5 = 10\t3 X 5 = 15\t4 X 5 = 20\t5 X 5 = 25\t6 X 5 = 30\t7 X 5 = 35\t8 X 5 = 40\t9 X 5 = 45\t\n",
      "2 X 6 = 12\t3 X 6 = 18\t4 X 6 = 24\t5 X 6 = 30\t6 X 6 = 36\t7 X 6 = 42\t8 X 6 = 48\t9 X 6 = 54\t\n",
      "2 X 7 = 14\t3 X 7 = 21\t4 X 7 = 28\t5 X 7 = 35\t6 X 7 = 42\t7 X 7 = 49\t8 X 7 = 56\t9 X 7 = 63\t\n",
      "2 X 8 = 16\t3 X 8 = 24\t4 X 8 = 32\t5 X 8 = 40\t6 X 8 = 48\t7 X 8 = 56\t8 X 8 = 64\t9 X 8 = 72\t\n",
      "2 X 9 = 18\t3 X 9 = 27\t4 X 9 = 36\t5 X 9 = 45\t6 X 9 = 54\t7 X 9 = 63\t8 X 9 = 72\t9 X 9 = 81\t\n"
     ]
    }
   ],
   "source": [
    "# 구구단 표\n",
    "# 가로로 실행되어야함\n",
    "\n",
    "for x in range (1, 10):\n",
    "    for dan in range (2, 10): #단 입력 # 10 은 9까지를 의미 \n",
    "        print(f\"{dan} X {x} = {dan * x}\", end='\\t') \n",
    "    print() #엔터만 찍는거\n",
    "\n",
    "# {dan * x} -> x 고정, dan이 변함 가로로 진행\n",
    "# 그리고 아래줄은 x 변경, 가로로 진행 "
   ]
  },
  {
   "cell_type": "code",
   "execution_count": null,
   "id": "ef85a6a0-89e1-4057-a1b6-fa2aef180fe1",
   "metadata": {},
   "outputs": [],
   "source": []
  },
  {
   "cell_type": "code",
   "execution_count": null,
   "id": "ba034c68-c02e-4c46-b400-1358b16ae0b5",
   "metadata": {},
   "outputs": [],
   "source": []
  },
  {
   "cell_type": "code",
   "execution_count": null,
   "id": "ea5b0f8a-4852-4c3c-8945-f1f7bd8760ff",
   "metadata": {},
   "outputs": [],
   "source": []
  },
  {
   "cell_type": "code",
   "execution_count": 59,
   "id": "9996fed6-f363-47ed-8475-86f77917697c",
   "metadata": {
    "slideshow": {
     "slide_type": "skip"
    }
   },
   "outputs": [
    {
     "name": "stdout",
     "output_type": "stream",
     "text": [
      "[(10, 100), (30, 300), (70, 700), (5, 50), (5, 50), (120, 1200), (700, 7000), (1, 10), (35, 350), (35, 350)]\n"
     ]
    }
   ],
   "source": [
    "# (7) 다음 리스트의 원소들에 10배한 값을 (원래값, 10배값) 의 튜플 묶음으로 가지는 리스트를 만드시오 (리스트 컴프리헨션 이용)\n",
    "# Ex) [(10,100), (30,300), .., (35, 350)]\n",
    "lst = [10, 30, 70, 5, 5, 120, 700, 1, 35, 35]\n",
    "\n",
    "print([(v, v*10) for v in lst])\n"
   ]
  },
  {
   "cell_type": "code",
   "execution_count": 61,
   "id": "e358e761-87bc-455c-b909-339a5e906eb6",
   "metadata": {
    "slideshow": {
     "slide_type": "skip"
    }
   },
   "outputs": [
    {
     "name": "stdout",
     "output_type": "stream",
     "text": [
      "[3, 33, 21, 33, 60, 120]\n"
     ]
    }
   ],
   "source": [
    "# (8) 다음 리스트가 가진 값들 중 3의 배수만 가지는 리스트를 만드시오. (리스트 컴프리헨션 이용)\n",
    "lst2 = [3, 20, 33, 21, 33, 8, 11, 10, 7, 17, 60, 120, 2]\n",
    "result=[v for v in lst2 if v % 3 == 0]\n",
    "list(result)\n",
    "\n",
    "print([v for v in lst2 if v % 3 == 0])"
   ]
  },
  {
   "cell_type": "code",
   "execution_count": 62,
   "id": "e52582d8-9796-426c-bcd3-98280fbd862a",
   "metadata": {
    "slideshow": {
     "slide_type": "skip"
    }
   },
   "outputs": [
    {
     "name": "stdout",
     "output_type": "stream",
     "text": [
      "['a.exe', 'function.exe', 'b.exe', 'run.exe']\n",
      "['a.exe', 'function.exe', 'b.exe', 'run.exe']\n"
     ]
    }
   ],
   "source": [
    "# (9)) 다음 파일이름들을 담은 리스트에서 확장자가 exe인 파일만 골라서 새로운 리스트에 담으시오.(string의 endswith()함수 이용)\n",
    "file_names = [\n",
    "    \"test.txt\",\n",
    "    \"a.exe\",\n",
    "    \"jupyter.bat\",\n",
    "    \"function.exe\",\n",
    "    \"b.exe\",\n",
    "    \"cat.jpg\",\n",
    "    \"dog.png\",\n",
    "    \"run.exe\",\n",
    "    \"i.dll\",\n",
    "]\n",
    "result=[ v for v in file_names if v.endswith(\".exe\")]\n",
    "print(result)\n",
    "\n",
    "\n",
    "print([file_names for file_names in file_names if file_names.endswith(\".exe\")])"
   ]
  },
  {
   "cell_type": "code",
   "execution_count": 63,
   "id": "c475f4ca-d3e6-45a6-ac91-514c2bc13d12",
   "metadata": {},
   "outputs": [
    {
     "data": {
      "text/plain": [
       "True"
      ]
     },
     "execution_count": 63,
     "metadata": {},
     "output_type": "execute_result"
    }
   ],
   "source": [
    "\"a.exe\".endswith(\".exe\")"
   ]
  },
  {
   "cell_type": "code",
   "execution_count": 70,
   "id": "b35706e2-eb02-4fe7-9988-b687593f92c2",
   "metadata": {
    "slideshow": {
     "slide_type": "skip"
    }
   },
   "outputs": [
    {
     "ename": "SyntaxError",
     "evalue": "closing parenthesis ')' does not match opening parenthesis '[' (234598698.py, line 17)",
     "output_type": "error",
     "traceback": [
      "  \u001b[36mCell\u001b[39m\u001b[36m \u001b[39m\u001b[32mIn[70]\u001b[39m\u001b[32m, line 17\u001b[39m\n\u001b[31m    \u001b[39m\u001b[31m[(file_name, len(file_name)) for file_name in file_names if len(file_names) >= 10)]\u001b[39m\n                                                                                     ^\n\u001b[31mSyntaxError\u001b[39m\u001b[31m:\u001b[39m closing parenthesis ')' does not match opening parenthesis '['\n"
     ]
    }
   ],
   "source": [
    "# (10) 다음 중 10글자 이상인 파일명(확장자포함)만 가지는 리스트를 만드시오.\n",
    "file_names = [\n",
    "    \"mystroy.txt\",\n",
    "    \"a.exe\",\n",
    "    \"jupyter.bat\",\n",
    "    \"function.exe\",\n",
    "    \"b.exe\",\n",
    "    \"cat.jpg\",\n",
    "    \"dog.png\",\n",
    "    \"run.exe\",\n",
    "    \"i.dll\",\n",
    "]\n",
    "result=[ v for v in file_names if len(v)>=10]\n",
    "print(result)\n",
    "\n",
    "[file_name for file_name in file_names if len(file_names) >= 10]\n",
    "[(file_name, len(file_name)) for file_name in file_names if len(file_names) >= 10)]"
   ]
  },
  {
   "cell_type": "code",
   "execution_count": null,
   "id": "ecac70d7-c6cf-42ff-b6c0-3da85c7db7f1",
   "metadata": {},
   "outputs": [],
   "source": []
  }
 ],
 "metadata": {
  "kernelspec": {
   "display_name": "Python 3 (ipykernel)",
   "language": "python",
   "name": "python3"
  },
  "language_info": {
   "codemirror_mode": {
    "name": "ipython",
    "version": 3
   },
   "file_extension": ".py",
   "mimetype": "text/x-python",
   "name": "python",
   "nbconvert_exporter": "python",
   "pygments_lexer": "ipython3",
   "version": "3.13.2"
  },
  "toc": {
   "base_numbering": 1,
   "nav_menu": {},
   "number_sections": true,
   "sideBar": true,
   "skip_h1_title": false,
   "title_cell": "Table of Contents",
   "title_sidebar": "Contents",
   "toc_cell": false,
   "toc_position": {},
   "toc_section_display": true,
   "toc_window_display": false
  },
  "varInspector": {
   "cols": {
    "lenName": 16,
    "lenType": 16,
    "lenVar": 40
   },
   "kernels_config": {
    "python": {
     "delete_cmd_postfix": "",
     "delete_cmd_prefix": "del ",
     "library": "var_list.py",
     "varRefreshCmd": "print(var_dic_list())"
    },
    "r": {
     "delete_cmd_postfix": ") ",
     "delete_cmd_prefix": "rm(",
     "library": "var_list.r",
     "varRefreshCmd": "cat(var_dic_list()) "
    }
   },
   "types_to_exclude": [
    "module",
    "function",
    "builtin_function_or_method",
    "instance",
    "_Feature"
   ],
   "window_display": false
  }
 },
 "nbformat": 4,
 "nbformat_minor": 5
}

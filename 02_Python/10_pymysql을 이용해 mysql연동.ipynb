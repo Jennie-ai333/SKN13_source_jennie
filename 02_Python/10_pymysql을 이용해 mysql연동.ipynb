{
 "cells": [
  {
   "cell_type": "markdown",
   "id": "a2f58681",
   "metadata": {},
   "source": [
    "# pymysql\n",
    "\n",
    "-   파이썬에서 MySQL, MariaDB DBMS와 연동하는 다양한 함수를 제공하는 모듈\n",
    "-   Python [DB API 2.0](http://www.python.org/dev/peps/pep-0249) 표준을 따른다.  db 만드는 법이 여러가지 -- 표준 누가 만드냐 - 파이썬  / 구현은 알아서, 호출은 같게\n",
    "-   https://github.com/PyMySQL/PyMySQL/\n",
    "-   https://pymysql.readthedocs.io/en/latest/\n"
   ]
  },
  {
   "cell_type": "markdown",
   "id": "43cccb80",
   "metadata": {},
   "source": [
    "# 설치\n",
    "\n",
    "-   조건\n",
    "    -   python version 3.6 이상\n",
    "    -   mysql version 5.6 이상\n",
    "-   설치\n",
    "    -   `pip install pymysql`\n",
    "    -   `conda install -c conda-forge pymysql`\n"
   ]
  },
  {
   "cell_type": "code",
   "execution_count": 1,
   "id": "16ddb3ec",
   "metadata": {},
   "outputs": [
    {
     "name": "stdout",
     "output_type": "stream",
     "text": [
      "Collecting pymysql\n",
      "  Downloading PyMySQL-1.1.1-py3-none-any.whl.metadata (4.4 kB)\n",
      "Downloading PyMySQL-1.1.1-py3-none-any.whl (44 kB)\n",
      "Installing collected packages: pymysql\n",
      "Successfully installed pymysql-1.1.1\n",
      "Note: you may need to restart the kernel to use updated packages.\n"
     ]
    }
   ],
   "source": [
    "%pip install pymysql"
   ]
  },
  {
   "cell_type": "code",
   "execution_count": null,
   "id": "64f73423-a3de-4fc6-b189-0ea3f0f31466",
   "metadata": {},
   "outputs": [],
   "source": []
  },
  {
   "cell_type": "markdown",
   "id": "7572463d",
   "metadata": {},
   "source": [
    "# 기본 작성 절차\n",
    "\n",
    "1. Database 연결\n",
    "    ```python\n",
    "       connection =  pymysql.connect(host:str=\"DBMS 서버 ip\",\n",
    "                                     port:int=port번호,\n",
    "                                     user:str=\"계정명\",\n",
    "                                     password:str=\"비밀번호\",\n",
    "                                     db:str=\"연결할데이터베이스이름\")\n",
    "    ```\n",
    "    - port 번호 기본값: 3306\n",
    "    - ContextManager 타입으로 with 구문을 이용해 작성하면 close() 작업을 자동으로 처리한다.\n",
    "2. Connection을 이용해 Cursor 생성\n",
    "    - Cursor: 연결된 Database에 sql문을 전송하고 select결과 조회 기능을 제공하는 객체\n",
    "    ```python\n",
    "        cursor = connection.cursor()\n",
    "    ```\n",
    "    - ContextManager 타입으로 with 구문을 이용해 작성하면 close() 작업을 자동으로 처리한다.\n",
    "3. Cusror를 이용해 SQL문 실행(DB Server로 전송)\n",
    "    ```python\n",
    "        cursor.execute(\"sql문\")\n",
    "    ```\n",
    "4. Select 결과 조회\n",
    "    - select 문을 실행한 경우 cursor를 의 fetch 메소드들을 이용해 select 결과를 조회한다.\n",
    "    ```python\n",
    "    result = cursor.fetchall()\n",
    "    ```\n",
    "5. 연결 닫기\n",
    "    - cursor, connection 연결을 닫는다.\n",
    "    - with문을 이용할 수 있다.\n",
    "    ```python\n",
    "    cursor.close()\n",
    "    connection.close()\n",
    "    ```\n"
   ]
  },
  {
   "cell_type": "markdown",
   "id": "3262b127",
   "metadata": {},
   "source": [
    "# 예제\n",
    "\n",
    "## 테이블 생성\n"
   ]
  },
  {
   "cell_type": "code",
   "execution_count": 8,
   "id": "1fbddc50-275f-4803-b3f9-2f8f19a86690",
   "metadata": {},
   "outputs": [],
   "source": [
    "create_sql = \"\"\"\n",
    "create table customer(\n",
    "  id  int  auto_increment  primary key, -- 자동증가\n",
    "  name  varchar(20) not null,\n",
    "  email  varchar(50) not null unique, \n",
    "  tall   double,\n",
    "  birthday  date,\n",
    "  created_at  datetime  not null\n",
    ")\n",
    "\"\"\"\n",
    "# sql 문 마지막에 `;` 은 붙이지 않는다."
   ]
  },
  {
   "cell_type": "code",
   "execution_count": 9,
   "id": "d9b6ce09-4545-4540-aa6a-d73adf5a6c13",
   "metadata": {
    "scrolled": true
   },
   "outputs": [],
   "source": [
    "import pymysql\n",
    "\n",
    "try:\n",
    "    conn = None  #connection을 저장할 변수\n",
    "    \n",
    "    # 1. Database와 연결.\n",
    "    conn = pymysql.connect(\n",
    "        host=\"127.0.0.1\",    # DBMS 의 ip(host) : str\n",
    "        port=3306,           # DBMS의 port 번호: int\n",
    "        user='dukecaboom',        # username: str\n",
    "        password=\"12345678\",    # password: str\n",
    "        db=\"mydb\"            #  연결할 Database이름: str\n",
    "    )  # 연결 성공하면 연결된 DB와 관련 작업할 수있는 기능을 제공하는 Connection객체를 반환\n",
    "    \n",
    "    # 2. Connection을 사용해서 Cursor 객체 생성\n",
    "    #    Cursor: sql 처리를 하는 기능을 제공.( sql 전송하고 처리결과를 받을 때까지를 관리)\n",
    "    cursor = conn.cursor()\n",
    "        \n",
    "    # 3. SQL 문 전송\n",
    "    cursor.execute(\"drop table if exists customer\") # 1\n",
    "    cursor.execute(create_sql) \n",
    "    \n",
    "finally:\n",
    "    # 4. 연결닫기(끊기)\n",
    "    if conn: # conn != None\n",
    "        cursor.close() # 4-1. cursor 연결 닫기\n",
    "        conn.close()   # 4-2. connection 연결 닫기"
   ]
  },
  {
   "cell_type": "code",
   "execution_count": null,
   "id": "6f676b11-04b4-4591-9601-51973a9415f7",
   "metadata": {},
   "outputs": [],
   "source": []
  },
  {
   "cell_type": "markdown",
   "id": "98b6a836-68da-4dcb-80fc-f0ac22949b8b",
   "metadata": {},
   "source": [
    "## 파이썬 타입과 연결된 sql 데이터타입 \n",
    "- str - 문자열타입(char, varchar, text,...)\n",
    "- int - 정수(tiny int , int, ....)\n",
    "- float - 실수(float, double)\n",
    "- decimal.Decimal - 실수(decimal)\n",
    "- datetime.date - date\n",
    "- datetime.time - time\n",
    "- datetime.datetime - datetime, timestamp"
   ]
  },
  {
   "cell_type": "markdown",
   "id": "6741499c-a897-4092-8f11-df4720345cf7",
   "metadata": {},
   "source": [
    "> ### datetime 모듈\n",
    "> - 파이썬에서 날짜, 시간을 다루는 모듈\n",
    "> - 날짜 type(class): date\n",
    "> - 시간 type: time\n",
    "> - 날짜시간 type: datetime"
   ]
  },
  {
   "cell_type": "code",
   "execution_count": 10,
   "id": "00258234-9614-4a69-af81-673fb0a14ac7",
   "metadata": {},
   "outputs": [
    {
     "name": "stdout",
     "output_type": "stream",
     "text": [
      "2025-04-08 10:26:02.610582\n",
      "2025 4 8 10 26 2\n",
      "2025-04-08\n",
      "2000-10-02\n",
      "1990-02-07 10:22:53\n",
      "17:22:33\n"
     ]
    }
   ],
   "source": [
    "from datetime import date, time, datetime\n",
    "# 실행 시점\n",
    "a = datetime.now()\n",
    "print(a)\n",
    "print(a.year, a.month, a.day, a.hour, a.minute, a.second)\n",
    "\n",
    "b = date.today()\n",
    "print(b)\n",
    "\n",
    "#특정 시점의 일시 \n",
    "c = date(2000, 10, 2)\n",
    "print(c)\n",
    "\n",
    "d = datetime(1990, 2, 7, 10, 22, 53)\n",
    "print(d)\n",
    "\n",
    "e = time(17, 22, 33)\n",
    "print(e)"
   ]
  },
  {
   "cell_type": "markdown",
   "id": "59b4e786",
   "metadata": {},
   "source": [
    "## DML\n",
    "\n",
    "### insert\n"
   ]
  },
  {
   "cell_type": "code",
   "execution_count": 11,
   "id": "61deab37",
   "metadata": {},
   "outputs": [],
   "source": [
    "sql = \"insert into customer (name, email, tall, birthday, created_at) values('이순신', 'lee1@naver.com', 185.23, '2000-09-20', now())\""
   ]
  },
  {
   "cell_type": "code",
   "execution_count": 12,
   "id": "c78ebebd",
   "metadata": {},
   "outputs": [
    {
     "name": "stdout",
     "output_type": "stream",
     "text": [
      "처리 행수: 1\n"
     ]
    }
   ],
   "source": [
    "# with 문을 이용해 connection, cursor 생성: with block을 빠져 나올 때 자동으로 close() 처리한다.\n",
    "#  DML(insert/update/delete) 처리 후 commit을 실행해야 영구적으로 적용된다.\n",
    "with pymysql.connect(host=\"127.0.0.1\", port=3306, user=\"dukecaboom\", password=\"12345678\", db=\"mydb\") as conn: # 커넥션이 클로즈 됨 2\n",
    "    with conn.cursor() as cursor: # 커서가 클로즈 되고 1\n",
    "        result = cursor.execute(sql) # 반환값: 처리행수(insert/delete/update된행수, select 조회행수) # sql에서 3row affected같이 여기서 나옴\n",
    "        print(\"처리 행수:\", result)\n",
    "        conn.commit() # transaction 과 관련이 있음. # 반드시 커밋하기 # 커넥션을 기준으로 \n",
    "   "
   ]
  },
  {
   "cell_type": "markdown",
   "id": "c1d9de83",
   "metadata": {
    "ExecuteTime": {
     "end_time": "2022-04-19T06:23:30.323879Z",
     "start_time": "2022-04-19T06:23:30.304888Z"
    }
   },
   "source": [
    "### Parameterized Query -- 위에 만약 이름 '이순신' 들어가는 곳에 값을 먼저 쓰지 않고 나중에 쓰고싶을때..\n",
    "\n",
    "-   Parameterized Query\n",
    "    -   SQL 문에서 컬럼 값이 들어가는 자리에 값대신 `%s` placeholder를 사용한뒤 execute()에서 placeholder에 넣을 값을 list나 tuple로 제공한다.\n",
    "    -   동일한 쿼리문을 값을 바꿔가면서 여러번 실행할 때 유용하다.\n"
   ]
  },
  {
   "cell_type": "code",
   "execution_count": 16,
   "id": "85b23241-9ea0-4d76-8ce4-1502e5d2c49f",
   "metadata": {
    "scrolled": true
   },
   "outputs": [
    {
     "name": "stdin",
     "output_type": "stream",
     "text": [
      "이름: 진스리\n",
      "이메일주소: dukecaboom@a.com\n",
      "키: 160\n"
     ]
    },
    {
     "name": "stdout",
     "output_type": "stream",
     "text": [
      "처리 행수: 1\n"
     ]
    }
   ],
   "source": [
    "import pymysql\n",
    "\n",
    "# insert할 값 입력받기\n",
    "name = input(\"이름:\")\n",
    "email = input(\"이메일주소:\")\n",
    "tall = float(input(\"키:\"))\n",
    "\n",
    "insert_sql = \"insert into customer (name, email, tall, birthday, created_at) values (%s, %s, %s, %s, now())\" # 값은 now만 세팅해놓은것\n",
    "\n",
    "with pymysql.connect(host=\"127.0.0.1\", port=3306, user='dukecaboom', password='12345678', db='mydb') as conn:\n",
    "    with conn.cursor() as cursor:\n",
    "        result = cursor.execute(insert_sql, [name, email, tall, \"2010-01-01\"]) # 리스트나 튜플로 위의 %s를 넣는다. # 앞의 세개는 insert할 값으로 정하기\n",
    "        conn.commit()\n",
    "        print(\"처리 행수:\", result)"
   ]
  },
  {
   "cell_type": "markdown",
   "id": "7322f3bb",
   "metadata": {},
   "source": [
    "#### Parameterized Query를 이용해 여러개 행 insert\n",
    "\n",
    "- executemany() 사용  --한번에 여러개 처리 insert할때 사용한다. \n",
    "    - insert할 값들을 가진 리스트를 넣어 한번에 여러 행을 insert한다.\n"
   ]
  },
  {
   "cell_type": "code",
   "execution_count": 17,
   "id": "f72beeb1",
   "metadata": {},
   "outputs": [],
   "source": [
    "from datetime import datetime, date\n",
    "datas = [\n",
    "    [\"김인영\", \"abc2@a.com\", 165, date(2005, 1, 12), datetime.now()],\n",
    "    [\"오수철\", \"def2@a.com\", 175, date(1995, 12, 20), datetime.now()],\n",
    "    [\"최유명\", \"ghi2@a.com\", 183, date(1978, 10, 28), datetime.now()],\n",
    "    [\"김명수\", \"jkl@abc.com\", 177, date(2000, 2, 12), datetime.now()],\n",
    "    [\"이지영\", \"mno@abc.com\", 163, date(1995, 4, 21), datetime.now()],\n",
    "    [\"박명수\", \"pqr@abc.com\", 185, date(2002, 7, 5), datetime.now()],\n",
    "]"
   ]
  },
  {
   "cell_type": "code",
   "execution_count": 20,
   "id": "fc700a38-b5c1-473c-b053-f08709762819",
   "metadata": {},
   "outputs": [],
   "source": [
    "# for date in datas:\n",
    "#     cursor.execute(insert_sql, data)"
   ]
  },
  {
   "cell_type": "code",
   "execution_count": 19,
   "id": "2792bae6",
   "metadata": {},
   "outputs": [
    {
     "name": "stdout",
     "output_type": "stream",
     "text": [
      "insert된 총 행수: 6\n"
     ]
    }
   ],
   "source": [
    "insert_sql = \"insert into customer(name, email, tall, birthday, created_at) values(%s, %s, %s, %s, %s)\"\n",
    "with pymysql.connect(host=\"127.0.0.1\", port=3306, user='dukecaboom', password='12345678', db='mydb') as conn:\n",
    "    with conn.cursor() as cursor:\n",
    "        cnt = cursor.executemany(insert_sql, datas) # execute 반복문 돌리는 걸 executemany 로 실행 \n",
    "        conn.commit()\n",
    "\n",
    "print(\"insert된 총 행수:\", cnt)"
   ]
  },
  {
   "cell_type": "markdown",
   "id": "d78f4253",
   "metadata": {},
   "source": [
    "### update/delete\n",
    "\n",
    "-   코딩 절차는 insert 와 동일\n"
   ]
  },
  {
   "cell_type": "code",
   "execution_count": 21,
   "id": "5f056266",
   "metadata": {},
   "outputs": [
    {
     "name": "stdin",
     "output_type": "stream",
     "text": [
      "변경할 키:  190.4\n",
      "변경할 고객 ID:  6\n"
     ]
    },
    {
     "name": "stdout",
     "output_type": "stream",
     "text": [
      "처리 행수:  1\n"
     ]
    }
   ],
   "source": [
    "update_sql = \"update customer set tall=%s where id=%s\"\n",
    "tall = float(input(\"변경할 키: \"))\n",
    "cust_id = int(input(\"변경할 고객 ID: \"))\n",
    "\n",
    "with pymysql.connect(host=\"127.0.0.1\", port=3306, user='dukecaboom', password='12345678', db='mydb') as conn:\n",
    "    with conn.cursor() as cursor:\n",
    "        result = cursor.execute(update_sql, [tall, cust_id])\n",
    "        print(\"처리 행수: \", result)\n",
    "        conn.commit()"
   ]
  },
  {
   "cell_type": "code",
   "execution_count": 22,
   "id": "c07f1e80-a9a4-4a8b-bd4c-e9d0fc1fcd7e",
   "metadata": {},
   "outputs": [
    {
     "name": "stdin",
     "output_type": "stream",
     "text": [
      "변경할 Email주소:  test@test.com\n",
      "변경할 키:  177.23\n",
      "변경할 고객 ID:  6\n"
     ]
    },
    {
     "name": "stdout",
     "output_type": "stream",
     "text": [
      "처리 행수:  1\n"
     ]
    }
   ],
   "source": [
    "update_sql = \"update customer set email=%s, tall=%s where id=%s\"\n",
    "email = input(\"변경할 Email주소: \")\n",
    "tall = float(input(\"변경할 키: \"))\n",
    "cust_id = int(input(\"변경할 고객 ID: \"))\n",
    "\n",
    "with pymysql.connect(host=\"127.0.0.1\", port=3306, user='dukecaboom', password='12345678', db='mydb') as conn:\n",
    "    with conn.cursor() as cursor:\n",
    "        result = cursor.execute(update_sql, [email, tall, cust_id])\n",
    "        print(\"처리 행수: \", result)\n",
    "        conn.commit()"
   ]
  },
  {
   "cell_type": "code",
   "execution_count": 25,
   "id": "55cc6af5",
   "metadata": {},
   "outputs": [
    {
     "name": "stdin",
     "output_type": "stream",
     "text": [
      "삭제기준 키: 180\n"
     ]
    },
    {
     "name": "stdout",
     "output_type": "stream",
     "text": [
      "처리 행수:  0\n"
     ]
    }
   ],
   "source": [
    "delete_sql = \"delete from customer where tall > %s\"\n",
    "\n",
    "tall = float(input(\"삭제기준 키:\"))\n",
    "\n",
    "with pymysql.connect(host=\"127.0.0.1\", port=3306, user='dukecaboom', password='12345678', db='mydb') as conn:\n",
    "    with conn.cursor() as cursor:\n",
    "        result = cursor.execute(delete_sql, [tall]) # 리스트 , 튜플 다 해도 되는데 튜플은 콤마랑 괄호 까먹으니까 리스트로 하는게 편하다 \n",
    "        print(\"처리 행수: \", result)\n",
    "        conn.commit()\n",
    "\n",
    "\n",
    "    # 180 이상은 삭제하겠다. "
   ]
  },
  {
   "cell_type": "code",
   "execution_count": null,
   "id": "ea34cdb7",
   "metadata": {},
   "outputs": [],
   "source": []
  },
  {
   "cell_type": "markdown",
   "id": "096891b8",
   "metadata": {},
   "source": [
    "## select (DQL - Data Query Language) \n",
    "- 조회된 행을 보는게 아니고 조회된 값을 보는게 select\n",
    "\n",
    "-   조회결과 조회\n",
    "    -   `cursor.execute(\"select문\")` 실행 후 cursor의 결과 조회 메소드(fetch메소드)를 이용해 결과를 받는다.\n",
    "      \n",
    "-   fetch메소드\n",
    "    -   **fetchall()**  -- cursor.fetchall 하면 다 가져온다. \n",
    "        -   조회한 모든 행을을 반환\n",
    "    -   **fetchmany(size=개수)**\n",
    "        -   전체 조회한 행들 중 지정한 size개수 만큼 반환.\n",
    "        -   연속적으로 실행하면 다음 size개수 만큼씩 반환한다.\n",
    "        -   더 이상 조회한 결과가 없으면 빈 튜플을 반환한다.\n",
    "    -   **fetchone()**\n",
    "        -   조회결과 중 첫번째 행만 반환\n",
    "        -   주로 pk 동등 조건으로 조회한 경우 사용 - primary key\n"
   ]
  },
  {
   "cell_type": "markdown",
   "id": "524f4cb8",
   "metadata": {},
   "source": [
    "### fetchall()\n"
   ]
  },
  {
   "cell_type": "code",
   "execution_count": 26,
   "id": "93a06bf2",
   "metadata": {},
   "outputs": [
    {
     "name": "stdout",
     "output_type": "stream",
     "text": [
      "조회행수: 5\n"
     ]
    }
   ],
   "source": [
    "sql = \"select id, name, tall from customer\" \n",
    "with pymysql.connect(host=\"127.0.0.1\", port=3306, user='dukecaboom', password='12345678', db='mydb') as conn:\n",
    "    with conn.cursor() as cursor:\n",
    "        result = cursor.execute(sql)\n",
    "        print(\"조회행수:\", result)\n",
    "        resultset = cursor.fetchall()"
   ]
  },
  {
   "cell_type": "code",
   "execution_count": 28,
   "id": "82a62b01",
   "metadata": {},
   "outputs": [
    {
     "data": {
      "text/plain": [
       "((2, '진스리', 160.0),\n",
       " (3, '김인영', 165.0),\n",
       " (4, '오수철', 175.0),\n",
       " (6, '김명수', 177.23),\n",
       " (7, '이지영', 163.0))"
      ]
     },
     "execution_count": 28,
     "metadata": {},
     "output_type": "execute_result"
    }
   ],
   "source": [
    "resultset\n",
    "# tuple(개별행 - tuple(컬럼값들 )) 튜플 안에 튜플 \n"
   ]
  },
  {
   "cell_type": "code",
   "execution_count": 29,
   "id": "32518037-2b70-444d-8b57-7b4531d79b6f",
   "metadata": {},
   "outputs": [
    {
     "data": {
      "text/plain": [
       "'진스리'"
      ]
     },
     "execution_count": 29,
     "metadata": {},
     "output_type": "execute_result"
    }
   ],
   "source": [
    "resultset[0][1]"
   ]
  },
  {
   "cell_type": "markdown",
   "id": "2be0cc74-4dbc-4964-b2f7-d897c9fe5ccd",
   "metadata": {},
   "source": [
    "### 조회결과를 dictionary로 반환\n",
    "- pymysql.cursors.DictCursor 사용\n",
    "    - Connection 생성시 또는 Cursor 생성시 지정한다.\n",
    "- key: 컬럼명, value: 컬럼값"
   ]
  },
  {
   "cell_type": "code",
   "execution_count": 30,
   "id": "bce604d1-9215-4afc-b54a-5ff44c82d488",
   "metadata": {},
   "outputs": [
    {
     "name": "stdout",
     "output_type": "stream",
     "text": [
      "조회행수: 5\n"
     ]
    }
   ],
   "source": [
    "sql = \"select id, name, tall from customer\" \n",
    "with pymysql.connect(host=\"127.0.0.1\", port=3306, user='dukecaboom', password='12345678', db='mydb') as conn:\n",
    "    with conn.cursor(pymysql.cursors.DictCursor) as cursor:  # 커서 반환할때 딕셔너리 커서로 바꿔서 줘~ #커넥션에 설정도 됨(기본커서 설정)\n",
    "        result = cursor.execute(sql)\n",
    "        print(\"조회행수:\", result)\n",
    "        resultset = cursor.fetchall()"
   ]
  },
  {
   "cell_type": "code",
   "execution_count": 31,
   "id": "e04c153c-aad0-4b4a-92d3-a19ae9d9385d",
   "metadata": {},
   "outputs": [
    {
     "data": {
      "text/plain": [
       "[{'id': 2, 'name': '진스리', 'tall': 160.0},\n",
       " {'id': 3, 'name': '김인영', 'tall': 165.0},\n",
       " {'id': 4, 'name': '오수철', 'tall': 175.0},\n",
       " {'id': 6, 'name': '김명수', 'tall': 177.23},\n",
       " {'id': 7, 'name': '이지영', 'tall': 163.0}]"
      ]
     },
     "execution_count": 31,
     "metadata": {},
     "output_type": "execute_result"
    }
   ],
   "source": [
    "resultset\n",
    "# list[dictionary{key:컬럼명, value:컬럼값}]"
   ]
  },
  {
   "cell_type": "code",
   "execution_count": 36,
   "id": "5e669a40-37d2-4025-aab7-ce05955d8c0d",
   "metadata": {},
   "outputs": [
    {
     "ename": "TypeError",
     "evalue": "string indices must be integers, not 'str'",
     "output_type": "error",
     "traceback": [
      "\u001b[31m---------------------------------------------------------------------------\u001b[39m",
      "\u001b[31mTypeError\u001b[39m                                 Traceback (most recent call last)",
      "\u001b[36mCell\u001b[39m\u001b[36m \u001b[39m\u001b[32mIn[36]\u001b[39m\u001b[32m, line 1\u001b[39m\n\u001b[32m----> \u001b[39m\u001b[32m1\u001b[39m \u001b[43mresultset\u001b[49m\u001b[43m[\u001b[49m\u001b[32;43m2\u001b[39;49m\u001b[43m]\u001b[49m\u001b[43m[\u001b[49m\u001b[33;43m\"\u001b[39;49m\u001b[33;43mname\u001b[39;49m\u001b[33;43m\"\u001b[39;49m\u001b[43m]\u001b[49m\n",
      "\u001b[31mTypeError\u001b[39m: string indices must be integers, not 'str'"
     ]
    }
   ],
   "source": [
    "resultset[2][\"name\"]"
   ]
  },
  {
   "cell_type": "markdown",
   "id": "b3a9867d",
   "metadata": {},
   "source": [
    "### fetchone()\n"
   ]
  },
  {
   "cell_type": "code",
   "execution_count": 32,
   "id": "97500b7b",
   "metadata": {},
   "outputs": [
    {
     "name": "stdout",
     "output_type": "stream",
     "text": [
      "조회행수: 1\n"
     ]
    }
   ],
   "source": [
    "sql = \"select * from customer where id = %s\" \n",
    "with pymysql.connect(host=\"127.0.0.1\", port=3306, user='dukecaboom', password='12345678', db='mydb') as conn:\n",
    "    with conn.cursor() as cursor:\n",
    "        result = cursor.execute(sql, [7])  #(2, )\n",
    "        print(\"조회행수:\", result)\n",
    "        resultset = cursor.fetchone()\n",
    "        # resultset = cursor.fetchall()"
   ]
  },
  {
   "cell_type": "code",
   "execution_count": 33,
   "id": "b0eaf81d",
   "metadata": {},
   "outputs": [
    {
     "name": "stdout",
     "output_type": "stream",
     "text": [
      "(7, '이지영', 'mno@abc.com', 163.0, datetime.date(1995, 4, 21), datetime.datetime(2025, 4, 8, 10, 35, 15))\n"
     ]
    }
   ],
   "source": [
    "if resultset:  # 조회결과가 없으면 None\n",
    "    print(resultset)\n",
    "else:\n",
    "    print(\"조회결과가 없음.\") # 튜플로 묶어서 줌 . "
   ]
  },
  {
   "cell_type": "code",
   "execution_count": 37,
   "id": "1311079a-53ee-4272-97d6-470f2a03c1d2",
   "metadata": {},
   "outputs": [
    {
     "data": {
      "text/plain": [
       "'mno@abc.com'"
      ]
     },
     "execution_count": 37,
     "metadata": {},
     "output_type": "execute_result"
    }
   ],
   "source": [
    "resultset[2]"
   ]
  },
  {
   "cell_type": "code",
   "execution_count": null,
   "id": "13efc34b-3ee5-437e-9f4a-7b1f0b6630eb",
   "metadata": {},
   "outputs": [],
   "source": [
    "fetchall[0][2] 패치올은 튜플 안에 튜플이라 [0]을 써넣어줘야함. "
   ]
  },
  {
   "cell_type": "markdown",
   "id": "cc8054bc",
   "metadata": {},
   "source": [
    "### fetchmany()\n"
   ]
  },
  {
   "cell_type": "code",
   "execution_count": 39,
   "id": "7d72f49c",
   "metadata": {},
   "outputs": [
    {
     "name": "stdout",
     "output_type": "stream",
     "text": [
      "조회행수: 5\n"
     ]
    }
   ],
   "source": [
    "sql = \"select id, name, birthday from customer\" \n",
    "with pymysql.connect(host=\"127.0.0.1\", port=3306, user='dukecaboom', password='12345678', db='mydb') as conn:\n",
    "    with conn.cursor() as cursor:\n",
    "        result = cursor.execute(sql)\n",
    "        print(\"조회행수:\", result)\n",
    "        resultset1 = cursor.fetchmany(size=2)  # 처음 두개\n",
    "        resultset2 = cursor.fetchmany(size=2)  # 다음 두개\n",
    "        resultset3 = cursor.fetchmany(size=2)\n",
    "        resultset4 = cursor.fetchmany(size=2)  # 개수를 나눠서 주겠다, 조회 5개인데 2222니까 빈게 나온다. \n",
    "    "
   ]
  },
  {
   "cell_type": "code",
   "execution_count": 44,
   "id": "50fffed5",
   "metadata": {},
   "outputs": [
    {
     "name": "stdout",
     "output_type": "stream",
     "text": [
      "((2, '진스리', datetime.date(2010, 1, 1)), (3, '김인영', datetime.date(2005, 1, 12)))\n",
      "((4, '오수철', datetime.date(1995, 12, 20)), (6, '김명수', datetime.date(2000, 2, 12)))\n",
      "((7, '이지영', datetime.date(1995, 4, 21)),)\n",
      "()\n"
     ]
    }
   ],
   "source": [
    "print(resultset1)\n",
    "print(resultset2)\n",
    "print(resultset3)\n",
    "print(resultset4) # 더이상 가져올게 없어서 빈 튜플이 반환된다. "
   ]
  },
  {
   "cell_type": "markdown",
   "id": "fca900bd",
   "metadata": {},
   "source": [
    "### select문을 실행한 cursor 는 iterable 타입\n",
    "\n",
    "-   for in 문에 select query를 실행한 cursor를 사용하면 조회결과를 한 행씩 조회할 수 있다.\n"
   ]
  },
  {
   "cell_type": "code",
   "execution_count": 48,
   "id": "8332ff67",
   "metadata": {},
   "outputs": [
    {
     "name": "stdout",
     "output_type": "stream",
     "text": [
      "조회행수: 5\n",
      "2 , 진스리 , dukecaboom@a.com , 160.0 , 2010-01-01 , 2025-04-08 10:32:00\n",
      "3 , 김인영 , abc2@a.com , 165.0 , 2005-01-12 , 2025-04-08 10:35:15\n",
      "4 , 오수철 , def2@a.com , 175.0 , 1995-12-20 , 2025-04-08 10:35:15\n",
      "6 , 김명수 , test@test.com , 177.23 , 2000-02-12 , 2025-04-08 10:35:15\n",
      "7 , 이지영 , mno@abc.com , 163.0 , 1995-04-21 , 2025-04-08 10:35:15\n"
     ]
    }
   ],
   "source": [
    "sql = \"select * from customer\" \n",
    "with pymysql.connect(host=\"127.0.0.1\", port=3306, user='dukecaboom', password='12345678', db='mydb') as conn:\n",
    "    with conn.cursor() as cursor:\n",
    "        result = cursor.execute(sql)  \n",
    "        print(\"조회행수:\", result)\n",
    "        for id, name, email, tall, birthday, created_at in cursor: # 커서가 iterable타입이 되어서 for in 문에 쓸 수 있다. 셀렉트 결과를 한 행씩 한 행씩 ㄱㄱ\n",
    "            print(id, name, email, tall, birthday, created_at, sep=\" , \")"
   ]
  },
  {
   "cell_type": "code",
   "execution_count": 49,
   "id": "c420bded-7489-47f2-9c68-0f48b77015b0",
   "metadata": {},
   "outputs": [],
   "source": [
    "# for 튜플 in"
   ]
  },
  {
   "cell_type": "code",
   "execution_count": null,
   "id": "11ab4d42-92e4-42f3-8e67-57b0fb694665",
   "metadata": {},
   "outputs": [],
   "source": []
  },
  {
   "cell_type": "code",
   "execution_count": 1,
   "id": "56edd3bc-093a-4d68-8632-416a22202578",
   "metadata": {},
   "outputs": [],
   "source": [
    "## %%writefile customer_db.py   \n",
    "# 옆에 파일 생김 \n",
    "\n",
    "\n",
    "##################\n",
    "# SQL 실행 코드 함수화\n",
    "##################\n",
    "\n",
    "# 모듈이 될 때는 #임포트 해와야한다. \n",
    "\n",
    "\n",
    "from datetime import date\n",
    "import pymysql\n",
    "def select_customer_by_id(cust_id: int) -> tuple|None:  # 파라미터로 받은 커스터머 아이디를 받음 밑에에ㅔㅔㅔㅔ \n",
    "    \"\"\"\n",
    "    고객 id로 고객정보를 DB에서 조회해서 반환하는 함수\n",
    "    Args:\n",
    "    Returns:\n",
    "        tuple: 조회결과\n",
    "        None: 조회결과가 없을 경우\n",
    "    Raises:\n",
    "    \"\"\"\n",
    "\n",
    "    sql = \"select * from customer where id =%s\"\n",
    "    with pymysql.connect(host=\"127.0.0.1\", port=3306, user='dukecaboom', password='12345678', db='mydb') as conn:\n",
    "        with conn.cursor()as cursor:\n",
    "            result = cursor.execute(sql, [cust_id]) # 여기에 !!!!! \n",
    "            return cursor.fetchone()\n",
    "\n",
    "\n",
    "\n",
    "def select_all_customer(): ## 내용이없는함수\n",
    "    \"\"\"\n",
    "    전체 고객정보를 조회하는 함수\n",
    "    select * from customer;\n",
    "    \"\"\"\n",
    "    pass\n",
    "\n",
    "\n",
    "\n",
    "\n",
    "def update_customer(cust_id:int, name:str, email:str, tall:float, birthday:date|str) -> int:\n",
    "\n",
    "    sql = (\" update customer \"\n",
    "           \" set name = %s, email = %s, tall = %s, birthday = %s \" \n",
    "           \" where id = %s \")\n",
    "    with pymysql.connect(host=\"127.0.0.1\", port=3306, user='dukecaboom', password='12345678', db='mydb') as conn:\n",
    "        with conn.cursor()as cursor:\n",
    "            result = cursor.execute(sql, (name, email, tall, birthday, cust_id))\n",
    "            conn.commit()    # 커밋을 빼먹으면 안바뀐다ㅏ. 연결해줘야함. \n",
    "            return result\n",
    "\n",
    "    \n",
    "        "
   ]
  },
  {
   "cell_type": "code",
   "execution_count": 76,
   "id": "7467ba50-7ea9-4c7b-a52f-3bb48257799b",
   "metadata": {},
   "outputs": [
    {
     "data": {
      "text/plain": [
       "1"
      ]
     },
     "execution_count": 76,
     "metadata": {},
     "output_type": "execute_result"
    }
   ],
   "source": [
    "# '3','김인영','abc2@a.com','165','2005-01-12','2025-04-08 10:35:15'\n",
    "\n",
    "# 이름은 안바꾸고싶으면 그대로 넣는다. \n",
    "update_customer(3, \"김인영\", \"new123@a.com\", 165, '2005-01-12')"
   ]
  },
  {
   "cell_type": "code",
   "execution_count": 68,
   "id": "4d29244a-4fe8-4b20-a55d-3d4f4acbf124",
   "metadata": {},
   "outputs": [
    {
     "data": {
      "text/plain": [
       "' update customer  set name = %s, email = %s, tall = %s, birthday = %s  where id = %s '"
      ]
     },
     "execution_count": 68,
     "metadata": {},
     "output_type": "execute_result"
    }
   ],
   "source": [
    "(\" update customer \"\n",
    "           \" set name = %s, email = %s, tall = %s, birthday = %s \" # \" 앞뒤에 공백을 넣어!!!! 그래야 안붙는다 \n",
    "           \" where id = %s \")\n"
   ]
  },
  {
   "cell_type": "code",
   "execution_count": 64,
   "id": "5656d7e4-8250-412a-974c-1110117681a8",
   "metadata": {},
   "outputs": [
    {
     "data": {
      "text/plain": [
       "'aaaaaaaaaaaaaabbbbbbbbbbbbbbcccccccccccccc'"
      ]
     },
     "execution_count": 64,
     "metadata": {},
     "output_type": "execute_result"
    }
   ],
   "source": [
    "#\"aaaaaaaaaaaaaa\\\n",
    "#aaaaaaaaa\" # 역슬래시를 써서 가독성을 좋게한다. 한줄이지만 두줄처럼 보이게.\n",
    "\n",
    "\n",
    "(\n",
    "    \"aaaaaaaaaaaaaa\"\n",
    "    \"bbbbbbbbbbbbbb\"\n",
    "    \"cccccccccccccc\"\n",
    ")  # 쉼표없이 문자를 괄호 안에 넣으면 그냥 한줄로 나온다 "
   ]
  },
  {
   "cell_type": "code",
   "execution_count": 60,
   "id": "733d17be-ed2d-45a6-aa86-64884567c013",
   "metadata": {},
   "outputs": [
    {
     "name": "stdout",
     "output_type": "stream",
     "text": [
      "(4, '오수철', 'def2@a.com', 175.0, datetime.date(1995, 12, 20), datetime.datetime(2025, 4, 8, 10, 35, 15))\n"
     ]
    }
   ],
   "source": [
    "result = select_customer_by_id(4)\n",
    "print(result)"
   ]
  },
  {
   "cell_type": "code",
   "execution_count": 59,
   "id": "22caa18f-e28a-4035-bda8-e4c8c9e365be",
   "metadata": {},
   "outputs": [
    {
     "name": "stdout",
     "output_type": "stream",
     "text": [
      "None\n"
     ]
    }
   ],
   "source": [
    "result = select_customer_by_id(1)\n",
    "print(result)"
   ]
  },
  {
   "cell_type": "code",
   "execution_count": null,
   "id": "93f447cd-2d7c-4feb-ada2-e327f7aebe6c",
   "metadata": {},
   "outputs": [],
   "source": []
  }
 ],
 "metadata": {
  "kernelspec": {
   "display_name": "Python 3 (ipykernel)",
   "language": "python",
   "name": "python3"
  },
  "language_info": {
   "codemirror_mode": {
    "name": "ipython",
    "version": 3
   },
   "file_extension": ".py",
   "mimetype": "text/x-python",
   "name": "python",
   "nbconvert_exporter": "python",
   "pygments_lexer": "ipython3",
   "version": "3.12.9"
  },
  "toc": {
   "base_numbering": 1,
   "nav_menu": {},
   "number_sections": false,
   "sideBar": true,
   "skip_h1_title": false,
   "title_cell": "Table of Contents",
   "title_sidebar": "Contents",
   "toc_cell": false,
   "toc_position": {},
   "toc_section_display": true,
   "toc_window_display": false
  },
  "varInspector": {
   "cols": {
    "lenName": 16,
    "lenType": 16,
    "lenVar": 40
   },
   "kernels_config": {
    "python": {
     "delete_cmd_postfix": "",
     "delete_cmd_prefix": "del ",
     "library": "var_list.py",
     "varRefreshCmd": "print(var_dic_list())"
    },
    "r": {
     "delete_cmd_postfix": ") ",
     "delete_cmd_prefix": "rm(",
     "library": "var_list.r",
     "varRefreshCmd": "cat(var_dic_list()) "
    }
   },
   "types_to_exclude": [
    "module",
    "function",
    "builtin_function_or_method",
    "instance",
    "_Feature"
   ],
   "window_display": false
  }
 },
 "nbformat": 4,
 "nbformat_minor": 5
}

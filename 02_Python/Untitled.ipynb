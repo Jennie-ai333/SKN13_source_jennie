{
 "cells": [
  {
   "cell_type": "code",
   "execution_count": 21,
   "id": "161a31e8-50b7-46cf-858f-d451d8cdf798",
   "metadata": {},
   "outputs": [
    {
     "name": "stdout",
     "output_type": "stream",
     "text": [
      "이름\t총점\t평균\n",
      "윤인성\t368\t92.0\n",
      "연하진\t374\t93.5\n",
      "구지연\t356\t89.0\n",
      "나선주\t378\t94.5\n",
      "윤아린\t389\t97.25\n",
      "윤명월\t336\t84.0\n"
     ]
    }
   ],
   "source": [
    "def create_student(name, korean, math, english, science):\n",
    "    return{\"name\": name,\n",
    "          \"korean\": korean,\n",
    "          \"math\": math,\n",
    "          \"english\": english,\n",
    "          \"science\": science\n",
    "    }\n",
    "    \n",
    "students = [\n",
    "    create_student(\"윤인성\", 87, 98, 88, 95),\n",
    "    create_student(\"연하진\", 82, 98, 96, 98),\n",
    "    create_student(\"구지연\", 76, 96, 94, 90),\n",
    "    create_student(\"나선주\", 98, 92, 96, 92),\n",
    "    create_student(\"윤아린\", 95, 98, 98, 98),\n",
    "    create_student(\"윤명월\", 64, 88, 92, 92)\n",
    "]\n",
    "\n",
    "print(\"이름\", \"총점\", \"평균\", sep=\"\\t\")\n",
    "for student in students:\n",
    "    score_sum = student[\"korean\"] + student[\"math\"] + student[\"english\"] + student[\"science\"]\n",
    "    score_average = score_sum/4\n",
    "    print(student[\"name\"], score_sum, score_average, sep=\"\\t\")\n"
   ]
  },
  {
   "cell_type": "code",
   "execution_count": 27,
   "id": "c47e5007-46d4-4163-8a6a-15df33005f1c",
   "metadata": {},
   "outputs": [
    {
     "name": "stdout",
     "output_type": "stream",
     "text": [
      "이름\t총점\t평균\n",
      "<function student_to_string at 0x000001F7ED8CF100>\n",
      "<function student_to_string at 0x000001F7ED8CF100>\n",
      "<function student_to_string at 0x000001F7ED8CF100>\n",
      "<function student_to_string at 0x000001F7ED8CF100>\n",
      "<function student_to_string at 0x000001F7ED8CF100>\n",
      "<function student_to_string at 0x000001F7ED8CF100>\n"
     ]
    }
   ],
   "source": [
    "def create_student(name, korean, math, english, science):\n",
    "    return{\"name\": name,\n",
    "          \"korean\": korean,\n",
    "          \"math\": math,\n",
    "          \"english\": english,\n",
    "          \"science\": science\n",
    "    }\n",
    "\n",
    "def student_get_sum(student):\n",
    "    return student[\"korean\"] + student[\"math\"] + student[\"english\"] + student[\"science\"]\n",
    "\n",
    "def student_get_average(student):\n",
    "    return student_get_sum / 4\n",
    "\n",
    "def student_to_string(student):\n",
    "    return \"{}\\t{}\\t{}\".format(student[\"name\"], student_get_sum(student), student_get_average(student))\n",
    " \n",
    "students = [\n",
    "    create_student(\"윤인성\", 87, 98, 88, 95),\n",
    "    create_student(\"연하진\", 82, 98, 96, 98),\n",
    "    create_student(\"구지연\", 76, 96, 94, 90),\n",
    "    create_student(\"나선주\", 98, 92, 96, 92),\n",
    "    create_student(\"윤아린\", 95, 98, 98, 98),\n",
    "    create_student(\"윤명월\", 64, 88, 92, 92)\n",
    "]\n",
    "\n",
    "\n",
    "print(\"이름\", \"총점\", \"평균\", sep=\"\\t\")\n",
    "\n",
    "for student in students:\n",
    "    print(student_to_string)"
   ]
  },
  {
   "cell_type": "code",
   "execution_count": 25,
   "id": "b40c0130-10a6-4d04-8e57-4d92ab082eee",
   "metadata": {},
   "outputs": [
    {
     "ename": "TypeError",
     "evalue": "unsupported operand type(s) for /: 'function' and 'int'",
     "output_type": "error",
     "traceback": [
      "\u001b[31m---------------------------------------------------------------------------\u001b[39m",
      "\u001b[31mTypeError\u001b[39m                                 Traceback (most recent call last)",
      "\u001b[36mCell\u001b[39m\u001b[36m \u001b[39m\u001b[32mIn[25]\u001b[39m\u001b[32m, line 2\u001b[39m\n\u001b[32m      1\u001b[39m \u001b[38;5;28;01mfor\u001b[39;00m student \u001b[38;5;129;01min\u001b[39;00m students:\n\u001b[32m----> \u001b[39m\u001b[32m2\u001b[39m     \u001b[38;5;28mprint\u001b[39m(\u001b[43mstudent_to_string\u001b[49m\u001b[43m(\u001b[49m\u001b[43mstudent\u001b[49m\u001b[43m)\u001b[49m)\n",
      "\u001b[36mCell\u001b[39m\u001b[36m \u001b[39m\u001b[32mIn[24]\u001b[39m\u001b[32m, line 16\u001b[39m, in \u001b[36mstudent_to_string\u001b[39m\u001b[34m(student)\u001b[39m\n\u001b[32m     15\u001b[39m \u001b[38;5;28;01mdef\u001b[39;00m\u001b[38;5;250m \u001b[39m\u001b[34mstudent_to_string\u001b[39m(student):\n\u001b[32m---> \u001b[39m\u001b[32m16\u001b[39m     \u001b[38;5;28;01mreturn\u001b[39;00m \u001b[33m\"\u001b[39m\u001b[38;5;132;01m{}\u001b[39;00m\u001b[38;5;130;01m\\t\u001b[39;00m\u001b[38;5;132;01m{}\u001b[39;00m\u001b[38;5;130;01m\\t\u001b[39;00m\u001b[38;5;132;01m{}\u001b[39;00m\u001b[33m\"\u001b[39m.format(student[\u001b[33m\"\u001b[39m\u001b[33mname\u001b[39m\u001b[33m\"\u001b[39m], student_get_sum(student), \u001b[43mstudent_get_average\u001b[49m\u001b[43m(\u001b[49m\u001b[43mstudent\u001b[49m\u001b[43m)\u001b[49m)\n",
      "\u001b[36mCell\u001b[39m\u001b[36m \u001b[39m\u001b[32mIn[24]\u001b[39m\u001b[32m, line 13\u001b[39m, in \u001b[36mstudent_get_average\u001b[39m\u001b[34m(student)\u001b[39m\n\u001b[32m     12\u001b[39m \u001b[38;5;28;01mdef\u001b[39;00m\u001b[38;5;250m \u001b[39m\u001b[34mstudent_get_average\u001b[39m(student):\n\u001b[32m---> \u001b[39m\u001b[32m13\u001b[39m     \u001b[38;5;28;01mreturn\u001b[39;00m \u001b[43mstudent_get_sum\u001b[49m\u001b[43m \u001b[49m\u001b[43m/\u001b[49m\u001b[43m \u001b[49m\u001b[32;43m4\u001b[39;49m\n",
      "\u001b[31mTypeError\u001b[39m: unsupported operand type(s) for /: 'function' and 'int'"
     ]
    }
   ],
   "source": [
    "for student in students:\n",
    "    print(student_to_string(student))"
   ]
  },
  {
   "cell_type": "code",
   "execution_count": null,
   "id": "3e2746af-0eec-4003-9a70-808a88e72bce",
   "metadata": {},
   "outputs": [],
   "source": []
  }
 ],
 "metadata": {
  "kernelspec": {
   "display_name": "Python 3 (ipykernel)",
   "language": "python",
   "name": "python3"
  },
  "language_info": {
   "codemirror_mode": {
    "name": "ipython",
    "version": 3
   },
   "file_extension": ".py",
   "mimetype": "text/x-python",
   "name": "python",
   "nbconvert_exporter": "python",
   "pygments_lexer": "ipython3",
   "version": "3.13.2"
  }
 },
 "nbformat": 4,
 "nbformat_minor": 5
}
